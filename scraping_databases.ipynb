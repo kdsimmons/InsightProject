{
 "metadata": {
  "name": ""
 },
 "nbformat": 3,
 "nbformat_minor": 0,
 "worksheets": [
  {
   "cells": [
    {
     "cell_type": "code",
     "collapsed": false,
     "input": [
      "import urllib, urllib2, json\n",
      "import pandas as pd\n",
      "from lxml import html\n",
      "import BeautifulSoup, bs4\n",
      "import re, numpy as np\n",
      "import matplotlib.pyplot as plt\n",
      "import requests\n",
      "\n",
      "%matplotlib inline\n"
     ],
     "language": "python",
     "metadata": {},
     "outputs": [],
     "prompt_number": 1
    },
    {
     "cell_type": "code",
     "collapsed": false,
     "input": [
      "# import URL into beautiful soup object\n",
      "give_org_urls = [\"http://give.org/search/?term=multiple+sclerosis&location=&FilterAccredited=false&tobid=\", \n",
      "                 \"http://give.org/search/?page=2&term=multiple+sclerosis&location=&FilterAccredited=false&tobid=\", \n",
      "                 \"http://give.org/search/?page=3&term=multiple+sclerosis&location=&FilterAccredited=false&tobid=\"]\n",
      "bbb_soups = []\n",
      "for give_org_url in give_org_urls:\n",
      "    response = requests.get(give_org_url)\n",
      "    bbb_soups.append(bs4.BeautifulSoup(response.text))\n",
      "    \n"
     ],
     "language": "python",
     "metadata": {},
     "outputs": [],
     "prompt_number": 2
    },
    {
     "cell_type": "code",
     "collapsed": false,
     "input": [
      "print give_org_urls[0]"
     ],
     "language": "python",
     "metadata": {},
     "outputs": [
      {
       "output_type": "stream",
       "stream": "stdout",
       "text": [
        "http://give.org/search/?term=multiple+sclerosis&location=&FilterAccredited=false&tobid=\n"
       ]
      }
     ],
     "prompt_number": 3
    },
    {
     "cell_type": "code",
     "collapsed": false,
     "input": [
      "\n",
      "def showsome(searchfor):\n",
      "  query = urllib.urlencode({'q': searchfor})\n",
      "  url = 'http://ajax.googleapis.com/ajax/services/search/web?v=1.0&%s' % query\n",
      "  search_response = urllib.urlopen(url)\n",
      "  search_results = search_response.read()\n",
      "  results = json.loads(search_results)\n",
      "  data = results['responseData']\n",
      "  print 'Total results: %s' % data['cursor']['estimatedResultCount']\n",
      "  hits = data['results']\n",
      "  print 'Top %d hits:' % len(hits)\n",
      "  for h in hits: print ' ', h['url']\n",
      "  print 'For more results, see %s' % data['cursor']['moreResultsUrl']\n"
     ],
     "language": "python",
     "metadata": {},
     "outputs": [],
     "prompt_number": 4
    },
    {
     "cell_type": "code",
     "collapsed": false,
     "input": [
      "showsome('ermonno olmi')"
     ],
     "language": "python",
     "metadata": {},
     "outputs": [
      {
       "output_type": "stream",
       "stream": "stdout",
       "text": [
        "Total results: 49000\n",
        "Top 4 hits:\n",
        "  https://en.wikipedia.org/wiki/Ermanno_Olmi\n",
        "  https://it.wikipedia.org/wiki/Ermanno_Olmi\n",
        "  https://en.wikipedia.org/wiki/Il_Posto\n",
        "  http://www.imdb.com/name/nm0647438/\n",
        "For more results, see http://www.google.com/search?oe=utf8&ie=utf8&source=uds&start=0&hl=en&q=ermonno+olmi\n"
       ]
      }
     ],
     "prompt_number": 5
    },
    {
     "cell_type": "code",
     "collapsed": false,
     "input": [
      "def scrape_bbb_urls():\n",
      "    # import URL into beautiful soup object\n",
      "    give_org_urls = [\"http://give.org/search/?term=multiple+sclerosis&location=&FilterAccredited=false&tobid=\", \n",
      "                     \"http://give.org/search/?page=2&term=multiple+sclerosis&location=&FilterAccredited=false&tobid=\", \n",
      "                     \"http://give.org/search/?page=3&term=multiple+sclerosis&location=&FilterAccredited=false&tobid=\"]\n",
      "    bbb_soups = []\n",
      "    for give_org_url in give_org_urls:\n",
      "        response = requests.get(give_org_url)\n",
      "        bbb_soups.append(bs4.BeautifulSoup(response.text))\n",
      "        \n",
      "    return bbb_soups\n",
      "\n",
      "def clean_bbb_info(bbb_soups):\n",
      "    # pull out charity links and info\n",
      "    # NOTE: May need permission to include links to BBB. I didn't find any info on restrictions in pulling information.\n",
      "    charities = []\n",
      "    for soup in bbb_soups:\n",
      "        bbb_table = soup.select('div.search table')[0].tbody \n",
      "        for row in bbb_table.findAll('tr'):\n",
      "            charity_data = {}\n",
      "            charity_data['name'] = row.select('a.charity-link')[0].get_text()\n",
      "            charity_data['bbb_link'] = row.select('a.charity-link')[0].attrs.get('href')\n",
      "            accred_seal = row.select('img.charity-search-seal')\n",
      "            if accred_seal:\n",
      "                charity_data['bbb_accred'] = accred_seal[0].attrs.get('alt')\n",
      "            else:\n",
      "                charity_data['bbb_accred'] = row.select('div.accreditation-mobile')[0].get_text()\n",
      "            charity_data['address'] = row.select('div.accreditation-mobile')[0].next_sibling.strip()\n",
      "            charity_data['city'] = row.select('div.accreditation-mobile')[0].next_sibling.next_sibling.next_sibling.strip()\n",
      "            \n",
      "            charities.append(charity_data)\n",
      "            \n",
      "    return charities\n"
     ],
     "language": "python",
     "metadata": {},
     "outputs": [],
     "prompt_number": 6
    },
    {
     "cell_type": "code",
     "collapsed": false,
     "input": [
      "bbb_soups = scrape_bbb_urls()"
     ],
     "language": "python",
     "metadata": {},
     "outputs": [],
     "prompt_number": 7
    },
    {
     "cell_type": "code",
     "collapsed": false,
     "input": [
      "bbb_charities = clean_bbb_info(bbb_soups)"
     ],
     "language": "python",
     "metadata": {},
     "outputs": [],
     "prompt_number": 8
    },
    {
     "cell_type": "code",
     "collapsed": false,
     "input": [
      "print bbb_charities[0]"
     ],
     "language": "python",
     "metadata": {},
     "outputs": [
      {
       "output_type": "stream",
       "stream": "stdout",
       "text": [
        "{'bbb_link': 'http://www.give.org/charity-reviews/national/health/multiple-sclerosis-foundation-in-fort-lauderdale-fl-572', 'address': u'6520 North Andrews Avenue', 'city': u'Fort Lauderdale, FL 33309', 'name': u'Multiple Sclerosis Foundation', 'bbb_accred': u'\\nAccredited: No\\n'}\n"
       ]
      }
     ],
     "prompt_number": 9
    },
    {
     "cell_type": "code",
     "collapsed": false,
     "input": [
      "bbb_link = bbb_charities[0]['bbb_link']"
     ],
     "language": "python",
     "metadata": {},
     "outputs": [],
     "prompt_number": 10
    },
    {
     "cell_type": "code",
     "collapsed": false,
     "input": [
      "# visit BBB's page on first charity\n",
      "examp_soup = bs4.BeautifulSoup(requests.get(bbb_link).text)"
     ],
     "language": "python",
     "metadata": {},
     "outputs": [],
     "prompt_number": 11
    },
    {
     "cell_type": "code",
     "collapsed": false,
     "input": [
      "# get link to charity's homepage\n",
      "examp_link = examp_soup.select('div.charity-contact')[0].a.attrs.get('href')\n",
      "bbb_charities[0]['link'] = examp_link"
     ],
     "language": "python",
     "metadata": {},
     "outputs": [],
     "prompt_number": 12
    },
    {
     "cell_type": "code",
     "collapsed": false,
     "input": [
      "for charity in bbb_charities:\n",
      "    charity['soup'] = bs4.BeautifulSoup(requests.get(charity['bbb_link']).text)\n"
     ],
     "language": "python",
     "metadata": {},
     "outputs": [],
     "prompt_number": 13
    },
    {
     "cell_type": "code",
     "collapsed": false,
     "input": [
      "# get links to charities' homepages\n",
      "for charity in bbb_charities:\n",
      "    soup = charity['soup']\n",
      "    if len(soup.select('div.charity-contact')) > 0:\n",
      "        charity['link'] = soup.select('div.charity-contact')[0].a.attrs.get('href')\n",
      "    elif len(soup.select('div.charity-detail-text')) > 0:\n",
      "        charity['link'] = soup.select('div.charity-detail-text')[0].a.attrs.get('href')\n",
      "    elif len(soup.select('a#ctl00_ContentPlaceHolder1_aWebUrl')) > 0:\n",
      "        charity['link'] = soup.select('a#ctl00_ContentPlaceHolder1_aWebUrl')[0].attrs.get('href')\n",
      "    else:\n",
      "        charity['link'] = ''\n",
      "# TO DO: should add text search for websites printed as text rather than link"
     ],
     "language": "python",
     "metadata": {},
     "outputs": [],
     "prompt_number": 14
    },
    {
     "cell_type": "code",
     "collapsed": false,
     "input": [
      "for charity in bbb_charities:\n",
      "    print charity['name'] + ':', charity['link']"
     ],
     "language": "python",
     "metadata": {},
     "outputs": [
      {
       "output_type": "stream",
       "stream": "stdout",
       "text": [
        "Multiple Sclerosis Foundation: http://www.msfocus.org\n",
        "National Multiple Sclerosis Society: http://www.nationalmssociety.org\n",
        "Multiple Sclerosis Association of America: http://www.mymsaa.org/\n",
        "National Multiple Sclerosis Society Arizona Chapter: http://aza.nationalMSsociety.org\n",
        "National Multiple Sclerosis Society: \n",
        "Multiple Sclerosis Fund, Inc.: http://www.msfundinc.wordpress.com/\n",
        "National Multiple Sclerosis Society: \n",
        "National Multiple Sclerosis Society: \n",
        "National Multiple Sclerosis Society: http://www.nationalmssociety.org/chapters/nyr\n",
        "National Multiple Sclerosis Society: http://www.fightmstoday.org\n",
        "Can Do Multiple Sclerosis: http://www.mscando.org\n",
        "Friends of Multiple Sclerosis Charities: http://www.friendsofms.com\n",
        "Multiple Sclerosis Society - Ontario Division: \n",
        "Oak Clinic for Multiple Sclerosis: \n",
        "National Multiple Sclerosis Society - Long Island Chapter: http://www.nmssli.org\n",
        "National Multiple Sclerosis Society, Ohio Buckeye Chapter: http://www.msohiobuckeye.org\n",
        "Multiple Sclerosis Society of Portland, Oregon, Inc.: http://www.msoregon.org\n",
        "National Multiple Sclerosis Society Greater Northwest Chapter: http://www.nmsswas.org\n",
        "Multiple Sclerosis Association-El Paso: \n",
        "National Multiple Sclerosis Society-Wisconsin Chapter: http://www.nationalmssociety.org/Chapters/WIG\n",
        "National Multiple Sclerosis Society - Nyc Chapter: http://www.msnyc.org\n",
        "Tri-State Multiple Sclerosis Association, Inc.: \n",
        "National Multiple Sclerosis Society of ENC: \n",
        "Friends of the National Multiple Sclerosis Society: \n",
        "National Multiple Sclerosis Society Ohio Buckeye Chapter: \n",
        "Multiple Sclerosis Resources Of Central New York Inc: http://www.msrofcny.org\n",
        "National Multiple Sclerosis Society, Colorado-Wyoming Chapter: \n",
        "National Multiple Sclerosis Society - All America Chapter, Hawaii Office: \n",
        "National Multiple Sclerosis Society Utah-Southern Idaho Chapter: http://www.msutah.org\n",
        "National Multiple Sclerosis Society Pacific South Coast Chapter: http://www.mspacific.org\n",
        "National Multiple Sclerosis Society Kentucky Southeast Indiana Chapter: http://www.nationalmssociety.org/chapters/KYW/index.aspx\n",
        "National Multiple Sclerosis Society-Greater Carolinas Chapter: \n"
       ]
      }
     ],
     "prompt_number": 15
    },
    {
     "cell_type": "code",
     "collapsed": false,
     "input": [
      "# get link to charities' facebook and twitter pages\n",
      "for charity in bbb_charities:\n",
      "    if charity['link'] == '':\n",
      "        charity['facebook_link'] = ''\n",
      "        charity['twitter_link'] = ''\n",
      "    else: \n",
      "        page = urllib2.urlopen(urllib2.Request(charity['link'], headers={'User-Agent' : 'Mozilla/5.0 (Windows; U; Windows NT 5.1; it; rv:1.8.1.11) Gecko/20071127 Firefox/2.0.0.11'}))\n",
      "#            target_soup = bs4.BeautifulSoup(requests.get(charity['link']).text)\n",
      "        target_soup = bs4.BeautifulSoup(page.read(), 'html.parser')\n",
      "#            charity['facebook_link'] = ''\n",
      "#            charity['twitter_link'] = ''\n",
      "#            continue\n",
      "        try:\n",
      "            fblink = target_soup.select('a[href*=facebook.com]')[0].attrs.get('href')\n",
      "        except:\n",
      "            fblink = ''\n",
      "        charity['facebook_link'] = fblink \n",
      "        \n",
      "        try:\n",
      "            twlink = target_soup.select('a[href*=twitter.com]')[0].attrs.get('href')\n",
      "        except:\n",
      "            twlink = ''\n",
      "        charity['twitter_link'] = twlink\n"
     ],
     "language": "python",
     "metadata": {},
     "outputs": [],
     "prompt_number": 16
    },
    {
     "cell_type": "code",
     "collapsed": false,
     "input": [
      "# get link to charities' facebook and twitter pages\n",
      "for charity in bbb_charities:\n",
      "    if not charity['link'] == '':\n",
      "        page = urllib2.urlopen(urllib2.Request(charity['link'], headers={'User-Agent' : 'Mozilla/5.0 (Windows; U; Windows NT 5.1; it; rv:1.8.1.11) Gecko/20071127 Firefox/2.0.0.11'}))\n",
      "        target_soup = bs4.BeautifulSoup(page.read(), 'html.parser')\n"
     ],
     "language": "python",
     "metadata": {},
     "outputs": [],
     "prompt_number": 17
    },
    {
     "cell_type": "code",
     "collapsed": false,
     "input": [
      "for charity in bbb_charities:\n",
      "    if charity['facebook_link'] == '':\n",
      "        print charity['name'] + ':', charity['link']"
     ],
     "language": "python",
     "metadata": {},
     "outputs": [
      {
       "output_type": "stream",
       "stream": "stdout",
       "text": [
        "National Multiple Sclerosis Society: \n",
        "Multiple Sclerosis Fund, Inc.: http://www.msfundinc.wordpress.com/\n",
        "National Multiple Sclerosis Society: \n",
        "National Multiple Sclerosis Society: \n",
        "Friends of Multiple Sclerosis Charities: http://www.friendsofms.com\n",
        "Multiple Sclerosis Society - Ontario Division: \n",
        "Oak Clinic for Multiple Sclerosis: \n",
        "Multiple Sclerosis Association-El Paso: \n",
        "Tri-State Multiple Sclerosis Association, Inc.: \n",
        "National Multiple Sclerosis Society of ENC: \n",
        "Friends of the National Multiple Sclerosis Society: \n",
        "National Multiple Sclerosis Society Ohio Buckeye Chapter: \n",
        "Multiple Sclerosis Resources Of Central New York Inc: http://www.msrofcny.org\n",
        "National Multiple Sclerosis Society, Colorado-Wyoming Chapter: \n",
        "National Multiple Sclerosis Society - All America Chapter, Hawaii Office: \n",
        "National Multiple Sclerosis Society-Greater Carolinas Chapter: \n"
       ]
      }
     ],
     "prompt_number": 18
    },
    {
     "cell_type": "code",
     "collapsed": false,
     "input": [
      "for charity in bbb_charities:\n",
      "    if charity['twitter_link'] == '':\n",
      "        print charity['name'] + ':', charity['link']"
     ],
     "language": "python",
     "metadata": {},
     "outputs": [
      {
       "output_type": "stream",
       "stream": "stdout",
       "text": [
        "National Multiple Sclerosis Society: \n",
        "Multiple Sclerosis Fund, Inc.: http://www.msfundinc.wordpress.com/\n",
        "National Multiple Sclerosis Society: \n",
        "National Multiple Sclerosis Society: \n",
        "Friends of Multiple Sclerosis Charities: http://www.friendsofms.com\n",
        "Multiple Sclerosis Society - Ontario Division: \n",
        "Oak Clinic for Multiple Sclerosis: \n",
        "Multiple Sclerosis Society of Portland, Oregon, Inc.: http://www.msoregon.org\n",
        "Multiple Sclerosis Association-El Paso: \n",
        "Tri-State Multiple Sclerosis Association, Inc.: \n",
        "National Multiple Sclerosis Society of ENC: \n",
        "Friends of the National Multiple Sclerosis Society: \n",
        "National Multiple Sclerosis Society Ohio Buckeye Chapter: \n",
        "Multiple Sclerosis Resources Of Central New York Inc: http://www.msrofcny.org\n",
        "National Multiple Sclerosis Society, Colorado-Wyoming Chapter: \n",
        "National Multiple Sclerosis Society - All America Chapter, Hawaii Office: \n",
        "National Multiple Sclerosis Society-Greater Carolinas Chapter: \n"
       ]
      }
     ],
     "prompt_number": 19
    },
    {
     "cell_type": "code",
     "collapsed": false,
     "input": [
      "print bbb_charities[0]['facebook_link']"
     ],
     "language": "python",
     "metadata": {},
     "outputs": [
      {
       "output_type": "stream",
       "stream": "stdout",
       "text": [
        "https://www.facebook.com/MultipleSclerosisFoundation\n"
       ]
      }
     ],
     "prompt_number": 20
    },
    {
     "cell_type": "code",
     "collapsed": false,
     "input": [
      "\n",
      "page = requests.get(bbb_charities[0]['facebook_link'] + '/likes')\n",
      "soup = bs4.BeautifulSoup(page.text)"
     ],
     "language": "python",
     "metadata": {},
     "outputs": [],
     "prompt_number": 41
    },
    {
     "cell_type": "code",
     "collapsed": false,
     "input": [
      "likes = soup.select('div._50f6')\n",
      "# [<div class=\"_50f6 _50f7 _5tfx\" data-reactid=\".1k.0.0.0\">13,727</div>0]"
     ],
     "language": "python",
     "metadata": {},
     "outputs": [],
     "prompt_number": 45
    },
    {
     "cell_type": "code",
     "collapsed": false,
     "input": [
      "print bbb_charities[1]['facebook_link']"
     ],
     "language": "python",
     "metadata": {},
     "outputs": [
      {
       "output_type": "stream",
       "stream": "stdout",
       "text": [
        "https://www.facebook.com/nationalmssociety\n"
       ]
      }
     ],
     "prompt_number": 39
    },
    {
     "cell_type": "code",
     "collapsed": false,
     "input": [
      "len(likes)"
     ],
     "language": "python",
     "metadata": {},
     "outputs": [
      {
       "metadata": {},
       "output_type": "pyout",
       "prompt_number": 43,
       "text": [
        "0"
       ]
      }
     ],
     "prompt_number": 43
    },
    {
     "cell_type": "code",
     "collapsed": false,
     "input": [
      "import facebook"
     ],
     "language": "python",
     "metadata": {},
     "outputs": [],
     "prompt_number": 46
    },
    {
     "cell_type": "code",
     "collapsed": false,
     "input": [
      "graph = facebook.GraphAPI()"
     ],
     "language": "python",
     "metadata": {},
     "outputs": [],
     "prompt_number": 47
    },
    {
     "cell_type": "code",
     "collapsed": false,
     "input": [
      "page = graph.get_object('6127898346')\n",
      "print '{} has {} likes.'.format(page['name'], page['likes'])"
     ],
     "language": "python",
     "metadata": {},
     "outputs": [
      {
       "ename": "GraphAPIError",
       "evalue": "An access token is required to request this resource.",
       "output_type": "pyerr",
       "traceback": [
        "\u001b[0;31m---------------------------------------------------------------------------\u001b[0m\n\u001b[0;31mGraphAPIError\u001b[0m                             Traceback (most recent call last)",
        "\u001b[0;32m<ipython-input-48-ceb585de7f1c>\u001b[0m in \u001b[0;36m<module>\u001b[0;34m()\u001b[0m\n\u001b[0;32m----> 1\u001b[0;31m \u001b[0mpage\u001b[0m \u001b[0;34m=\u001b[0m \u001b[0mgraph\u001b[0m\u001b[0;34m.\u001b[0m\u001b[0mget_object\u001b[0m\u001b[0;34m(\u001b[0m\u001b[0;34m'6127898346'\u001b[0m\u001b[0;34m)\u001b[0m\u001b[0;34m\u001b[0m\u001b[0m\n\u001b[0m\u001b[1;32m      2\u001b[0m \u001b[0;32mprint\u001b[0m \u001b[0;34m'{} has {} likes.'\u001b[0m\u001b[0;34m.\u001b[0m\u001b[0mformat\u001b[0m\u001b[0;34m(\u001b[0m\u001b[0mpage\u001b[0m\u001b[0;34m[\u001b[0m\u001b[0;34m'name'\u001b[0m\u001b[0;34m]\u001b[0m\u001b[0;34m,\u001b[0m \u001b[0mpage\u001b[0m\u001b[0;34m[\u001b[0m\u001b[0;34m'likes'\u001b[0m\u001b[0;34m]\u001b[0m\u001b[0;34m)\u001b[0m\u001b[0;34m\u001b[0m\u001b[0m\n",
        "\u001b[0;32m/usr/local/lib/python2.7/dist-packages/facebook.pyc\u001b[0m in \u001b[0;36mget_object\u001b[0;34m(self, id, **args)\u001b[0m\n\u001b[1;32m     97\u001b[0m     \u001b[0;32mdef\u001b[0m \u001b[0mget_object\u001b[0m\u001b[0;34m(\u001b[0m\u001b[0mself\u001b[0m\u001b[0;34m,\u001b[0m \u001b[0mid\u001b[0m\u001b[0;34m,\u001b[0m \u001b[0;34m**\u001b[0m\u001b[0margs\u001b[0m\u001b[0;34m)\u001b[0m\u001b[0;34m:\u001b[0m\u001b[0;34m\u001b[0m\u001b[0m\n\u001b[1;32m     98\u001b[0m         \u001b[0;34m\"\"\"Fetchs the given object from the graph.\"\"\"\u001b[0m\u001b[0;34m\u001b[0m\u001b[0m\n\u001b[0;32m---> 99\u001b[0;31m         \u001b[0;32mreturn\u001b[0m \u001b[0mself\u001b[0m\u001b[0;34m.\u001b[0m\u001b[0mrequest\u001b[0m\u001b[0;34m(\u001b[0m\u001b[0mid\u001b[0m\u001b[0;34m,\u001b[0m \u001b[0margs\u001b[0m\u001b[0;34m)\u001b[0m\u001b[0;34m\u001b[0m\u001b[0m\n\u001b[0m\u001b[1;32m    100\u001b[0m \u001b[0;34m\u001b[0m\u001b[0m\n\u001b[1;32m    101\u001b[0m     \u001b[0;32mdef\u001b[0m \u001b[0mget_objects\u001b[0m\u001b[0;34m(\u001b[0m\u001b[0mself\u001b[0m\u001b[0;34m,\u001b[0m \u001b[0mids\u001b[0m\u001b[0;34m,\u001b[0m \u001b[0;34m**\u001b[0m\u001b[0margs\u001b[0m\u001b[0;34m)\u001b[0m\u001b[0;34m:\u001b[0m\u001b[0;34m\u001b[0m\u001b[0m\n",
        "\u001b[0;32m/usr/local/lib/python2.7/dist-packages/facebook.pyc\u001b[0m in \u001b[0;36mrequest\u001b[0;34m(self, path, args, post_args)\u001b[0m\n\u001b[1;32m    296\u001b[0m         \u001b[0;32mexcept\u001b[0m \u001b[0murllib2\u001b[0m\u001b[0;34m.\u001b[0m\u001b[0mHTTPError\u001b[0m\u001b[0;34m,\u001b[0m \u001b[0me\u001b[0m\u001b[0;34m:\u001b[0m\u001b[0;34m\u001b[0m\u001b[0m\n\u001b[1;32m    297\u001b[0m             \u001b[0mresponse\u001b[0m \u001b[0;34m=\u001b[0m \u001b[0m_parse_json\u001b[0m\u001b[0;34m(\u001b[0m\u001b[0me\u001b[0m\u001b[0;34m.\u001b[0m\u001b[0mread\u001b[0m\u001b[0;34m(\u001b[0m\u001b[0;34m)\u001b[0m\u001b[0;34m)\u001b[0m\u001b[0;34m\u001b[0m\u001b[0m\n\u001b[0;32m--> 298\u001b[0;31m             \u001b[0;32mraise\u001b[0m \u001b[0mGraphAPIError\u001b[0m\u001b[0;34m(\u001b[0m\u001b[0mresponse\u001b[0m\u001b[0;34m)\u001b[0m\u001b[0;34m\u001b[0m\u001b[0m\n\u001b[0m\u001b[1;32m    299\u001b[0m         \u001b[0;32mexcept\u001b[0m \u001b[0mTypeError\u001b[0m\u001b[0;34m:\u001b[0m\u001b[0;34m\u001b[0m\u001b[0m\n\u001b[1;32m    300\u001b[0m             \u001b[0;31m# Timeout support for Python <2.6\u001b[0m\u001b[0;34m\u001b[0m\u001b[0;34m\u001b[0m\u001b[0m\n",
        "\u001b[0;31mGraphAPIError\u001b[0m: An access token is required to request this resource."
       ]
      }
     ],
     "prompt_number": 48
    },
    {
     "cell_type": "code",
     "collapsed": false,
     "input": [
      "link = 'https://graph.facebook.com/MultipleSclerosisFoundation'\n",
      "page = requests.get(link)"
     ],
     "language": "python",
     "metadata": {},
     "outputs": [],
     "prompt_number": 49
    },
    {
     "cell_type": "code",
     "collapsed": false,
     "input": [
      "soup = bs4.BeautifulSoup(page.text)"
     ],
     "language": "python",
     "metadata": {},
     "outputs": [],
     "prompt_number": 50
    },
    {
     "cell_type": "code",
     "collapsed": false,
     "input": [
      "print soup.prettify()[:1000]"
     ],
     "language": "python",
     "metadata": {},
     "outputs": [
      {
       "output_type": "stream",
       "stream": "stdout",
       "text": [
        "<html>\n",
        " <body>\n",
        "  <p>\n",
        "   {\"error\":{\"message\":\"An access token is required to request this resource.\",\"type\":\"OAuthException\",\"code\":104}}\n",
        "  </p>\n",
        " </body>\n",
        "</html>\n"
       ]
      }
     ],
     "prompt_number": 51
    },
    {
     "cell_type": "code",
     "collapsed": false,
     "input": [
      "import tweepy"
     ],
     "language": "python",
     "metadata": {},
     "outputs": [],
     "prompt_number": 54
    },
    {
     "cell_type": "code",
     "collapsed": false,
     "input": [
      "auth = tweepy.OAuthHandler('Ch5gSBZ074a7fp5LXJwa3qOY2', 'BtrdY7YSzMqWI54mheMlbWlMArhzB07HhLzq7vfiAYgIJrCiVZ')"
     ],
     "language": "python",
     "metadata": {},
     "outputs": [],
     "prompt_number": 55
    },
    {
     "cell_type": "code",
     "collapsed": false,
     "input": [
      "auth.set_access_token('1230382532-Gd6RxPhwgaK91tlcZymzXFqlheRz1hJWrYG7Na9', 'W8tyAbCiGQ8oRS2hFk6NI45SRrdauazIQe3d7B3LAseUX')"
     ],
     "language": "python",
     "metadata": {},
     "outputs": [],
     "prompt_number": 57
    },
    {
     "cell_type": "code",
     "collapsed": false,
     "input": [
      "api = tweepy.API(auth)"
     ],
     "language": "python",
     "metadata": {},
     "outputs": [],
     "prompt_number": 68
    },
    {
     "cell_type": "code",
     "collapsed": false,
     "input": [
      "public_tweets = api.home_timeline()"
     ],
     "language": "python",
     "metadata": {},
     "outputs": [],
     "prompt_number": 69
    },
    {
     "cell_type": "code",
     "collapsed": false,
     "input": [
      "print bbb_charities[0]['twitter_link']"
     ],
     "language": "python",
     "metadata": {},
     "outputs": [
      {
       "output_type": "stream",
       "stream": "stdout",
       "text": [
        "https://twitter.com/MS_Focus\n"
       ]
      }
     ],
     "prompt_number": 65
    },
    {
     "cell_type": "code",
     "collapsed": false,
     "input": [
      "user = api.get_user('MS_Focus')"
     ],
     "language": "python",
     "metadata": {},
     "outputs": [],
     "prompt_number": 73
    },
    {
     "cell_type": "code",
     "collapsed": false,
     "input": [
      "print user.followers_count"
     ],
     "language": "python",
     "metadata": {},
     "outputs": [
      {
       "output_type": "stream",
       "stream": "stdout",
       "text": [
        "6566\n"
       ]
      }
     ],
     "prompt_number": 74
    },
    {
     "cell_type": "code",
     "collapsed": false,
     "input": [
      "type(bbb_charities[0]['twitter_link'])"
     ],
     "language": "python",
     "metadata": {},
     "outputs": [
      {
       "metadata": {},
       "output_type": "pyout",
       "prompt_number": 75,
       "text": [
        "unicode"
       ]
      }
     ],
     "prompt_number": 75
    },
    {
     "cell_type": "code",
     "collapsed": false,
     "input": [
      "string = bbb_charities[0]['twitter_link']"
     ],
     "language": "python",
     "metadata": {},
     "outputs": [],
     "prompt_number": 78
    },
    {
     "cell_type": "code",
     "collapsed": false,
     "input": [
      "string.strip('https://twitter.com/')"
     ],
     "language": "python",
     "metadata": {},
     "outputs": [
      {
       "metadata": {},
       "output_type": "pyout",
       "prompt_number": 80,
       "text": [
        "u'MS_Focu'"
       ]
      }
     ],
     "prompt_number": 80
    },
    {
     "cell_type": "code",
     "collapsed": false,
     "input": [
      "print string"
     ],
     "language": "python",
     "metadata": {},
     "outputs": [
      {
       "output_type": "stream",
       "stream": "stdout",
       "text": [
        "https://twitter.com/MS_Focus\n"
       ]
      }
     ],
     "prompt_number": 81
    },
    {
     "cell_type": "code",
     "collapsed": false,
     "input": [
      "tmp = re.findall('https://twitter.com/(.*)', string)"
     ],
     "language": "python",
     "metadata": {},
     "outputs": [],
     "prompt_number": 96
    },
    {
     "cell_type": "code",
     "collapsed": false,
     "input": [
      "tmp"
     ],
     "language": "python",
     "metadata": {},
     "outputs": [
      {
       "metadata": {},
       "output_type": "pyout",
       "prompt_number": 97,
       "text": [
        "[u'MS_Focus']"
       ]
      }
     ],
     "prompt_number": 97
    },
    {
     "cell_type": "code",
     "collapsed": false,
     "input": [
      "tmp.match()"
     ],
     "language": "python",
     "metadata": {},
     "outputs": [
      {
       "ename": "AttributeError",
       "evalue": "'_sre.SRE_Match' object has no attribute 'match'",
       "output_type": "pyerr",
       "traceback": [
        "\u001b[0;31m---------------------------------------------------------------------------\u001b[0m\n\u001b[0;31mAttributeError\u001b[0m                            Traceback (most recent call last)",
        "\u001b[0;32m<ipython-input-91-6369c5506f5c>\u001b[0m in \u001b[0;36m<module>\u001b[0;34m()\u001b[0m\n\u001b[0;32m----> 1\u001b[0;31m \u001b[0mtmp\u001b[0m\u001b[0;34m.\u001b[0m\u001b[0mmatch\u001b[0m\u001b[0;34m(\u001b[0m\u001b[0;34m)\u001b[0m\u001b[0;34m\u001b[0m\u001b[0m\n\u001b[0m",
        "\u001b[0;31mAttributeError\u001b[0m: '_sre.SRE_Match' object has no attribute 'match'"
       ]
      }
     ],
     "prompt_number": 91
    },
    {
     "cell_type": "code",
     "collapsed": false,
     "input": [],
     "language": "python",
     "metadata": {},
     "outputs": []
    }
   ],
   "metadata": {}
  }
 ]
}