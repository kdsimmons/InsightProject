{
 "metadata": {
  "name": ""
 },
 "nbformat": 3,
 "nbformat_minor": 0,
 "worksheets": [
  {
   "cells": [
    {
     "cell_type": "code",
     "collapsed": false,
     "input": [
      "import urllib, urllib2, json\n",
      "import pandas as pd\n",
      "from lxml import html\n",
      "import BeautifulSoup, bs4\n",
      "import re, numpy as np\n",
      "import matplotlib.pyplot as plt\n",
      "import requests\n",
      "\n",
      "%matplotlib inline\n"
     ],
     "language": "python",
     "metadata": {},
     "outputs": [],
     "prompt_number": 6
    },
    {
     "cell_type": "code",
     "collapsed": false,
     "input": [
      "# import URL into beautiful soup object\n",
      "give_org_urls = [\"http://give.org/search/?term=multiple+sclerosis&location=&FilterAccredited=false&tobid=\", \n",
      "                 \"http://give.org/search/?page=2&term=multiple+sclerosis&location=&FilterAccredited=false&tobid=\", \n",
      "                 \"http://give.org/search/?page=3&term=multiple+sclerosis&location=&FilterAccredited=false&tobid=\"]\n",
      "bbb_soups = []\n",
      "for give_org_url in give_org_urls:\n",
      "    response = requests.get(give_org_url)\n",
      "    bbb_soups.append(bs4.BeautifulSoup(response.text))\n",
      "    \n"
     ],
     "language": "python",
     "metadata": {},
     "outputs": [],
     "prompt_number": 8
    },
    {
     "cell_type": "code",
     "collapsed": false,
     "input": [
      "print give_org_urls[0]"
     ],
     "language": "python",
     "metadata": {},
     "outputs": [
      {
       "output_type": "stream",
       "stream": "stdout",
       "text": [
        "http://give.org/search/?term=multiple+sclerosis&location=&FilterAccredited=false&tobid=\n"
       ]
      }
     ],
     "prompt_number": 9
    },
    {
     "cell_type": "code",
     "collapsed": false,
     "input": [
      "\n",
      "def showsome(searchfor):\n",
      "  query = urllib.urlencode({'q': searchfor})\n",
      "  url = 'http://ajax.googleapis.com/ajax/services/search/web?v=1.0&%s' % query\n",
      "  search_response = urllib.urlopen(url)\n",
      "  search_results = search_response.read()\n",
      "  results = json.loads(search_results)\n",
      "  data = results['responseData']\n",
      "  print 'Total results: %s' % data['cursor']['estimatedResultCount']\n",
      "  hits = data['results']\n",
      "  print 'Top %d hits:' % len(hits)\n",
      "  for h in hits: print ' ', h['url']\n",
      "  print 'For more results, see %s' % data['cursor']['moreResultsUrl']\n"
     ],
     "language": "python",
     "metadata": {},
     "outputs": [],
     "prompt_number": 2
    },
    {
     "cell_type": "code",
     "collapsed": false,
     "input": [
      "showsome('ermonno olmi')"
     ],
     "language": "python",
     "metadata": {},
     "outputs": [
      {
       "output_type": "stream",
       "stream": "stdout",
       "text": [
        "Total results: 49100\n",
        "Top 4 hits:\n",
        "  https://en.wikipedia.org/wiki/Ermanno_Olmi\n",
        "  https://it.wikipedia.org/wiki/Ermanno_Olmi\n",
        "  http://www.imdb.com/name/nm0647438/\n",
        "  http://www.criterion.com/films/739-i-fidanzati\n",
        "For more results, see http://www.google.com/search?oe=utf8&ie=utf8&source=uds&start=0&hl=en&q=ermonno+olmi\n"
       ]
      }
     ],
     "prompt_number": 7
    },
    {
     "cell_type": "code",
     "collapsed": false,
     "input": [
      "def scrape_bbb_urls():\n",
      "    # import URL into beautiful soup object\n",
      "    give_org_urls = [\"http://give.org/search/?term=multiple+sclerosis&location=&FilterAccredited=false&tobid=\", \n",
      "                     \"http://give.org/search/?page=2&term=multiple+sclerosis&location=&FilterAccredited=false&tobid=\", \n",
      "                     \"http://give.org/search/?page=3&term=multiple+sclerosis&location=&FilterAccredited=false&tobid=\"]\n",
      "    bbb_soups = []\n",
      "    for give_org_url in give_org_urls:\n",
      "        response = requests.get(give_org_url)\n",
      "        bbb_soups.append(bs4.BeautifulSoup(response.text))\n",
      "        \n",
      "    return bbb_soups\n",
      "\n",
      "def clean_bbb_info(bbb_soups):\n",
      "    # pull out charity links and info\n",
      "    # NOTE: May need permission to include links to BBB. I didn't find any info on restrictions in pulling information.\n",
      "    charities = []\n",
      "    for soup in bbb_soups:\n",
      "        bbb_table = soup.select('div.search table')[0].tbody \n",
      "        for row in bbb_table.findAll('tr'):\n",
      "            charity_data = {}\n",
      "            charity_data['name'] = row.select('a.charity-link')[0].get_text()\n",
      "            charity_data['bbb_link'] = row.select('a.charity-link')[0].attrs.get('href')\n",
      "            accred_seal = row.select('img.charity-search-seal')\n",
      "            if accred_seal:\n",
      "                charity_data['bbb_accred'] = accred_seal[0].attrs.get('alt')\n",
      "            else:\n",
      "                charity_data['bbb_accred'] = row.select('div.accreditation-mobile')[0].get_text()\n",
      "            charity_data['address'] = row.select('div.accreditation-mobile')[0].next_sibling.strip()\n",
      "            charity_data['city'] = row.select('div.accreditation-mobile')[0].next_sibling.next_sibling.next_sibling.strip()\n",
      "            \n",
      "            charities.append(charity_data)\n",
      "            \n",
      "    return charities\n"
     ],
     "language": "python",
     "metadata": {},
     "outputs": [],
     "prompt_number": 11
    },
    {
     "cell_type": "code",
     "collapsed": false,
     "input": [
      "bbb_soups = scrape_bbb_urls()"
     ],
     "language": "python",
     "metadata": {},
     "outputs": [],
     "prompt_number": 13
    },
    {
     "cell_type": "code",
     "collapsed": false,
     "input": [
      "bbb_charities = clean_bbb_info(bbb_soups)"
     ],
     "language": "python",
     "metadata": {},
     "outputs": [],
     "prompt_number": 14
    },
    {
     "cell_type": "code",
     "collapsed": false,
     "input": [
      "print bbb_charities[0]"
     ],
     "language": "python",
     "metadata": {},
     "outputs": [
      {
       "output_type": "stream",
       "stream": "stdout",
       "text": [
        "{'bbb_link': 'http://www.give.org/charity-reviews/national/health/multiple-sclerosis-foundation-in-fort-lauderdale-fl-572', 'address': u'6520 North Andrews Avenue', 'city': u'Fort Lauderdale, FL 33309', 'name': u'Multiple Sclerosis Foundation', 'bbb_accred': u'\\nAccredited: No\\n'}\n"
       ]
      }
     ],
     "prompt_number": 15
    },
    {
     "cell_type": "code",
     "collapsed": false,
     "input": [
      "bbb_link = bbb_charities[0]['bbb_link']"
     ],
     "language": "python",
     "metadata": {},
     "outputs": [],
     "prompt_number": 122
    },
    {
     "cell_type": "code",
     "collapsed": false,
     "input": [
      "# visit BBB's page on first charity\n",
      "examp_soup = bs4.BeautifulSoup(requests.get(bbb_link).text)"
     ],
     "language": "python",
     "metadata": {},
     "outputs": [],
     "prompt_number": 125
    },
    {
     "cell_type": "code",
     "collapsed": false,
     "input": [
      "# get link to charity's homepage\n",
      "examp_link = examp_soup.select('div.charity-contact')[0].a.attrs.get('href')\n",
      "bbb_charities[0]['link'] = examp_link"
     ],
     "language": "python",
     "metadata": {},
     "outputs": [],
     "prompt_number": 36
    },
    {
     "cell_type": "code",
     "collapsed": false,
     "input": [
      "for charity in bbb_charities:\n",
      "    charity['soup'] = bs4.BeautifulSoup(requests.get(charity['bbb_link']).text)\n"
     ],
     "language": "python",
     "metadata": {},
     "outputs": [],
     "prompt_number": 115
    },
    {
     "cell_type": "code",
     "collapsed": false,
     "input": [
      "# get links to charities' homepages\n",
      "for charity in bbb_charities:\n",
      "    soup = charity['soup']\n",
      "    if len(soup.select('div.charity-contact')) > 0:\n",
      "        charity['link'] = soup.select('div.charity-contact')[0].a.attrs.get('href')\n",
      "    elif len(soup.select('div.charity-detail-text')) > 0:\n",
      "        charity['link'] = soup.select('div.charity-detail-text')[0].a.attrs.get('href')\n",
      "    elif len(soup.select('a#ctl00_ContentPlaceHolder1_aWebUrl')) > 0:\n",
      "        charity['link'] = soup.select('a#ctl00_ContentPlaceHolder1_aWebUrl')[0].attrs.get('href')\n",
      "    else:\n",
      "        charity['link'] = ''\n",
      "# TO DO: should add text search for websites printed as text rather than link"
     ],
     "language": "python",
     "metadata": {},
     "outputs": [],
     "prompt_number": 135
    },
    {
     "cell_type": "code",
     "collapsed": false,
     "input": [
      "for charity in bbb_charities:\n",
      "    print charity['name'] + ':', charity['link']"
     ],
     "language": "python",
     "metadata": {},
     "outputs": [
      {
       "output_type": "stream",
       "stream": "stdout",
       "text": [
        "Multiple Sclerosis Foundation: http://www.msfocus.org\n",
        "National Multiple Sclerosis Society: http://www.nationalmssociety.org\n",
        "Multiple Sclerosis Association of America: http://www.mymsaa.org/\n",
        "National Multiple Sclerosis Society Arizona Chapter: http://aza.nationalMSsociety.org\n",
        "National Multiple Sclerosis Society: \n",
        "Multiple Sclerosis Fund, Inc.: http://www.msfundinc.wordpress.com/\n",
        "National Multiple Sclerosis Society: \n",
        "National Multiple Sclerosis Society: \n",
        "National Multiple Sclerosis Society: http://www.nationalmssociety.org/chapters/nyr\n",
        "National Multiple Sclerosis Society: http://www.fightmstoday.org\n",
        "Can Do Multiple Sclerosis: http://www.mscando.org\n",
        "Friends of Multiple Sclerosis Charities: http://www.friendsofms.com\n",
        "Multiple Sclerosis Society - Ontario Division: \n",
        "Oak Clinic for Multiple Sclerosis: \n",
        "National Multiple Sclerosis Society - Long Island Chapter: http://www.nmssli.org\n",
        "National Multiple Sclerosis Society, Ohio Buckeye Chapter: http://www.msohiobuckeye.org\n",
        "Multiple Sclerosis Society of Portland, Oregon, Inc.: http://www.msoregon.org\n",
        "National Multiple Sclerosis Society Greater Northwest Chapter: http://www.nmsswas.org\n",
        "Multiple Sclerosis Association-El Paso: \n",
        "National Multiple Sclerosis Society-Wisconsin Chapter: http://www.nationalmssociety.org/Chapters/WIG\n",
        "National Multiple Sclerosis Society - Nyc Chapter: http://www.msnyc.org\n",
        "Tri-State Multiple Sclerosis Association, Inc.: \n",
        "National Multiple Sclerosis Society of ENC: \n",
        "Friends of the National Multiple Sclerosis Society: \n",
        "National Multiple Sclerosis Society Ohio Buckeye Chapter: \n",
        "Multiple Sclerosis Resources Of Central New York Inc: http://www.msrofcny.org\n",
        "National Multiple Sclerosis Society, Colorado-Wyoming Chapter: \n",
        "National Multiple Sclerosis Society - All America Chapter, Hawaii Office: \n",
        "National Multiple Sclerosis Society Utah-Southern Idaho Chapter: http://www.msutah.org\n",
        "National Multiple Sclerosis Society Pacific South Coast Chapter: http://www.mspacific.org\n",
        "National Multiple Sclerosis Society Kentucky Southeast Indiana Chapter: http://www.nationalmssociety.org/chapters/KYW/index.aspx\n",
        "National Multiple Sclerosis Society-Greater Carolinas Chapter: \n"
       ]
      }
     ],
     "prompt_number": 136
    },
    {
     "cell_type": "code",
     "collapsed": false,
     "input": [
      "# get link to charities' facebook and twitter pages\n",
      "for charity in bbb_charities:\n",
      "    if charity['link'] == '':\n",
      "        charity['facebook_link'] = ''\n",
      "        charity['twitter_link'] = ''\n",
      "    else: \n",
      "        page = urllib2.urlopen(urllib2.Request(charity['link'], headers={'User-Agent' : 'Mozilla/5.0 (Windows; U; Windows NT 5.1; it; rv:1.8.1.11) Gecko/20071127 Firefox/2.0.0.11'}))\n",
      "#            target_soup = bs4.BeautifulSoup(requests.get(charity['link']).text)\n",
      "        target_soup = bs4.BeautifulSoup(page.read(), 'html.parser')\n",
      "#            charity['facebook_link'] = ''\n",
      "#            charity['twitter_link'] = ''\n",
      "#            continue\n",
      "        try:\n",
      "            fblink = target_soup.select('a[href*=facebook.com]')[0].attrs.get('href')\n",
      "        except:\n",
      "            fblink = ''\n",
      "        charity['facebook_link'] = fblink \n",
      "        \n",
      "        try:\n",
      "            twlink = target_soup.select('a[href*=twitter.com]')[0].attrs.get('href')\n",
      "        except:\n",
      "            twlink = ''\n",
      "        charity['twitter_link'] = twlink\n"
     ],
     "language": "python",
     "metadata": {},
     "outputs": [],
     "prompt_number": 177
    },
    {
     "cell_type": "code",
     "collapsed": false,
     "input": [
      "# get link to charities' facebook and twitter pages\n",
      "for charity in bbb_charities:\n",
      "    if not charity['link'] == '':\n",
      "        page = urllib2.urlopen(urllib2.Request(charity['link'], headers={'User-Agent' : 'Mozilla/5.0 (Windows; U; Windows NT 5.1; it; rv:1.8.1.11) Gecko/20071127 Firefox/2.0.0.11'}))\n",
      "        target_soup = bs4.BeautifulSoup(page.read(), 'html.parser')\n"
     ],
     "language": "python",
     "metadata": {},
     "outputs": [],
     "prompt_number": 176
    },
    {
     "cell_type": "code",
     "collapsed": false,
     "input": [
      "for charity in bbb_charities:\n",
      "    if charity['facebook_link'] == '':\n",
      "        print charity['name'] + ':', charity['link']"
     ],
     "language": "python",
     "metadata": {},
     "outputs": [
      {
       "output_type": "stream",
       "stream": "stdout",
       "text": [
        "National Multiple Sclerosis Society: \n",
        "Multiple Sclerosis Fund, Inc.: http://www.msfundinc.wordpress.com/\n",
        "National Multiple Sclerosis Society: \n",
        "National Multiple Sclerosis Society: \n",
        "Friends of Multiple Sclerosis Charities: http://www.friendsofms.com\n",
        "Multiple Sclerosis Society - Ontario Division: \n",
        "Oak Clinic for Multiple Sclerosis: \n",
        "Multiple Sclerosis Association-El Paso: \n",
        "Tri-State Multiple Sclerosis Association, Inc.: \n",
        "National Multiple Sclerosis Society of ENC: \n",
        "Friends of the National Multiple Sclerosis Society: \n",
        "National Multiple Sclerosis Society Ohio Buckeye Chapter: \n",
        "Multiple Sclerosis Resources Of Central New York Inc: http://www.msrofcny.org\n",
        "National Multiple Sclerosis Society, Colorado-Wyoming Chapter: \n",
        "National Multiple Sclerosis Society - All America Chapter, Hawaii Office: \n",
        "National Multiple Sclerosis Society-Greater Carolinas Chapter: \n"
       ]
      }
     ],
     "prompt_number": 180
    },
    {
     "cell_type": "code",
     "collapsed": false,
     "input": [
      "for charity in bbb_charities:\n",
      "    if charity['twitter_link'] == '':\n",
      "        print charity['name'] + ':', charity['link']"
     ],
     "language": "python",
     "metadata": {},
     "outputs": [
      {
       "output_type": "stream",
       "stream": "stdout",
       "text": [
        "National Multiple Sclerosis Society: \n",
        "Multiple Sclerosis Fund, Inc.: http://www.msfundinc.wordpress.com/\n",
        "National Multiple Sclerosis Society: \n",
        "National Multiple Sclerosis Society: \n",
        "Friends of Multiple Sclerosis Charities: http://www.friendsofms.com\n",
        "Multiple Sclerosis Society - Ontario Division: \n",
        "Oak Clinic for Multiple Sclerosis: \n",
        "Multiple Sclerosis Society of Portland, Oregon, Inc.: http://www.msoregon.org\n",
        "Multiple Sclerosis Association-El Paso: \n",
        "Tri-State Multiple Sclerosis Association, Inc.: \n",
        "National Multiple Sclerosis Society of ENC: \n",
        "Friends of the National Multiple Sclerosis Society: \n",
        "National Multiple Sclerosis Society Ohio Buckeye Chapter: \n",
        "Multiple Sclerosis Resources Of Central New York Inc: http://www.msrofcny.org\n",
        "National Multiple Sclerosis Society, Colorado-Wyoming Chapter: \n",
        "National Multiple Sclerosis Society - All America Chapter, Hawaii Office: \n",
        "National Multiple Sclerosis Society-Greater Carolinas Chapter: \n"
       ]
      }
     ],
     "prompt_number": 181
    },
    {
     "cell_type": "code",
     "collapsed": false,
     "input": [],
     "language": "python",
     "metadata": {},
     "outputs": [],
     "prompt_number": 156
    }
   ],
   "metadata": {}
  }
 ]
}