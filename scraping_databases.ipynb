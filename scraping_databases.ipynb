{
 "metadata": {
  "name": ""
 },
 "nbformat": 3,
 "nbformat_minor": 0,
 "worksheets": [
  {
   "cells": [
    {
     "cell_type": "code",
     "collapsed": false,
     "input": [
      "import urllib, urllib2\n",
      "import pandas as pd\n",
      "from lxml import html\n",
      "import BeautifulSoup, bs4\n",
      "import re, numpy as np\n",
      "import matplotlib.pyplot as plt\n",
      "import requests\n",
      "\n",
      "%matplotlib inline\n"
     ],
     "language": "python",
     "metadata": {},
     "outputs": [],
     "prompt_number": 4
    },
    {
     "cell_type": "code",
     "collapsed": false,
     "input": [
      "# import URL into beautiful soup object\n",
      "give_org_urls = [\"http://give.org/search/?term=multiple+sclerosis&location=&FilterAccredited=false&tobid=\", \n",
      "                 \"http://give.org/search/?page=2&term=multiple+sclerosis&location=&FilterAccredited=false&tobid=\", \n",
      "                 \"http://give.org/search/?page=3&term=multiple+sclerosis&location=&FilterAccredited=false&tobid=\"]\n",
      "bbb_soups = []\n",
      "for give_org_url in give_org_urls:\n",
      "    response = requests.get(give_org_url)\n",
      "    bbb_soups.append(bs4.BeautifulSoup(response.text))\n",
      "    \n"
     ],
     "language": "python",
     "metadata": {},
     "outputs": [],
     "prompt_number": 68
    },
    {
     "cell_type": "code",
     "collapsed": false,
     "input": [
      "len(bbb_soups)"
     ],
     "language": "python",
     "metadata": {},
     "outputs": [
      {
       "metadata": {},
       "output_type": "pyout",
       "prompt_number": 70,
       "text": [
        "3"
       ]
      }
     ],
     "prompt_number": 70
    },
    {
     "cell_type": "code",
     "collapsed": false,
     "input": [
      "# pull out charity links and info\n",
      "# NOTE: May need permission to include links to BBB. I didn't find any info on restrictions in pulling information.\n",
      "charities = []\n",
      "for soup in bbb_soups:\n",
      "    bbb_table = soup.select('div.search table')[0].tbody \n",
      "    for row in bbb_table.findAll('tr'):\n",
      "        charity_data = {}\n",
      "        charity_data['name'] = row.select('a.charity-link')[0].get_text()\n",
      "        charity_data['bbb_link'] = row.select('a.charity-link')[0].attrs.get('href')\n",
      "        accred_seal = row.select('img.charity-search-seal')\n",
      "        if accred_seal:\n",
      "            charity_data['bbb_accred'] = accred_seal[0].attrs.get('alt')\n",
      "        else:\n",
      "            charity_data['bbb_accred'] = row.select('div.accreditation-mobile')[0].get_text()\n",
      "            \n",
      "        charities.append(charity_data)\n"
     ],
     "language": "python",
     "metadata": {},
     "outputs": [],
     "prompt_number": 71
    },
    {
     "cell_type": "code",
     "collapsed": false,
     "input": [
      "len(charities)"
     ],
     "language": "python",
     "metadata": {},
     "outputs": [
      {
       "metadata": {},
       "output_type": "pyout",
       "prompt_number": 72,
       "text": [
        "32"
       ]
      }
     ],
     "prompt_number": 72
    },
    {
     "cell_type": "code",
     "collapsed": false,
     "input": [
      "for charity in charities:\n",
      "    print charity['name']\n",
      "    \n",
      "# TO DO: Figure out how to pull addresses or otherwise distinguish NMSS chapters"
     ],
     "language": "python",
     "metadata": {},
     "outputs": [
      {
       "output_type": "stream",
       "stream": "stdout",
       "text": [
        "Multiple Sclerosis Foundation\n",
        "National Multiple Sclerosis Society\n",
        "Multiple Sclerosis Association of America\n",
        "National Multiple Sclerosis Society Arizona Chapter\n",
        "National Multiple Sclerosis Society\n",
        "National Multiple Sclerosis Society\n",
        "Multiple Sclerosis Fund, Inc.\n",
        "Can Do Multiple Sclerosis\n",
        "National Multiple Sclerosis Society\n",
        "National Multiple Sclerosis Society\n",
        "National Multiple Sclerosis Society\n",
        "Multiple Sclerosis Society - Ontario Division\n",
        "Oak Clinic for Multiple Sclerosis\n",
        "Friends of Multiple Sclerosis Charities\n",
        "National Multiple Sclerosis Society - Nyc Chapter\n",
        "National Multiple Sclerosis Society - Long Island Chapter\n",
        "National Multiple Sclerosis Society, Ohio Buckeye Chapter\n",
        "National Multiple Sclerosis Society Ohio Buckeye Chapter\n",
        "Tri-State Multiple Sclerosis Association, Inc.\n",
        "Friends of the National Multiple Sclerosis Society\n",
        "Multiple Sclerosis Association-El Paso\n",
        "National Multiple Sclerosis Society of ENC\n",
        "Multiple Sclerosis Society of Portland, Oregon, Inc.\n",
        "National Multiple Sclerosis Society-Wisconsin Chapter\n",
        "National Multiple Sclerosis Society Greater Northwest Chapter\n",
        "Multiple Sclerosis Resources Of Central New York Inc\n",
        "National Multiple Sclerosis Society Kentucky Southeast Indiana Chapter\n",
        "National Multiple Sclerosis Society-Greater Carolinas Chapter\n",
        "National Multiple Sclerosis Society - All America Chapter, Hawaii Office\n",
        "National Multiple Sclerosis Society Utah-Southern Idaho Chapter\n",
        "National Multiple Sclerosis Society Pacific South Coast Chapter\n",
        "National Multiple Sclerosis Society, Colorado-Wyoming Chapter\n"
       ]
      }
     ],
     "prompt_number": 77
    },
    {
     "cell_type": "code",
     "collapsed": false,
     "input": [
      "\n",
      "type(bbb_table)"
     ],
     "language": "python",
     "metadata": {},
     "outputs": [
      {
       "metadata": {},
       "output_type": "pyout",
       "prompt_number": 57,
       "text": [
        "bs4.element.Tag"
       ]
      }
     ],
     "prompt_number": 57
    },
    {
     "cell_type": "code",
     "collapsed": false,
     "input": [
      "bbb_table.name"
     ],
     "language": "python",
     "metadata": {},
     "outputs": [
      {
       "metadata": {},
       "output_type": "pyout",
       "prompt_number": 62,
       "text": [
        "'tbody'"
       ]
      }
     ],
     "prompt_number": 62
    },
    {
     "cell_type": "code",
     "collapsed": false,
     "input": [],
     "language": "python",
     "metadata": {},
     "outputs": []
    }
   ],
   "metadata": {}
  }
 ]
}