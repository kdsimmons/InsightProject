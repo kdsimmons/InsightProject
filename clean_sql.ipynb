{
 "metadata": {
  "name": ""
 },
 "nbformat": 3,
 "nbformat_minor": 0,
 "worksheets": [
  {
   "cells": [
    {
     "cell_type": "code",
     "collapsed": false,
     "input": [
      "import pymysql as mdb\n",
      "import pandas as pd\n",
      "import numpy as np\n",
      "import re, sys\n",
      "%matplotlib inline"
     ],
     "language": "python",
     "metadata": {},
     "outputs": [],
     "prompt_number": 1
    },
    {
     "cell_type": "code",
     "collapsed": false,
     "input": [
      "# Set up connection to SQL\n",
      "mysqlauth = pd.DataFrame.from_csv('/home/kristy/Documents/auth_codes/mysql_user.csv')\n",
      "sqluser = mysqlauth.username[0]\n",
      "sqlpass = mysqlauth.password[0]\n",
      "\n",
      "con = mdb.connect(user=sqluser, host=\"localhost\", db=\"charity_data\", password=sqlpass, charset='utf8')"
     ],
     "language": "python",
     "metadata": {},
     "outputs": [],
     "prompt_number": 2
    },
    {
     "cell_type": "code",
     "collapsed": false,
     "input": [
      "# Import data from SQL\n",
      "combined_panda = pd.DataFrame()\n",
      "disease_list = ['alzheimer', 'blindness', 'breast_cancer', 'colon_cancer', 'crohn', 'diabetes',\n",
      "                'dyslexia', 'leukemia', 'lung_cancer', 'multiple_sclerosis', 'osteoporosis',\n",
      "                'parkinson']\n",
      "#disease_list = ['cancer']\n",
      "with con:\n",
      "    for disease in disease_list:\n",
      "        pandadf = pd.read_sql(\"SELECT * FROM \" + str(disease), con)\n",
      "        combined_panda = pd.concat([combined_panda, pandadf], 0)\n",
      "        print len(pandadf)\n"
     ],
     "language": "python",
     "metadata": {},
     "outputs": [
      {
       "output_type": "stream",
       "stream": "stdout",
       "text": [
        "48\n",
        "73"
       ]
      },
      {
       "output_type": "stream",
       "stream": "stdout",
       "text": [
        "\n",
        "39\n",
        "2"
       ]
      },
      {
       "output_type": "stream",
       "stream": "stdout",
       "text": [
        "\n",
        "1\n",
        "31"
       ]
      },
      {
       "output_type": "stream",
       "stream": "stdout",
       "text": [
        "\n",
        "4\n",
        "14"
       ]
      },
      {
       "output_type": "stream",
       "stream": "stdout",
       "text": [
        "\n",
        "1\n",
        "32"
       ]
      },
      {
       "output_type": "stream",
       "stream": "stdout",
       "text": [
        "\n",
        "0\n",
        "23"
       ]
      },
      {
       "output_type": "stream",
       "stream": "stdout",
       "text": [
        "\n"
       ]
      }
     ],
     "prompt_number": 3
    },
    {
     "cell_type": "code",
     "collapsed": false,
     "input": [
      "# Clean data\n",
      "\n",
      "# Get organization age\n",
      "combined_panda['year_incorporated'][combined_panda['year_incorporated'] == 0] = np.nan\n",
      "combined_panda['age'] = 2015 - combined_panda['year_incorporated']\n",
      "\n",
      "# Get state\n",
      "def extract_state(city_unicode):\n",
      "    match = re.search(', ([A-Z][A-Z]) [0-9]+', city_unicode)\n",
      "    if match:\n",
      "        return match.group(1)\n",
      "    else:\n",
      "        return ''\n",
      "combined_panda['state'] = combined_panda['city'].apply(extract_state)\n",
      "\n",
      "# Convert tax-exempt status to 0/1\n",
      "combined_panda['tax_exempt'] = combined_panda['tax_status'].apply(lambda x: int(x.find('is tax-exempt under section 501(c)(3)') > -1))\n",
      "combined_panda[:10][['tax_exempt','tax_status']]\n",
      "\n",
      "# Convert CN rating to 0/1\n",
      "combined_panda['cn_rated'] = combined_panda['cn_rated'].apply(lambda x: int(x == u'Rated'))\n",
      "\n",
      "# Convert BBB accreditation to 0/1\n",
      "combined_panda['bbb_accred'] = combined_panda['bbb_accred'].apply(lambda x: int(x == u'\\nAccredited: Yes\\n' or x == u'Accredited Charity'))"
     ],
     "language": "python",
     "metadata": {},
     "outputs": [],
     "prompt_number": 104
    },
    {
     "cell_type": "code",
     "collapsed": false,
     "input": [
      "table_name = 'combined_edited'\n",
      "with con:\n",
      "    cur = con.cursor()\n",
      "    \n",
      "    # set up table\n",
      "    cur.execute(\"DROP TABLE IF EXISTS \" + str(table_name))\n",
      "    cur.execute(\"\\\n",
      "        CREATE TABLE \" + str(table_name) + \"(\\\n",
      "            id INT PRIMARY KEY AUTO_INCREMENT,\\\n",
      "            disease VARCHAR(255),\\\n",
      "            name VARCHAR(255),\\\n",
      "            address VARCHAR(255),\\\n",
      "            city VARCHAR(255),\\\n",
      "            state CHAR(2),\\\n",
      "            link VARCHAR(255),\\\n",
      "            bbb_link VARCHAR(255),\\\n",
      "            facebook_link VARCHAR(255),\\\n",
      "            twitter_link VARCHAR(255),\\\n",
      "            cn_link VARCHAR(255),\\\n",
      "            bbb_accred BOOLEAN,\\\n",
      "            year_incorporated INT,\\\n",
      "            age INT,\\\n",
      "            purpose VARCHAR(255),\\\n",
      "            board_size INT,\\\n",
      "            staff_size INT,\\\n",
      "            tax_status VARCHAR(255),\\\n",
      "            tax_exempt BOOLEAN,\\\n",
      "            cn_rated BOOLEAN,\\\n",
      "            cn_overall FLOAT(8,4),\\\n",
      "            cn_financial FLOAT(8,4),\\\n",
      "            cn_acct_transp FLOAT(8,4),\\\n",
      "            leader_compensation VARCHAR(255),\\\n",
      "            total_expenses INT,\\\n",
      "            total_contributions INT,\\\n",
      "            total_revenue INT,\\\n",
      "            percent_program FLOAT(6,2),\\\n",
      "            percent_admin FLOAT(6,2),\\\n",
      "            percent_fund FLOAT(6,2),\\\n",
      "            facebook_likes INT,\\\n",
      "            twitter_followers INT\\\n",
      "       )\"\\\n",
      "    ) \n",
      "    \n",
      "    facebook_likes_placeholder = np.nan # not scraped yet\n",
      "\n",
      "    print \"\\nTotal records in \" + table_name + \": \" + str(len(combined_panda)) + \"\\n\"\n",
      "    for idx in range(len(combined_panda)):\n",
      "        value_str = (\"\\\"\" + str(combined_panda.name[idx]) + \"\\\",\\\"\" \n",
      "                     + str(combined_panda.disease[idx]) + \"\\\",\\\"\" \n",
      "                     + str(combined_panda.address[idx]) + \"\\\",\\\"\" \n",
      "                     + str(combined_panda.city[idx]) + \"\\\",\\\"\" \n",
      "                     + str(combined_panda.state[idx]) + \"\\\",\\\"\" \n",
      "                     + str(combined_panda.link[idx]) + \"\\\",\\\"\" \n",
      "                     + str(combined_panda.bbb_link[idx]) + \"\\\",\\\"\" \n",
      "                     + str(combined_panda.facebook_link[idx]) + \"\\\",\\\"\" \n",
      "                     + str(combined_panda.twitter_link[idx]) + \"\\\",\\\"\" \n",
      "                     + str(combined_panda.cn_link[idx]) + \"\\\",\\\"\" \n",
      "                     + str(combined_panda.bbb_accred[idx]) + \"\\\",\\\"\" \n",
      "                     + str(combined_panda.year_incorporated[idx]) + \"\\\",\\\"\" \n",
      "                     + str(combined_panda.age[idx]) + \"\\\",\\\"\" \n",
      "                     + str(combined_panda.purpose[idx]) + \"\\\",\\\"\" \n",
      "                     + str(combined_panda.board_size[idx]) + \"\\\",\\\"\" \n",
      "                     + str(combined_panda.staff_size[idx]) + \"\\\",\\\"\" \n",
      "                     + str(combined_panda.tax_status[idx]) + \"\\\",\\\"\" \n",
      "                     + str(combined_panda.tax_exempt[idx]) + \"\\\",\\\"\" \n",
      "                     + str(combined_panda.cn_rated[idx]) + \"\\\",\\\"\" \n",
      "                     + str(combined_panda.cn_overall[idx]) + \"\\\",\\\"\" \n",
      "                     + str(combined_panda.cn_financial[idx]) + \"\\\",\\\"\" \n",
      "                     + str(combined_panda.cn_acct_transp[idx])  + \"\\\",\\\"\" \n",
      "                     + str(combined_panda.leader_compensation[idx]) + \"\\\",\\\"\" \n",
      "                     + str(combined_panda.total_expenses[idx]) + \"\\\",\\\"\" \n",
      "                     + str(combined_panda.total_contributions[idx]) + \"\\\",\\\"\" \n",
      "                     + str(combined_panda.total_revenue[idx]) + \"\\\",\\\"\" \n",
      "                     + str(combined_panda.percent_program[idx]) + \"\\\",\\\"\" \n",
      "                     + str(combined_panda.percent_admin[idx]) + \"\\\",\\\"\" \n",
      "                     + str(combined_panda.percent_fund[idx]) + \"\\\",\\\"\" \n",
      "                     + str(facebook_likes_placeholder) + \"\\\",\\\"\" \n",
      "                     + str(combined_panda.twitter_followers[idx]) + \"\\\"\")\n",
      "        cur.execute(\"INSERT INTO \" + str(table_name) + \"(name, disease, address, city, state, link, bbb_link, facebook_link, twitter_link, cn_link, bbb_accred, \\\n",
      "                     year_incorporated, age, purpose, board_size, staff_size, tax_status, tax_exempt, cn_rated, cn_overall, cn_financial, cn_acct_transp, \\\n",
      "                     leader_compensation, total_expenses, \\\n",
      "                     total_contributions, total_revenue, percent_program, percent_admin, percent_fund, facebook_likes, twitter_followers) \\\n",
      "                     VALUES(\" + value_str + \")\")\n"
     ],
     "language": "python",
     "metadata": {},
     "outputs": [
      {
       "output_type": "stream",
       "stream": "stdout",
       "text": [
        "\n",
        "Total records in combined_edited: 220\n",
        "\n"
       ]
      }
     ],
     "prompt_number": 105
    },
    {
     "cell_type": "code",
     "collapsed": false,
     "input": [
      "cur.execute(\"SELECT * FROM combined_edited\")\n",
      "rows = cur.fetchall()"
     ],
     "language": "python",
     "metadata": {},
     "outputs": [],
     "prompt_number": 106
    },
    {
     "cell_type": "code",
     "collapsed": false,
     "input": [
      "print rows[3]"
     ],
     "language": "python",
     "metadata": {},
     "outputs": [
      {
       "output_type": "stream",
       "stream": "stdout",
       "text": [
        "(4, u'cancer', u'Colorectal Cancer Coalition', u'1414 Prince Street, Suite 204', u'Alexandria, VA 22314', u'VA', u'http://www.FightColorectalCancer.org', u'http://www.give.org/charity-reviews/national/cancer/colorectal-cancer-coalition-in-alexandria-va-5314', u'https://www.facebook.com/FightCRC', u'https://twitter.com/fightcrc', u'http://www.charitynavigator.org/index.cfm?bay=search.profile&ein=953102332', 0, 2005, 10, u'to demand a cure for colon and rectal cancer; to educate and support patients, push for changes in policy that will increase and improve research, and empower survivors and those touched by cancer to raise their voices against the status quo.', 9, 8, u'This organization is tax-exempt under section 501(c)(3) of the Internal Revenue Code. It is eligible to receive contributions deductible as charitable donations for federal income tax purposes.\\n', 1, 0, 0.0, 0.0, 0.0, u'', 0, 0, 0, 0.0, 0.0, 0.0, 0, 5444)\n"
       ]
      }
     ],
     "prompt_number": 109
    },
    {
     "cell_type": "code",
     "collapsed": false,
     "input": [
      "int(True)"
     ],
     "language": "python",
     "metadata": {},
     "outputs": [
      {
       "metadata": {},
       "output_type": "pyout",
       "prompt_number": 75,
       "text": [
        "1"
       ]
      }
     ],
     "prompt_number": 75
    }
   ],
   "metadata": {}
  }
 ]
}