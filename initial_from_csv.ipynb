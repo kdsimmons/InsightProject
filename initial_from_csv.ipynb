{
 "metadata": {
  "name": ""
 },
 "nbformat": 3,
 "nbformat_minor": 0,
 "worksheets": [
  {
   "cells": [
    {
     "cell_type": "code",
     "collapsed": false,
     "input": [
      "import pandas as pd"
     ],
     "language": "python",
     "metadata": {},
     "outputs": [],
     "prompt_number": 13
    },
    {
     "cell_type": "code",
     "collapsed": false,
     "input": [
      "df = pd.read_csv('/home/kristy/Dropbox/KristyInsight/Farmers_Markets_With_Benefits.csv')"
     ],
     "language": "python",
     "metadata": {},
     "outputs": [],
     "prompt_number": 3
    },
    {
     "cell_type": "code",
     "collapsed": false,
     "input": [
      "type(df)"
     ],
     "language": "python",
     "metadata": {},
     "outputs": [
      {
       "metadata": {},
       "output_type": "pyout",
       "prompt_number": 5,
       "text": [
        "pandas.core.frame.DataFrame"
       ]
      }
     ],
     "prompt_number": 5
    },
    {
     "cell_type": "code",
     "collapsed": false,
     "input": [
      "df.shape"
     ],
     "language": "python",
     "metadata": {},
     "outputs": [
      {
       "metadata": {},
       "output_type": "pyout",
       "prompt_number": 7,
       "text": [
        "(26, 11)"
       ]
      }
     ],
     "prompt_number": 7
    },
    {
     "cell_type": "code",
     "collapsed": false,
     "input": [
      "df.head()"
     ],
     "language": "python",
     "metadata": {},
     "outputs": [
      {
       "html": [
        "<div style=\"max-height:1000px;max-width:1500px;overflow:auto;\">\n",
        "<table border=\"1\" class=\"dataframe\">\n",
        "  <thead>\n",
        "    <tr style=\"text-align: right;\">\n",
        "      <th></th>\n",
        "      <th>Name</th>\n",
        "      <th>Location</th>\n",
        "      <th>Area</th>\n",
        "      <th>Open/Close Dates</th>\n",
        "      <th>Day</th>\n",
        "      <th>Time</th>\n",
        "      <th>SNAP</th>\n",
        "      <th>WIC</th>\n",
        "      <th>EBT</th>\n",
        "      <th>BBB</th>\n",
        "      <th>Location 1</th>\n",
        "    </tr>\n",
        "  </thead>\n",
        "  <tbody>\n",
        "    <tr>\n",
        "      <th>0</th>\n",
        "      <td>               Allston Harvard</td>\n",
        "      <td> 200 North Harvard St.</td>\n",
        "      <td> Allston</td>\n",
        "      <td> June 14 - Oct 25</td>\n",
        "      <td>              Fridays</td>\n",
        "      <td>      3-7pm</td>\n",
        "      <td> Yes</td>\n",
        "      <td> Yes</td>\n",
        "      <td> Yes</td>\n",
        "      <td> Yes</td>\n",
        "      <td> 200 North Harvard St.\\nAllston, MA 2134\\n(42.3...</td>\n",
        "    </tr>\n",
        "    <tr>\n",
        "      <th>1</th>\n",
        "      <td> Allston Village /Union Square</td>\n",
        "      <td>     500 Cambridge St.</td>\n",
        "      <td> Allston</td>\n",
        "      <td>  May 15 - Oct 26</td>\n",
        "      <td>            Saturdays</td>\n",
        "      <td>   11am-3pm</td>\n",
        "      <td> Yes</td>\n",
        "      <td> Yes</td>\n",
        "      <td> Yes</td>\n",
        "      <td> Yes</td>\n",
        "      <td> 500 Cambridge St.\\nAllston, MA 2134\\n(42.35306...</td>\n",
        "    </tr>\n",
        "    <tr>\n",
        "      <th>2</th>\n",
        "      <td>              Boston City Hall</td>\n",
        "      <td>    1 City Hall Plaza </td>\n",
        "      <td>  Boston</td>\n",
        "      <td>  May 20 - Nov 27</td>\n",
        "      <td> Monday and Wednesday</td>\n",
        "      <td> 11am - 6pm</td>\n",
        "      <td> Yes</td>\n",
        "      <td> Yes</td>\n",
        "      <td> Yes</td>\n",
        "      <td> Yes</td>\n",
        "      <td> 1 City Hall Plaza&amp;nbsp;\\nBoston, MA 2108\\n(42....</td>\n",
        "    </tr>\n",
        "    <tr>\n",
        "      <th>3</th>\n",
        "      <td>         Boston Medical Center</td>\n",
        "      <td>    850 Harrison Ave. </td>\n",
        "      <td>  Boston</td>\n",
        "      <td> June 14 - Oct 25</td>\n",
        "      <td>              Friday </td>\n",
        "      <td> 11:30-2:30</td>\n",
        "      <td> Yes</td>\n",
        "      <td> Yes</td>\n",
        "      <td> Yes</td>\n",
        "      <td> Yes</td>\n",
        "      <td> 850 Harrison Ave.&amp;nbsp;\\nBoston, MA 2118\\n(42....</td>\n",
        "    </tr>\n",
        "    <tr>\n",
        "      <th>4</th>\n",
        "      <td>                 Copley Square</td>\n",
        "      <td>     261 Dartmouth St.</td>\n",
        "      <td>  Boston</td>\n",
        "      <td>   May 14- Nov 26</td>\n",
        "      <td>   Tuesday and Friday</td>\n",
        "      <td> 11am - 6pm</td>\n",
        "      <td> Yes</td>\n",
        "      <td> Yes</td>\n",
        "      <td> Yes</td>\n",
        "      <td> Yes</td>\n",
        "      <td> 261 Dartmouth St.\\nBoston, MA 2116\\n(42.350379...</td>\n",
        "    </tr>\n",
        "  </tbody>\n",
        "</table>\n",
        "<p>5 rows \u00d7 11 columns</p>\n",
        "</div>"
       ],
       "metadata": {},
       "output_type": "pyout",
       "prompt_number": 9,
       "text": [
        "                            Name               Location     Area  \\\n",
        "0                Allston Harvard  200 North Harvard St.  Allston   \n",
        "1  Allston Village /Union Square      500 Cambridge St.  Allston   \n",
        "2               Boston City Hall     1 City Hall Plaza    Boston   \n",
        "3          Boston Medical Center     850 Harrison Ave.    Boston   \n",
        "4                  Copley Square      261 Dartmouth St.   Boston   \n",
        "\n",
        "   Open/Close Dates                   Day        Time SNAP  WIC  EBT  BBB  \\\n",
        "0  June 14 - Oct 25               Fridays       3-7pm  Yes  Yes  Yes  Yes   \n",
        "1   May 15 - Oct 26             Saturdays    11am-3pm  Yes  Yes  Yes  Yes   \n",
        "2   May 20 - Nov 27  Monday and Wednesday  11am - 6pm  Yes  Yes  Yes  Yes   \n",
        "3  June 14 - Oct 25               Friday   11:30-2:30  Yes  Yes  Yes  Yes   \n",
        "4    May 14- Nov 26    Tuesday and Friday  11am - 6pm  Yes  Yes  Yes  Yes   \n",
        "\n",
        "                                          Location 1  \n",
        "0  200 North Harvard St.\\nAllston, MA 2134\\n(42.3...  \n",
        "1  500 Cambridge St.\\nAllston, MA 2134\\n(42.35306...  \n",
        "2  1 City Hall Plaza&nbsp;\\nBoston, MA 2108\\n(42....  \n",
        "3  850 Harrison Ave.&nbsp;\\nBoston, MA 2118\\n(42....  \n",
        "4  261 Dartmouth St.\\nBoston, MA 2116\\n(42.350379...  \n",
        "\n",
        "[5 rows x 11 columns]"
       ]
      }
     ],
     "prompt_number": 9
    },
    {
     "cell_type": "code",
     "collapsed": false,
     "input": [
      "df.index"
     ],
     "language": "python",
     "metadata": {},
     "outputs": [
      {
       "metadata": {},
       "output_type": "pyout",
       "prompt_number": 14,
       "text": [
        "Int64Index([0, 1, 2, 3, 4, 5, 6, 7, 8, 9, 10, 11, 12, 13, 14, 15, 16, 17, 18, 19, 20, 21, 22, 23, 24, 25], dtype='int64')"
       ]
      }
     ],
     "prompt_number": 14
    },
    {
     "cell_type": "code",
     "collapsed": false,
     "input": [
      "df.columns"
     ],
     "language": "python",
     "metadata": {},
     "outputs": [
      {
       "metadata": {},
       "output_type": "pyout",
       "prompt_number": 15,
       "text": [
        "Index([u'Name', u'Location', u'Area', u'Open/Close Dates', u'Day', u'Time', u'SNAP', u'WIC', u'EBT', u'BBB', u'Location 1'], dtype='object')"
       ]
      }
     ],
     "prompt_number": 15
    },
    {
     "cell_type": "code",
     "collapsed": false,
     "input": [
      "location = df['Location 1']"
     ],
     "language": "python",
     "metadata": {},
     "outputs": [],
     "prompt_number": 16
    },
    {
     "cell_type": "code",
     "collapsed": false,
     "input": [
      "type(location)"
     ],
     "language": "python",
     "metadata": {},
     "outputs": [
      {
       "metadata": {},
       "output_type": "pyout",
       "prompt_number": 17,
       "text": [
        "pandas.core.series.Series"
       ]
      }
     ],
     "prompt_number": 17
    },
    {
     "cell_type": "code",
     "collapsed": false,
     "input": [
      "location.head()"
     ],
     "language": "python",
     "metadata": {},
     "outputs": [
      {
       "metadata": {},
       "output_type": "pyout",
       "prompt_number": 18,
       "text": [
        "0    200 North Harvard St.\\nAllston, MA 2134\\n(42.3...\n",
        "1    500 Cambridge St.\\nAllston, MA 2134\\n(42.35306...\n",
        "2    1 City Hall Plaza&nbsp;\\nBoston, MA 2108\\n(42....\n",
        "3    850 Harrison Ave.&nbsp;\\nBoston, MA 2118\\n(42....\n",
        "4    261 Dartmouth St.\\nBoston, MA 2116\\n(42.350379...\n",
        "Name: Location 1, dtype: object"
       ]
      }
     ],
     "prompt_number": 18
    },
    {
     "cell_type": "code",
     "collapsed": false,
     "input": [
      "loc0 = location[0]"
     ],
     "language": "python",
     "metadata": {},
     "outputs": [],
     "prompt_number": 19
    },
    {
     "cell_type": "code",
     "collapsed": false,
     "input": [
      "type(loc0)"
     ],
     "language": "python",
     "metadata": {},
     "outputs": [
      {
       "metadata": {},
       "output_type": "pyout",
       "prompt_number": 20,
       "text": [
        "str"
       ]
      }
     ],
     "prompt_number": 20
    },
    {
     "cell_type": "code",
     "collapsed": false,
     "input": [
      "loc0"
     ],
     "language": "python",
     "metadata": {},
     "outputs": [
      {
       "metadata": {},
       "output_type": "pyout",
       "prompt_number": 21,
       "text": [
        "'200 North Harvard St.\\nAllston, MA 2134\\n(42.36294649117586, -71.12989702892453)'"
       ]
      }
     ],
     "prompt_number": 21
    },
    {
     "cell_type": "code",
     "collapsed": false,
     "input": [
      "loc0.split(\"\\n\")"
     ],
     "language": "python",
     "metadata": {},
     "outputs": [
      {
       "metadata": {},
       "output_type": "pyout",
       "prompt_number": 25,
       "text": [
        "['200 North Harvard St.',\n",
        " 'Allston, MA 2134',\n",
        " '(42.36294649117586, -71.12989702892453)']"
       ]
      }
     ],
     "prompt_number": 25
    },
    {
     "cell_type": "code",
     "collapsed": false,
     "input": [],
     "language": "python",
     "metadata": {},
     "outputs": []
    }
   ],
   "metadata": {}
  }
 ]
}