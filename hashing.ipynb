{
 "metadata": {
  "name": ""
 },
 "nbformat": 3,
 "nbformat_minor": 0,
 "worksheets": [
  {
   "cells": [
    {
     "cell_type": "code",
     "collapsed": false,
     "input": [],
     "language": "python",
     "metadata": {},
     "outputs": [],
     "prompt_number": 145
    },
    {
     "cell_type": "code",
     "collapsed": false,
     "input": [
      "class HashTable:\n",
      "    def __init__(self, size=11):\n",
      "        self.size = size\n",
      "        self.slots = [None] * size\n",
      "        self.data = [None] * size\n",
      "        \n",
      "    def put(self, key, value):\n",
      "        # Find the slot key belongs in\n",
      "        begin_loc = self.hash_function(key)\n",
      "        \n",
      "        # If the correct slot is empty, fill it\n",
      "        if self.slots[begin_loc] is None:\n",
      "            self.slots[begin_loc] = key\n",
      "            self.data[begin_loc] = value\n",
      "             \n",
      "        # If the correct slot has the same key, replace the value\n",
      "        elif key == self.slots[begin_loc]:\n",
      "            self.data[begin_loc] = value\n",
      "            \n",
      "        # If the correct slot has a different key, look for the next empty slot\n",
      "        else:\n",
      "            filled = False\n",
      "            cur_loc = self.rehash(begin_loc)\n",
      "            \n",
      "            while cur_loc != begin_loc and filled == False:\n",
      "                if self.slots[cur_loc] is None:\n",
      "                    self.slots[cur_loc] = key\n",
      "                    self.data[cur_loc] = value\n",
      "                    filled = True\n",
      "                if self.slots[cur_loc] == key:\n",
      "                    self.data[cur_loc] = value\n",
      "                    filled = True\n",
      "                else:\n",
      "                    cur_loc = self.rehash(cur_loc)\n",
      "            if filled is False:\n",
      "                print str(idx) + \": No more space.\"\n",
      "    \n",
      "    def get(self, key):\n",
      "        slot_loc = self.hash_function(key)\n",
      "        if slot_loc is not None:\n",
      "            return self.data[slot_loc]\n",
      "        else:\n",
      "            return None\n",
      "    \n",
      "    def len(self):\n",
      "        return self.size\n",
      "    \n",
      "    def __len__(self):\n",
      "        return self.len()\n",
      "    \n",
      "    def __getitem__(self, key):\n",
      "        return self.get(key)\n",
      "\n",
      "    def __setitem__(self, key, value):\n",
      "        return self.set(key, value)\n",
      "    \n",
      "    def hash_function(self, key):\n",
      "        return key % self.size\n",
      "    \n",
      "    def rehash(self, oldhash):\n",
      "        return (oldhash+1) % self.size\n",
      "    \n",
      "    def __contains__(self, key):\n",
      "        slot_loc = self.hash_function(key)\n",
      "        if slot_loc is None:\n",
      "            return False\n",
      "        else:\n",
      "            return self.slots[slot_loc] == key\n",
      "\n"
     ],
     "language": "python",
     "metadata": {},
     "outputs": [],
     "prompt_number": 130
    },
    {
     "cell_type": "code",
     "collapsed": false,
     "input": [
      "H = HashTable(11)\n",
      "for idx in range(15):\n",
      "    H.put(idx,idx-3)"
     ],
     "language": "python",
     "metadata": {},
     "outputs": [
      {
       "output_type": "stream",
       "stream": "stdout",
       "text": [
        "11: No more space.\n",
        "12: No more space.\n",
        "13: No more space.\n",
        "14: No more space.\n"
       ]
      }
     ],
     "prompt_number": 131
    },
    {
     "cell_type": "code",
     "collapsed": false,
     "input": [
      "print H.slots\n",
      "print H.data"
     ],
     "language": "python",
     "metadata": {},
     "outputs": [
      {
       "output_type": "stream",
       "stream": "stdout",
       "text": [
        "[0, 1, 2, 3, 4, 5, 6, 7, 8, 9, 10]\n",
        "[[-3], [-2], [-1], [0], [1], [2], [3], [4], [5], [6], [7]]\n"
       ]
      }
     ],
     "prompt_number": 132
    },
    {
     "cell_type": "code",
     "collapsed": false,
     "input": [
      "print H.get(3)"
     ],
     "language": "python",
     "metadata": {},
     "outputs": [
      {
       "output_type": "stream",
       "stream": "stdout",
       "text": [
        "[0]\n"
       ]
      }
     ],
     "prompt_number": 133
    },
    {
     "cell_type": "code",
     "collapsed": false,
     "input": [
      "print H.len()"
     ],
     "language": "python",
     "metadata": {},
     "outputs": [
      {
       "output_type": "stream",
       "stream": "stdout",
       "text": [
        "11\n"
       ]
      }
     ],
     "prompt_number": 134
    },
    {
     "cell_type": "code",
     "collapsed": false,
     "input": [
      "print len(H)"
     ],
     "language": "python",
     "metadata": {},
     "outputs": [
      {
       "output_type": "stream",
       "stream": "stdout",
       "text": [
        "11\n"
       ]
      }
     ],
     "prompt_number": 135
    },
    {
     "cell_type": "code",
     "collapsed": false,
     "input": [
      "H.put(3,2)"
     ],
     "language": "python",
     "metadata": {},
     "outputs": [],
     "prompt_number": 136
    },
    {
     "cell_type": "code",
     "collapsed": false,
     "input": [
      "H.get(3)"
     ],
     "language": "python",
     "metadata": {},
     "outputs": [
      {
       "metadata": {},
       "output_type": "pyout",
       "prompt_number": 137,
       "text": [
        "2"
       ]
      }
     ],
     "prompt_number": 137
    },
    {
     "cell_type": "code",
     "collapsed": false,
     "input": [
      "H[3]"
     ],
     "language": "python",
     "metadata": {},
     "outputs": [
      {
       "metadata": {},
       "output_type": "pyout",
       "prompt_number": 138,
       "text": [
        "2"
       ]
      }
     ],
     "prompt_number": 138
    },
    {
     "cell_type": "code",
     "collapsed": false,
     "input": [
      "print H.slots"
     ],
     "language": "python",
     "metadata": {},
     "outputs": [
      {
       "output_type": "stream",
       "stream": "stdout",
       "text": [
        "[0, 1, 2, 3, 4, 5, 6, 7, 8, 9, 10]\n"
       ]
      }
     ],
     "prompt_number": 139
    },
    {
     "cell_type": "code",
     "collapsed": false,
     "input": [
      "print 3 in H"
     ],
     "language": "python",
     "metadata": {},
     "outputs": [
      {
       "output_type": "stream",
       "stream": "stdout",
       "text": [
        "True\n"
       ]
      }
     ],
     "prompt_number": 122
    },
    {
     "cell_type": "code",
     "collapsed": false,
     "input": [
      "print 11 in H"
     ],
     "language": "python",
     "metadata": {},
     "outputs": [
      {
       "output_type": "stream",
       "stream": "stdout",
       "text": [
        "False\n"
       ]
      }
     ],
     "prompt_number": 126
    },
    {
     "cell_type": "code",
     "collapsed": false,
     "input": [
      "if 11 in H:\n",
      "    print 1\n",
      "else:\n",
      "    print 0"
     ],
     "language": "python",
     "metadata": {},
     "outputs": [
      {
       "output_type": "stream",
       "stream": "stdout",
       "text": [
        "0\n"
       ]
      }
     ],
     "prompt_number": 129
    },
    {
     "cell_type": "code",
     "collapsed": false,
     "input": [
      "if not [3,2][1]:\n",
      "    print 1\n",
      "else:\n",
      "    print 0"
     ],
     "language": "python",
     "metadata": {},
     "outputs": [
      {
       "output_type": "stream",
       "stream": "stdout",
       "text": [
        "0\n"
       ]
      }
     ],
     "prompt_number": 165
    },
    {
     "cell_type": "code",
     "collapsed": false,
     "input": [
      "# Implement with chaining\n",
      "class HashTable:\n",
      "    def __init__(self, size=11):\n",
      "        self.size = size\n",
      "        self.slots = [[]] * size\n",
      "        self.data = [[]] * size\n",
      "        \n",
      "    def put(self, key, value):\n",
      "        # Find the slot key belongs in\n",
      "        begin_loc = self.hash_function(key)\n",
      "        \n",
      "        # If the correct slot is empty, fill it\n",
      "        if not self.slots[begin_loc]:\n",
      "            self.slots[begin_loc] = [key]\n",
      "            self.data[begin_loc] = [value]\n",
      "             \n",
      "        # If the correct slot already includes this key, replace the value\n",
      "        elif key in self.slots[begin_loc]:\n",
      "            idx = self.slots[begin_loc].index(key)\n",
      "            self.slots[begin_loc][idx] = key\n",
      "            self.data[begin_loc][idx] = value\n",
      "            \n",
      "        # If the correct slot has a different key, add the new key and value\n",
      "        else:\n",
      "            self.slots[begin_loc].append(key)\n",
      "            self.data[begin_loc].append(value)\n",
      "    \n",
      "    def get(self, key):\n",
      "        slot_loc = self.hash_function(key)\n",
      "        if slot_loc is not None:\n",
      "            idx = self.slots[slot_loc].index(key)\n",
      "            return self.data[slot_loc][idx]\n",
      "        else:\n",
      "            return None\n",
      "    \n",
      "    def len(self):\n",
      "        return self.size\n",
      "    \n",
      "    def __len__(self):\n",
      "        return self.len()\n",
      "    \n",
      "    def __getitem__(self, key):\n",
      "        return self.get(key)\n",
      "\n",
      "    def __setitem__(self, key, value):\n",
      "        return self.set(key, value)\n",
      "    \n",
      "    def hash_function(self, key):\n",
      "        return key % self.size\n",
      "    \n",
      "    def rehash(self, oldhash):\n",
      "        return (oldhash+1) % self.size\n",
      "    \n",
      "    def __contains__(self, key):\n",
      "        slot_loc = self.hash_function(key)\n",
      "        if slot_loc is None:\n",
      "            return False\n",
      "        else:\n",
      "            return key in self.slots[slot_loc]\n",
      "\n",
      "    def get_load(self):\n",
      "        num_items = 0\n",
      "        for bucket in self.slots:\n",
      "            num_items += len(bucket)\n",
      "        return float(num_items)/float(self.size)"
     ],
     "language": "python",
     "metadata": {},
     "outputs": [],
     "prompt_number": 184
    },
    {
     "cell_type": "code",
     "collapsed": false,
     "input": [
      "H = HashTable(13)\n",
      "H.put(0,10)\n",
      "H.put(0,11)\n",
      "H.put(13,25)\n",
      "H.put(15,2)"
     ],
     "language": "python",
     "metadata": {},
     "outputs": [],
     "prompt_number": 185
    },
    {
     "cell_type": "code",
     "collapsed": false,
     "input": [
      "print H.slots\n",
      "print H.data"
     ],
     "language": "python",
     "metadata": {},
     "outputs": [
      {
       "output_type": "stream",
       "stream": "stdout",
       "text": [
        "[[0, 13], [], [15], [], [], [], [], [], [], [], [], [], []]\n",
        "[[11, 25], [], [2], [], [], [], [], [], [], [], [], [], []]\n"
       ]
      }
     ],
     "prompt_number": 187
    },
    {
     "cell_type": "code",
     "collapsed": false,
     "input": [
      "print 0 in H"
     ],
     "language": "python",
     "metadata": {},
     "outputs": [
      {
       "output_type": "stream",
       "stream": "stdout",
       "text": [
        "True\n"
       ]
      }
     ],
     "prompt_number": 179
    },
    {
     "cell_type": "code",
     "collapsed": false,
     "input": [
      "print 13 in H"
     ],
     "language": "python",
     "metadata": {},
     "outputs": [
      {
       "output_type": "stream",
       "stream": "stdout",
       "text": [
        "True\n"
       ]
      }
     ],
     "prompt_number": 180
    },
    {
     "cell_type": "code",
     "collapsed": false,
     "input": [
      "print 11 in H"
     ],
     "language": "python",
     "metadata": {},
     "outputs": [
      {
       "output_type": "stream",
       "stream": "stdout",
       "text": [
        "False\n"
       ]
      }
     ],
     "prompt_number": 181
    },
    {
     "cell_type": "code",
     "collapsed": false,
     "input": [
      "print H.get_load()"
     ],
     "language": "python",
     "metadata": {},
     "outputs": [
      {
       "output_type": "stream",
       "stream": "stdout",
       "text": [
        "0.230769230769\n"
       ]
      }
     ],
     "prompt_number": 188
    },
    {
     "cell_type": "code",
     "collapsed": false,
     "input": [
      "print 3./13."
     ],
     "language": "python",
     "metadata": {},
     "outputs": [
      {
       "output_type": "stream",
       "stream": "stdout",
       "text": [
        "0.230769230769\n"
       ]
      }
     ],
     "prompt_number": 189
    }
   ],
   "metadata": {}
  }
 ]
}