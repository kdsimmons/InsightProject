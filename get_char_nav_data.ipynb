{
 "metadata": {
  "name": ""
 },
 "nbformat": 3,
 "nbformat_minor": 0,
 "worksheets": [
  {
   "cells": [
    {
     "cell_type": "code",
     "collapsed": false,
     "input": [
      "import pandas as pd\n",
      "import bs4\n",
      "import re, numpy as np\n",
      "import matplotlib.pyplot as plt\n",
      "import requests, urllib2\n",
      "import tweepy\n",
      "import pymysql as mdb\n",
      "\n",
      "%matplotlib inline\n"
     ],
     "language": "python",
     "metadata": {},
     "outputs": [],
     "prompt_number": 13
    },
    {
     "cell_type": "code",
     "collapsed": false,
     "input": [
      "def scrape_bbb_urls():\n",
      "    # import URL into beautiful soup object\n",
      "    give_org_urls = [\"http://give.org/search/?term=multiple+sclerosis&location=&FilterAccredited=false&tobid=\", \n",
      "                     \"http://give.org/search/?page=2&term=multiple+sclerosis&location=&FilterAccredited=false&tobid=\", \n",
      "                     \"http://give.org/search/?page=3&term=multiple+sclerosis&location=&FilterAccredited=false&tobid=\"]\n",
      "    bbb_soups = []\n",
      "    for give_org_url in give_org_urls:\n",
      "        response = requests.get(give_org_url)\n",
      "        bbb_soups.append(bs4.BeautifulSoup(response.text))\n",
      "        \n",
      "    return bbb_soups\n"
     ],
     "language": "python",
     "metadata": {},
     "outputs": [],
     "prompt_number": 14
    },
    {
     "cell_type": "code",
     "collapsed": false,
     "input": [
      "def clean_bbb_info(bbb_soups):\n",
      "    # pull out charity links and info\n",
      "    # NOTE: May need permission to include links to BBB. I didn't find any info on restrictions in pulling information.\n",
      "    charities = []\n",
      "    for soup in bbb_soups:\n",
      "        bbb_table = soup.select('div.search table')[0].tbody \n",
      "        for row in bbb_table.findAll('tr'):\n",
      "            charity_data = {}\n",
      "            charity_data['name'] = row.select('a.charity-link')[0].get_text()\n",
      "            charity_data['bbb_link'] = row.select('a.charity-link')[0].attrs.get('href')\n",
      "            accred_seal = row.select('img.charity-search-seal')\n",
      "            if accred_seal:\n",
      "                charity_data['bbb_accred'] = accred_seal[0].attrs.get('alt')\n",
      "            else:\n",
      "                charity_data['bbb_accred'] = row.select('div.accreditation-mobile')[0].get_text()\n",
      "            charity_data['address'] = row.select('div.accreditation-mobile')[0].next_sibling.strip()\n",
      "            charity_data['city'] = row.select('div.accreditation-mobile')[0].next_sibling.next_sibling.next_sibling.strip()\n",
      "            \n",
      "            charities.append(charity_data)\n",
      "            \n",
      "    return charities\n"
     ],
     "language": "python",
     "metadata": {},
     "outputs": [],
     "prompt_number": 15
    },
    {
     "cell_type": "code",
     "collapsed": false,
     "input": [
      "bbb_soups = scrape_bbb_urls()"
     ],
     "language": "python",
     "metadata": {},
     "outputs": [],
     "prompt_number": 16
    },
    {
     "cell_type": "code",
     "collapsed": false,
     "input": [
      "len(bbb_soups)"
     ],
     "language": "python",
     "metadata": {},
     "outputs": [
      {
       "metadata": {},
       "output_type": "pyout",
       "prompt_number": 17,
       "text": [
        "3"
       ]
      }
     ],
     "prompt_number": 17
    },
    {
     "cell_type": "code",
     "collapsed": false,
     "input": [
      "bbb_charities = clean_bbb_info(bbb_soups)"
     ],
     "language": "python",
     "metadata": {},
     "outputs": [],
     "prompt_number": 18
    },
    {
     "cell_type": "code",
     "collapsed": false,
     "input": [
      "len(bbb_charities)\n",
      "print bbb_charities[1]['bbb_link']"
     ],
     "language": "python",
     "metadata": {},
     "outputs": [
      {
       "output_type": "stream",
       "stream": "stdout",
       "text": [
        "http://www.give.org/charity-reviews/national/health/national-multiple-sclerosis-society-in-new-york-ny-597\n"
       ]
      }
     ],
     "prompt_number": 19
    },
    {
     "cell_type": "code",
     "collapsed": false,
     "input": [
      "def get_charity_links(charities):\n",
      "    # Use BBB pages to get links to each charity's website\n",
      "    \n",
      "    for charity in charities:\n",
      "        soup = bs4.BeautifulSoup(requests.get(charity['bbb_link']).text)\n",
      "        if len(soup.select('div.charity-contact')) > 0:\n",
      "            charity['link'] = soup.select('div.charity-contact')[0].a.attrs.get('href')\n",
      "        elif len(soup.select('div.charity-detail-text')) > 0:\n",
      "            charity['link'] = soup.select('div.charity-detail-text')[0].a.attrs.get('href')\n",
      "        elif len(soup.select('a#ctl00_ContentPlaceHolder1_aWebUrl')) > 0:\n",
      "            charity['link'] = soup.select('a#ctl00_ContentPlaceHolder1_aWebUrl')[0].attrs.get('href')\n",
      "        else:\n",
      "            charity['link'] = ''\n",
      "    # TO DO: should add text search for websites printed as text rather than link\n",
      "    \n",
      "    return charities"
     ],
     "language": "python",
     "metadata": {},
     "outputs": [],
     "prompt_number": 20
    },
    {
     "cell_type": "code",
     "collapsed": false,
     "input": [
      "charities_with_links = get_charity_links(bbb_charities)"
     ],
     "language": "python",
     "metadata": {},
     "outputs": [],
     "prompt_number": 21
    },
    {
     "cell_type": "code",
     "collapsed": false,
     "input": [
      "len(charities_with_links)"
     ],
     "language": "python",
     "metadata": {},
     "outputs": [
      {
       "metadata": {},
       "output_type": "pyout",
       "prompt_number": 22,
       "text": [
        "32"
       ]
      }
     ],
     "prompt_number": 22
    },
    {
     "cell_type": "code",
     "collapsed": false,
     "input": [
      "# clean function\n",
      "def get_char_nav_info(dictlist): \n",
      "    for charity in dictlist:\n",
      "        # get link to Charity Navigator's website on this charity\n",
      "        words = '+'.join(charity['name'].split())\n",
      "        url = ('https://www.charitynavigator.org/index.cfm?keyword_list=' + words \n",
      "               + '&nameonly=1&Submit2=Search&bay=search.results')\n",
      "        response = requests.get(url)\n",
      "        soup = bs4.BeautifulSoup(response.text)\n",
      "        if len(soup.select('p.rating')) > 0:\n",
      "            charity['cn_link'] = soup.select('p.rating')[0].a.attrs.get('href')\n",
      "            charity['cn_rated'] = 'Rated'\n",
      "        else:\n",
      "            url = ('https://www.charitynavigator.org/index.cfm?keyword_list=' + words \n",
      "                   + '&nameonly=1&Submit2=Search&bay=search.results2')\n",
      "            response = requests.get(url)\n",
      "            soup = bs4.BeautifulSoup(response.text)\n",
      "            if len(soup.select('p.orgname')) > 0:\n",
      "                charity['cn_link'] = soup.select('p.orgname')[0].a.attrs.get('href')\n",
      "                charity['cn_rated'] = 'Unrated'                \n",
      "            else:\n",
      "                print charity['name'] + \": No Charity Navigator link.\"\n",
      "                charity['cn_link'] = ''\n",
      "                charity['cn_rated'] = ''\n",
      "            charity['cn_overall'] = float('nan')\n",
      "            charity['cn_financial'] = float('nan')\n",
      "            charity['cn_acct_transp'] = float('nan')\n",
      "            continue\n",
      "        \n",
      "        # get Charity Navigator data \n",
      "        charsoup = bs4.BeautifulSoup(requests.get(charity['cn_link']).text)\n",
      "        strongtags = charsoup.select('strong')\n",
      "        overall_cells = []\n",
      "        fin_cells = []\n",
      "        acct_cells = []\n",
      "        for tg in strongtags:\n",
      "            if tg.text == \"Overall\":\n",
      "                overall_cells.append(float(tg.parent.nextSibling.nextSibling.text))\n",
      "            elif tg.text == \"Financial\":\n",
      "                fin_cells.append(float(tg.parent.nextSibling.nextSibling.text))\n",
      "            elif tg.text == \"Accountability & Transparency\":\n",
      "                acct_cells.append(float(tg.parent.nextSibling.nextSibling.text))\n",
      "        \n",
      "        \n",
      "        # include overall rating\n",
      "        if len(overall_cells) == 1:\n",
      "            charity['cn_overall'] = overall_cells[0]\n",
      "        elif len(overall_cells) > 1:\n",
      "            print charity['name'] + \": Too many candidate cells for Overall.\"\n",
      "            charity['cn_overall'] = overall_cells[0]\n",
      "        else:\n",
      "            print charity['name'] + \": No Overall cells.\"\n",
      "            charity['cn_overall'] = 0\n",
      "        # include financial rating\n",
      "        if len(fin_cells) == 1:\n",
      "            charity['cn_financial'] = fin_cells[0]\n",
      "        elif len(fin_cells) > 1:\n",
      "            print char['name'] + \": Too many candidate cells for Financial.\"\n",
      "            charity['cn_financial'] = fin_cells[0]\n",
      "        else:\n",
      "            #print \"No Financial cells\"\n",
      "            charity['cn_financial'] = 0\n",
      "        # include accountability rating\n",
      "        if len(acct_cells) == 1:\n",
      "            charity['cn_acct_transp'] = acct_cells[0]\n",
      "        elif len(acct_cells) > 1:\n",
      "            print charity['name'] + \": Too many candidate cells for Accountability & Transparency.\"\n",
      "            charity['cn_acct_transp'] = acct_cells[0]\n",
      "        else:\n",
      "            #print \"No Accountability & Transparency cells\"\n",
      "            charity['cn_acct_transp'] = 0\n",
      "    \n",
      "        # compensation of leaders\n",
      "        compensation = []\n",
      "        for heading in charsoup.select('h2'):\n",
      "            comphead = re.findall('Compensation of Leaders', heading.text)\n",
      "            if len(comphead) > 0:\n",
      "                comptable = heading.nextSibling.nextSibling\n",
      "                \n",
      "                for row in comptable.findAll(\"tr\"):\n",
      "                    for cell in row.findAll(\"td\"):\n",
      "                        if re.findall(\"\\$\", cell.text):\n",
      "                            compensation.append(cell.text.strip())\n",
      "        charity['leader_compensation'] = '+'.join(compensation)\n",
      "        \n",
      "        # basic financial info\n",
      "        expenses = charsoup.find('a', onmouseover=re.compile('Total Functional Expenses')).findNext('td').text\n",
      "        contributions = charsoup.find('strong', text=re.compile('Total Contributions')).findNext('td').text\n",
      "        revenue = charsoup.find('strong', text=re.compile('TOTAL REVENUE')).findNext('td').text\n",
      "\n",
      "        charity['total_expenses'] = int(expenses.strip('$').replace(',', ''))\n",
      "        charity['total_contributions'] = int(contributions.strip('$').replace(',', ''))\n",
      "        charity['total_revenue'] = int(revenue.strip('$').replace(',', ''))\n",
      "        \n",
      "        metrics = charsoup.find(text=re.compile('Financial Performance Metrics'))\n",
      "        program = metrics.findNext('a', onmouseover=re.compile('Program Expenses')).findNext('td').text\n",
      "        administrative = metrics.findNext('a', onmouseover=re.compile('Administrative Expenses')).findNext('td').text\n",
      "        fundraising = metrics.findNext('a', onmouseover=re.compile('Fundraising Expenses')).findNext('td').text\n",
      "        \n",
      "        charity['percent_program'] = float(program.strip('%'))\n",
      "        charity['percent_admin'] = float(administrative.strip('%'))\n",
      "        charity['percent_fund'] = float(fundraising.strip('%'))\n",
      "        \n",
      "    return dictlist\n"
     ],
     "language": "python",
     "metadata": {},
     "outputs": [],
     "prompt_number": 195
    },
    {
     "cell_type": "code",
     "collapsed": false,
     "input": [
      "char_with_nav = get_char_nav_info(charities_with_links[:3])"
     ],
     "language": "python",
     "metadata": {},
     "outputs": [],
     "prompt_number": 196
    },
    {
     "cell_type": "code",
     "collapsed": false,
     "input": [
      "char_with_nav"
     ],
     "language": "python",
     "metadata": {},
     "outputs": [
      {
       "metadata": {},
       "output_type": "pyout",
       "prompt_number": 197,
       "text": [
        "[{'address': u'6520 North Andrews Avenue',\n",
        "  'bbb_accred': u'\\nAccredited: No\\n',\n",
        "  'bbb_link': 'http://www.give.org/charity-reviews/national/health/multiple-sclerosis-foundation-in-fort-lauderdale-fl-572',\n",
        "  'city': u'Fort Lauderdale, FL 33309',\n",
        "  'cn_acct_transp': 0,\n",
        "  'cn_financial': 0,\n",
        "  'cn_link': 'http://www.charitynavigator.org/index.cfm?bay=search.summary&orgid=5584',\n",
        "  'cn_overall': 86.86,\n",
        "  'cn_rated': 'Rated',\n",
        "  'leader_compensation': u'$116,705+$110,246',\n",
        "  'link': 'http://www.msfocus.org',\n",
        "  'name': u'Multiple Sclerosis Foundation',\n",
        "  'percent_admin': 8.2,\n",
        "  'percent_fund': 20.9,\n",
        "  'percent_program': 70.7,\n",
        "  'total_contributions': 8042721,\n",
        "  'total_expenses': 7218683,\n",
        "  'total_revenue': 8132270},\n",
        " {'address': u'733 Third Avenue, 3rd Floor',\n",
        "  'bbb_accred': 'Accredited Charity',\n",
        "  'bbb_link': 'http://www.give.org/charity-reviews/national/health/national-multiple-sclerosis-society-in-new-york-ny-597',\n",
        "  'city': u'New York, NY 10017',\n",
        "  'cn_acct_transp': 0,\n",
        "  'cn_financial': 0,\n",
        "  'cn_link': 'http://www.charitynavigator.org/index.cfm?bay=search.summary&orgid=4189',\n",
        "  'cn_overall': 83.97,\n",
        "  'cn_rated': 'Rated',\n",
        "  'leader_compensation': u'$392,870',\n",
        "  'link': 'http://www.nationalmssociety.org',\n",
        "  'name': u'National Multiple Sclerosis Society',\n",
        "  'percent_admin': 8.6,\n",
        "  'percent_fund': 11.2,\n",
        "  'percent_program': 80.0,\n",
        "  'total_contributions': 99409632,\n",
        "  'total_expenses': 104291401,\n",
        "  'total_revenue': 105745946},\n",
        " {'address': u'706 Haddonfield Road',\n",
        "  'bbb_accred': 'Accredited Charity',\n",
        "  'bbb_link': 'http://www.give.org/charity-reviews/national/health/multiple-sclerosis-association-of-america-in-cherry-hill-nj-560',\n",
        "  'city': u'Cherry Hill, NJ 08002',\n",
        "  'cn_acct_transp': 0,\n",
        "  'cn_financial': 0,\n",
        "  'cn_link': 'http://www.charitynavigator.org/index.cfm?bay=search.summary&orgid=11332',\n",
        "  'cn_overall': 84.88,\n",
        "  'cn_rated': 'Rated',\n",
        "  'leader_compensation': u'$257,408',\n",
        "  'link': 'http://www.mymsaa.org/',\n",
        "  'name': u'Multiple Sclerosis Association of America',\n",
        "  'percent_admin': 5.2,\n",
        "  'percent_fund': 31.4,\n",
        "  'percent_program': 63.3,\n",
        "  'total_contributions': 10904500,\n",
        "  'total_expenses': 11291616,\n",
        "  'total_revenue': 11655512}]"
       ]
      }
     ],
     "prompt_number": 197
    },
    {
     "cell_type": "code",
     "collapsed": false,
     "input": [
      "words = '+'.join(charity['name'].split())\n",
      "url = ('https://www.charitynavigator.org/index.cfm?keyword_list=' + words \n",
      "           + '&nameonly=1&Submit2=Search&bay=search.results')\n",
      "response = requests.get(url)\n",
      "soup = bs4.BeautifulSoup(response.text)\n",
      "if len(soup.select('p.rating')) > 0:\n",
      "    charity['cn_link'] = soup.select('p.rating')[0].a.attrs.get('href')\n",
      "charsoup = bs4.BeautifulSoup(requests.get(charity['cn_link']).text)"
     ],
     "language": "python",
     "metadata": {},
     "outputs": [],
     "prompt_number": 27
    },
    {
     "cell_type": "code",
     "collapsed": false,
     "input": [
      "ratings = charsoup.select('div.rating')\n",
      "len(ratings)"
     ],
     "language": "python",
     "metadata": {},
     "outputs": [
      {
       "metadata": {},
       "output_type": "pyout",
       "prompt_number": 86,
       "text": [
        "3"
       ]
      }
     ],
     "prompt_number": 86
    },
    {
     "cell_type": "code",
     "collapsed": false,
     "input": [
      "tabs = ratings[2].findChildren('table')\n",
      "len(tabs)"
     ],
     "language": "python",
     "metadata": {},
     "outputs": [
      {
       "metadata": {},
       "output_type": "pyout",
       "prompt_number": 107,
       "text": [
        "1"
       ]
      }
     ],
     "prompt_number": 107
    },
    {
     "cell_type": "code",
     "collapsed": false,
     "input": [
      "len(tabs[0].findAll('td'))\n",
      "tag = tabs[0]\n",
      "all_cells = tag.contents\n"
     ],
     "language": "python",
     "metadata": {},
     "outputs": [],
     "prompt_number": 119
    },
    {
     "cell_type": "code",
     "collapsed": false,
     "input": [
      "all_cells[0]"
     ],
     "language": "python",
     "metadata": {},
     "outputs": [
      {
       "metadata": {},
       "output_type": "pyout",
       "prompt_number": 121,
       "text": [
        "u'\\n'"
       ]
      }
     ],
     "prompt_number": 121
    },
    {
     "cell_type": "code",
     "collapsed": false,
     "input": [
      "len(list(tag.children))"
     ],
     "language": "python",
     "metadata": {},
     "outputs": [
      {
       "metadata": {},
       "output_type": "pyout",
       "prompt_number": 122,
       "text": [
        "49"
       ]
      }
     ],
     "prompt_number": 122
    },
    {
     "cell_type": "code",
     "collapsed": false,
     "input": [
      "len(list(tag.descendants))"
     ],
     "language": "python",
     "metadata": {},
     "outputs": [
      {
       "metadata": {},
       "output_type": "pyout",
       "prompt_number": 123,
       "text": [
        "243"
       ]
      }
     ],
     "prompt_number": 123
    },
    {
     "cell_type": "code",
     "collapsed": false,
     "input": [
      "tag.has_attr('id')"
     ],
     "language": "python",
     "metadata": {},
     "outputs": [
      {
       "metadata": {},
       "output_type": "pyout",
       "prompt_number": 125,
       "text": [
        "False"
       ]
      }
     ],
     "prompt_number": 125
    },
    {
     "cell_type": "code",
     "collapsed": false,
     "input": [
      "print charsoup.findAll('strong', text='Overall')"
     ],
     "language": "python",
     "metadata": {},
     "outputs": [
      {
       "output_type": "stream",
       "stream": "stdout",
       "text": [
        "[<strong>Overall</strong>]\n"
       ]
      }
     ],
     "prompt_number": 128
    },
    {
     "cell_type": "code",
     "collapsed": false,
     "input": [
      "charsoup = bbb_soups[0]"
     ],
     "language": "python",
     "metadata": {},
     "outputs": [],
     "prompt_number": 198
    },
    {
     "cell_type": "code",
     "collapsed": false,
     "input": [
      "orig_link = charities_with_links[0]['bbb_link']\n",
      "response = requests.get(orig_link + '#purpose')\n",
      "purpsoup = bs4.BeautifulSoup(response.text)\n",
      "stag = purpsoup.find(text=re.compile('Year, State Incorporated'))\n",
      "year = re.findall('[1-2][0-9][0-9][0-9]', stag.findNext('p').text)[0]\n"
     ],
     "language": "python",
     "metadata": {},
     "outputs": [],
     "prompt_number": 207
    },
    {
     "cell_type": "code",
     "collapsed": false,
     "input": [],
     "language": "python",
     "metadata": {},
     "outputs": [],
     "prompt_number": 217
    },
    {
     "cell_type": "code",
     "collapsed": false,
     "input": [
      "len(match)"
     ],
     "language": "python",
     "metadata": {},
     "outputs": [
      {
       "metadata": {},
       "output_type": "pyout",
       "prompt_number": 219,
       "text": [
        "1"
       ]
      }
     ],
     "prompt_number": 219
    },
    {
     "cell_type": "code",
     "collapsed": false,
     "input": [
      "print '3,4'.strip(',')"
     ],
     "language": "python",
     "metadata": {},
     "outputs": [
      {
       "output_type": "stream",
       "stream": "stdout",
       "text": [
        "3,4\n"
       ]
      }
     ],
     "prompt_number": 183
    },
    {
     "cell_type": "code",
     "collapsed": false,
     "input": [
      "metrics = charsoup.find(text=re.compile('Financial Performance Metrics'))\n",
      "program = metrics.findNext('a', onmouseover=re.compile('Program Expenses')).findNext('td').text\n",
      "administrative = metrics.findNext('a', onmouseover=re.compile('Administrative Expenses')).findNext('td').text\n",
      "fundraising = metrics.findNext('a', onmouseover=re.compile('Fundraising Expenses')).findNext('td').text\n"
     ],
     "language": "python",
     "metadata": {},
     "outputs": [],
     "prompt_number": 192
    },
    {
     "cell_type": "code",
     "collapsed": false,
     "input": [
      "print administrative"
     ],
     "language": "python",
     "metadata": {},
     "outputs": [
      {
       "output_type": "stream",
       "stream": "stdout",
       "text": [
        "  8.2%\n"
       ]
      }
     ],
     "prompt_number": 194
    },
    {
     "cell_type": "code",
     "collapsed": false,
     "input": [
      "type(str(char_with_nav[0]['name']))"
     ],
     "language": "python",
     "metadata": {},
     "outputs": [
      {
       "metadata": {},
       "output_type": "pyout",
       "prompt_number": 221,
       "text": [
        "str"
       ]
      }
     ],
     "prompt_number": 221
    },
    {
     "cell_type": "code",
     "collapsed": false,
     "input": [
      "response = requests.get('http://www.give.org/search/?term=cancer+dream&tobid=')\n",
      "soup = bs4.BeautifulSoup(response.text.decode('utf-8', 'ignore'))\n",
      "bbb_table = soup.select('div.search table')[0].tbody \n",
      "for row in bbb_table.findAll('tr'):\n",
      "    char = row.select('a.charity-link')[0]"
     ],
     "language": "python",
     "metadata": {},
     "outputs": [
      {
       "ename": "UnicodeEncodeError",
       "evalue": "'ascii' codec can't encode character u'\\u2019' in position 13954: ordinal not in range(128)",
       "output_type": "pyerr",
       "traceback": [
        "\u001b[0;31m---------------------------------------------------------------------------\u001b[0m\n\u001b[0;31mUnicodeEncodeError\u001b[0m                        Traceback (most recent call last)",
        "\u001b[0;32m<ipython-input-240-bd253e982996>\u001b[0m in \u001b[0;36m<module>\u001b[0;34m()\u001b[0m\n\u001b[1;32m      1\u001b[0m \u001b[0mresponse\u001b[0m \u001b[0;34m=\u001b[0m \u001b[0mrequests\u001b[0m\u001b[0;34m.\u001b[0m\u001b[0mget\u001b[0m\u001b[0;34m(\u001b[0m\u001b[0;34m'http://www.give.org/search/?term=cancer+dream&tobid='\u001b[0m\u001b[0;34m)\u001b[0m\u001b[0;34m\u001b[0m\u001b[0m\n\u001b[0;32m----> 2\u001b[0;31m \u001b[0msoup\u001b[0m \u001b[0;34m=\u001b[0m \u001b[0mbs4\u001b[0m\u001b[0;34m.\u001b[0m\u001b[0mBeautifulSoup\u001b[0m\u001b[0;34m(\u001b[0m\u001b[0mresponse\u001b[0m\u001b[0;34m.\u001b[0m\u001b[0mtext\u001b[0m\u001b[0;34m.\u001b[0m\u001b[0mdecode\u001b[0m\u001b[0;34m(\u001b[0m\u001b[0;34m'utf-8'\u001b[0m\u001b[0;34m,\u001b[0m \u001b[0;34m'ignore'\u001b[0m\u001b[0;34m)\u001b[0m\u001b[0;34m)\u001b[0m\u001b[0;34m\u001b[0m\u001b[0m\n\u001b[0m\u001b[1;32m      3\u001b[0m \u001b[0mbbb_table\u001b[0m \u001b[0;34m=\u001b[0m \u001b[0msoup\u001b[0m\u001b[0;34m.\u001b[0m\u001b[0mselect\u001b[0m\u001b[0;34m(\u001b[0m\u001b[0;34m'div.search table'\u001b[0m\u001b[0;34m)\u001b[0m\u001b[0;34m[\u001b[0m\u001b[0;36m0\u001b[0m\u001b[0;34m]\u001b[0m\u001b[0;34m.\u001b[0m\u001b[0mtbody\u001b[0m\u001b[0;34m\u001b[0m\u001b[0m\n\u001b[1;32m      4\u001b[0m \u001b[0;32mfor\u001b[0m \u001b[0mrow\u001b[0m \u001b[0;32min\u001b[0m \u001b[0mbbb_table\u001b[0m\u001b[0;34m.\u001b[0m\u001b[0mfindAll\u001b[0m\u001b[0;34m(\u001b[0m\u001b[0;34m'tr'\u001b[0m\u001b[0;34m)\u001b[0m\u001b[0;34m:\u001b[0m\u001b[0;34m\u001b[0m\u001b[0m\n\u001b[1;32m      5\u001b[0m     \u001b[0mchar\u001b[0m \u001b[0;34m=\u001b[0m \u001b[0mrow\u001b[0m\u001b[0;34m.\u001b[0m\u001b[0mselect\u001b[0m\u001b[0;34m(\u001b[0m\u001b[0;34m'a.charity-link'\u001b[0m\u001b[0;34m)\u001b[0m\u001b[0;34m[\u001b[0m\u001b[0;36m0\u001b[0m\u001b[0;34m]\u001b[0m\u001b[0;34m\u001b[0m\u001b[0m\n",
        "\u001b[0;32m/usr/lib/python2.7/encodings/utf_8.pyc\u001b[0m in \u001b[0;36mdecode\u001b[0;34m(input, errors)\u001b[0m\n\u001b[1;32m     14\u001b[0m \u001b[0;34m\u001b[0m\u001b[0m\n\u001b[1;32m     15\u001b[0m \u001b[0;32mdef\u001b[0m \u001b[0mdecode\u001b[0m\u001b[0;34m(\u001b[0m\u001b[0minput\u001b[0m\u001b[0;34m,\u001b[0m \u001b[0merrors\u001b[0m\u001b[0;34m=\u001b[0m\u001b[0;34m'strict'\u001b[0m\u001b[0;34m)\u001b[0m\u001b[0;34m:\u001b[0m\u001b[0;34m\u001b[0m\u001b[0m\n\u001b[0;32m---> 16\u001b[0;31m     \u001b[0;32mreturn\u001b[0m \u001b[0mcodecs\u001b[0m\u001b[0;34m.\u001b[0m\u001b[0mutf_8_decode\u001b[0m\u001b[0;34m(\u001b[0m\u001b[0minput\u001b[0m\u001b[0;34m,\u001b[0m \u001b[0merrors\u001b[0m\u001b[0;34m,\u001b[0m \u001b[0mTrue\u001b[0m\u001b[0;34m)\u001b[0m\u001b[0;34m\u001b[0m\u001b[0m\n\u001b[0m\u001b[1;32m     17\u001b[0m \u001b[0;34m\u001b[0m\u001b[0m\n\u001b[1;32m     18\u001b[0m \u001b[0;32mclass\u001b[0m \u001b[0mIncrementalEncoder\u001b[0m\u001b[0;34m(\u001b[0m\u001b[0mcodecs\u001b[0m\u001b[0;34m.\u001b[0m\u001b[0mIncrementalEncoder\u001b[0m\u001b[0;34m)\u001b[0m\u001b[0;34m:\u001b[0m\u001b[0;34m\u001b[0m\u001b[0m\n",
        "\u001b[0;31mUnicodeEncodeError\u001b[0m: 'ascii' codec can't encode character u'\\u2019' in position 13954: ordinal not in range(128)"
       ]
      }
     ],
     "prompt_number": 240
    },
    {
     "cell_type": "code",
     "collapsed": false,
     "input": [
      "name = char.getText(separator='')\n",
      "char.getText()"
     ],
     "language": "python",
     "metadata": {},
     "outputs": [
      {
       "metadata": {},
       "output_type": "pyout",
       "prompt_number": 235,
       "text": [
        "u'Children\\u2019s Cancer Dream Network'"
       ]
      }
     ],
     "prompt_number": 235
    },
    {
     "cell_type": "code",
     "collapsed": false,
     "input": [
      "help(name.getText)"
     ],
     "language": "python",
     "metadata": {},
     "outputs": [
      {
       "output_type": "stream",
       "stream": "stdout",
       "text": [
        "Help on method get_text in module bs4.element:\n",
        "\n",
        "get_text(self, separator=u'', strip=False, types=(<class 'bs4.element.NavigableString'>, <class 'bs4.element.CData'>)) method of bs4.element.Tag instance\n",
        "    Get all child strings, concatenated using the given separator.\n",
        "\n"
       ]
      }
     ],
     "prompt_number": 228
    },
    {
     "cell_type": "code",
     "collapsed": false,
     "input": [
      "type(name)"
     ],
     "language": "python",
     "metadata": {},
     "outputs": [
      {
       "metadata": {},
       "output_type": "pyout",
       "prompt_number": 232,
       "text": [
        "unicode"
       ]
      }
     ],
     "prompt_number": 232
    },
    {
     "cell_type": "code",
     "collapsed": false,
     "input": [
      "print char.prettify()"
     ],
     "language": "python",
     "metadata": {},
     "outputs": [
      {
       "output_type": "stream",
       "stream": "stdout",
       "text": [
        "<a class=\"charity-link\" data-score=\"2.448795\" href=\"http://www.bbb.org/charity-reviews/indianapolis/childrens-cancer-dream-network-in-greenwood-in-20476\">\n",
        " Children\u2019s Cancer Dream Network\n",
        "</a>\n",
        "\n"
       ]
      }
     ],
     "prompt_number": 238
    },
    {
     "cell_type": "code",
     "collapsed": false,
     "input": [],
     "language": "python",
     "metadata": {},
     "outputs": []
    }
   ],
   "metadata": {}
  }
 ]
}