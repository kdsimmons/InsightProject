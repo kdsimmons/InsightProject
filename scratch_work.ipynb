{
 "metadata": {
  "name": ""
 },
 "nbformat": 3,
 "nbformat_minor": 0,
 "worksheets": [
  {
   "cells": [
    {
     "cell_type": "code",
     "collapsed": false,
     "input": [
      "import numpy as np\n",
      "import pymysql as mdb\n",
      "import pandas as pd\n",
      "import MySQLdb\n",
      "import master_disease_list\n",
      "\n",
      "%matplotlib inline"
     ],
     "language": "python",
     "metadata": {},
     "outputs": [],
     "prompt_number": 1
    },
    {
     "cell_type": "code",
     "collapsed": false,
     "input": [
      "mysqlauth = pd.DataFrame.from_csv('/home/kristy/Documents/auth_codes/mysql_user.csv')\n",
      "sqluser = mysqlauth.username[0]\n",
      "sqlpass = mysqlauth.password[0]\n",
      "\n",
      "con = mdb.connect(user=sqluser, host=\"localhost\", db=\"charity_data\", password=sqlpass, charset='utf8')\n",
      "\n",
      "# Import data from SQL\n",
      "with con:\n",
      "    pandadf = pd.read_sql(\"SELECT * FROM cancer\", con)\n",
      "    \n",
      "# Fix NaNs that were originally encoded as -1.\n",
      "for idx in range(len(pandadf)):\n",
      "    for col in pandadf.columns:\n",
      "        if pandadf[col][idx] == -1:\n",
      "            pandadf[idx:(idx+1)][col] = np.nan\n"
     ],
     "language": "python",
     "metadata": {},
     "outputs": [],
     "prompt_number": 34
    },
    {
     "cell_type": "code",
     "collapsed": false,
     "input": [
      "mylist = [{'a':1, 'b':2},{'a':10,'b':20}]"
     ],
     "language": "python",
     "metadata": {},
     "outputs": [],
     "prompt_number": 11
    },
    {
     "cell_type": "code",
     "collapsed": false,
     "input": [
      "mylist[0]['a'] = 'hi'"
     ],
     "language": "python",
     "metadata": {},
     "outputs": [],
     "prompt_number": 2
    },
    {
     "cell_type": "code",
     "collapsed": false,
     "input": [
      "for item in mylist:\n",
      "    for key in ['a','b']:\n",
      "        if np.isnan(item[key]):\n",
      "            item[key] = 'Yes'\n",
      "        else:\n",
      "            item[key] = 'No'"
     ],
     "language": "python",
     "metadata": {},
     "outputs": [],
     "prompt_number": 30
    },
    {
     "cell_type": "code",
     "collapsed": false,
     "input": [],
     "language": "python",
     "metadata": {},
     "outputs": [
      {
       "metadata": {},
       "output_type": "pyout",
       "prompt_number": 31,
       "text": [
        "[{'a': 'No', 'b': 'No'}, {'a': 'No', 'b': 'Yes'}]"
       ]
      }
     ],
     "prompt_number": 31
    },
    {
     "cell_type": "code",
     "collapsed": false,
     "input": [
      "mylist = [{'a':1, 'b':2},{'a':10,'b':np.NaN}]"
     ],
     "language": "python",
     "metadata": {},
     "outputs": [],
     "prompt_number": 29
    },
    {
     "cell_type": "code",
     "collapsed": false,
     "input": [
      "s = '{:.0f}'.format(5200)\n",
      "s"
     ],
     "language": "python",
     "metadata": {},
     "outputs": [
      {
       "metadata": {},
       "output_type": "pyout",
       "prompt_number": 69,
       "text": [
        "'5200'"
       ]
      }
     ],
     "prompt_number": 69
    },
    {
     "cell_type": "code",
     "collapsed": false,
     "input": [
      "s = 'hello'\n",
      "print(s)"
     ],
     "language": "python",
     "metadata": {},
     "outputs": [
      {
       "output_type": "stream",
       "stream": "stdout",
       "text": [
        "hello\n"
       ]
      }
     ],
     "prompt_number": 1
    },
    {
     "cell_type": "code",
     "collapsed": false,
     "input": [
      "s[0] = 'm'\n",
      "print(s)"
     ],
     "language": "python",
     "metadata": {},
     "outputs": [
      {
       "ename": "TypeError",
       "evalue": "'str' object does not support item assignment",
       "output_type": "pyerr",
       "traceback": [
        "\u001b[0;31m---------------------------------------------------------------------------\u001b[0m\n\u001b[0;31mTypeError\u001b[0m                                 Traceback (most recent call last)",
        "\u001b[0;32m<ipython-input-4-e54cbf4519c7>\u001b[0m in \u001b[0;36m<module>\u001b[0;34m()\u001b[0m\n\u001b[0;32m----> 1\u001b[0;31m \u001b[0ms\u001b[0m\u001b[0;34m[\u001b[0m\u001b[0;36m0\u001b[0m\u001b[0;34m]\u001b[0m \u001b[0;34m=\u001b[0m \u001b[0;34m'm'\u001b[0m\u001b[0;34m\u001b[0m\u001b[0m\n\u001b[0m\u001b[1;32m      2\u001b[0m \u001b[0;32mprint\u001b[0m\u001b[0;34m(\u001b[0m\u001b[0ms\u001b[0m\u001b[0;34m)\u001b[0m\u001b[0;34m\u001b[0m\u001b[0m\n",
        "\u001b[0;31mTypeError\u001b[0m: 'str' object does not support item assignment"
       ]
      }
     ],
     "prompt_number": 4
    },
    {
     "cell_type": "code",
     "collapsed": false,
     "input": [
      "x = 11\n",
      "y = x\n",
      "x = 8\n",
      "print(y)"
     ],
     "language": "python",
     "metadata": {},
     "outputs": [
      {
       "output_type": "stream",
       "stream": "stdout",
       "text": [
        "11\n"
       ]
      }
     ],
     "prompt_number": 5
    },
    {
     "cell_type": "code",
     "collapsed": false,
     "input": [
      "x = [1,2]\n",
      "y = x\n",
      "x[0] = 3\n",
      "print(y)"
     ],
     "language": "python",
     "metadata": {},
     "outputs": [
      {
       "output_type": "stream",
       "stream": "stdout",
       "text": [
        "[3, 2]\n"
       ]
      }
     ],
     "prompt_number": 8
    },
    {
     "cell_type": "code",
     "collapsed": false,
     "input": [
      "z = x[0]\n",
      "print type(z)\n",
      "x[0] = 10\n",
      "print(z)\n",
      "# why doesn't this change z? rebinding (because assignment)?"
     ],
     "language": "python",
     "metadata": {},
     "outputs": [
      {
       "output_type": "stream",
       "stream": "stdout",
       "text": [
        "<type 'int'>\n",
        "10\n"
       ]
      }
     ],
     "prompt_number": 12
    },
    {
     "cell_type": "code",
     "collapsed": false,
     "input": [
      "s = 'hello'\n",
      "z = s[0]\n",
      "print(z)\n",
      "s = 'world'\n",
      "print(z)"
     ],
     "language": "python",
     "metadata": {},
     "outputs": [
      {
       "output_type": "stream",
       "stream": "stdout",
       "text": [
        "h\n",
        "h\n"
       ]
      }
     ],
     "prompt_number": 17
    },
    {
     "cell_type": "code",
     "collapsed": false,
     "input": [
      "x = [1, 3]\n",
      "y = [2, 4]\n",
      "y[0] = x[0]\n",
      "x[0] = 5 # x[0] gets rebound to 5 rather than 1\n",
      "print(y)"
     ],
     "language": "python",
     "metadata": {},
     "outputs": [
      {
       "output_type": "stream",
       "stream": "stdout",
       "text": [
        "[1, 4]\n"
       ]
      }
     ],
     "prompt_number": 20
    },
    {
     "cell_type": "code",
     "collapsed": false,
     "input": [
      "z = [0, 1]\n",
      "y = [2]\n",
      "print(z)\n",
      "z += y\n",
      "print(z)\n",
      "x = [0, 1]\n",
      "print(x)\n",
      "x = x + y\n",
      "print(x)\n",
      "w = [0, 1]\n",
      "print(w)\n",
      "w.append(y)\n",
      "print(w)\n",
      "\n",
      "y[0] = 3\n",
      "print(z)\n",
      "print(x)\n",
      "print(w)"
     ],
     "language": "python",
     "metadata": {},
     "outputs": [
      {
       "output_type": "stream",
       "stream": "stdout",
       "text": [
        "[0, 1]\n",
        "[0, 1, 2]\n",
        "[0, 1]\n",
        "[0, 1, 2]\n",
        "[0, 1]\n",
        "[0, 1, [2]]\n",
        "[0, 1, 2]\n",
        "[0, 1, 2]\n",
        "[0, 1, [3]]\n"
       ]
      }
     ],
     "prompt_number": 32
    },
    {
     "cell_type": "code",
     "collapsed": false,
     "input": [
      "y = [2]\n",
      "w = [0, 1]\n",
      "print(w)\n",
      "w.append(y)\n",
      "print(w),\n",
      "y = [3]\n",
      "print(w)\n",
      "\n",
      "y = [2]\n",
      "w = [0, 1]\n",
      "w.append(y)\n",
      "print(w),\n",
      "y[0] = 3\n",
      "print(w)\n",
      "\n",
      "y = [2]\n",
      "w = [0, 1]\n",
      "w.append(y[0])\n",
      "print(w),\n",
      "y = [3]\n",
      "print(w)\n",
      "\n",
      "y = [2]\n",
      "w = [0, 1]\n",
      "w.append(y[0])\n",
      "print(w),\n",
      "y[0] = 3\n",
      "print(w)\n",
      "\n",
      "# when y[0] changes, this is rebinding of y[0] and mutating of y\n",
      "# anything that referenced y[0] still points to the same value and isn't changed\n",
      "# anything that referenced y still points to the same value of y, which points to a new value of y[0], and changes \n"
     ],
     "language": "python",
     "metadata": {},
     "outputs": [
      {
       "output_type": "stream",
       "stream": "stdout",
       "text": [
        "[0, 1]\n",
        "[0, 1, [2]] [0, 1, [2]]\n",
        "[0, 1, [2]] [0, 1, [3]]\n",
        "[0, 1, 2] [0, 1, 2]\n",
        "[0, 1, 2] [0, 1, 2]\n"
       ]
      }
     ],
     "prompt_number": 37
    },
    {
     "cell_type": "code",
     "collapsed": false,
     "input": [
      "board = [[0] * 8] * 8 # bad\n",
      "board[0][0] = 1 # looks like it would just change one element\n",
      "print(board)\n",
      "\n",
      "board = [[0] * 8 for _ in range(8)]\n",
      "board[0][0] = 1 # actually changes one element\n",
      "print(board)"
     ],
     "language": "python",
     "metadata": {},
     "outputs": [
      {
       "output_type": "stream",
       "stream": "stdout",
       "text": [
        "[[1, 0, 0, 0, 0, 0, 0, 0], [1, 0, 0, 0, 0, 0, 0, 0], [1, 0, 0, 0, 0, 0, 0, 0], [1, 0, 0, 0, 0, 0, 0, 0], [1, 0, 0, 0, 0, 0, 0, 0], [1, 0, 0, 0, 0, 0, 0, 0], [1, 0, 0, 0, 0, 0, 0, 0], [1, 0, 0, 0, 0, 0, 0, 0]]\n",
        "[[1, 0, 0, 0, 0, 0, 0, 0], [0, 0, 0, 0, 0, 0, 0, 0], [0, 0, 0, 0, 0, 0, 0, 0], [0, 0, 0, 0, 0, 0, 0, 0], [0, 0, 0, 0, 0, 0, 0, 0], [0, 0, 0, 0, 0, 0, 0, 0], [0, 0, 0, 0, 0, 0, 0, 0], [0, 0, 0, 0, 0, 0, 0, 0]]\n"
       ]
      }
     ],
     "prompt_number": 40
    }
   ],
   "metadata": {}
  }
 ]
}