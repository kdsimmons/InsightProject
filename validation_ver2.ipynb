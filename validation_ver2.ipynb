{
 "metadata": {
  "name": ""
 },
 "nbformat": 3,
 "nbformat_minor": 0,
 "worksheets": [
  {
   "cells": [
    {
     "cell_type": "heading",
     "level": 1,
     "metadata": {},
     "source": [
      "Validation part 2: Test whether feeding in a specific charity returns that charity as the top rank."
     ]
    },
    {
     "cell_type": "heading",
     "level": 1,
     "metadata": {},
     "source": [
      "Set up"
     ]
    },
    {
     "cell_type": "code",
     "collapsed": false,
     "input": [
      "from scipy.spatial.distance import cdist\n",
      "import program_rankings as rank\n",
      "import pymysql as mdb\n",
      "import pandas as pd\n",
      "import matplotlib.pyplot as plt\n",
      "import numpy as np\n",
      "import re\n",
      "import MySQLdb\n",
      "import master_disease_list\n",
      "\n",
      "%matplotlib inline"
     ],
     "language": "python",
     "metadata": {},
     "outputs": [],
     "prompt_number": 1
    },
    {
     "cell_type": "code",
     "collapsed": false,
     "input": [
      "# Get list of diseases\n",
      "disease_list = master_disease_list.return_diseases()\n",
      "\n",
      "# Choose features\n",
      "feature_names = ['bbb_accred', 'cn_rated', 'tax_exempt', 'cn_overall', 'cn_acct_transp', 'cn_financial', 'percent_admin', \n",
      "                 'percent_fund', 'percent_program', 'staff_size', 'board_size',\n",
      "                 'age', 'total_contributions', 'total_expenses', 'total_revenue', 'twitter_followers']"
     ],
     "language": "python",
     "metadata": {},
     "outputs": [],
     "prompt_number": 2
    },
    {
     "cell_type": "code",
     "collapsed": false,
     "input": [
      "mysqlauth = pd.DataFrame.from_csv('/home/kristy/Documents/auth_codes/mysql_user.csv')\n",
      "sqluser = mysqlauth.username[0]\n",
      "sqlpass = mysqlauth.password[0]\n",
      "\n",
      "con = mdb.connect(user=sqluser, host=\"localhost\", db=\"charity_data\", password=sqlpass, charset='utf8')"
     ],
     "language": "python",
     "metadata": {},
     "outputs": [],
     "prompt_number": 3
    },
    {
     "cell_type": "heading",
     "level": 1,
     "metadata": {},
     "source": [
      "Get rankings"
     ]
    },
    {
     "cell_type": "code",
     "collapsed": false,
     "input": [],
     "language": "python",
     "metadata": {},
     "outputs": []
    },
    {
     "cell_type": "code",
     "collapsed": false,
     "input": [
      "# Import data from SQL\n",
      "combined_panda = pd.DataFrame(dtype=float)\n",
      "\n",
      "with con:\n",
      "    for disease in disease_list:\n",
      "        pandadf = pd.read_sql(\"SELECT * FROM \" + str(disease), con)\n",
      "        if len(pandadf) > 0:\n",
      "            combined_panda = pd.concat([combined_panda, pandadf], 0, ignore_index=True)\n",
      "\n",
      "# Fix NaNs that were originally encoded as -1.\n",
      "for idx in range(len(combined_panda)):\n",
      "    if combined_panda['year_incorporated'][idx] == -1.:\n",
      "        combined_panda[idx:(idx+1)]['age'] = np.nan\n",
      "        combined_panda[idx:(idx+1)]['year_incorporated'] = np.nan\n",
      "    for col in combined_panda.columns:\n",
      "        if combined_panda[col][idx] == -1:\n",
      "            combined_panda[idx:(idx+1)][col] = np.nan\n",
      "\n"
     ],
     "language": "python",
     "metadata": {},
     "outputs": [],
     "prompt_number": 4
    },
    {
     "cell_type": "code",
     "collapsed": false,
     "input": [
      "# Make simpler dataframe with only the relevant fields\n",
      "reduceddf = combined_panda[:][feature_names]\n",
      "\n",
      "# Normalize values\n",
      "for col in feature_names:\n",
      "    minval = np.min(reduceddf[col])\n",
      "    reduceddf[col] -= minval\n",
      "    maxval = np.max(reduceddf[col])\n",
      "    reduceddf[col] /= maxval\n"
     ],
     "language": "python",
     "metadata": {},
     "outputs": [],
     "prompt_number": 11
    },
    {
     "cell_type": "code",
     "collapsed": false,
     "input": [
      "# Define Gower similarity metric for a single row.\n",
      "# Input: data_df: Series with data from a single charity.\n",
      "#        ref_df: DataFrame with charity to compare against.\n",
      "def gower_similarity(data_df,ref_df):\n",
      "    # Set up data structures\n",
      "    feature_names = ref_df.columns\n",
      "    nFeatures = len(feature_names)\n",
      "    sim = np.empty([nFeatures,1]) # each feature's similarity index (in [0, 1])\n",
      "    wgt = np.empty([nFeatures,1]) # weight to put on each feature (0 or 1)\n",
      "\n",
      "    # Find similarity for each feature\n",
      "    # 'any' is only used for correct syntax -- each comparison is on a single number\n",
      "    # 'np.sum' is used to convert series with a single number into scalar\n",
      "    for idx in range(len(feature_names)):\n",
      "        col = feature_names[idx]\n",
      "        if ref_df[col].dtype == 'bool':\n",
      "            sim[idx] = any(ref_df[col] == 1) and data_df[col] == 1\n",
      "            wgt[idx] = any(ref_df[col] == 1) or data_df[col] == 1\n",
      "        elif ref_df[col].dtype in ['float', 'int']:\n",
      "            sim[idx] = 1 - np.absolute(np.sum(ref_df[col]) - np.sum(data_df[col]))\n",
      "            wgt[idx] = any(np.isfinite(ref_df[col])) and np.isfinite(data_df[col])\n",
      "        else:\n",
      "            print \"error\"\n",
      "            \n",
      "    # Find and return overall similarity\n",
      "    return np.nansum(sim) / np.nansum(wgt)"
     ],
     "language": "python",
     "metadata": {},
     "outputs": [],
     "prompt_number": 50
    },
    {
     "cell_type": "code",
     "collapsed": false,
     "input": [
      "# Function to test whether a single row shows up in the list of most similar programs.\n",
      "def in_top_10(data_df,ref_df):\n",
      "    #print ref_df\n",
      "    dists = pd.Series(index=data_df.index, name='gower')\n",
      "    dists = data_df.apply(lambda x: gower_similarity(x, ref_df), axis=1)\n",
      "\n",
      "    # Merge distances with other data\n",
      "    data_df['gower'] = dists   \n",
      "\n",
      "    # Find best charities based on distance metric.\n",
      "    data_df.sort(columns='gower', ascending=False, inplace=True)\n",
      "\n",
      "    max_output = 10\n",
      "    return ref_df.index in list(data_df[:max_output].index)"
     ],
     "language": "python",
     "metadata": {},
     "outputs": [],
     "prompt_number": 89
    },
    {
     "cell_type": "code",
     "collapsed": false,
     "input": [
      "# Set up empty series to hold results of test.\n",
      "closetoself = pd.Series(index=reduceddf.index, name='close')"
     ],
     "language": "python",
     "metadata": {},
     "outputs": [],
     "prompt_number": 96
    },
    {
     "cell_type": "code",
     "collapsed": false,
     "input": [
      "# Iterate over rows, determing whether each row is within the 10 most similar organizations.\n",
      "# This could probably be faster using apply somehow.\n",
      "for idx in range(200,300):\n",
      "    ideal_org = reduceddf[idx:(idx+1)]\n",
      "    closetoself[idx] = in_top_10(reduceddf, ideal_org)"
     ],
     "language": "python",
     "metadata": {},
     "outputs": [],
     "prompt_number": 127
    },
    {
     "cell_type": "code",
     "collapsed": false,
     "input": [
      "closetoself.describe()"
     ],
     "language": "python",
     "metadata": {},
     "outputs": [
      {
       "metadata": {},
       "output_type": "pyout",
       "prompt_number": 128,
       "text": [
        "count    300.000000\n",
        "mean       0.430000\n",
        "std        0.495903\n",
        "min        0.000000\n",
        "25%        0.000000\n",
        "50%        0.000000\n",
        "75%        1.000000\n",
        "max        1.000000\n",
        "Name: close, dtype: float64"
       ]
      }
     ],
     "prompt_number": 128
    },
    {
     "cell_type": "code",
     "collapsed": false,
     "input": [
      "# Save data to look at later\n",
      "combined_panda.to_csv('/home/kristy/Dropbox/KristyInsight/validation2_data.csv')\n",
      "closetoself.to_csv('/home/kristy/Dropbox/KristyInsight/validation2_results.csv')"
     ],
     "language": "python",
     "metadata": {},
     "outputs": [],
     "prompt_number": 129
    },
    {
     "cell_type": "code",
     "collapsed": false,
     "input": [],
     "language": "python",
     "metadata": {},
     "outputs": []
    }
   ],
   "metadata": {}
  }
 ]
}