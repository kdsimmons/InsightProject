{
 "metadata": {
  "name": ""
 },
 "nbformat": 3,
 "nbformat_minor": 0,
 "worksheets": [
  {
   "cells": [
    {
     "cell_type": "code",
     "collapsed": false,
     "input": [
      "import requests, bs4, re"
     ],
     "language": "python",
     "metadata": {},
     "outputs": [],
     "prompt_number": 73
    },
    {
     "cell_type": "code",
     "collapsed": false,
     "input": [
      "root_url = 'http://pyvideo.org'\n",
      "index_url = root_url + '/category/50/pycon-us-2014'"
     ],
     "language": "python",
     "metadata": {},
     "outputs": [],
     "prompt_number": 51
    },
    {
     "cell_type": "code",
     "collapsed": false,
     "input": [
      "def get_video_page_urls():\n",
      "    response = requests.get(index_url)\n",
      "    soup = bs4.BeautifulSoup(response.text)\n",
      "    return [a.attrs.get('href') for a in soup.select('div.col-md-6 a[href^=/video]')]"
     ],
     "language": "python",
     "metadata": {},
     "outputs": [],
     "prompt_number": 84
    },
    {
     "cell_type": "code",
     "collapsed": false,
     "input": [
      "def get_video_data(video_page_url):\n",
      "    # get link to video\n",
      "    video_data = {}\n",
      "    response = requests.get(root_url + video_page_url)\n",
      "    soup = bs4.BeautifulSoup(response.text)\n",
      "    # soup.select('#my_id') selects all elements with ID my_id\n",
      "    video_data['title'] = soup.select('div#videobox h3')[0].get_text()\n",
      "    video_data['speakers'] = [a.get_text() for a in soup.select('div#sidebar a[href^=/speaker]')]\n",
      "    video_data['youtube_url'] = soup.select('div#sidebar a[href^=http://www.youtube]')[0].get_text()\n",
      "    \n",
      "    # scrape view count from YouTube\n",
      "    response = requests.get(video_data['youtube_url'])\n",
      "    soup = bs4.BeautifulSoup(response.text)\n",
      "    # soup.select('.my_class') selects all elements with class my_class\n",
      "    video_data['views'] = int(re.sub('[^0-9]','',\n",
      "                                    soup.select('.watch-view-count')[0].get_text().split()[0]))\n",
      "    try:\n",
      "        video_data['likes'] = int(re.sub('[^0-9]','',\n",
      "                                        soup.select('#watch-like-dislike-buttons span.yt-uix-button-content')[0].get_text().split()[0]))\n",
      "        video_data['dislikes'] = int(re.sub('[^0-9]','',\n",
      "                                        soup.select('#watch-like-dislike-buttons span.yt-uix-button-content')[2].get_text().split()[0]))\n",
      "    except:\n",
      "        video_data['likes'] = 0\n",
      "        video_data['dislikes'] = 0\n",
      "    return video_data"
     ],
     "language": "python",
     "metadata": {},
     "outputs": [],
     "prompt_number": 85
    },
    {
     "cell_type": "code",
     "collapsed": false,
     "input": [
      "def show_video_stats(max_video_count):\n",
      "    video_page_urls = get_video_page_urls()\n",
      "    counter = 0\n",
      "    for video_page_url in video_page_urls:\n",
      "        if counter < max_video_count:\n",
      "            print get_video_data(video_page_url)\n",
      "            counter += 1"
     ],
     "language": "python",
     "metadata": {},
     "outputs": [],
     "prompt_number": 90
    },
    {
     "cell_type": "code",
     "collapsed": false,
     "input": [
      "show_video_stats(5)"
     ],
     "language": "python",
     "metadata": {},
     "outputs": [
      {
       "output_type": "stream",
       "stream": "stdout",
       "text": [
        "{'speakers': [u'Niko Skrypnik'], 'views': 4152, 'title': u'2D/3D graphics with Python on mobile platforms', 'dislikes': 0, 'likes': 0, 'youtube_url': u'http://www.youtube.com/watch?v=Y6pLr11yf-4'}\n",
        "{'speakers': [u'Julien Phalip'], 'views': 3227, 'title': u'Advanced techniques for Web functional testing', 'dislikes': 0, 'likes': 0, 'youtube_url': u'http://www.youtube.com/watch?v=St9cL47_1GI'}"
       ]
      },
      {
       "output_type": "stream",
       "stream": "stdout",
       "text": [
        "\n",
        "{'speakers': [u'Julie Lavoie'], 'views': 7216, 'title': u'Analyzing Rap Lyrics with Python', 'dislikes': 0, 'likes': 0, 'youtube_url': u'http://www.youtube.com/watch?v=FQuIqtx1Z24'}"
       ]
      },
      {
       "output_type": "stream",
       "stream": "stdout",
       "text": [
        "\n",
        "{'speakers': [u'Dan Langer'], 'views': 3128, 'title': u'A Scenic Drive through the Django Request-Response Cycle', 'dislikes': 0, 'likes': 0, 'youtube_url': u'http://www.youtube.com/watch?v=q0YqAbI7rw4'}"
       ]
      },
      {
       "output_type": "stream",
       "stream": "stdout",
       "text": [
        "\n",
        "{'speakers': [u'Mike Bayer'], 'views': 6156, 'title': u'Building the App', 'dislikes': 0, 'likes': 0, 'youtube_url': u'http://www.youtube.com/watch?v=5SSC6nU314c'}"
       ]
      },
      {
       "output_type": "stream",
       "stream": "stdout",
       "text": [
        "\n"
       ]
      }
     ],
     "prompt_number": 91
    },
    {
     "cell_type": "code",
     "collapsed": false,
     "input": [],
     "language": "python",
     "metadata": {},
     "outputs": []
    }
   ],
   "metadata": {}
  }
 ]
}