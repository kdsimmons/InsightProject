{
 "cells": [
  {
   "cell_type": "code",
   "execution_count": 1,
   "metadata": {
    "collapsed": false
   },
   "outputs": [],
   "source": [
    "import json\n",
    "from urllib import urlopen\n",
    "import pandas as pd, numpy as np"
   ]
  },
  {
   "cell_type": "code",
   "execution_count": 2,
   "metadata": {
    "collapsed": false
   },
   "outputs": [],
   "source": [
    "json_file = urlopen('https://data.cityofboston.gov/api/views/udwx-qxp4/rows.json?accessType=DOWNLOAD')"
   ]
  },
  {
   "cell_type": "code",
   "execution_count": 3,
   "metadata": {
    "collapsed": false
   },
   "outputs": [],
   "source": [
    "json_data = json.load(json_file)"
   ]
  },
  {
   "cell_type": "code",
   "execution_count": 4,
   "metadata": {
    "collapsed": false
   },
   "outputs": [
    {
     "data": {
      "text/plain": [
       "dict"
      ]
     },
     "execution_count": 4,
     "metadata": {},
     "output_type": "execute_result"
    }
   ],
   "source": [
    "type(json_data)"
   ]
  },
  {
   "cell_type": "code",
   "execution_count": 5,
   "metadata": {
    "collapsed": false
   },
   "outputs": [
    {
     "data": {
      "text/plain": [
       "dict_keys([u'meta', u'data'])"
      ]
     },
     "execution_count": 5,
     "metadata": {},
     "output_type": "execute_result"
    }
   ],
   "source": [
    "json_data.viewkeys()"
   ]
  },
  {
   "cell_type": "code",
   "execution_count": 6,
   "metadata": {
    "collapsed": false
   },
   "outputs": [],
   "source": [
    "meta = json_data['meta']"
   ]
  },
  {
   "cell_type": "code",
   "execution_count": 7,
   "metadata": {
    "collapsed": false
   },
   "outputs": [
    {
     "data": {
      "text/plain": [
       "dict"
      ]
     },
     "execution_count": 7,
     "metadata": {},
     "output_type": "execute_result"
    }
   ],
   "source": [
    "type(meta)"
   ]
  },
  {
   "cell_type": "code",
   "execution_count": 8,
   "metadata": {
    "collapsed": false
   },
   "outputs": [
    {
     "data": {
      "text/plain": [
       "dict_keys([u'view'])"
      ]
     },
     "execution_count": 8,
     "metadata": {},
     "output_type": "execute_result"
    }
   ],
   "source": [
    "meta.viewkeys()"
   ]
  },
  {
   "cell_type": "code",
   "execution_count": 9,
   "metadata": {
    "collapsed": false
   },
   "outputs": [],
   "source": [
    "view = meta['view']"
   ]
  },
  {
   "cell_type": "code",
   "execution_count": 10,
   "metadata": {
    "collapsed": false
   },
   "outputs": [],
   "source": [
    "data = json_data['data']"
   ]
  },
  {
   "cell_type": "code",
   "execution_count": 11,
   "metadata": {
    "collapsed": false
   },
   "outputs": [
    {
     "data": {
      "text/plain": [
       "list"
      ]
     },
     "execution_count": 11,
     "metadata": {},
     "output_type": "execute_result"
    }
   ],
   "source": [
    "type(data)"
   ]
  },
  {
   "cell_type": "code",
   "execution_count": 12,
   "metadata": {
    "collapsed": false
   },
   "outputs": [
    {
     "data": {
      "text/plain": [
       "[1,\n",
       " u'356882CD-C97D-45AB-BAFB-E170CAE814A8',\n",
       " 1,\n",
       " 1367422003,\n",
       " u'699782',\n",
       " 1367425504,\n",
       " u'699782',\n",
       " u'{\\n}',\n",
       " u'Allston Harvard',\n",
       " u'200 North Harvard St.',\n",
       " u'Allston',\n",
       " u'June 14 - Oct 25',\n",
       " u'Fridays',\n",
       " u'3-7pm',\n",
       " u'Yes',\n",
       " u'Yes',\n",
       " u'Yes',\n",
       " u'Yes',\n",
       " [u'{\"address\":\"200 North Harvard St.\",\"city\":\"Allston\",\"state\":\"MA\",\"zip\":\"2134\"}',\n",
       "  u'42.36294649117586',\n",
       "  u'-71.12989702892453',\n",
       "  None,\n",
       "  False]]"
      ]
     },
     "execution_count": 12,
     "metadata": {},
     "output_type": "execute_result"
    }
   ],
   "source": [
    "data[0]"
   ]
  },
  {
   "cell_type": "code",
   "execution_count": 13,
   "metadata": {
    "collapsed": false
   },
   "outputs": [
    {
     "data": {
      "text/plain": [
       "dict"
      ]
     },
     "execution_count": 13,
     "metadata": {},
     "output_type": "execute_result"
    }
   ],
   "source": [
    "type(view)"
   ]
  },
  {
   "cell_type": "code",
   "execution_count": 14,
   "metadata": {
    "collapsed": false
   },
   "outputs": [
    {
     "data": {
      "text/plain": [
       "dict_keys([u'newBackend', u'licenseId', u'publicationDate', u'viewLastModified', u'owner', u'query', u'id', u'createdAt', u'category', u'publicationAppendEnabled', u'publicationStage', u'publicationGroup', u'displayType', u'rowsUpdatedBy', u'attributionLink', u'indexUpdatedAt', u'columns', u'metadata', u'attribution', u'description', u'tags', u'oid', u'flags', u'viewCount', u'numberOfComments', u'name', u'license', u'rights', u'totalTimesRated', u'grants', u'tableId', u'downloadCount', u'rowsUpdatedAt', u'viewType', u'tableAuthor', u'averageRating'])"
      ]
     },
     "execution_count": 14,
     "metadata": {},
     "output_type": "execute_result"
    }
   ],
   "source": [
    "view.viewkeys()"
   ]
  },
  {
   "cell_type": "code",
   "execution_count": 15,
   "metadata": {
    "collapsed": false
   },
   "outputs": [
    {
     "data": {
      "text/plain": [
       "u'udwx-qxp4'"
      ]
     },
     "execution_count": 15,
     "metadata": {},
     "output_type": "execute_result"
    }
   ],
   "source": [
    "view['id']"
   ]
  },
  {
   "cell_type": "code",
   "execution_count": 16,
   "metadata": {
    "collapsed": false
   },
   "outputs": [
    {
     "data": {
      "text/plain": [
       "[[1,\n",
       "  u'356882CD-C97D-45AB-BAFB-E170CAE814A8',\n",
       "  1,\n",
       "  1367422003,\n",
       "  u'699782',\n",
       "  1367425504,\n",
       "  u'699782',\n",
       "  u'{\\n}',\n",
       "  u'Allston Harvard',\n",
       "  u'200 North Harvard St.',\n",
       "  u'Allston',\n",
       "  u'June 14 - Oct 25',\n",
       "  u'Fridays',\n",
       "  u'3-7pm',\n",
       "  u'Yes',\n",
       "  u'Yes',\n",
       "  u'Yes',\n",
       "  u'Yes',\n",
       "  [u'{\"address\":\"200 North Harvard St.\",\"city\":\"Allston\",\"state\":\"MA\",\"zip\":\"2134\"}',\n",
       "   u'42.36294649117586',\n",
       "   u'-71.12989702892453',\n",
       "   None,\n",
       "   False]],\n",
       " [2,\n",
       "  u'1DB1730B-8DD8-42BD-A932-D7B83A0403C9',\n",
       "  2,\n",
       "  1367422003,\n",
       "  u'699782',\n",
       "  1367425503,\n",
       "  u'699782',\n",
       "  u'{\\n}',\n",
       "  u'Allston Village /Union Square',\n",
       "  u'500 Cambridge St.',\n",
       "  u'Allston',\n",
       "  u'May 15 - Oct 26',\n",
       "  u'Saturdays',\n",
       "  u'11am-3pm',\n",
       "  u'Yes',\n",
       "  u'Yes',\n",
       "  u'Yes',\n",
       "  u'Yes',\n",
       "  [u'{\"address\":\"500 Cambridge St.\",\"city\":\"Allston\",\"state\":\"MA\",\"zip\":\"2134\"}',\n",
       "   u'42.353068632256054',\n",
       "   u'-71.13854338564968',\n",
       "   None,\n",
       "   False]],\n",
       " [3,\n",
       "  u'CA22C4C3-E034-44C7-90A1-5F81D98831E4',\n",
       "  3,\n",
       "  1367422003,\n",
       "  u'699782',\n",
       "  1367425513,\n",
       "  u'699782',\n",
       "  u'{\\n}',\n",
       "  u'Boston City Hall',\n",
       "  u'1 City Hall Plaza\\xa0',\n",
       "  u'Boston',\n",
       "  u'May 20 - Nov 27',\n",
       "  u'Monday and Wednesday',\n",
       "  u'11am - 6pm',\n",
       "  u'Yes',\n",
       "  u'Yes',\n",
       "  u'Yes',\n",
       "  u'Yes',\n",
       "  [u'{\"address\":\"1 City Hall Plaza&nbsp;\",\"city\":\"Boston\",\"state\":\"MA\",\"zip\":\"2108\"}',\n",
       "   u'42.35862999957499',\n",
       "   u'-71.05669999960514',\n",
       "   None,\n",
       "   False]],\n",
       " [4,\n",
       "  u'653D8EF1-0FCF-446C-923D-51B23D929592',\n",
       "  4,\n",
       "  1367422003,\n",
       "  u'699782',\n",
       "  1367425508,\n",
       "  u'699782',\n",
       "  u'{\\n}',\n",
       "  u'Boston Medical Center',\n",
       "  u'850 Harrison Ave.\\xa0',\n",
       "  u'Boston',\n",
       "  u'June 14 - Oct 25',\n",
       "  u'Friday ',\n",
       "  u'11:30-2:30',\n",
       "  u'Yes',\n",
       "  u'Yes',\n",
       "  u'Yes',\n",
       "  u'Yes',\n",
       "  [u'{\"address\":\"850 Harrison Ave.&nbsp;\",\"city\":\"Boston\",\"state\":\"MA\",\"zip\":\"2118\"}',\n",
       "   u'42.35862999957499',\n",
       "   u'-71.05669999960514',\n",
       "   None,\n",
       "   False]],\n",
       " [5,\n",
       "  u'E20EEA22-EDCF-4FD3-A801-1631AD611B47',\n",
       "  5,\n",
       "  1367422003,\n",
       "  u'699782',\n",
       "  1367425514,\n",
       "  u'699782',\n",
       "  u'{\\n}',\n",
       "  u'Copley Square',\n",
       "  u'261 Dartmouth St.',\n",
       "  u'Boston',\n",
       "  u'May 14- Nov 26',\n",
       "  u'Tuesday and Friday',\n",
       "  u'11am - 6pm',\n",
       "  u'Yes',\n",
       "  u'Yes',\n",
       "  u'Yes',\n",
       "  u'Yes',\n",
       "  [u'{\"address\":\"261 Dartmouth St.\",\"city\":\"Boston\",\"state\":\"MA\",\"zip\":\"2116\"}',\n",
       "   u'42.35037907261797',\n",
       "   u'-71.07743885250946',\n",
       "   None,\n",
       "   False]],\n",
       " [6,\n",
       "  u'2CBFB78F-D3ED-495A-AD2D-70CC7F015434',\n",
       "  6,\n",
       "  1367422003,\n",
       "  u'699782',\n",
       "  1367425504,\n",
       "  u'699782',\n",
       "  u'{\\n}',\n",
       "  u'Dewey Square',\n",
       "  u'200 Atlantic Ave.',\n",
       "  u'Boston',\n",
       "  u'May 21 - Nov 26',\n",
       "  u'Tuesday and Thursday',\n",
       "  u'11:30am - 6:30pm',\n",
       "  u'Yes',\n",
       "  u'Yes',\n",
       "  u'Yes',\n",
       "  u'Yes',\n",
       "  [u'{\"address\":\"200 Atlantic Ave.\",\"city\":\"Boston\",\"state\":\"MA\",\"zip\":\"2109\"}',\n",
       "   u'42.36377855691379',\n",
       "   u'-71.05096847503998',\n",
       "   None,\n",
       "   False]],\n",
       " [7,\n",
       "  u'B50C8124-28F5-432A-A668-FD1A64D2309A',\n",
       "  7,\n",
       "  1367422003,\n",
       "  u'699782',\n",
       "  1367425510,\n",
       "  u'699782',\n",
       "  u'{\\n}',\n",
       "  u'Prudential Center',\n",
       "  u'800 Boylston St.',\n",
       "  u'Boston',\n",
       "  u'May 16 - Oct 24',\n",
       "  u'Thursday',\n",
       "  u'11am - 6pm',\n",
       "  u'Yes',\n",
       "  u'Yes',\n",
       "  u'Yes',\n",
       "  u'Yes',\n",
       "  [u'{\"address\":\"800 Boylston St.\",\"city\":\"Boston\",\"state\":\"MA\",\"zip\":\"2199\"}',\n",
       "   u'42.348600250100844',\n",
       "   u'-71.08272542754287',\n",
       "   None,\n",
       "   False]],\n",
       " [8,\n",
       "  u'D7BBC4BF-8EDE-4CA5-A66E-727DAA6AD8BC',\n",
       "  8,\n",
       "  1367422003,\n",
       "  u'699782',\n",
       "  1367425513,\n",
       "  u'699782',\n",
       "  u'{\\n}',\n",
       "  u'Charlestown',\n",
       "  u'1 Thompson Sq.',\n",
       "  u'Charlestown',\n",
       "  u'July - Oct',\n",
       "  u'Wednesday',\n",
       "  u'2-7pm',\n",
       "  u'No',\n",
       "  u'Yes',\n",
       "  u'No',\n",
       "  u'No',\n",
       "  [u'{\"address\":\"1 Thompson Sq.\",\"city\":\"Charlestown\",\"state\":\"MA\",\"zip\":\"2129\"}',\n",
       "   u'42.375360285272365',\n",
       "   u'-71.06416671726463',\n",
       "   None,\n",
       "   False]],\n",
       " [9,\n",
       "  u'2764C7AC-6D74-44CC-AAD8-630B2A5C2331',\n",
       "  9,\n",
       "  1367422003,\n",
       "  u'699782',\n",
       "  1367425503,\n",
       "  u'699782',\n",
       "  u'{\\n}',\n",
       "  u'Ashmont/Peabody',\n",
       "  u'1900 Dorchester Ave.',\n",
       "  u'Dorchester',\n",
       "  u'June 21 - Oct 18',\n",
       "  u'Fridays',\n",
       "  u'3pm-7pm',\n",
       "  u'Yes',\n",
       "  u'Yes',\n",
       "  u'Yes',\n",
       "  u'Yes',\n",
       "  [u'{\"address\":\"1900 Dorchester Ave.\",\"city\":\"Dorchester\",\"state\":\"MA\",\"zip\":\"2124\"}',\n",
       "   u'42.285593702767336',\n",
       "   u'-71.06425662735673',\n",
       "   None,\n",
       "   False]],\n",
       " [10,\n",
       "  u'F5BC4639-4FC9-4F0A-B9EC-7F62EBE94B3C',\n",
       "  10,\n",
       "  1367422003,\n",
       "  u'699782',\n",
       "  1367425515,\n",
       "  u'699782',\n",
       "  u'{\\n}',\n",
       "  u'Bowdoin Geneva',\n",
       "  u'230 Bowdoin St.',\n",
       "  u'Dorchester',\n",
       "  u'June 20 - Oct 31',\n",
       "  u'Thursday',\n",
       "  u'2:30-6:30',\n",
       "  u'Yes',\n",
       "  u'Yes',\n",
       "  u'Yes',\n",
       "  u'Yes',\n",
       "  [u'{\"address\":\"230 Bowdoin St.\",\"city\":\"Dorchester\",\"state\":\"MA\",\"zip\":\"2122\"}',\n",
       "   u'42.30580023935842',\n",
       "   u'-71.06764200765619',\n",
       "   None,\n",
       "   False]],\n",
       " [11,\n",
       "  u'C98DEFC1-DF73-4079-AC76-732D4D99A645',\n",
       "  11,\n",
       "  1367422003,\n",
       "  u'699782',\n",
       "  1367425510,\n",
       "  u'699782',\n",
       "  u'{\\n}',\n",
       "  u'Codman Square',\n",
       "  u'6 Norfolk St.',\n",
       "  u'Dorchester',\n",
       "  u'June 20 - Oct 24',\n",
       "  u'Thursday',\n",
       "  u'1-6pm',\n",
       "  u'Yes',\n",
       "  u'Yes',\n",
       "  u'Yes',\n",
       "  u'Yes',\n",
       "  [u'{\"address\":\"6 Norfolk St.\",\"city\":\"Dorchester\",\"state\":\"MA\",\"zip\":\"2124\"}',\n",
       "   u'42.28985653514695',\n",
       "   u'-71.07240121064649',\n",
       "   None,\n",
       "   False]],\n",
       " [12,\n",
       "  u'6A987D98-CE03-4EC3-B0BC-C18AD0FABD98',\n",
       "  12,\n",
       "  1367422003,\n",
       "  u'699782',\n",
       "  1367425508,\n",
       "  u'699782',\n",
       "  u'{\\n}',\n",
       "  u'Dorchester House',\n",
       "  u'1353 Dorchester Ave.\\xa0',\n",
       "  u'Dorchester',\n",
       "  u'June 25 - Oct 8',\n",
       "  u'Tuesday  ',\n",
       "  u'11:30am - 2pm',\n",
       "  u'Yes',\n",
       "  u'Yes',\n",
       "  u'Yes',\n",
       "  u'Yes',\n",
       "  [u'{\"address\":\"1353 Dorchester Ave.&nbsp;\",\"city\":\"Dorchester\",\"state\":\"MA\",\"zip\":\"2122\"}',\n",
       "   u'42.30455145710573',\n",
       "   u'-71.0591541971549',\n",
       "   None,\n",
       "   False]],\n",
       " [13,\n",
       "  u'A540C1FC-FB29-4A74-B908-EFD7E5833ECA',\n",
       "  13,\n",
       "  1367422003,\n",
       "  u'699782',\n",
       "  1367425509,\n",
       "  u'699782',\n",
       "  u'{\\n}',\n",
       "  u'Dudley Town',\n",
       "  u'390 Dudley St.',\n",
       "  u'Dorchester',\n",
       "  u'June 4 - Oct 29',\n",
       "  u'Tuesdays',\n",
       "  u'3-7pm',\n",
       "  u'Yes',\n",
       "  u'Yes',\n",
       "  u'Yes',\n",
       "  u'Yes',\n",
       "  [u'{\"address\":\"390 Dudley St.\",\"city\":\"Dorchester\",\"state\":\"MA\",\"zip\":\"2119\"}',\n",
       "   u'42.326310460822675',\n",
       "   u'-71.07549468090706',\n",
       "   None,\n",
       "   False]],\n",
       " [14,\n",
       "  u'0A1476DC-CC4B-475F-B899-A108D4446EA1',\n",
       "  14,\n",
       "  1367422003,\n",
       "  u'699782',\n",
       "  1367425502,\n",
       "  u'699782',\n",
       "  u'{\\n}',\n",
       "  u\"Field's Corner\",\n",
       "  u'1520 Dorchester Ave.',\n",
       "  u'Dorchester',\n",
       "  u'July 6 - Oct 23',\n",
       "  u'Saturday',\n",
       "  u'9am - 12pm',\n",
       "  u'Yes',\n",
       "  u'Yes',\n",
       "  u'Yes',\n",
       "  u'Yes',\n",
       "  [u'{\"address\":\"1520 Dorchester Ave.\",\"city\":\"Dorchester\",\"state\":\"MA\",\"zip\":\"2122\"}',\n",
       "   u'42.298680619199025',\n",
       "   u'-71.06055668638655',\n",
       "   None,\n",
       "   False]],\n",
       " [15,\n",
       "  u'A79C795D-73B9-4B7B-8D18-F1E01B78913A',\n",
       "  15,\n",
       "  1367422003,\n",
       "  u'699782',\n",
       "  1367425510,\n",
       "  u'699782',\n",
       "  u'{\\n}',\n",
       "  u'ReVision Urban Farm Stand',\n",
       "  u'1062 Blue Hill Ave.\\xa0',\n",
       "  u'Dorchester',\n",
       "  u'July 5 - Oct 12',\n",
       "  u'Thurs, Fri and Sat',\n",
       "  u'2-6pm, Sat 10am - 1pm',\n",
       "  u'Yes',\n",
       "  u'Yes',\n",
       "  u'Yes',\n",
       "  u'Yes',\n",
       "  [u'{\"address\":\"1062 Blue Hill Ave.&nbsp;\",\"city\":\"Dorchester\",\"state\":\"MA\",\"zip\":\"2124\"}',\n",
       "   u'42.288048897868066',\n",
       "   u'-71.09006389530197',\n",
       "   None,\n",
       "   False]],\n",
       " [16,\n",
       "  u'387C8A8A-2232-47EB-9FB9-D8E93E1B2FF7',\n",
       "  16,\n",
       "  1367422003,\n",
       "  u'699782',\n",
       "  1367425505,\n",
       "  u'699782',\n",
       "  u'{\\n}',\n",
       "  u'East Boston',\n",
       "  u'230 Meridian St.',\n",
       "  u'East Boston',\n",
       "  u'July 11 - Oct 17',\n",
       "  u'Thursday',\n",
       "  u'3-6:30pm',\n",
       "  u'Yes',\n",
       "  u'Yes',\n",
       "  u'Yes',\n",
       "  u'Yes',\n",
       "  [u'{\"address\":\"230 Meridian St.\",\"city\":\"East Boston\",\"state\":\"MA\",\"zip\":\"2128\"}',\n",
       "   u'42.37566984318278',\n",
       "   u'-71.03914428200301',\n",
       "   None,\n",
       "   False]],\n",
       " [17,\n",
       "  u'079A7872-206D-4B3B-9983-88F5BB9CD489',\n",
       "  17,\n",
       "  1367422003,\n",
       "  u'699782',\n",
       "  1367425502,\n",
       "  u'699782',\n",
       "  u'{\\n}',\n",
       "  u'Egleston',\n",
       "  u'45 Brookside Ave',\n",
       "  u'Jamaica Plain',\n",
       "  u'June 2 - Oct 12',\n",
       "  u'Saturday',\n",
       "  u'10am - 2pm',\n",
       "  u'Yes',\n",
       "  u'Yes',\n",
       "  u'Yes',\n",
       "  u'Yes',\n",
       "  [u'{\"address\":\"45 Brookside Ave\",\"city\":\"Jamaica Plain\",\"state\":\"MA\",\"zip\":\"2130\"}',\n",
       "   u'42.31333910264873',\n",
       "   u'-71.1034748920108',\n",
       "   None,\n",
       "   False]],\n",
       " [18,\n",
       "  u'09FFE7B9-8AAF-4F43-9643-823C2EAE2109',\n",
       "  18,\n",
       "  1367422003,\n",
       "  u'699782',\n",
       "  1367425502,\n",
       "  u'699782',\n",
       "  u'{\\n}',\n",
       "  u'Jamaica Plain',\n",
       "  u'677 Centre St.\\xa0',\n",
       "  u'Jamaica Plain',\n",
       "  u'June - Thanksgiving',\n",
       "  u'Tuesday',\n",
       "  u'12-5pm',\n",
       "  u'No',\n",
       "  u'Yes',\n",
       "  u'No',\n",
       "  u'No',\n",
       "  [u'{\"address\":\"677 Centre St.&nbsp;\",\"city\":\"Jamaica Plain\",\"state\":\"MA\",\"zip\":\"2130\"}',\n",
       "   u'42.312114755372136',\n",
       "   u'-71.11424666466985',\n",
       "   None,\n",
       "   False]],\n",
       " [19,\n",
       "  u'CFD0D7FD-F0B4-434C-AEA6-A8BFFFC3BD18',\n",
       "  19,\n",
       "  1367422003,\n",
       "  u'699782',\n",
       "  1367425513,\n",
       "  u'699782',\n",
       "  u'{\\n}',\n",
       "  u'Loring-Greenough House',\n",
       "  u'12 South St.',\n",
       "  u'Jamaica Plain',\n",
       "  u'June - Thanksgiving',\n",
       "  u'Thursday',\n",
       "  u'2-dusk',\n",
       "  u'No',\n",
       "  u'Yes',\n",
       "  u'No',\n",
       "  u'No',\n",
       "  [u'{\"address\":\"12 South St.\",\"city\":\"Jamaica Plain\",\"state\":\"MA\",\"zip\":\"2130\"}',\n",
       "   u'42.309470748605975',\n",
       "   u'-71.11546974262967',\n",
       "   None,\n",
       "   False]],\n",
       " [20,\n",
       "  u'A4A87DBC-5BD7-4066-9346-F1A3EC90141A',\n",
       "  20,\n",
       "  1367422003,\n",
       "  u'699782',\n",
       "  1367425509,\n",
       "  u'699782',\n",
       "  u'{\\n}',\n",
       "  u'Mattapan',\n",
       "  u'525 River St.\\xa0',\n",
       "  u'Mattapan',\n",
       "  u'July 13 - Oct 12',\n",
       "  u'Saturday',\n",
       "  u'10am - 2pm',\n",
       "  u'Yes',\n",
       "  u'Yes',\n",
       "  u'Yes',\n",
       "  u'Yes',\n",
       "  [u'{\"address\":\"525 River St.&nbsp;\",\"city\":\"Mattapan\",\"state\":\"MA\",\"zip\":\"2126\"}',\n",
       "   u'42.267260000248996',\n",
       "   u'-71.09459999998984',\n",
       "   None,\n",
       "   False]],\n",
       " [21,\n",
       "  u'C99471E5-2D5E-431C-83EA-E9D46A1953DC',\n",
       "  21,\n",
       "  1367422003,\n",
       "  u'699782',\n",
       "  1367425511,\n",
       "  u'699782',\n",
       "  u'{\\n}',\n",
       "  u'Mission Hill - Brigham Circle',\n",
       "  u'720 Huntington Ave.',\n",
       "  u'Mission Hill',\n",
       "  u'June 20 - Nov 21',\n",
       "  u'Thursday',\n",
       "  u'11am - 6pm',\n",
       "  u'Yes',\n",
       "  u'Yes',\n",
       "  u'Yes',\n",
       "  u'Yes',\n",
       "  [u'{\"address\":\"720 Huntington Ave.\",\"city\":\"Mission Hill\",\"state\":\"MA\",\"zip\":\"2115\"}',\n",
       "   u'42.33414182877969',\n",
       "   u'-71.10459469562049',\n",
       "   None,\n",
       "   False]],\n",
       " [22,\n",
       "  u'E2EE03EF-8B36-4386-82F3-712E74827FA3',\n",
       "  22,\n",
       "  1367422003,\n",
       "  u'699782',\n",
       "  1367425514,\n",
       "  u'699782',\n",
       "  u'{\\n}',\n",
       "  u'Roslindale',\n",
       "  u'1-9 Cummins Highway',\n",
       "  u'Roslindale',\n",
       "  u'June 1 - Nov 23',\n",
       "  u'Saturday',\n",
       "  u'9am - 1:30pm',\n",
       "  u'Yes',\n",
       "  u'Yes',\n",
       "  u'Yes',\n",
       "  u'Yes',\n",
       "  [u'{\"address\":\"1-9 Cummins Highway\",\"city\":\"Roslindale\",\"state\":\"MA\",\"zip\":\"2131\"}',\n",
       "   u'42.28603813355563',\n",
       "   u'-71.12761264586742',\n",
       "   None,\n",
       "   False]],\n",
       " [23,\n",
       "  u'61E3D8F6-1EA7-4A8E-87D7-7772A9E3152C',\n",
       "  23,\n",
       "  1367422003,\n",
       "  u'699782',\n",
       "  1367425506,\n",
       "  u'699782',\n",
       "  u'{\\n}',\n",
       "  u'South Boston',\n",
       "  u'W 446 W. Broadway St.\\xa0',\n",
       "  u'South Boston',\n",
       "  u'May 13 - Nov 19',\n",
       "  u'Monday',\n",
       "  u'12pm-6pm',\n",
       "  u'Yes',\n",
       "  u'Yes',\n",
       "  u'Yes',\n",
       "  u'Yes',\n",
       "  [u'{\"address\":\"W 446 W. Broadway St.&nbsp;\",\"city\":\"South Boston\",\"state\":\"MA\",\"zip\":\"2127\"}',\n",
       "   u'42.337950000092576',\n",
       "   u'-71.04948000030163',\n",
       "   None,\n",
       "   False]],\n",
       " [24,\n",
       "  u'5A882037-B6AA-4080-9A22-264270811A19',\n",
       "  24,\n",
       "  1367422003,\n",
       "  u'699782',\n",
       "  1367425505,\n",
       "  u'699782',\n",
       "  u'{\\n}',\n",
       "  u'SoWa',\n",
       "  u'485 Harrison Ave.',\n",
       "  u'South End',\n",
       "  u'May 5 - Oct 27',\n",
       "  u'Sunday',\n",
       "  u'10am - 4pm',\n",
       "  u'No',\n",
       "  u'Yes',\n",
       "  u'No',\n",
       "  u'No',\n",
       "  [u'{\"address\":\"485 Harrison Ave.\",\"city\":\"South End\",\"state\":\"MA\",\"zip\":\"2118\"}',\n",
       "   u'42.341774395898426',\n",
       "   u'-71.0665196445749',\n",
       "   None,\n",
       "   False]],\n",
       " [25,\n",
       "  u'5E25AEB7-36D4-47D8-A1B3-A742745056C4',\n",
       "  25,\n",
       "  1367422003,\n",
       "  u'699782',\n",
       "  1367425506,\n",
       "  u'699782',\n",
       "  u'{\\n}',\n",
       "  u'Corey St',\n",
       "  u'120 Corey St',\n",
       "  u'West Roxbury',\n",
       "  u'June 23 - Oct 26',\n",
       "  u'Sundays',\n",
       "  u'11am - 3pm',\n",
       "  u'No',\n",
       "  u'Yes',\n",
       "  u'Yes',\n",
       "  u'Yes',\n",
       "  [u'{\"address\":\"120 Corey St\",\"city\":\"West Roxbury\",\"state\":\"MA\",\"zip\":\"2132\"}',\n",
       "   u'42.287779101259275',\n",
       "   u'-71.15662271869047',\n",
       "   None,\n",
       "   False]],\n",
       " [26,\n",
       "  u'650E4DCC-A631-44C2-B89D-692C7D8D2D4D',\n",
       "  26,\n",
       "  1367422003,\n",
       "  u'699782',\n",
       "  1367425507,\n",
       "  u'699782',\n",
       "  u'{\\n}',\n",
       "  u'Mission Hill - Roxbury Crossing',\n",
       "  u'1420 Tremont St',\n",
       "  u'Mission Hill',\n",
       "  u'June 18 - Nov 26',\n",
       "  u'Tuesday',\n",
       "  u'2-7pm',\n",
       "  u'Yes',\n",
       "  u'Yes',\n",
       "  u'Yes',\n",
       "  u'Yes',\n",
       "  [u'{\"address\":\"1420 Tremont St\",\"city\":\"Mission Hill\",\"state\":\"MA\",\"zip\":\"2120\"}',\n",
       "   u'42.33151056750561',\n",
       "   u'-71.09534042178258',\n",
       "   None,\n",
       "   False]]]"
      ]
     },
     "execution_count": 16,
     "metadata": {},
     "output_type": "execute_result"
    }
   ],
   "source": [
    "data"
   ]
  },
  {
   "cell_type": "code",
   "execution_count": 17,
   "metadata": {
    "collapsed": false
   },
   "outputs": [
    {
     "data": {
      "text/plain": [
       "[1,\n",
       " u'356882CD-C97D-45AB-BAFB-E170CAE814A8',\n",
       " 1,\n",
       " 1367422003,\n",
       " u'699782',\n",
       " 1367425504,\n",
       " u'699782',\n",
       " u'{\\n}',\n",
       " u'Allston Harvard',\n",
       " u'200 North Harvard St.',\n",
       " u'Allston',\n",
       " u'June 14 - Oct 25',\n",
       " u'Fridays',\n",
       " u'3-7pm',\n",
       " u'Yes',\n",
       " u'Yes',\n",
       " u'Yes',\n",
       " u'Yes',\n",
       " [u'{\"address\":\"200 North Harvard St.\",\"city\":\"Allston\",\"state\":\"MA\",\"zip\":\"2134\"}',\n",
       "  u'42.36294649117586',\n",
       "  u'-71.12989702892453',\n",
       "  None,\n",
       "  False]]"
      ]
     },
     "execution_count": 17,
     "metadata": {},
     "output_type": "execute_result"
    }
   ],
   "source": [
    "data[0]"
   ]
  },
  {
   "cell_type": "code",
   "execution_count": 18,
   "metadata": {
    "collapsed": false
   },
   "outputs": [
    {
     "data": {
      "text/plain": [
       "[26,\n",
       " u'650E4DCC-A631-44C2-B89D-692C7D8D2D4D',\n",
       " 26,\n",
       " 1367422003,\n",
       " u'699782',\n",
       " 1367425507,\n",
       " u'699782',\n",
       " u'{\\n}',\n",
       " u'Mission Hill - Roxbury Crossing',\n",
       " u'1420 Tremont St',\n",
       " u'Mission Hill',\n",
       " u'June 18 - Nov 26',\n",
       " u'Tuesday',\n",
       " u'2-7pm',\n",
       " u'Yes',\n",
       " u'Yes',\n",
       " u'Yes',\n",
       " u'Yes',\n",
       " [u'{\"address\":\"1420 Tremont St\",\"city\":\"Mission Hill\",\"state\":\"MA\",\"zip\":\"2120\"}',\n",
       "  u'42.33151056750561',\n",
       "  u'-71.09534042178258',\n",
       "  None,\n",
       "  False]]"
      ]
     },
     "execution_count": 18,
     "metadata": {},
     "output_type": "execute_result"
    }
   ],
   "source": [
    "data[-1]"
   ]
  },
  {
   "cell_type": "code",
   "execution_count": 19,
   "metadata": {
    "collapsed": false
   },
   "outputs": [
    {
     "data": {
      "text/plain": [
       "dict_keys([u'view'])"
      ]
     },
     "execution_count": 19,
     "metadata": {},
     "output_type": "execute_result"
    }
   ],
   "source": [
    "meta.viewkeys()"
   ]
  },
  {
   "cell_type": "code",
   "execution_count": 20,
   "metadata": {
    "collapsed": false
   },
   "outputs": [
    {
     "data": {
      "text/plain": [
       "dict_keys([u'newBackend', u'licenseId', u'publicationDate', u'viewLastModified', u'owner', u'query', u'id', u'createdAt', u'category', u'publicationAppendEnabled', u'publicationStage', u'publicationGroup', u'displayType', u'rowsUpdatedBy', u'attributionLink', u'indexUpdatedAt', u'columns', u'metadata', u'attribution', u'description', u'tags', u'oid', u'flags', u'viewCount', u'numberOfComments', u'name', u'license', u'rights', u'totalTimesRated', u'grants', u'tableId', u'downloadCount', u'rowsUpdatedAt', u'viewType', u'tableAuthor', u'averageRating'])"
      ]
     },
     "execution_count": 20,
     "metadata": {},
     "output_type": "execute_result"
    }
   ],
   "source": [
    "meta['view'].viewkeys()"
   ]
  },
  {
   "cell_type": "code",
   "execution_count": 21,
   "metadata": {
    "collapsed": false
   },
   "outputs": [
    {
     "data": {
      "text/plain": [
       "{u'attribution': u\"Mayor's Office of Food Initiatives\",\n",
       " u'attributionLink': u'http://cityofboston.gov/food',\n",
       " u'averageRating': 0,\n",
       " u'category': u'Health',\n",
       " u'columns': [{u'dataTypeName': u'meta_data',\n",
       "   u'fieldName': u':sid',\n",
       "   u'format': {},\n",
       "   u'id': -1,\n",
       "   u'name': u'sid',\n",
       "   u'position': 0,\n",
       "   u'renderTypeName': u'meta_data'},\n",
       "  {u'dataTypeName': u'meta_data',\n",
       "   u'fieldName': u':id',\n",
       "   u'format': {},\n",
       "   u'id': -1,\n",
       "   u'name': u'id',\n",
       "   u'position': 0,\n",
       "   u'renderTypeName': u'meta_data'},\n",
       "  {u'dataTypeName': u'meta_data',\n",
       "   u'fieldName': u':position',\n",
       "   u'format': {},\n",
       "   u'id': -1,\n",
       "   u'name': u'position',\n",
       "   u'position': 0,\n",
       "   u'renderTypeName': u'meta_data'},\n",
       "  {u'dataTypeName': u'meta_data',\n",
       "   u'fieldName': u':created_at',\n",
       "   u'format': {},\n",
       "   u'id': -1,\n",
       "   u'name': u'created_at',\n",
       "   u'position': 0,\n",
       "   u'renderTypeName': u'meta_data'},\n",
       "  {u'dataTypeName': u'meta_data',\n",
       "   u'fieldName': u':created_meta',\n",
       "   u'format': {},\n",
       "   u'id': -1,\n",
       "   u'name': u'created_meta',\n",
       "   u'position': 0,\n",
       "   u'renderTypeName': u'meta_data'},\n",
       "  {u'dataTypeName': u'meta_data',\n",
       "   u'fieldName': u':updated_at',\n",
       "   u'format': {},\n",
       "   u'id': -1,\n",
       "   u'name': u'updated_at',\n",
       "   u'position': 0,\n",
       "   u'renderTypeName': u'meta_data'},\n",
       "  {u'dataTypeName': u'meta_data',\n",
       "   u'fieldName': u':updated_meta',\n",
       "   u'format': {},\n",
       "   u'id': -1,\n",
       "   u'name': u'updated_meta',\n",
       "   u'position': 0,\n",
       "   u'renderTypeName': u'meta_data'},\n",
       "  {u'dataTypeName': u'meta_data',\n",
       "   u'fieldName': u':meta',\n",
       "   u'format': {},\n",
       "   u'id': -1,\n",
       "   u'name': u'meta',\n",
       "   u'position': 0,\n",
       "   u'renderTypeName': u'meta_data'},\n",
       "  {u'cachedContents': {u'largest': u'SoWa',\n",
       "    u'non_null': 26,\n",
       "    u'null': 0,\n",
       "    u'smallest': u'Allston Harvard',\n",
       "    u'top': [{u'count': 20, u'item': u'Allston Harvard'},\n",
       "     {u'count': 19, u'item': u'Allston Village /Union Square'},\n",
       "     {u'count': 18, u'item': u'Boston City Hall'},\n",
       "     {u'count': 17, u'item': u'Boston Medical Center'},\n",
       "     {u'count': 16, u'item': u'Copley Square'},\n",
       "     {u'count': 15, u'item': u'Dewey Square'},\n",
       "     {u'count': 14, u'item': u'Prudential Center'},\n",
       "     {u'count': 13, u'item': u'Charlestown'},\n",
       "     {u'count': 12, u'item': u'Ashmont/Peabody'},\n",
       "     {u'count': 11, u'item': u'Bowdoin Geneva'},\n",
       "     {u'count': 10, u'item': u'Codman Square'},\n",
       "     {u'count': 9, u'item': u'Dorchester House'},\n",
       "     {u'count': 8, u'item': u'Dudley Town'},\n",
       "     {u'count': 7, u'item': u\"Field's Corner\"},\n",
       "     {u'count': 6, u'item': u'ReVision Urban Farm Stand'},\n",
       "     {u'count': 5, u'item': u'East Boston'},\n",
       "     {u'count': 4, u'item': u'Egleston'},\n",
       "     {u'count': 3, u'item': u'Jamaica Plain'},\n",
       "     {u'count': 2, u'item': u'Loring-Greenough House'},\n",
       "     {u'count': 1, u'item': u'Mattapan'}]},\n",
       "   u'dataTypeName': u'text',\n",
       "   u'fieldName': u'name',\n",
       "   u'format': {},\n",
       "   u'id': 62425146,\n",
       "   u'name': u'Name',\n",
       "   u'position': 2,\n",
       "   u'renderTypeName': u'text',\n",
       "   u'tableColumnId': 10025012,\n",
       "   u'width': 148},\n",
       "  {u'cachedContents': {u'largest': u'W 446 W. Broadway St.\\xa0',\n",
       "    u'non_null': 26,\n",
       "    u'null': 0,\n",
       "    u'smallest': u'1062 Blue Hill Ave.\\xa0',\n",
       "    u'top': [{u'count': 20, u'item': u'200 North Harvard St.'},\n",
       "     {u'count': 19, u'item': u'500 Cambridge St.'},\n",
       "     {u'count': 18, u'item': u'1 City Hall Plaza\\xa0'},\n",
       "     {u'count': 17, u'item': u'850 Harrison Ave.\\xa0'},\n",
       "     {u'count': 16, u'item': u'261 Dartmouth St.'},\n",
       "     {u'count': 15, u'item': u'200 Atlantic Ave.'},\n",
       "     {u'count': 14, u'item': u'800 Boylston St.'},\n",
       "     {u'count': 13, u'item': u'1 Thompson Sq.'},\n",
       "     {u'count': 12, u'item': u'1900 Dorchester Ave.'},\n",
       "     {u'count': 11, u'item': u'230 Bowdoin St.'},\n",
       "     {u'count': 10, u'item': u'6 Norfolk St.'},\n",
       "     {u'count': 9, u'item': u'1353 Dorchester Ave.\\xa0'},\n",
       "     {u'count': 8, u'item': u'390 Dudley St.'},\n",
       "     {u'count': 7, u'item': u'1520 Dorchester Ave.'},\n",
       "     {u'count': 6, u'item': u'1062 Blue Hill Ave.\\xa0'},\n",
       "     {u'count': 5, u'item': u'230 Meridian St.'},\n",
       "     {u'count': 4, u'item': u'45 Brookside Ave'},\n",
       "     {u'count': 3, u'item': u'677 Centre St.\\xa0'},\n",
       "     {u'count': 2, u'item': u'12 South St.'},\n",
       "     {u'count': 1, u'item': u'525 River St.\\xa0'}]},\n",
       "   u'dataTypeName': u'text',\n",
       "   u'fieldName': u'location',\n",
       "   u'format': {},\n",
       "   u'id': 62425147,\n",
       "   u'name': u'Location',\n",
       "   u'position': 3,\n",
       "   u'renderTypeName': u'text',\n",
       "   u'tableColumnId': 10025013,\n",
       "   u'width': 196},\n",
       "  {u'cachedContents': {u'largest': u'West Roxbury',\n",
       "    u'non_null': 26,\n",
       "    u'null': 0,\n",
       "    u'smallest': u'Allston',\n",
       "    u'top': [{u'count': 20, u'item': u'Allston'},\n",
       "     {u'count': 19, u'item': u'Boston'},\n",
       "     {u'count': 18, u'item': u'Charlestown'},\n",
       "     {u'count': 17, u'item': u'Dorchester'},\n",
       "     {u'count': 16, u'item': u'East Boston'},\n",
       "     {u'count': 15, u'item': u'Jamaica Plain'},\n",
       "     {u'count': 14, u'item': u'Mattapan'},\n",
       "     {u'count': 13, u'item': u'Mission Hill'},\n",
       "     {u'count': 12, u'item': u'Roslindale'},\n",
       "     {u'count': 11, u'item': u'South Boston'},\n",
       "     {u'count': 10, u'item': u'South End'},\n",
       "     {u'count': 9, u'item': u'West Roxbury'}]},\n",
       "   u'dataTypeName': u'text',\n",
       "   u'fieldName': u'area',\n",
       "   u'format': {},\n",
       "   u'id': 62425148,\n",
       "   u'name': u'Area',\n",
       "   u'position': 4,\n",
       "   u'renderTypeName': u'text',\n",
       "   u'tableColumnId': 10025014,\n",
       "   u'width': 148},\n",
       "  {u'cachedContents': {u'largest': u'May 5 - Oct 27',\n",
       "    u'non_null': 26,\n",
       "    u'null': 0,\n",
       "    u'smallest': u'July 11 - Oct 17',\n",
       "    u'top': [{u'count': 20, u'item': u'June 14 - Oct 25'},\n",
       "     {u'count': 19, u'item': u'May 15 - Oct 26'},\n",
       "     {u'count': 18, u'item': u'May 20 - Nov 27'},\n",
       "     {u'count': 17, u'item': u'May 14- Nov 26'},\n",
       "     {u'count': 16, u'item': u'May 21 - Nov 26'},\n",
       "     {u'count': 15, u'item': u'May 16 - Oct 24'},\n",
       "     {u'count': 14, u'item': u'July - Oct'},\n",
       "     {u'count': 13, u'item': u'June 21 - Oct 18'},\n",
       "     {u'count': 12, u'item': u'June 20 - Oct 31'},\n",
       "     {u'count': 11, u'item': u'June 20 - Oct 24'},\n",
       "     {u'count': 10, u'item': u'June 25 - Oct 8'},\n",
       "     {u'count': 9, u'item': u'June 4 - Oct 29'},\n",
       "     {u'count': 8, u'item': u'July 6 - Oct 23'},\n",
       "     {u'count': 7, u'item': u'July 5 - Oct 12'},\n",
       "     {u'count': 6, u'item': u'July 11 - Oct 17'},\n",
       "     {u'count': 5, u'item': u'June 2 - Oct 12'},\n",
       "     {u'count': 4, u'item': u'June - Thanksgiving'},\n",
       "     {u'count': 3, u'item': u'July 13 - Oct 12'},\n",
       "     {u'count': 2, u'item': u'June 20 - Nov 21'},\n",
       "     {u'count': 1, u'item': u'June 1 - Nov 23'}]},\n",
       "   u'dataTypeName': u'text',\n",
       "   u'fieldName': u'open_close_dates',\n",
       "   u'format': {},\n",
       "   u'id': 62425149,\n",
       "   u'name': u'Open/Close Dates',\n",
       "   u'position': 5,\n",
       "   u'renderTypeName': u'text',\n",
       "   u'tableColumnId': 10025015,\n",
       "   u'width': 292},\n",
       "  {u'cachedContents': {u'largest': u'Wednesday',\n",
       "    u'non_null': 26,\n",
       "    u'null': 0,\n",
       "    u'smallest': u'Friday ',\n",
       "    u'top': [{u'count': 20, u'item': u'Fridays'},\n",
       "     {u'count': 19, u'item': u'Saturdays'},\n",
       "     {u'count': 18, u'item': u'Monday and Wednesday'},\n",
       "     {u'count': 17, u'item': u'Friday '},\n",
       "     {u'count': 16, u'item': u'Tuesday and Friday'},\n",
       "     {u'count': 15, u'item': u'Tuesday and Thursday'},\n",
       "     {u'count': 14, u'item': u'Thursday'},\n",
       "     {u'count': 13, u'item': u'Wednesday'},\n",
       "     {u'count': 12, u'item': u'Tuesday  '},\n",
       "     {u'count': 11, u'item': u'Tuesdays'},\n",
       "     {u'count': 10, u'item': u'Saturday'},\n",
       "     {u'count': 9, u'item': u'Thurs, Fri and Sat'},\n",
       "     {u'count': 8, u'item': u'Tuesday'},\n",
       "     {u'count': 7, u'item': u'Monday'},\n",
       "     {u'count': 6, u'item': u'Sunday'},\n",
       "     {u'count': 5, u'item': u'Sundays'}]},\n",
       "   u'dataTypeName': u'text',\n",
       "   u'fieldName': u'day',\n",
       "   u'format': {},\n",
       "   u'id': 62425150,\n",
       "   u'name': u'Day',\n",
       "   u'position': 6,\n",
       "   u'renderTypeName': u'text',\n",
       "   u'tableColumnId': 10025016,\n",
       "   u'width': 136},\n",
       "  {u'cachedContents': {u'largest': u'9am - 12pm',\n",
       "    u'non_null': 26,\n",
       "    u'null': 0,\n",
       "    u'smallest': u'10am - 2pm',\n",
       "    u'top': [{u'count': 20, u'item': u'3-7pm'},\n",
       "     {u'count': 19, u'item': u'11am-3pm'},\n",
       "     {u'count': 18, u'item': u'11am - 6pm'},\n",
       "     {u'count': 17, u'item': u'11:30-2:30'},\n",
       "     {u'count': 16, u'item': u'11:30am - 6:30pm'},\n",
       "     {u'count': 15, u'item': u'2-7pm'},\n",
       "     {u'count': 14, u'item': u'3pm-7pm'},\n",
       "     {u'count': 13, u'item': u'2:30-6:30'},\n",
       "     {u'count': 12, u'item': u'1-6pm'},\n",
       "     {u'count': 11, u'item': u'11:30am - 2pm'},\n",
       "     {u'count': 10, u'item': u'9am - 12pm'},\n",
       "     {u'count': 9, u'item': u'2-6pm, Sat 10am - 1pm'},\n",
       "     {u'count': 8, u'item': u'3-6:30pm'},\n",
       "     {u'count': 7, u'item': u'10am - 2pm'},\n",
       "     {u'count': 6, u'item': u'12-5pm'},\n",
       "     {u'count': 5, u'item': u'2-dusk'},\n",
       "     {u'count': 4, u'item': u'9am - 1:30pm'},\n",
       "     {u'count': 3, u'item': u'12pm-6pm'},\n",
       "     {u'count': 2, u'item': u'10am - 4pm'},\n",
       "     {u'count': 1, u'item': u'11am - 3pm'}]},\n",
       "   u'dataTypeName': u'text',\n",
       "   u'fieldName': u'time',\n",
       "   u'format': {},\n",
       "   u'id': 62425151,\n",
       "   u'name': u'Time',\n",
       "   u'position': 7,\n",
       "   u'renderTypeName': u'text',\n",
       "   u'tableColumnId': 10025017,\n",
       "   u'width': 148},\n",
       "  {u'cachedContents': {u'largest': u'Yes',\n",
       "    u'non_null': 26,\n",
       "    u'null': 0,\n",
       "    u'smallest': u'No',\n",
       "    u'top': [{u'count': 20, u'item': u'Yes'}, {u'count': 19, u'item': u'No'}]},\n",
       "   u'dataTypeName': u'text',\n",
       "   u'fieldName': u'snap',\n",
       "   u'format': {},\n",
       "   u'id': 62425152,\n",
       "   u'name': u'SNAP',\n",
       "   u'position': 8,\n",
       "   u'renderTypeName': u'text',\n",
       "   u'tableColumnId': 10025018,\n",
       "   u'width': 148},\n",
       "  {u'cachedContents': {u'largest': u'Yes',\n",
       "    u'non_null': 26,\n",
       "    u'null': 0,\n",
       "    u'smallest': u'Yes',\n",
       "    u'top': [{u'count': 20, u'item': u'Yes'}]},\n",
       "   u'dataTypeName': u'text',\n",
       "   u'fieldName': u'wic',\n",
       "   u'format': {},\n",
       "   u'id': 62425153,\n",
       "   u'name': u'WIC',\n",
       "   u'position': 9,\n",
       "   u'renderTypeName': u'text',\n",
       "   u'tableColumnId': 10025019,\n",
       "   u'width': 136},\n",
       "  {u'cachedContents': {u'largest': u'Yes',\n",
       "    u'non_null': 26,\n",
       "    u'null': 0,\n",
       "    u'smallest': u'No',\n",
       "    u'top': [{u'count': 20, u'item': u'Yes'}, {u'count': 19, u'item': u'No'}]},\n",
       "   u'dataTypeName': u'text',\n",
       "   u'fieldName': u'ebt',\n",
       "   u'format': {},\n",
       "   u'id': 62425154,\n",
       "   u'name': u'EBT',\n",
       "   u'position': 10,\n",
       "   u'renderTypeName': u'text',\n",
       "   u'tableColumnId': 10025020,\n",
       "   u'width': 136},\n",
       "  {u'cachedContents': {u'largest': u'Yes',\n",
       "    u'non_null': 26,\n",
       "    u'null': 0,\n",
       "    u'smallest': u'No',\n",
       "    u'top': [{u'count': 20, u'item': u'Yes'}, {u'count': 19, u'item': u'No'}]},\n",
       "   u'dataTypeName': u'text',\n",
       "   u'fieldName': u'bbb',\n",
       "   u'format': {},\n",
       "   u'id': 62425155,\n",
       "   u'name': u'BBB',\n",
       "   u'position': 11,\n",
       "   u'renderTypeName': u'text',\n",
       "   u'tableColumnId': 10025021,\n",
       "   u'width': 136},\n",
       "  {u'cachedContents': {u'largest': {u'human_address': u'{\"address\":\"W 446 W. Broadway St.&nbsp;\",\"city\":\"South Boston\",\"state\":\"MA\",\"zip\":\"2127\"}',\n",
       "     u'latitude': u'42.337950000092576',\n",
       "     u'longitude': u'-71.04948000030163'},\n",
       "    u'non_null': 26,\n",
       "    u'null': 0,\n",
       "    u'smallest': {u'human_address': u'{\"address\":\"1 City Hall Plaza&nbsp;\",\"city\":\"Boston\",\"state\":\"MA\",\"zip\":\"2108\"}',\n",
       "     u'latitude': u'42.35862999957499',\n",
       "     u'longitude': u'-71.05669999960514'},\n",
       "    u'top': [{u'count': 20,\n",
       "      u'item': {u'human_address': u'{\"address\":\"200 North Harvard St.\",\"city\":\"Allston\",\"state\":\"MA\",\"zip\":\"2134\"}',\n",
       "       u'latitude': u'42.36294649117586',\n",
       "       u'longitude': u'-71.12989702892453'}},\n",
       "     {u'count': 19,\n",
       "      u'item': {u'human_address': u'{\"address\":\"500 Cambridge St.\",\"city\":\"Allston\",\"state\":\"MA\",\"zip\":\"2134\"}',\n",
       "       u'latitude': u'42.353068632256054',\n",
       "       u'longitude': u'-71.13854338564968'}},\n",
       "     {u'count': 18,\n",
       "      u'item': {u'human_address': u'{\"address\":\"1 City Hall Plaza&nbsp;\",\"city\":\"Boston\",\"state\":\"MA\",\"zip\":\"2108\"}',\n",
       "       u'latitude': u'42.35862999957499',\n",
       "       u'longitude': u'-71.05669999960514'}},\n",
       "     {u'count': 17,\n",
       "      u'item': {u'human_address': u'{\"address\":\"850 Harrison Ave.&nbsp;\",\"city\":\"Boston\",\"state\":\"MA\",\"zip\":\"2118\"}',\n",
       "       u'latitude': u'42.35862999957499',\n",
       "       u'longitude': u'-71.05669999960514'}},\n",
       "     {u'count': 16,\n",
       "      u'item': {u'human_address': u'{\"address\":\"261 Dartmouth St.\",\"city\":\"Boston\",\"state\":\"MA\",\"zip\":\"2116\"}',\n",
       "       u'latitude': u'42.35037907261797',\n",
       "       u'longitude': u'-71.07743885250946'}},\n",
       "     {u'count': 15,\n",
       "      u'item': {u'human_address': u'{\"address\":\"200 Atlantic Ave.\",\"city\":\"Boston\",\"state\":\"MA\",\"zip\":\"2109\"}',\n",
       "       u'latitude': u'42.36377855691379',\n",
       "       u'longitude': u'-71.05096847503998'}},\n",
       "     {u'count': 14,\n",
       "      u'item': {u'human_address': u'{\"address\":\"800 Boylston St.\",\"city\":\"Boston\",\"state\":\"MA\",\"zip\":\"2199\"}',\n",
       "       u'latitude': u'42.348600250100844',\n",
       "       u'longitude': u'-71.08272542754287'}},\n",
       "     {u'count': 13,\n",
       "      u'item': {u'human_address': u'{\"address\":\"1 Thompson Sq.\",\"city\":\"Charlestown\",\"state\":\"MA\",\"zip\":\"2129\"}',\n",
       "       u'latitude': u'42.375360285272365',\n",
       "       u'longitude': u'-71.06416671726463'}},\n",
       "     {u'count': 12,\n",
       "      u'item': {u'human_address': u'{\"address\":\"1900 Dorchester Ave.\",\"city\":\"Dorchester\",\"state\":\"MA\",\"zip\":\"2124\"}',\n",
       "       u'latitude': u'42.285593702767336',\n",
       "       u'longitude': u'-71.06425662735673'}},\n",
       "     {u'count': 11,\n",
       "      u'item': {u'human_address': u'{\"address\":\"230 Bowdoin St.\",\"city\":\"Dorchester\",\"state\":\"MA\",\"zip\":\"2122\"}',\n",
       "       u'latitude': u'42.30580023935842',\n",
       "       u'longitude': u'-71.06764200765619'}},\n",
       "     {u'count': 10,\n",
       "      u'item': {u'human_address': u'{\"address\":\"6 Norfolk St.\",\"city\":\"Dorchester\",\"state\":\"MA\",\"zip\":\"2124\"}',\n",
       "       u'latitude': u'42.28985653514695',\n",
       "       u'longitude': u'-71.07240121064649'}},\n",
       "     {u'count': 9,\n",
       "      u'item': {u'human_address': u'{\"address\":\"1353 Dorchester Ave.&nbsp;\",\"city\":\"Dorchester\",\"state\":\"MA\",\"zip\":\"2122\"}',\n",
       "       u'latitude': u'42.30455145710573',\n",
       "       u'longitude': u'-71.0591541971549'}},\n",
       "     {u'count': 8,\n",
       "      u'item': {u'human_address': u'{\"address\":\"390 Dudley St.\",\"city\":\"Dorchester\",\"state\":\"MA\",\"zip\":\"2119\"}',\n",
       "       u'latitude': u'42.326310460822675',\n",
       "       u'longitude': u'-71.07549468090706'}},\n",
       "     {u'count': 7,\n",
       "      u'item': {u'human_address': u'{\"address\":\"1520 Dorchester Ave.\",\"city\":\"Dorchester\",\"state\":\"MA\",\"zip\":\"2122\"}',\n",
       "       u'latitude': u'42.298680619199025',\n",
       "       u'longitude': u'-71.06055668638655'}},\n",
       "     {u'count': 6,\n",
       "      u'item': {u'human_address': u'{\"address\":\"1062 Blue Hill Ave.&nbsp;\",\"city\":\"Dorchester\",\"state\":\"MA\",\"zip\":\"2124\"}',\n",
       "       u'latitude': u'42.288048897868066',\n",
       "       u'longitude': u'-71.09006389530197'}},\n",
       "     {u'count': 5,\n",
       "      u'item': {u'human_address': u'{\"address\":\"230 Meridian St.\",\"city\":\"East Boston\",\"state\":\"MA\",\"zip\":\"2128\"}',\n",
       "       u'latitude': u'42.37566984318278',\n",
       "       u'longitude': u'-71.03914428200301'}},\n",
       "     {u'count': 4,\n",
       "      u'item': {u'human_address': u'{\"address\":\"45 Brookside Ave\",\"city\":\"Jamaica Plain\",\"state\":\"MA\",\"zip\":\"2130\"}',\n",
       "       u'latitude': u'42.31333910264873',\n",
       "       u'longitude': u'-71.1034748920108'}},\n",
       "     {u'count': 3,\n",
       "      u'item': {u'human_address': u'{\"address\":\"677 Centre St.&nbsp;\",\"city\":\"Jamaica Plain\",\"state\":\"MA\",\"zip\":\"2130\"}',\n",
       "       u'latitude': u'42.312114755372136',\n",
       "       u'longitude': u'-71.11424666466985'}},\n",
       "     {u'count': 2,\n",
       "      u'item': {u'human_address': u'{\"address\":\"12 South St.\",\"city\":\"Jamaica Plain\",\"state\":\"MA\",\"zip\":\"2130\"}',\n",
       "       u'latitude': u'42.309470748605975',\n",
       "       u'longitude': u'-71.11546974262967'}},\n",
       "     {u'count': 1,\n",
       "      u'item': {u'human_address': u'{\"address\":\"525 River St.&nbsp;\",\"city\":\"Mattapan\",\"state\":\"MA\",\"zip\":\"2126\"}',\n",
       "       u'latitude': u'42.267260000248996',\n",
       "       u'longitude': u'-71.09459999998984'}}]},\n",
       "   u'dataTypeName': u'location',\n",
       "   u'fieldName': u'location_1',\n",
       "   u'format': {},\n",
       "   u'id': 62425156,\n",
       "   u'name': u'Location 1',\n",
       "   u'position': 12,\n",
       "   u'renderTypeName': u'location',\n",
       "   u'subColumnTypes': [u'human_address',\n",
       "    u'latitude',\n",
       "    u'longitude',\n",
       "    u'machine_address',\n",
       "    u'needs_recoding'],\n",
       "   u'tableColumnId': 10025022,\n",
       "   u'width': 220}],\n",
       " u'createdAt': 1367422001,\n",
       " u'description': u\"Summer farmers' market in Boston and surrounding areas that accept various forms of food assistance benefits. Subject to change in future seasons; information listed was accurate as of spring 2013. Please contact us with any corrections: genevieve.goldleaf@cityofboston.gov\",\n",
       " u'displayType': u'table',\n",
       " u'downloadCount': 502,\n",
       " u'flags': [u'default'],\n",
       " u'grants': [{u'flags': [u'public'], u'inherited': False, u'type': u'viewer'}],\n",
       " u'id': u'udwx-qxp4',\n",
       " u'indexUpdatedAt': 1414539340,\n",
       " u'license': {u'logoUrl': u'images/licenses/ccZero.png',\n",
       "  u'name': u'Creative Commons 1.0 Universal (Public Domain Dedication)',\n",
       "  u'termsLink': u'http://creativecommons.org/publicdomain/zero/1.0/legalcode'},\n",
       " u'licenseId': u'CC0_10',\n",
       " u'metadata': {u'availableDisplayTypes': [u'table', u'fatrow', u'page'],\n",
       "  u'custom_fields': {u'Data Owner': {u'Owner': u'Office of the Mayor'}},\n",
       "  u'renderTypeConfig': {u'visible': {u'table': True}}},\n",
       " u'name': u'Farmers Markets With Benefits',\n",
       " u'newBackend': False,\n",
       " u'numberOfComments': 0,\n",
       " u'oid': 3425311,\n",
       " u'owner': {u'displayName': u'GGoldleaf',\n",
       "  u'id': u'qyzb-duix',\n",
       "  u'rights': [u'create_datasets',\n",
       "   u'edit_others_datasets',\n",
       "   u'edit_nominations',\n",
       "   u'approve_nominations',\n",
       "   u'moderate_comments',\n",
       "   u'manage_stories',\n",
       "   u'feature_items',\n",
       "   u'change_configurations',\n",
       "   u'view_domain',\n",
       "   u'view_others_datasets',\n",
       "   u'create_pages',\n",
       "   u'edit_pages',\n",
       "   u'view_goals',\n",
       "   u'view_dashboards',\n",
       "   u'edit_goals',\n",
       "   u'edit_dashboards'],\n",
       "  u'roleName': u'publisher',\n",
       "  u'screenName': u'GGoldleaf'},\n",
       " u'publicationAppendEnabled': False,\n",
       " u'publicationDate': 1371045114,\n",
       " u'publicationGroup': 830403,\n",
       " u'publicationStage': u'published',\n",
       " u'query': {},\n",
       " u'rights': [u'read'],\n",
       " u'rowsUpdatedAt': 1367425515,\n",
       " u'rowsUpdatedBy': u'qyzb-duix',\n",
       " u'tableAuthor': {u'displayName': u'GGoldleaf',\n",
       "  u'id': u'qyzb-duix',\n",
       "  u'rights': [u'create_datasets',\n",
       "   u'edit_others_datasets',\n",
       "   u'edit_nominations',\n",
       "   u'approve_nominations',\n",
       "   u'moderate_comments',\n",
       "   u'manage_stories',\n",
       "   u'feature_items',\n",
       "   u'change_configurations',\n",
       "   u'view_domain',\n",
       "   u'view_others_datasets',\n",
       "   u'create_pages',\n",
       "   u'edit_pages',\n",
       "   u'view_goals',\n",
       "   u'view_dashboards',\n",
       "   u'edit_goals',\n",
       "   u'edit_dashboards'],\n",
       "  u'roleName': u'publisher',\n",
       "  u'screenName': u'GGoldleaf'},\n",
       " u'tableId': 830403,\n",
       " u'tags': [u'snap',\n",
       "  u'ebt',\n",
       "  u'wic',\n",
       "  u'bounty bucks',\n",
       "  u'food',\n",
       "  u'farmers markets',\n",
       "  u'food initiatives',\n",
       "  u'office of food initiatives',\n",
       "  u'food access',\n",
       "  u'local food'],\n",
       " u'totalTimesRated': 0,\n",
       " u'viewCount': 1972,\n",
       " u'viewLastModified': 1371045114,\n",
       " u'viewType': u'tabular'}"
      ]
     },
     "execution_count": 21,
     "metadata": {},
     "output_type": "execute_result"
    }
   ],
   "source": [
    "meta['view']"
   ]
  },
  {
   "cell_type": "code",
   "execution_count": 22,
   "metadata": {
    "collapsed": false
   },
   "outputs": [
    {
     "data": {
      "text/plain": [
       "1"
      ]
     },
     "execution_count": 22,
     "metadata": {},
     "output_type": "execute_result"
    }
   ],
   "source": [
    "len(meta)"
   ]
  },
  {
   "cell_type": "code",
   "execution_count": 23,
   "metadata": {
    "collapsed": false
   },
   "outputs": [
    {
     "data": {
      "text/plain": [
       "dict"
      ]
     },
     "execution_count": 23,
     "metadata": {},
     "output_type": "execute_result"
    }
   ],
   "source": [
    "type(view)"
   ]
  },
  {
   "cell_type": "code",
   "execution_count": 24,
   "metadata": {
    "collapsed": false
   },
   "outputs": [
    {
     "name": "stdout",
     "output_type": "stream",
     "text": [
      "dict_keys([u'newBackend', u'licenseId', u'publicationDate', u'viewLastModified', u'owner', u'query', u'id', u'createdAt', u'category', u'publicationAppendEnabled', u'publicationStage', u'publicationGroup', u'displayType', u'rowsUpdatedBy', u'attributionLink', u'indexUpdatedAt', u'columns', u'metadata', u'attribution', u'description', u'tags', u'oid', u'flags', u'viewCount', u'numberOfComments', u'name', u'license', u'rights', u'totalTimesRated', u'grants', u'tableId', u'downloadCount', u'rowsUpdatedAt', u'viewType', u'tableAuthor', u'averageRating'])\n"
     ]
    }
   ],
   "source": [
    "print view.viewkeys()"
   ]
  },
  {
   "cell_type": "code",
   "execution_count": 25,
   "metadata": {
    "collapsed": false
   },
   "outputs": [],
   "source": [
    "view_cols = view['columns']"
   ]
  },
  {
   "cell_type": "code",
   "execution_count": 26,
   "metadata": {
    "collapsed": false
   },
   "outputs": [
    {
     "data": {
      "text/plain": [
       "19"
      ]
     },
     "execution_count": 26,
     "metadata": {},
     "output_type": "execute_result"
    }
   ],
   "source": [
    "len(view_cols)"
   ]
  },
  {
   "cell_type": "code",
   "execution_count": 27,
   "metadata": {
    "collapsed": false
   },
   "outputs": [
    {
     "data": {
      "text/plain": [
       "list"
      ]
     },
     "execution_count": 27,
     "metadata": {},
     "output_type": "execute_result"
    }
   ],
   "source": [
    "type(view_cols)"
   ]
  },
  {
   "cell_type": "code",
   "execution_count": 28,
   "metadata": {
    "collapsed": false
   },
   "outputs": [],
   "source": [
    "final_col = view_cols[18]"
   ]
  },
  {
   "cell_type": "code",
   "execution_count": 29,
   "metadata": {
    "collapsed": false
   },
   "outputs": [
    {
     "data": {
      "text/plain": [
       "dict"
      ]
     },
     "execution_count": 29,
     "metadata": {},
     "output_type": "execute_result"
    }
   ],
   "source": [
    "type(final_col)"
   ]
  },
  {
   "cell_type": "code",
   "execution_count": 30,
   "metadata": {
    "collapsed": false
   },
   "outputs": [
    {
     "data": {
      "text/plain": [
       "11"
      ]
     },
     "execution_count": 30,
     "metadata": {},
     "output_type": "execute_result"
    }
   ],
   "source": [
    "len(final_col)"
   ]
  },
  {
   "cell_type": "code",
   "execution_count": 31,
   "metadata": {
    "collapsed": false
   },
   "outputs": [
    {
     "data": {
      "text/plain": [
       "dict_keys([u'tableColumnId', u'name', u'format', u'dataTypeName', u'width', u'fieldName', u'subColumnTypes', u'renderTypeName', u'position', u'id', u'cachedContents'])"
      ]
     },
     "execution_count": 31,
     "metadata": {},
     "output_type": "execute_result"
    }
   ],
   "source": [
    "final_col.viewkeys()"
   ]
  },
  {
   "cell_type": "code",
   "execution_count": 32,
   "metadata": {
    "collapsed": false
   },
   "outputs": [],
   "source": [
    "keys = final_col.viewkeys()"
   ]
  },
  {
   "cell_type": "code",
   "execution_count": 33,
   "metadata": {
    "collapsed": false
   },
   "outputs": [
    {
     "name": "stdout",
     "output_type": "stream",
     "text": [
      "--------------\n",
      "tableColumnId \n",
      "10025022\n",
      "--------------\n",
      "name \n",
      "Location 1\n",
      "--------------\n",
      "format \n",
      "{}\n",
      "--------------\n",
      "dataTypeName \n",
      "location\n",
      "--------------\n",
      "width \n",
      "220\n",
      "--------------\n",
      "fieldName \n",
      "location_1\n",
      "--------------\n",
      "subColumnTypes \n",
      "[u'human_address', u'latitude', u'longitude', u'machine_address', u'needs_recoding']\n",
      "--------------\n",
      "renderTypeName \n",
      "location\n",
      "--------------\n",
      "position \n",
      "12\n",
      "--------------\n",
      "id \n",
      "62425156\n",
      "--------------\n",
      "cachedContents \n",
      "{u'top': [{u'count': 20, u'item': {u'latitude': u'42.36294649117586', u'human_address': u'{\"address\":\"200 North Harvard St.\",\"city\":\"Allston\",\"state\":\"MA\",\"zip\":\"2134\"}', u'longitude': u'-71.12989702892453'}}, {u'count': 19, u'item': {u'latitude': u'42.353068632256054', u'human_address': u'{\"address\":\"500 Cambridge St.\",\"city\":\"Allston\",\"state\":\"MA\",\"zip\":\"2134\"}', u'longitude': u'-71.13854338564968'}}, {u'count': 18, u'item': {u'latitude': u'42.35862999957499', u'human_address': u'{\"address\":\"1 City Hall Plaza&nbsp;\",\"city\":\"Boston\",\"state\":\"MA\",\"zip\":\"2108\"}', u'longitude': u'-71.05669999960514'}}, {u'count': 17, u'item': {u'latitude': u'42.35862999957499', u'human_address': u'{\"address\":\"850 Harrison Ave.&nbsp;\",\"city\":\"Boston\",\"state\":\"MA\",\"zip\":\"2118\"}', u'longitude': u'-71.05669999960514'}}, {u'count': 16, u'item': {u'latitude': u'42.35037907261797', u'human_address': u'{\"address\":\"261 Dartmouth St.\",\"city\":\"Boston\",\"state\":\"MA\",\"zip\":\"2116\"}', u'longitude': u'-71.07743885250946'}}, {u'count': 15, u'item': {u'latitude': u'42.36377855691379', u'human_address': u'{\"address\":\"200 Atlantic Ave.\",\"city\":\"Boston\",\"state\":\"MA\",\"zip\":\"2109\"}', u'longitude': u'-71.05096847503998'}}, {u'count': 14, u'item': {u'latitude': u'42.348600250100844', u'human_address': u'{\"address\":\"800 Boylston St.\",\"city\":\"Boston\",\"state\":\"MA\",\"zip\":\"2199\"}', u'longitude': u'-71.08272542754287'}}, {u'count': 13, u'item': {u'latitude': u'42.375360285272365', u'human_address': u'{\"address\":\"1 Thompson Sq.\",\"city\":\"Charlestown\",\"state\":\"MA\",\"zip\":\"2129\"}', u'longitude': u'-71.06416671726463'}}, {u'count': 12, u'item': {u'latitude': u'42.285593702767336', u'human_address': u'{\"address\":\"1900 Dorchester Ave.\",\"city\":\"Dorchester\",\"state\":\"MA\",\"zip\":\"2124\"}', u'longitude': u'-71.06425662735673'}}, {u'count': 11, u'item': {u'latitude': u'42.30580023935842', u'human_address': u'{\"address\":\"230 Bowdoin St.\",\"city\":\"Dorchester\",\"state\":\"MA\",\"zip\":\"2122\"}', u'longitude': u'-71.06764200765619'}}, {u'count': 10, u'item': {u'latitude': u'42.28985653514695', u'human_address': u'{\"address\":\"6 Norfolk St.\",\"city\":\"Dorchester\",\"state\":\"MA\",\"zip\":\"2124\"}', u'longitude': u'-71.07240121064649'}}, {u'count': 9, u'item': {u'latitude': u'42.30455145710573', u'human_address': u'{\"address\":\"1353 Dorchester Ave.&nbsp;\",\"city\":\"Dorchester\",\"state\":\"MA\",\"zip\":\"2122\"}', u'longitude': u'-71.0591541971549'}}, {u'count': 8, u'item': {u'latitude': u'42.326310460822675', u'human_address': u'{\"address\":\"390 Dudley St.\",\"city\":\"Dorchester\",\"state\":\"MA\",\"zip\":\"2119\"}', u'longitude': u'-71.07549468090706'}}, {u'count': 7, u'item': {u'latitude': u'42.298680619199025', u'human_address': u'{\"address\":\"1520 Dorchester Ave.\",\"city\":\"Dorchester\",\"state\":\"MA\",\"zip\":\"2122\"}', u'longitude': u'-71.06055668638655'}}, {u'count': 6, u'item': {u'latitude': u'42.288048897868066', u'human_address': u'{\"address\":\"1062 Blue Hill Ave.&nbsp;\",\"city\":\"Dorchester\",\"state\":\"MA\",\"zip\":\"2124\"}', u'longitude': u'-71.09006389530197'}}, {u'count': 5, u'item': {u'latitude': u'42.37566984318278', u'human_address': u'{\"address\":\"230 Meridian St.\",\"city\":\"East Boston\",\"state\":\"MA\",\"zip\":\"2128\"}', u'longitude': u'-71.03914428200301'}}, {u'count': 4, u'item': {u'latitude': u'42.31333910264873', u'human_address': u'{\"address\":\"45 Brookside Ave\",\"city\":\"Jamaica Plain\",\"state\":\"MA\",\"zip\":\"2130\"}', u'longitude': u'-71.1034748920108'}}, {u'count': 3, u'item': {u'latitude': u'42.312114755372136', u'human_address': u'{\"address\":\"677 Centre St.&nbsp;\",\"city\":\"Jamaica Plain\",\"state\":\"MA\",\"zip\":\"2130\"}', u'longitude': u'-71.11424666466985'}}, {u'count': 2, u'item': {u'latitude': u'42.309470748605975', u'human_address': u'{\"address\":\"12 South St.\",\"city\":\"Jamaica Plain\",\"state\":\"MA\",\"zip\":\"2130\"}', u'longitude': u'-71.11546974262967'}}, {u'count': 1, u'item': {u'latitude': u'42.267260000248996', u'human_address': u'{\"address\":\"525 River St.&nbsp;\",\"city\":\"Mattapan\",\"state\":\"MA\",\"zip\":\"2126\"}', u'longitude': u'-71.09459999998984'}}], u'non_null': 26, u'null': 0, u'smallest': {u'latitude': u'42.35862999957499', u'human_address': u'{\"address\":\"1 City Hall Plaza&nbsp;\",\"city\":\"Boston\",\"state\":\"MA\",\"zip\":\"2108\"}', u'longitude': u'-71.05669999960514'}, u'largest': {u'latitude': u'42.337950000092576', u'human_address': u'{\"address\":\"W 446 W. Broadway St.&nbsp;\",\"city\":\"South Boston\",\"state\":\"MA\",\"zip\":\"2127\"}', u'longitude': u'-71.04948000030163'}}\n"
     ]
    }
   ],
   "source": [
    "for curr_key in keys:\n",
    "    print '--------------\\n', curr_key, '\\n', final_col[curr_key]\n"
   ]
  },
  {
   "cell_type": "code",
   "execution_count": 34,
   "metadata": {
    "collapsed": false
   },
   "outputs": [
    {
     "data": {
      "text/plain": [
       "[1,\n",
       " u'356882CD-C97D-45AB-BAFB-E170CAE814A8',\n",
       " 1,\n",
       " 1367422003,\n",
       " u'699782',\n",
       " 1367425504,\n",
       " u'699782',\n",
       " u'{\\n}',\n",
       " u'Allston Harvard',\n",
       " u'200 North Harvard St.',\n",
       " u'Allston',\n",
       " u'June 14 - Oct 25',\n",
       " u'Fridays',\n",
       " u'3-7pm',\n",
       " u'Yes',\n",
       " u'Yes',\n",
       " u'Yes',\n",
       " u'Yes',\n",
       " [u'{\"address\":\"200 North Harvard St.\",\"city\":\"Allston\",\"state\":\"MA\",\"zip\":\"2134\"}',\n",
       "  u'42.36294649117586',\n",
       "  u'-71.12989702892453',\n",
       "  None,\n",
       "  False]]"
      ]
     },
     "execution_count": 34,
     "metadata": {},
     "output_type": "execute_result"
    }
   ],
   "source": [
    "data[0]"
   ]
  },
  {
   "cell_type": "code",
   "execution_count": 35,
   "metadata": {
    "collapsed": false
   },
   "outputs": [
    {
     "data": {
      "text/plain": [
       "list"
      ]
     },
     "execution_count": 35,
     "metadata": {},
     "output_type": "execute_result"
    }
   ],
   "source": [
    "first = data[0]\n",
    "type(first)"
   ]
  },
  {
   "cell_type": "code",
   "execution_count": 36,
   "metadata": {
    "collapsed": false
   },
   "outputs": [
    {
     "data": {
      "text/plain": [
       "19"
      ]
     },
     "execution_count": 36,
     "metadata": {},
     "output_type": "execute_result"
    }
   ],
   "source": [
    "len(first)"
   ]
  },
  {
   "cell_type": "code",
   "execution_count": 37,
   "metadata": {
    "collapsed": false
   },
   "outputs": [
    {
     "data": {
      "text/plain": [
       "{u'dataTypeName': u'meta_data',\n",
       " u'fieldName': u':sid',\n",
       " u'format': {},\n",
       " u'id': -1,\n",
       " u'name': u'sid',\n",
       " u'position': 0,\n",
       " u'renderTypeName': u'meta_data'}"
      ]
     },
     "execution_count": 37,
     "metadata": {},
     "output_type": "execute_result"
    }
   ],
   "source": [
    "view_cols[0]"
   ]
  },
  {
   "cell_type": "code",
   "execution_count": 38,
   "metadata": {
    "collapsed": false
   },
   "outputs": [
    {
     "name": "stdout",
     "output_type": "stream",
     "text": [
      "----------\n",
      ":sid \n",
      "2\n",
      "----------\n",
      ":id \n",
      "1DB1730B-8DD8-42BD-A932-D7B83A0403C9\n",
      "----------\n",
      ":position \n",
      "2\n",
      "----------\n",
      ":created_at \n",
      "1367422003\n",
      "----------\n",
      ":created_meta \n",
      "699782\n",
      "----------\n",
      ":updated_at \n",
      "1367425503\n",
      "----------\n",
      ":updated_meta \n",
      "699782\n",
      "----------\n",
      ":meta \n",
      "{\n",
      "}\n",
      "----------\n",
      "name \n",
      "Allston Village /Union Square\n",
      "----------\n",
      "location \n",
      "500 Cambridge St.\n",
      "----------\n",
      "area \n",
      "Allston\n",
      "----------\n",
      "open_close_dates \n",
      "May 15 - Oct 26\n",
      "----------\n",
      "day \n",
      "Saturdays\n",
      "----------\n",
      "time \n",
      "11am-3pm\n",
      "----------\n",
      "snap \n",
      "Yes\n",
      "----------\n",
      "wic \n",
      "Yes\n",
      "----------\n",
      "ebt \n",
      "Yes\n",
      "----------\n",
      "bbb \n",
      "Yes\n"
     ]
    }
   ],
   "source": [
    "for idx in range(18):\n",
    "    print '----------\\n', view_cols[idx]['fieldName'], '\\n', data[1][idx]\n"
   ]
  },
  {
   "cell_type": "code",
   "execution_count": 39,
   "metadata": {
    "collapsed": false
   },
   "outputs": [],
   "source": [
    "col_names = []\n",
    "col_positions = []\n",
    "for idx in range(len(view_cols)):\n",
    "    col_names.append(view_cols[idx]['fieldName'])\n",
    "    col_positions.append(idx)\n"
   ]
  },
  {
   "cell_type": "code",
   "execution_count": 40,
   "metadata": {
    "collapsed": false
   },
   "outputs": [
    {
     "data": {
      "text/plain": [
       "[0, 1, 2, 3, 4, 5, 6, 7, 8, 9, 10, 11, 12, 13, 14, 15, 16, 17, 18]"
      ]
     },
     "execution_count": 40,
     "metadata": {},
     "output_type": "execute_result"
    }
   ],
   "source": [
    "col_positions"
   ]
  },
  {
   "cell_type": "code",
   "execution_count": 41,
   "metadata": {
    "collapsed": false
   },
   "outputs": [
    {
     "data": {
      "text/plain": [
       "[u':sid',\n",
       " u':id',\n",
       " u':position',\n",
       " u':created_at',\n",
       " u':created_meta',\n",
       " u':updated_at',\n",
       " u':updated_meta',\n",
       " u':meta',\n",
       " u'name',\n",
       " u'location',\n",
       " u'area',\n",
       " u'open_close_dates',\n",
       " u'day',\n",
       " u'time',\n",
       " u'snap',\n",
       " u'wic',\n",
       " u'ebt',\n",
       " u'bbb',\n",
       " u'location_1']"
      ]
     },
     "execution_count": 41,
     "metadata": {},
     "output_type": "execute_result"
    }
   ],
   "source": [
    "col_names"
   ]
  },
  {
   "cell_type": "code",
   "execution_count": 42,
   "metadata": {
    "collapsed": false
   },
   "outputs": [],
   "source": [
    "df = pd.DataFrame(np.random.randn(1,19), columns=col_names)"
   ]
  },
  {
   "cell_type": "code",
   "execution_count": 43,
   "metadata": {
    "collapsed": false
   },
   "outputs": [
    {
     "data": {
      "text/html": [
       "<div style=\"max-height:1000px;max-width:1500px;overflow:auto;\">\n",
       "<table border=\"1\" class=\"dataframe\">\n",
       "  <thead>\n",
       "    <tr style=\"text-align: right;\">\n",
       "      <th></th>\n",
       "      <th>:sid</th>\n",
       "      <th>:id</th>\n",
       "      <th>:position</th>\n",
       "      <th>:created_at</th>\n",
       "      <th>:created_meta</th>\n",
       "      <th>:updated_at</th>\n",
       "      <th>:updated_meta</th>\n",
       "      <th>:meta</th>\n",
       "      <th>name</th>\n",
       "      <th>location</th>\n",
       "      <th>area</th>\n",
       "      <th>open_close_dates</th>\n",
       "      <th>day</th>\n",
       "      <th>time</th>\n",
       "      <th>snap</th>\n",
       "      <th>wic</th>\n",
       "      <th>ebt</th>\n",
       "      <th>bbb</th>\n",
       "      <th>location_1</th>\n",
       "    </tr>\n",
       "  </thead>\n",
       "  <tbody>\n",
       "    <tr>\n",
       "      <th>0</th>\n",
       "      <td>-1.431496</td>\n",
       "      <td> 0.112023</td>\n",
       "      <td> 0.883896</td>\n",
       "      <td>-0.277136</td>\n",
       "      <td>-1.189595</td>\n",
       "      <td> 0.368055</td>\n",
       "      <td>-1.062355</td>\n",
       "      <td>-1.640028</td>\n",
       "      <td> 1.184953</td>\n",
       "      <td>-0.310863</td>\n",
       "      <td>-0.465881</td>\n",
       "      <td> 1.602738</td>\n",
       "      <td>-0.197941</td>\n",
       "      <td> 0.22487</td>\n",
       "      <td> 0.130729</td>\n",
       "      <td> 1.771953</td>\n",
       "      <td>-0.047986</td>\n",
       "      <td> 0.365001</td>\n",
       "      <td> 2.134873</td>\n",
       "    </tr>\n",
       "  </tbody>\n",
       "</table>\n",
       "<p>1 rows × 19 columns</p>\n",
       "</div>"
      ],
      "text/plain": [
       "       :sid       :id  :position  :created_at  :created_meta  :updated_at  \\\n",
       "0 -1.431496  0.112023   0.883896    -0.277136      -1.189595     0.368055   \n",
       "\n",
       "   :updated_meta     :meta      name  location      area  open_close_dates  \\\n",
       "0      -1.062355 -1.640028  1.184953 -0.310863 -0.465881          1.602738   \n",
       "\n",
       "        day     time      snap       wic       ebt       bbb  location_1  \n",
       "0 -0.197941  0.22487  0.130729  1.771953 -0.047986  0.365001    2.134873  \n",
       "\n",
       "[1 rows x 19 columns]"
      ]
     },
     "execution_count": 43,
     "metadata": {},
     "output_type": "execute_result"
    }
   ],
   "source": [
    "df"
   ]
  },
  {
   "cell_type": "code",
   "execution_count": null,
   "metadata": {
    "collapsed": false
   },
   "outputs": [],
   "source": []
  }
 ],
 "metadata": {
  "kernelspec": {
   "display_name": "Python 2",
   "language": "python",
   "name": "python2"
  },
  "language_info": {
   "codemirror_mode": {
    "name": "ipython",
    "version": 2
   },
   "file_extension": ".py",
   "mimetype": "text/x-python",
   "name": "python",
   "nbconvert_exporter": "python",
   "pygments_lexer": "ipython2",
   "version": "2.7.6"
  }
 },
 "nbformat": 4,
 "nbformat_minor": 0
}
