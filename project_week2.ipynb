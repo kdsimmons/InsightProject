{
 "metadata": {
  "name": ""
 },
 "nbformat": 3,
 "nbformat_minor": 0,
 "worksheets": [
  {
   "cells": [
    {
     "cell_type": "code",
     "collapsed": false,
     "input": [
      "import pandas as pd\n",
      "import bs4\n",
      "import re, numpy as np\n",
      "import matplotlib.pyplot as plt\n",
      "import requests, urllib2\n",
      "import tweepy\n",
      "import pymysql as mdb\n",
      "\n",
      "%matplotlib inline\n"
     ],
     "language": "python",
     "metadata": {},
     "outputs": [],
     "prompt_number": 280
    },
    {
     "cell_type": "code",
     "collapsed": false,
     "input": [
      "chosen_disease = \"multiple sclerosis\"\n",
      "clean_disease_name = ' '.join(chosen_disease.lower().replace('\\'s disease','').split())\n",
      "# TO DO: allow synonymous names (e.g. colon vs colorectal cancer)"
     ],
     "language": "python",
     "metadata": {},
     "outputs": [],
     "prompt_number": 281
    },
    {
     "cell_type": "code",
     "collapsed": false,
     "input": [
      "def scrape_bbb_urls(disease):\n",
      "    # import URL into beautiful soup object\n",
      "    # TO DO: go through multiple pages of search results\n",
      "    dis_as_str = '+'.join(disease.split())\n",
      "    give_org_urls = [\"http://give.org/search/?term=\" + dis_as_str + \"&location=&FilterAccredited=false&tobid=\"]\n",
      "\n",
      "#    give_org_urls = [\"http://give.org/search/?term=multiple+sclerosis&location=&FilterAccredited=false&tobid=\", \n",
      "#                     \"http://give.org/search/?page=2&term=multiple+sclerosis&location=&FilterAccredited=false&tobid=\", \n",
      "#                     \"http://give.org/search/?page=3&term=multiple+sclerosis&location=&FilterAccredited=false&tobid=\"]\n",
      "    bbb_soups = []\n",
      "    for give_org_url in give_org_urls:\n",
      "        response = requests.get(give_org_url)\n",
      "        bbb_soups.append(bs4.BeautifulSoup(response.text))\n",
      "        \n",
      "    return bbb_soups\n"
     ],
     "language": "python",
     "metadata": {},
     "outputs": [],
     "prompt_number": 282
    },
    {
     "cell_type": "code",
     "collapsed": false,
     "input": [
      "def clean_bbb_info(bbb_soups,disease):\n",
      "    # pull out charity links and info\n",
      "    # NOTE: May need permission to include links to BBB. I didn't find any info on restrictions in pulling information.\n",
      "    charities = []\n",
      "    for soup in bbb_soups:\n",
      "        bbb_table = soup.select('div.search table')[0].tbody \n",
      "        for row in bbb_table.findAll('tr'):\n",
      "            charity_data = {}\n",
      "            charity_data['disease'] = disease\n",
      "            charity_data['name'] = row.select('a.charity-link')[0].get_text()\n",
      "            charity_data['bbb_link'] = row.select('a.charity-link')[0].attrs.get('href')\n",
      "            accred_seal = row.select('img.charity-search-seal')\n",
      "            if accred_seal:\n",
      "                charity_data['bbb_accred'] = accred_seal[0].attrs.get('alt')\n",
      "            else:\n",
      "                charity_data['bbb_accred'] = row.select('div.accreditation-mobile')[0].get_text()\n",
      "            charity_data['address'] = row.select('div.accreditation-mobile')[0].next_sibling.strip()\n",
      "            charity_data['city'] = row.select('div.accreditation-mobile')[0].next_sibling.next_sibling.next_sibling.strip()\n",
      "            \n",
      "            charities.append(charity_data)\n",
      "            \n",
      "    return charities\n"
     ],
     "language": "python",
     "metadata": {},
     "outputs": [],
     "prompt_number": 283
    },
    {
     "cell_type": "code",
     "collapsed": false,
     "input": [
      "bbb_soups = scrape_bbb_urls(clean_disease_name)"
     ],
     "language": "python",
     "metadata": {},
     "outputs": [],
     "prompt_number": 284
    },
    {
     "cell_type": "code",
     "collapsed": false,
     "input": [
      "len(bbb_soups)"
     ],
     "language": "python",
     "metadata": {},
     "outputs": [
      {
       "metadata": {},
       "output_type": "pyout",
       "prompt_number": 285,
       "text": [
        "1"
       ]
      }
     ],
     "prompt_number": 285
    },
    {
     "cell_type": "code",
     "collapsed": false,
     "input": [
      "bbb_charities = clean_bbb_info(bbb_soups,clean_disease_name)"
     ],
     "language": "python",
     "metadata": {},
     "outputs": [],
     "prompt_number": 286
    },
    {
     "cell_type": "code",
     "collapsed": false,
     "input": [
      "len(bbb_charities)"
     ],
     "language": "python",
     "metadata": {},
     "outputs": [
      {
       "metadata": {},
       "output_type": "pyout",
       "prompt_number": 287,
       "text": [
        "15"
       ]
      }
     ],
     "prompt_number": 287
    },
    {
     "cell_type": "code",
     "collapsed": false,
     "input": [
      "def get_charity_links(charities):\n",
      "    # Use BBB pages to get links to each charity's website\n",
      "    \n",
      "    for charity in charities:\n",
      "        soup = bs4.BeautifulSoup(requests.get(charity['bbb_link']).text)\n",
      "        if len(soup.select('div.charity-contact')) > 0:\n",
      "            charity['link'] = soup.select('div.charity-contact')[0].a.attrs.get('href')\n",
      "        elif len(soup.select('div.charity-detail-text')) > 0:\n",
      "            charity['link'] = soup.select('div.charity-detail-text')[0].a.attrs.get('href')\n",
      "        elif len(soup.select('a#ctl00_ContentPlaceHolder1_aWebUrl')) > 0:\n",
      "            charity['link'] = soup.select('a#ctl00_ContentPlaceHolder1_aWebUrl')[0].attrs.get('href')\n",
      "        else:\n",
      "            charity['link'] = ''\n",
      "    # TO DO: should add text search for websites printed as text rather than link\n",
      "    \n",
      "    return charities"
     ],
     "language": "python",
     "metadata": {},
     "outputs": [],
     "prompt_number": 288
    },
    {
     "cell_type": "code",
     "collapsed": false,
     "input": [
      "charities_with_links = get_charity_links(bbb_charities)"
     ],
     "language": "python",
     "metadata": {},
     "outputs": [],
     "prompt_number": 289
    },
    {
     "cell_type": "code",
     "collapsed": false,
     "input": [
      "len(charities_with_links)"
     ],
     "language": "python",
     "metadata": {},
     "outputs": [
      {
       "metadata": {},
       "output_type": "pyout",
       "prompt_number": 290,
       "text": [
        "15"
       ]
      }
     ],
     "prompt_number": 290
    },
    {
     "cell_type": "code",
     "collapsed": false,
     "input": [
      "def scrape_social_media(charities):\n",
      "    # Find Facebook likes and Twitter followers for each charity\n",
      "    # TO DO: Find the right FB/Twitter account, e.g. for National MS Society chapters.\n",
      "    for charity in charities:\n",
      "        if charity['link'] == '':\n",
      "            charity['facebook_link'] = ''\n",
      "            charity['twitter_link'] = ''\n",
      "        else: \n",
      "            try:\n",
      "                page = urllib2.urlopen(urllib2.Request(charity['link'], headers={'User-Agent' : 'Mozilla/5.0 (Windows; U; Windows NT 5.1; it; rv:1.8.1.11) Gecko/20071127 Firefox/2.0.0.11'}))\n",
      "                target_soup = bs4.BeautifulSoup(page.read(), 'html.parser')\n",
      "            except:\n",
      "                print charity['name']\n",
      "                continue\n",
      "    \n",
      "            try:\n",
      "                fblink = target_soup.select('a[href*=facebook.com]')[0].attrs.get('href')\n",
      "            except IndexError:\n",
      "                fblink = ''\n",
      "            charity['facebook_link'] = fblink \n",
      "            \n",
      "            try:\n",
      "                twlink = target_soup.select('a[href*=twitter.com]')[0].attrs.get('href')\n",
      "            except IndexError:\n",
      "                twlink = ''\n",
      "            charity['twitter_link'] = twlink\n",
      "            \n",
      "    return charities\n"
     ],
     "language": "python",
     "metadata": {},
     "outputs": [],
     "prompt_number": 291
    },
    {
     "cell_type": "code",
     "collapsed": false,
     "input": [
      "charities_with_social = scrape_social_media(charities_with_links)"
     ],
     "language": "python",
     "metadata": {},
     "outputs": [],
     "prompt_number": 292
    },
    {
     "cell_type": "code",
     "collapsed": false,
     "input": [
      "len(charities_with_social)"
     ],
     "language": "python",
     "metadata": {},
     "outputs": [
      {
       "metadata": {},
       "output_type": "pyout",
       "prompt_number": 293,
       "text": [
        "15"
       ]
      }
     ],
     "prompt_number": 293
    },
    {
     "cell_type": "code",
     "collapsed": false,
     "input": [
      "def get_twitter_followers(charities):\n",
      "    # import authorization info \n",
      "    twauth = pd.DataFrame.from_csv('/home/kristy/Documents/auth_codes/twitter_access.csv')\n",
      "    auth = tweepy.OAuthHandler(twauth.consumer_key['twitter'], twauth.consumer_secret['twitter'])\n",
      "    auth.set_access_token(twauth.access_token['twitter'], twauth.access_secret['twitter'])\n",
      "    \n",
      "    api = tweepy.API(auth)\n",
      "    \n",
      "    for charity in charities:\n",
      "        if charity['twitter_link'] == '':\n",
      "            charity['twitter_followers'] = 0\n",
      "        else:\n",
      "            try:\n",
      "                twitterid = re.findall('https://twitter.com/(.*)', charity['twitter_link'])[0]\n",
      "                user = api.get_user(twitterid)\n",
      "                charity['twitter_followers'] = user.followers_count\n",
      "            except:\n",
      "                charity['twitter_followers'] = 0\n",
      "                continue\n",
      "                \n",
      "    return charities\n"
     ],
     "language": "python",
     "metadata": {},
     "outputs": [],
     "prompt_number": 294
    },
    {
     "cell_type": "code",
     "collapsed": false,
     "input": [
      "char_with_twitter = get_twitter_followers(charities_with_social)\n",
      "len(char_with_twitter)"
     ],
     "language": "python",
     "metadata": {},
     "outputs": [
      {
       "metadata": {},
       "output_type": "pyout",
       "prompt_number": 295,
       "text": [
        "15"
       ]
      }
     ],
     "prompt_number": 295
    },
    {
     "cell_type": "code",
     "collapsed": false,
     "input": [
      "def get_char_nav_info(dictlist): \n",
      "    for charity in dictlist:\n",
      "        # get link to Charity Navigator's website on this charity\n",
      "        words = '+'.join(charity['name'].split())\n",
      "        url = ('https://www.charitynavigator.org/index.cfm?keyword_list=' + words \n",
      "               + '&nameonly=1&Submit2=Search&bay=search.results')\n",
      "        response = requests.get(url)\n",
      "        soup = bs4.BeautifulSoup(response.text)\n",
      "        if len(soup.select('p.rating')) > 0:\n",
      "            charity['cn_link'] = soup.select('p.rating')[0].a.attrs.get('href')\n",
      "            charity['cn_rated'] = 'Rated'\n",
      "        else:\n",
      "            url = ('https://www.charitynavigator.org/index.cfm?keyword_list=' + words \n",
      "                   + '&nameonly=1&Submit2=Search&bay=search.results2')\n",
      "            response = requests.get(url)\n",
      "            soup = bs4.BeautifulSoup(response.text)\n",
      "            if len(soup.select('p.orgname')) > 0:\n",
      "                charity['cn_link'] = soup.select('p.orgname')[0].a.attrs.get('href')\n",
      "                charity['cn_rated'] = 'Unrated'                \n",
      "            else:\n",
      "                print charity['name'] + \": No Charity Navigator link.\"\n",
      "                charity['cn_link'] = ''\n",
      "                charity['cn_rated'] = ''\n",
      "            charity['cn_overall'] = float('nan')\n",
      "            charity['cn_financial'] = float('nan')\n",
      "            charity['cn_acct_transp'] = float('nan')\n",
      "            continue\n",
      "        \n",
      "        # get Charity Navigator data \n",
      "        charsoup = bs4.BeautifulSoup(requests.get(charity['cn_link']).text)\n",
      "        strongtags = charsoup.select('strong')\n",
      "        overall_cells = []\n",
      "        fin_cells = []\n",
      "        acct_cells = []\n",
      "        for tg in strongtags:\n",
      "            if tg.text == \"Overall\":\n",
      "                overall_cells.append(float(tg.parent.nextSibling.nextSibling.text))\n",
      "            elif tg.text == \"Financial\":\n",
      "                fin_cells.append(float(tg.parent.nextSibling.nextSibling.text))\n",
      "            elif tg.text == \"Accountability & Transparency\":\n",
      "                acct_cells.append(float(tg.parent.nextSibling.nextSibling.text))\n",
      "        # include overall rating\n",
      "        if len(overall_cells) == 1:\n",
      "            charity['cn_overall'] = overall_cells[0]\n",
      "        elif len(overall_cells) > 1:\n",
      "            print charity['name'] + \": Too many candidate cells for Overall.\"\n",
      "            charity['cn_overall'] = overall_cells[0]\n",
      "        else:\n",
      "            print charity['name'] + \": No Overall cells.\"\n",
      "            charity['cn_overall'] = 0\n",
      "        # include financial rating\n",
      "        if len(fin_cells) == 1:\n",
      "            charity['cn_financial'] = fin_cells[0]\n",
      "        elif len(fin_cells) > 1:\n",
      "            print char['name'] + \": Too many candidate cells for Financial.\"\n",
      "            charity['cn_financial'] = fin_cells[0]\n",
      "        else:\n",
      "            #print \"No Financial cells\"\n",
      "            charity['cn_financial'] = 0\n",
      "        # include accountability rating\n",
      "        if len(acct_cells) == 1:\n",
      "            charity['cn_acct_transp'] = acct_cells[0]\n",
      "        elif len(acct_cells) > 1:\n",
      "            print charity['name'] + \": Too many candidate cells for Accountability & Transparency.\"\n",
      "            charity['cn_acct_transp'] = acct_cells[0]\n",
      "        else:\n",
      "            #print \"No Accountability & Transparency cells\"\n",
      "            charity['cn_acct_transp'] = 0\n",
      "    return dictlist\n"
     ],
     "language": "python",
     "metadata": {},
     "outputs": [],
     "prompt_number": 296
    },
    {
     "cell_type": "code",
     "collapsed": false,
     "input": [
      "char_with_nav_link = get_char_nav_info(char_with_twitter)"
     ],
     "language": "python",
     "metadata": {},
     "outputs": [],
     "prompt_number": 297
    },
    {
     "cell_type": "code",
     "collapsed": false,
     "input": [
      "panda_char = pd.DataFrame(char_with_nav_link)"
     ],
     "language": "python",
     "metadata": {},
     "outputs": [],
     "prompt_number": 298
    },
    {
     "cell_type": "code",
     "collapsed": false,
     "input": [
      "# make sure to do sudo mysqld_safe from command line first\n",
      "def convert_to_sql(pandadf,disease):\n",
      "    mysqlauth = pd.DataFrame.from_csv('/home/kristy/Documents/auth_codes/mysql_user.csv')\n",
      "    user = mysqlauth.username[0]\n",
      "    password = mysqlauth.password[0]\n",
      "\n",
      "    con = mdb.connect('localhost', user, password, 'charity_data')\n",
      "    \n",
      "    table_name = '_'.join(disease.split())\n",
      "    print table_name\n",
      "    with con:\n",
      "        cur = con.cursor()\n",
      "        \n",
      "        # set up table\n",
      "#        cur.execute(\"DROP TABLE IF EXISTS charities_sql\")\n",
      "        cur.execute(\"DROP TABLE IF EXISTS \" + str(table_name))\n",
      "        cur.execute(\"\\\n",
      "            CREATE TABLE \" + str(table_name) + \"(\\\n",
      "                id INT PRIMARY KEY AUTO_INCREMENT,\\\n",
      "                disease VARCHAR(255),\\\n",
      "                name VARCHAR(255),\\\n",
      "                address VARCHAR(255),\\\n",
      "                city VARCHAR(255),\\\n",
      "                link VARCHAR(255),\\\n",
      "                bbb_link VARCHAR(255),\\\n",
      "                facebook_link VARCHAR(255),\\\n",
      "                twitter_link VARCHAR(255),\\\n",
      "                cn_link VARCHAR(255),\\\n",
      "                bbb_accred VARCHAR(255),\\\n",
      "                cn_rated VARCHAR(255),\\\n",
      "                cn_overall FLOAT(8,4),\\\n",
      "                cn_financial FLOAT(8,4),\\\n",
      "                cn_acct_transp FLOAT(8,4),\\\n",
      "                facebook_likes INT,\\\n",
      "                twitter_followers INT\\\n",
      "           )\"\\\n",
      "        ) \n",
      "        \n",
      "        facebook_likes_placeholder = 0 # not scaped yet\n",
      "        \n",
      "        for idx in range(len(pandadf)):\n",
      "            value_str = (\"\\\"\" + str(pandadf.name[idx]) + \"\\\",\\\"\" + str(pandadf.disease[idx]) + \"\\\",\\\"\" + str(pandadf.address[idx]) + \"\\\",\\\"\" \n",
      "                         + str(pandadf.city[idx]) + \"\\\",\\\"\" + str(pandadf.link[idx]) + \"\\\",\\\"\" + str(pandadf.bbb_link[idx])\n",
      "                         + \"\\\",\\\"\" + str(pandadf.facebook_link[idx]) + \"\\\",\\\"\" + str(pandadf.twitter_link[idx]) + \"\\\",\\\"\" \n",
      "                         + str(pandadf.cn_link[idx]) + \"\\\",\\\"\" + str(pandadf.bbb_accred[idx]) + \"\\\",\\\"\" + str(pandadf.cn_rated[idx])\n",
      "                         + \"\\\",\\\"\" + str(pandadf.cn_overall[idx]) + \"\\\",\\\"\" + str(pandadf.cn_financial[idx]) + \"\\\",\\\"\" + str(pandadf.cn_acct_transp[idx]) \n",
      "                         + \"\\\",\\\"\" + str(facebook_likes_placeholder) + \"\\\",\\\"\" + str(pandadf.twitter_followers[idx]) + \"\\\"\")\n",
      "            cur.execute(\"INSERT INTO \" + str(table_name) + \"(name, disease, address, city, link, bbb_link, facebook_link, twitter_link, cn_link, bbb_accred, \\\n",
      "                        cn_rated, cn_overall, cn_financial, cn_acct_transp, facebook_likes, twitter_followers) VALUES(\" + value_str + \")\")\n",
      "        \n",
      "        cur.execute(\"SELECT * FROM \" + str(table_name))\n",
      "        rows = cur.fetchall()\n",
      "        #for row in rows:\n",
      "            #print row\n",
      "\n",
      "    return rows\n"
     ],
     "language": "python",
     "metadata": {},
     "outputs": [],
     "prompt_number": 299
    },
    {
     "cell_type": "code",
     "collapsed": false,
     "input": [
      "sqlrows = convert_to_sql(panda_char,clean_disease_name)"
     ],
     "language": "python",
     "metadata": {},
     "outputs": [
      {
       "output_type": "stream",
       "stream": "stdout",
       "text": [
        "multiple_sclerosis\n"
       ]
      }
     ],
     "prompt_number": 300
    },
    {
     "cell_type": "code",
     "collapsed": false,
     "input": [
      "len(sqlrows)"
     ],
     "language": "python",
     "metadata": {},
     "outputs": [
      {
       "metadata": {},
       "output_type": "pyout",
       "prompt_number": 301,
       "text": [
        "15"
       ]
      }
     ],
     "prompt_number": 301
    },
    {
     "cell_type": "code",
     "collapsed": false,
     "input": [
      "print sqlrows"
     ],
     "language": "python",
     "metadata": {},
     "outputs": [
      {
       "output_type": "stream",
       "stream": "stdout",
       "text": [
        "((1, 'multiple sclerosis', 'Multiple Sclerosis Foundation', '6520 North Andrews Avenue', 'Fort Lauderdale, FL 33309', 'http://www.msfocus.org', 'http://www.give.org/charity-reviews/national/health/multiple-sclerosis-foundation-in-fort-lauderdale-fl-572', 'https://www.facebook.com/MultipleSclerosisFoundation', 'https://twitter.com/MS_Focus', 'http://www.charitynavigator.org/index.cfm?bay=search.summary&orgid=5584', '\\nAccredited: No\\n', 'Rated', 86.86, 0.0, 0.0, 0, 6567), (2, 'multiple sclerosis', 'National Multiple Sclerosis Society', '733 Third Avenue, 3rd Floor', 'New York, NY 10017', 'http://www.nationalmssociety.org', 'http://www.give.org/charity-reviews/national/health/national-multiple-sclerosis-society-in-new-york-ny-597', 'https://www.facebook.com/nationalmssociety', 'https://twitter.com/mssociety', 'http://www.charitynavigator.org/index.cfm?bay=search.summary&orgid=4189', 'Accredited Charity', 'Rated', 83.97, 0.0, 0.0, 0, 42238), (3, 'multiple sclerosis', 'Multiple Sclerosis Association of America', '706 Haddonfield Road', 'Cherry Hill, NJ 08002', 'http://www.mymsaa.org/', 'http://www.give.org/charity-reviews/national/health/multiple-sclerosis-association-of-america-in-cherry-hill-nj-560', 'https://www.facebook.com/msassociation/', 'http://twitter.com/MSassociation/', 'http://www.charitynavigator.org/index.cfm?bay=search.summary&orgid=11332', 'Accredited Charity', 'Rated', 84.88, 0.0, 0.0, 0, 0), (4, 'multiple sclerosis', 'National Multiple Sclerosis Society Arizona Chapter', '5025 East Washington Street, Suite 102', 'Phoenix, AZ 85034', 'http://aza.nationalMSsociety.org', 'http://www.bbb.org/charity-reviews/phoenix/national-multiple-sclerosis-society-arizona-chapter-in-phoenix-az-17835', 'https://www.facebook.com/dialog/feed?app_id=479754615465940&link=http%3a%2f%2fwww.nationalmssociety.org%2fChapters%2fAZA&picture=http%3A%2F%2Fwww.nationalmssociety.org%2Fgetmedia%2F8def274c-c02c-47f6-85e3-6c59c6da746f%2FMSVerticalLogo&name=Arizona&descrip', 'https://twitter.com/share?url=http%3a%2f%2fwww.nationalmssociety.org%2fChapters%2fAZA&text=&via=mssociety', 'http://www.charitynavigator.org/index.cfm?bay=search.summary&orgid=12345', '\\nAccredited: No\\n', 'Rated', 69.64, 0.0, 0.0, 0, 0), (5, 'multiple sclerosis', 'National Multiple Sclerosis Society', '1650 South Ave', 'Rochester, NY 14620', 'http://www.nationalmssociety.org/chapters/nyr', 'http://www.bbb.org/upstate-new-york/business-reviews/charity-health/national-multiple-sclerosis-society-in-rochester-ny-235974211', 'https://www.facebook.com/dialog/feed?app_id=479754615465940&link=http%3a%2f%2fwww.nationalmssociety.org%2fChapters%2fNYR&picture=http%3A%2F%2Fwww.nationalmssociety.org%2Fgetmedia%2F8def274c-c02c-47f6-85e3-6c59c6da746f%2FMSVerticalLogo&name=Upstate+New+Yor', 'https://twitter.com/share?url=http%3a%2f%2fwww.nationalmssociety.org%2fChapters%2fNYR&text=&via=mssociety', 'http://www.charitynavigator.org/index.cfm?bay=search.summary&orgid=4189', '\\nAccredited: No\\n', 'Rated', 83.97, 0.0, 0.0, 0, 0), (6, 'multiple sclerosis', 'National Multiple Sclerosis Society', '4440 Lake Forest Drive', 'Cincinnati, OH 45242', 'http://www.fightmstoday.org', 'http://www.bbb.org/cincinnati/business-reviews/charity-health/national-multiple-sclerosis-society-in-cincinnati-oh-16862', 'https://www.facebook.com/dialog/feed?app_id=479754615465940&link=http%3a%2f%2fwww.nationalmssociety.org%2fChapters%2fOHG&picture=http%3A%2F%2Fwww.nationalmssociety.org%2Fgetmedia%2F8def274c-c02c-47f6-85e3-6c59c6da746f%2FMSVerticalLogo&name=Ohio+Valley&des', 'https://twitter.com/share?url=http%3a%2f%2fwww.nationalmssociety.org%2fChapters%2fOHG&text=&via=mssociety', 'http://www.charitynavigator.org/index.cfm?bay=search.summary&orgid=4189', 'Accredited Charity', 'Rated', 83.97, 0.0, 0.0, 0, 0), (7, 'multiple sclerosis', 'National Multiple Sclerosis Society', '4219 Hillsboro RoadSuite 306', 'Nashville, TN 37215', '', 'http://www.bbb.org/nashville/business-reviews/charity-local/national-multiple-sclerosis-society-in-nashville-tn-18100581', '', '', 'http://www.charitynavigator.org/index.cfm?bay=search.summary&orgid=4189', '\\nAccredited: No\\n', 'Rated', 83.97, 0.0, 0.0, 0, 0), (8, 'multiple sclerosis', 'Multiple Sclerosis Fund, Inc.', 'PO Box 153', 'Algoma, WI 54201', 'http://www.msfundinc.wordpress.com/', 'http://www.bbb.org/wisconsin/business-reviews/charity-health/multiple-sclerosis-fund-inc-in-algoma-wi-44252956', '', '', 'http://www.charitynavigator.org/index.cfm?bay=search.profile&ein=300222121', '\\nAccredited: No\\n', 'Unrated', 0.0, 0.0, 0.0, 0, 0), (9, 'multiple sclerosis', 'National Multiple Sclerosis Society', '1675 E Seminole St Ste J', 'Springfield, MO 658042480', '', 'http://www.bbb.org/southwestern-missouri/business-reviews/charity-national/national-multiple-sclerosis-society-in-springfield-mo-33244', '', '', 'http://www.charitynavigator.org/index.cfm?bay=search.summary&orgid=4189', '\\nAccredited: No\\n', 'Rated', 83.97, 0.0, 0.0, 0, 0), (10, 'multiple sclerosis', 'National Multiple Sclerosis Society', '1100 N University, Suite 225', 'Little Rock, AR 72207', '', 'http://www.bbb.org/arkansas/business-reviews/charity-local/national-multiple-sclerosis-society-in-little-rock-ar-90236739', '', '', 'http://www.charitynavigator.org/index.cfm?bay=search.summary&orgid=4189', '\\nAccredited: No\\n', 'Rated', 83.97, 0.0, 0.0, 0, 0), (11, 'multiple sclerosis', 'Can Do Multiple Sclerosis', '27 Main Street, Suite 303', 'Fort Collins, CO 81632', 'http://www.mscando.org', 'http://www.bbb.org/charity-reviews/fortcollins/can-do-multiple-sclerosis-in-fort-collins-co-42069', 'http://www.facebook.com/pages/Can-Do-Multiple-Sclerosis/252016383264', 'http://twitter.com/CanDoMS', 'http://www.charitynavigator.org/index.cfm?bay=search.summary&orgid=7883', '\\nAccredited: No\\n', 'Rated', 86.69, 0.0, 0.0, 0, 0), (12, 'multiple sclerosis', 'Multiple Sclerosis Society - Ontario Division', '700-175 Bloor Street E, North Tower', 'Toronto, ON M4W3R8', '', 'http://www.bbb.org/western-ontario/business-reviews/charity-national/multiple-sclerosis-society-ontario-division-in-toronto-on-18685', '', '', 'http://www.charitynavigator.org/index.cfm?bay=search.profile&ein=231583611', '\\nAccredited: No\\n', 'Unrated', 0.0, 0.0, 0.0, 0, 0), (13, 'multiple sclerosis', 'Oak Clinic for Multiple Sclerosis', '3838 Massillon Rd Ste 360', 'Uniontown, OH 446857965', '', 'http://www.bbb.org/akron/business-reviews/charity-health/oak-clinic-for-multiple-sclerosis-in-uniontown-oh-90019612', '', '', 'http://www.charitynavigator.org/index.cfm?bay=search.profile&ein=330880635', '\\nAccredited: No\\n', 'Unrated', 0.0, 0.0, 0.0, 0, 0), (14, 'multiple sclerosis', 'Friends of Multiple Sclerosis Charities', '396 W Ironwood Dr', 'Salt Lake City, UT 84115', 'http://www.friendsofms.com', 'http://www.bbb.org/utah/business-reviews/charity-health/friends-of-multiple-sclerosis-charities-in-salt-lake-city-ut-22360135', '', '', 'http://www.charitynavigator.org/index.cfm?bay=search.profile&ein=880388560', '\\nAccredited: No\\n', 'Unrated', 0.0, 0.0, 0.0, 0, 0), (15, 'multiple sclerosis', 'National Multiple Sclerosis Society - Nyc Chapter', '733 Third Avenue', 'New York, NY 10017', 'http://www.msnyc.org', 'http://www.bbb.org/new-york-city/business-reviews/charity-elderly/national-multiple-sclerosis-society-nyc-chapter-in-new-york-ny-153472', 'https://www.facebook.com/dialog/feed?app_id=479754615465940&link=http%3a%2f%2fwww.nationalmssociety.org%2fChapters%2fNYN&picture=http%3A%2F%2Fwww.nationalmssociety.org%2Fgetmedia%2F8def274c-c02c-47f6-85e3-6c59c6da746f%2FMSVerticalLogo&name=New+York+City+%', 'https://twitter.com/share?url=http%3a%2f%2fwww.nationalmssociety.org%2fChapters%2fNYN&text=&via=mssociety', 'http://www.charitynavigator.org/index.cfm?bay=search.profile&ein=231583611', '\\nAccredited: Yes\\n', 'Unrated', 0.0, 0.0, 0.0, 0, 0))\n"
       ]
      }
     ],
     "prompt_number": 302
    },
    {
     "cell_type": "code",
     "collapsed": false,
     "input": [
      "print clean_disease_name"
     ],
     "language": "python",
     "metadata": {},
     "outputs": [
      {
       "output_type": "stream",
       "stream": "stdout",
       "text": [
        "multiple sclerosis\n"
       ]
      }
     ],
     "prompt_number": 303
    },
    {
     "cell_type": "code",
     "collapsed": false,
     "input": [],
     "language": "python",
     "metadata": {},
     "outputs": [],
     "prompt_number": 303
    }
   ],
   "metadata": {}
  }
 ]
}