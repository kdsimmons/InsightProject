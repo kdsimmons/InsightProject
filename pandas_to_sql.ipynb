{
 "metadata": {
  "name": ""
 },
 "nbformat": 3,
 "nbformat_minor": 0,
 "worksheets": [
  {
   "cells": [
    {
     "cell_type": "code",
     "collapsed": false,
     "input": [
      "import pandas as pd\n",
      "import bs4\n",
      "import re\n",
      "import matplotlib.pyplot as plt\n",
      "import requests, urllib2\n",
      "import tweepy\n",
      "import pymysql as mdb\n",
      "import sqlalchemy\n",
      "\n",
      "%matplotlib inline\n"
     ],
     "language": "python",
     "metadata": {},
     "outputs": [],
     "prompt_number": 29
    },
    {
     "cell_type": "code",
     "collapsed": false,
     "input": [
      "mysqlauth = pd.DataFrame.from_csv('/home/kristy/Documents/auth_codes/mysql_user.csv')\n",
      "user = mysqlauth.username[0]\n",
      "password = mysqlauth.password[0]\n",
      "\n",
      "con = mdb.connect('localhost', user, password, 'charity_data')\n"
     ],
     "language": "python",
     "metadata": {},
     "outputs": [],
     "prompt_number": 33
    },
    {
     "cell_type": "code",
     "collapsed": false,
     "input": [
      "with con:\n",
      "    pandadf = pd.read_sql(\"SELECT * FROM colon_cancer\", con)"
     ],
     "language": "python",
     "metadata": {},
     "outputs": [],
     "prompt_number": 34
    },
    {
     "cell_type": "code",
     "collapsed": false,
     "input": [
      "pandadf"
     ],
     "language": "python",
     "metadata": {},
     "outputs": [
      {
       "html": [
        "<div style=\"max-height:1000px;max-width:1500px;overflow:auto;\">\n",
        "<table border=\"1\" class=\"dataframe\">\n",
        "  <thead>\n",
        "    <tr style=\"text-align: right;\">\n",
        "      <th></th>\n",
        "      <th>id</th>\n",
        "      <th>disease</th>\n",
        "      <th>name</th>\n",
        "      <th>address</th>\n",
        "      <th>city</th>\n",
        "      <th>link</th>\n",
        "      <th>bbb_link</th>\n",
        "      <th>facebook_link</th>\n",
        "      <th>twitter_link</th>\n",
        "      <th>cn_link</th>\n",
        "      <th>bbb_accred</th>\n",
        "      <th>cn_rated</th>\n",
        "      <th>cn_overall</th>\n",
        "      <th>cn_financial</th>\n",
        "      <th>cn_acct_transp</th>\n",
        "      <th>facebook_likes</th>\n",
        "      <th>twitter_followers</th>\n",
        "    </tr>\n",
        "  </thead>\n",
        "  <tbody>\n",
        "    <tr>\n",
        "      <th>0</th>\n",
        "      <td> 1</td>\n",
        "      <td> colon cancer</td>\n",
        "      <td>                Colon Cancer Alliance</td>\n",
        "      <td> 1025 Vermont Avenue, Suite 1066</td>\n",
        "      <td> Washington, DC 20005</td>\n",
        "      <td> http://www.ccalliance.org</td>\n",
        "      <td> http://www.give.org/charity-reviews/national/c...</td>\n",
        "      <td> http://www.facebook.com/pages/Colon-Cancer-All...</td>\n",
        "      <td> http://twitter.com/CCAlliance</td>\n",
        "      <td> http://www.charitynavigator.org/index.cfm?bay=...</td>\n",
        "      <td> Accredited Charity</td>\n",
        "      <td>   Rated</td>\n",
        "      <td> 92.65</td>\n",
        "      <td> 0</td>\n",
        "      <td> 0</td>\n",
        "      <td> 0</td>\n",
        "      <td> 0</td>\n",
        "    </tr>\n",
        "    <tr>\n",
        "      <th>1</th>\n",
        "      <td> 2</td>\n",
        "      <td> colon cancer</td>\n",
        "      <td> Great Plains Colon Cancer Task Force</td>\n",
        "      <td>                     PO Box 3434</td>\n",
        "      <td>  Omaha, NE 681030434</td>\n",
        "      <td>                          </td>\n",
        "      <td> http://www.bbb.org/nebraska/business-reviews/c...</td>\n",
        "      <td>                                                  </td>\n",
        "      <td>                              </td>\n",
        "      <td> http://www.charitynavigator.org/index.cfm?bay=...</td>\n",
        "      <td> \\nAccredited: No\\n</td>\n",
        "      <td> Unrated</td>\n",
        "      <td>  0.00</td>\n",
        "      <td> 0</td>\n",
        "      <td> 0</td>\n",
        "      <td> 0</td>\n",
        "      <td> 0</td>\n",
        "    </tr>\n",
        "  </tbody>\n",
        "</table>\n",
        "<p>2 rows \u00d7 17 columns</p>\n",
        "</div>"
       ],
       "metadata": {},
       "output_type": "pyout",
       "prompt_number": 35,
       "text": [
        "   id       disease                                  name  \\\n",
        "0   1  colon cancer                 Colon Cancer Alliance   \n",
        "1   2  colon cancer  Great Plains Colon Cancer Task Force   \n",
        "\n",
        "                           address                  city  \\\n",
        "0  1025 Vermont Avenue, Suite 1066  Washington, DC 20005   \n",
        "1                      PO Box 3434   Omaha, NE 681030434   \n",
        "\n",
        "                        link  \\\n",
        "0  http://www.ccalliance.org   \n",
        "1                              \n",
        "\n",
        "                                            bbb_link  \\\n",
        "0  http://www.give.org/charity-reviews/national/c...   \n",
        "1  http://www.bbb.org/nebraska/business-reviews/c...   \n",
        "\n",
        "                                       facebook_link  \\\n",
        "0  http://www.facebook.com/pages/Colon-Cancer-All...   \n",
        "1                                                      \n",
        "\n",
        "                    twitter_link  \\\n",
        "0  http://twitter.com/CCAlliance   \n",
        "1                                  \n",
        "\n",
        "                                             cn_link          bbb_accred  \\\n",
        "0  http://www.charitynavigator.org/index.cfm?bay=...  Accredited Charity   \n",
        "1  http://www.charitynavigator.org/index.cfm?bay=...  \\nAccredited: No\\n   \n",
        "\n",
        "  cn_rated  cn_overall  cn_financial  cn_acct_transp  facebook_likes  \\\n",
        "0    Rated       92.65             0               0               0   \n",
        "1  Unrated        0.00             0               0               0   \n",
        "\n",
        "   twitter_followers  \n",
        "0                  0  \n",
        "1                  0  \n",
        "\n",
        "[2 rows x 17 columns]"
       ]
      }
     ],
     "prompt_number": 35
    },
    {
     "cell_type": "code",
     "collapsed": false,
     "input": [
      "help(pandadf.to_dict)"
     ],
     "language": "python",
     "metadata": {},
     "outputs": [
      {
       "output_type": "stream",
       "stream": "stdout",
       "text": [
        "Help on method to_dict in module pandas.core.frame:\n",
        "\n",
        "to_dict(self, outtype='dict') method of pandas.core.frame.DataFrame instance\n",
        "    Convert DataFrame to dictionary.\n",
        "    \n",
        "    Parameters\n",
        "    ----------\n",
        "    outtype : str {'dict', 'list', 'series', 'records'}\n",
        "        Determines the type of the values of the dictionary. The\n",
        "        default `dict` is a nested dictionary {column -> {index -> value}}.\n",
        "        `list` returns {column -> list(values)}. `series` returns\n",
        "        {column -> Series(values)}. `records` returns [{columns -> value}].\n",
        "        Abbreviations are allowed.\n",
        "    \n",
        "    \n",
        "    Returns\n",
        "    -------\n",
        "    result : dict like {column -> {index -> value}}\n",
        "\n"
       ]
      }
     ],
     "prompt_number": 11
    },
    {
     "cell_type": "code",
     "collapsed": false,
     "input": [
      "dictdf = pandadf.to_dict(outtype='records')\n",
      "type(dictdf)"
     ],
     "language": "python",
     "metadata": {},
     "outputs": [
      {
       "metadata": {},
       "output_type": "pyout",
       "prompt_number": 26,
       "text": [
        "list"
       ]
      }
     ],
     "prompt_number": 26
    },
    {
     "cell_type": "code",
     "collapsed": false,
     "input": [
      "dictdf"
     ],
     "language": "python",
     "metadata": {},
     "outputs": [
      {
       "metadata": {},
       "output_type": "pyout",
       "prompt_number": 27,
       "text": [
        "[{u'address': '1025 Vermont Avenue, Suite 1066',\n",
        "  u'bbb_accred': 'Accredited Charity',\n",
        "  u'bbb_link': 'http://www.give.org/charity-reviews/national/cancer/colon-cancer-alliance-in-washington-dc-19043',\n",
        "  u'city': 'Washington, DC 20005',\n",
        "  u'cn_acct_transp': 0.0,\n",
        "  u'cn_financial': 0.0,\n",
        "  u'cn_link': 'http://twitter.com/CCAlliance',\n",
        "  u'cn_overall': 92.65,\n",
        "  u'cn_rated': 'Rated',\n",
        "  u'disease': 'colon cancer',\n",
        "  u'facebook_likes': 0,\n",
        "  u'facebook_link': 'http://www.facebook.com/pages/Colon-Cancer-Alliance/100438444321?ref=ts',\n",
        "  u'id': 1,\n",
        "  u'link': 'http://www.ccalliance.org',\n",
        "  u'name': 'Colon Cancer Alliance',\n",
        "  u'twitter_followers': 0,\n",
        "  u'twitter_link': 'http://www.charitynavigator.org/index.cfm?bay=search.summary&orgid=12922'},\n",
        " {u'address': 'PO Box 3434',\n",
        "  u'bbb_accred': '\\nAccredited: No\\n',\n",
        "  u'bbb_link': 'http://www.bbb.org/nebraska/business-reviews/charity-cancer/great-plains-colon-cancer-task-force-in-omaha-ne-300096192',\n",
        "  u'city': 'Omaha, NE 681030434',\n",
        "  u'cn_acct_transp': 0.0,\n",
        "  u'cn_financial': 0.0,\n",
        "  u'cn_link': '',\n",
        "  u'cn_overall': 0.0,\n",
        "  u'cn_rated': 'Unrated',\n",
        "  u'disease': 'colon cancer',\n",
        "  u'facebook_likes': 0,\n",
        "  u'facebook_link': '',\n",
        "  u'id': 2,\n",
        "  u'link': '',\n",
        "  u'name': 'Great Plains Colon Cancer Task Force',\n",
        "  u'twitter_followers': 0,\n",
        "  u'twitter_link': 'http://www.charitynavigator.org/index.cfm?bay=search.profile&ein=272123378'}]"
       ]
      }
     ],
     "prompt_number": 27
    },
    {
     "cell_type": "code",
     "collapsed": false,
     "input": [
      "dictdf[0]"
     ],
     "language": "python",
     "metadata": {},
     "outputs": [
      {
       "metadata": {},
       "output_type": "pyout",
       "prompt_number": 28,
       "text": [
        "{u'address': '1025 Vermont Avenue, Suite 1066',\n",
        " u'bbb_accred': 'Accredited Charity',\n",
        " u'bbb_link': 'http://www.give.org/charity-reviews/national/cancer/colon-cancer-alliance-in-washington-dc-19043',\n",
        " u'city': 'Washington, DC 20005',\n",
        " u'cn_acct_transp': 0.0,\n",
        " u'cn_financial': 0.0,\n",
        " u'cn_link': 'http://twitter.com/CCAlliance',\n",
        " u'cn_overall': 92.65,\n",
        " u'cn_rated': 'Rated',\n",
        " u'disease': 'colon cancer',\n",
        " u'facebook_likes': 0,\n",
        " u'facebook_link': 'http://www.facebook.com/pages/Colon-Cancer-Alliance/100438444321?ref=ts',\n",
        " u'id': 1,\n",
        " u'link': 'http://www.ccalliance.org',\n",
        " u'name': 'Colon Cancer Alliance',\n",
        " u'twitter_followers': 0,\n",
        " u'twitter_link': 'http://www.charitynavigator.org/index.cfm?bay=search.summary&orgid=12922'}"
       ]
      }
     ],
     "prompt_number": 28
    },
    {
     "cell_type": "code",
     "collapsed": false,
     "input": [],
     "language": "python",
     "metadata": {},
     "outputs": []
    }
   ],
   "metadata": {}
  }
 ]
}