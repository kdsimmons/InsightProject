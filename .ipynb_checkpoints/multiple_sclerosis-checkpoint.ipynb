{
 "metadata": {
  "name": ""
 },
 "nbformat": 3,
 "nbformat_minor": 0,
 "worksheets": [
  {
   "cells": [
    {
     "cell_type": "code",
     "collapsed": false,
     "input": [
      "import urllib, urllib2\n",
      "import pandas as pd\n",
      "from lxml import html\n",
      "import BeautifulSoup, bs4\n",
      "import re, numpy as np\n",
      "import matplotlib.pyplot as plt\n",
      "\n",
      "%matplotlib inline\n"
     ],
     "language": "python",
     "metadata": {},
     "outputs": [],
     "prompt_number": 57
    },
    {
     "cell_type": "code",
     "collapsed": false,
     "input": [
      "url = \"http://give.org/search/?term=multiple+sclerosis&location=&FilterAccredited=false&tobid=\"\n",
      "give_url = urllib.urlopen(url)\n",
      "html_page = html.fromstring(urllib.urlopen(url).read())"
     ],
     "language": "python",
     "metadata": {},
     "outputs": [],
     "prompt_number": 206
    },
    {
     "cell_type": "code",
     "collapsed": false,
     "input": [
      "axpath = html_page.xpath(\"//a\")"
     ],
     "language": "python",
     "metadata": {},
     "outputs": [],
     "prompt_number": 209
    },
    {
     "cell_type": "code",
     "collapsed": false,
     "input": [
      "for link in axpath:\n",
      "    print link.text"
     ],
     "language": "python",
     "metadata": {},
     "outputs": [
      {
       "output_type": "stream",
       "stream": "stdout",
       "text": [
        "Additional Options \u00a0\n",
        "Contact Us\n",
        "Find a BBB\n",
        "None\n",
        "None\n",
        "for DONORS\n",
        "for CHARITIES\n",
        "news & UPDATES\n",
        "about us BBB WGA\n",
        " donate to GIVE.ORG\n",
        "for DONORS\n",
        "for CHARITIES\n",
        "news & UPDATES\n",
        "about us BBB WGA\n",
        " donate to GIVE.ORG\n",
        "Charity - American Indian\n",
        "Charity - Animal Protection\n",
        "Charity - Arts & Culture\n",
        "Charity - Blind & Visually Impaired\n",
        "Charity - Cancer\n",
        "Charity - Child Sponsorship\n",
        "Charity - Children & Youth\n",
        "Charity - Civil Rights\n",
        "Charity - Community Development & Civic Organizations\n",
        "Charity - Education & Literacy\n",
        "Charity - Elderly\n",
        "Charity - Environment\n",
        "Charity - Health\n",
        "Charity - Human Services (i.e. assistance to individuals & families)\n",
        "Charity - Law & Public Interest\n",
        "Charity - Local\n",
        "Charity - National\n",
        "Charity - Other Charitable Organizations\n",
        "Charity - Police & Firefighter Organizations\n",
        "Charity - Relief & Development\n",
        "Charity - Religious\n",
        "Charity - Veterans & Military\n",
        "Multiple Sclerosis Foundation\n",
        "Click here to view the full report\n",
        "National Multiple Sclerosis Society\n",
        "Click here to view the full report\n",
        "Multiple Sclerosis Association of America\n",
        "Click here to view the full report\n",
        "National Multiple Sclerosis Society Arizona Chapter\n",
        "Click here to view the full report\n",
        "National Multiple Sclerosis Society\n",
        "Click here to view the full report\n",
        "National Multiple Sclerosis Society\n",
        "Click here to view the full report\n",
        "Can Do Multiple Sclerosis\n",
        "Click here to view the full report\n",
        "National Multiple Sclerosis Society\n",
        "Click here to view the full report\n",
        "Multiple Sclerosis Fund, Inc\n",
        "Click here to view the full report\n",
        "National Multiple Sclerosis Society\n",
        "Click here to view the full report\n",
        "National Multiple Sclerosis Society\n",
        "Click here to view the full report\n",
        "Multiple Sclerosis Society - Ontario Division\n",
        "Click here to view the full report\n",
        "Oak Clinic for Multiple Sclerosis\n",
        "Click here to view the full report\n",
        "Friends of Multiple Sclerosis Charities\n",
        "Click here to view the full report\n",
        "National Multiple Sclerosis Society - Nyc Chapter\n",
        "Click here to view the full report\n",
        "\u00a0\u00a02\u00a0\u00a0\n",
        "\u00a0\u00a03\u00a0\u00a0\n",
        " Next \u00bb\n",
        "Charity - American Indian\n",
        "Charity - Animal Protection\n",
        "Charity - Arts & Culture\n",
        "Charity - Blind & Visually Impaired\n",
        "Charity - Cancer\n",
        "Charity - Child Sponsorship\n",
        "Charity - Children & Youth\n",
        "Charity - Civil Rights\n",
        "Charity - Community Development & Civic Organizations\n",
        "Charity - Education & Literacy\n",
        "Charity - Elderly\n",
        "Charity - Environment\n",
        "Charity - Health\n",
        "Charity - Human Services (i.e. assistance to individuals & families)\n",
        "Charity - Law & Public Interest\n",
        "Charity - Local\n",
        "Charity - National\n",
        "Charity - Other Charitable Organizations\n",
        "Charity - Police & Firefighter Organizations\n",
        "Charity - Relief & Development\n",
        "Charity - Religious\n",
        "Charity - Veterans & Military\n",
        "\r\n",
        "                \n",
        "\r\n",
        "                \n",
        "\r\n",
        "                \n",
        "for Donors\n",
        "The care we put into our reports\n",
        "Charity Review at Local BBBs\n",
        "National Charity Seal Participants\n",
        "File a Complaint About a Charity\n",
        "Giving Guidance & Tips\n",
        "Donor Request Label\n",
        "for Charities\n",
        "How We Accredit Charities\n",
        "Starting the Free Accreditation Process\n",
        "About Charity Seal Licensing\n",
        "About Mobile Giving\n",
        "Charting Impact\n",
        "about BBB WGA\n",
        "Annual Reports\n",
        "Board and Staff\n",
        "Institutional Sponsors\n",
        "Government and Regulatory Disclosures\n",
        "Privacy Policy\n",
        "Copyright and Trademarks\n",
        "Terms of Use\n",
        "Contact Us\n",
        "Find A BBB\n",
        "bbb.org\n",
        "Frequently Asked Questions\n",
        "More About Us\n",
        "News & Updates\n",
        "Latest News\n",
        "Wise Giving Guide\n",
        "\r\n",
        "                \n",
        "\r\n",
        "                \n",
        "\r\n",
        "                \n",
        "\r\n",
        "                \n",
        "\r\n",
        "                \n"
       ]
      }
     ],
     "prompt_number": 210
    },
    {
     "cell_type": "code",
     "collapsed": false,
     "input": [
      "#req = urllib2.Request('http://www.drugs.com/top200.html', headers={'User-Agent' : 'Mozilla/5.0 (Windows; U; Windows NT 5.1; it; rv:1.8.1.11) Gecko/20071127 Firefox/2.0.0.11'})\n",
      "req = urllib2.Request(url)\n",
      "page = urllib2.urlopen(req)\n",
      "soup = bs4.BeautifulSoup(page.read(), \"html.parser\") "
     ],
     "language": "python",
     "metadata": {},
     "outputs": [],
     "prompt_number": 180
    },
    {
     "cell_type": "code",
     "collapsed": false,
     "input": [
      "soup.<name of tag>.get_text()"
     ],
     "language": "python",
     "metadata": {},
     "outputs": [],
     "prompt_number": 102
    },
    {
     "cell_type": "code",
     "collapsed": false,
     "input": [
      "help(soup.get_text)"
     ],
     "language": "python",
     "metadata": {},
     "outputs": [
      {
       "output_type": "stream",
       "stream": "stdout",
       "text": [
        "Help on method get_text in module bs4.element:\n",
        "\n",
        "get_text(self, separator=u'', strip=False, types=(<class 'bs4.element.NavigableString'>, <class 'bs4.element.CData'>)) method of bs4.BeautifulSoup instance\n",
        "    Get all child strings, concatenated using the given separator.\n",
        "\n"
       ]
      }
     ],
     "prompt_number": 119
    },
    {
     "cell_type": "code",
     "collapsed": false,
     "input": [
      "body = soup.body.get_text()"
     ],
     "language": "python",
     "metadata": {},
     "outputs": [],
     "prompt_number": 190
    },
    {
     "cell_type": "code",
     "collapsed": false,
     "input": [
      "type(body)"
     ],
     "language": "python",
     "metadata": {},
     "outputs": [
      {
       "metadata": {},
       "output_type": "pyout",
       "prompt_number": 191,
       "text": [
        "unicode"
       ]
      }
     ],
     "prompt_number": 191
    },
    {
     "cell_type": "code",
     "collapsed": false,
     "input": [
      "charities = re.findall(u'Charity......', body)"
     ],
     "language": "python",
     "metadata": {},
     "outputs": [],
     "prompt_number": 203
    },
    {
     "cell_type": "code",
     "collapsed": false,
     "input": [
      "len(charities)"
     ],
     "language": "python",
     "metadata": {},
     "outputs": [
      {
       "metadata": {},
       "output_type": "pyout",
       "prompt_number": 204,
       "text": [
        "59"
       ]
      }
     ],
     "prompt_number": 204
    },
    {
     "cell_type": "code",
     "collapsed": false,
     "input": [
      "charities[0]"
     ],
     "language": "python",
     "metadata": {},
     "outputs": [
      {
       "metadata": {},
       "output_type": "pyout",
       "prompt_number": 205,
       "text": [
        "u'Charity - Ame'"
       ]
      }
     ],
     "prompt_number": 205
    },
    {
     "cell_type": "code",
     "collapsed": false,
     "input": [
      "html_page"
     ],
     "language": "python",
     "metadata": {},
     "outputs": [
      {
       "metadata": {},
       "output_type": "pyout",
       "prompt_number": 207,
       "text": [
        "<Element html at 0x7fe180793520>"
       ]
      }
     ],
     "prompt_number": 207
    },
    {
     "cell_type": "code",
     "collapsed": false,
     "input": [
      "# start hack job here. i copied the html into a txt file manually.\n",
      "txt_file = open('give_org_html.txt')"
     ],
     "language": "python",
     "metadata": {},
     "outputs": [],
     "prompt_number": 2
    },
    {
     "cell_type": "code",
     "collapsed": false,
     "input": [
      "html_as_string = txt_file.read()"
     ],
     "language": "python",
     "metadata": {},
     "outputs": [],
     "prompt_number": 3
    },
    {
     "cell_type": "code",
     "collapsed": false,
     "input": [
      "type(html_as_string)"
     ],
     "language": "python",
     "metadata": {},
     "outputs": [
      {
       "metadata": {},
       "output_type": "pyout",
       "prompt_number": 4,
       "text": [
        "str"
       ]
      }
     ],
     "prompt_number": 4
    },
    {
     "cell_type": "code",
     "collapsed": false,
     "input": [
      "charities = re.findall('<a class=\"charity-link\" href=\".*\" data-score=.*>.*</a>', html_as_string)"
     ],
     "language": "python",
     "metadata": {},
     "outputs": [],
     "prompt_number": 5
    },
    {
     "cell_type": "code",
     "collapsed": false,
     "input": [
      "# this one works: pattern = '<a class=\"charity-link\" href=\"(.*)\" data-score=.*>(.*)</a>'\n",
      "pattern = '<a class=\"charity-link\" href=\"(.*)\" data-score=.*>(.*)</a><br />\\W*.+\\W+<div class=\"accreditation-mobile\">\\W*.*\\W*</div>\\W*(.*)<br>\\W*(.*)<br>'\n",
      "char_tuple = re.findall(pattern, html_as_string)\n",
      "len(char_tuple)\n"
     ],
     "language": "python",
     "metadata": {},
     "outputs": [
      {
       "metadata": {},
       "output_type": "pyout",
       "prompt_number": 6,
       "text": [
        "15"
       ]
      }
     ],
     "prompt_number": 6
    },
    {
     "cell_type": "code",
     "collapsed": false,
     "input": [
      "\n",
      "for charity in char_tuple:\n",
      "    [clink, cname, caddr, ccity] = charity\n",
      "    print ccity"
     ],
     "language": "python",
     "metadata": {},
     "outputs": [
      {
       "output_type": "stream",
       "stream": "stdout",
       "text": [
        "Fort Lauderdale, FL 33309\n",
        "New York, NY 10017\n",
        "Cherry Hill, NJ 08002\n",
        "Phoenix, AZ 85034\n",
        "Rochester, NY 14620\n",
        "Cincinnati, OH 45242\n",
        "Fort Collins, CO 81632\n",
        "Nashville, TN 37215\n",
        "Algoma, WI 54201\n",
        "Little Rock, AR 72207\n",
        "Springfield, MO 658042480\n",
        "Toronto, ON M4W3R8\n",
        "Uniontown, OH 446857965\n",
        "Salt Lake City, UT 84115\n",
        "New York, NY 10017\n"
       ]
      }
     ],
     "prompt_number": 7
    },
    {
     "cell_type": "code",
     "collapsed": false,
     "input": [
      "df = pd.DataFrame(char_tuple, columns = ['link', 'name', 'address', 'city'])"
     ],
     "language": "python",
     "metadata": {},
     "outputs": [],
     "prompt_number": 8
    },
    {
     "cell_type": "code",
     "collapsed": false,
     "input": [
      "df"
     ],
     "language": "python",
     "metadata": {},
     "outputs": [
      {
       "html": [
        "<div style=\"max-height:1000px;max-width:1500px;overflow:auto;\">\n",
        "<table border=\"1\" class=\"dataframe\">\n",
        "  <thead>\n",
        "    <tr style=\"text-align: right;\">\n",
        "      <th></th>\n",
        "      <th>link</th>\n",
        "      <th>name</th>\n",
        "      <th>address</th>\n",
        "      <th>city</th>\n",
        "    </tr>\n",
        "  </thead>\n",
        "  <tbody>\n",
        "    <tr>\n",
        "      <th>0 </th>\n",
        "      <td> http://www.give.org/charity-reviews/national/h...</td>\n",
        "      <td>                     Multiple Sclerosis Foundation</td>\n",
        "      <td>              6520 North Andrews Avenue</td>\n",
        "      <td> Fort Lauderdale, FL 33309</td>\n",
        "    </tr>\n",
        "    <tr>\n",
        "      <th>1 </th>\n",
        "      <td> http://www.give.org/charity-reviews/national/h...</td>\n",
        "      <td>               National Multiple Sclerosis Society</td>\n",
        "      <td>            733 Third Avenue, 3rd Floor</td>\n",
        "      <td>        New York, NY 10017</td>\n",
        "    </tr>\n",
        "    <tr>\n",
        "      <th>2 </th>\n",
        "      <td> http://www.give.org/charity-reviews/national/h...</td>\n",
        "      <td>         Multiple Sclerosis Association of America</td>\n",
        "      <td>                   706 Haddonfield Road</td>\n",
        "      <td>     Cherry Hill, NJ 08002</td>\n",
        "    </tr>\n",
        "    <tr>\n",
        "      <th>3 </th>\n",
        "      <td> http://www.bbb.org/charity-reviews/phoenix/nat...</td>\n",
        "      <td> National Multiple Sclerosis Society Arizona Ch...</td>\n",
        "      <td> 5025 East Washington Street, Suite 102</td>\n",
        "      <td>         Phoenix, AZ 85034</td>\n",
        "    </tr>\n",
        "    <tr>\n",
        "      <th>4 </th>\n",
        "      <td> http://www.bbb.org/upstate-new-york/business-r...</td>\n",
        "      <td>               National Multiple Sclerosis Society</td>\n",
        "      <td>                         1650 South Ave</td>\n",
        "      <td>       Rochester, NY 14620</td>\n",
        "    </tr>\n",
        "    <tr>\n",
        "      <th>5 </th>\n",
        "      <td> http://www.bbb.org/cincinnati/business-reviews...</td>\n",
        "      <td>               National Multiple Sclerosis Society</td>\n",
        "      <td>                 4440 Lake Forest Drive</td>\n",
        "      <td>      Cincinnati, OH 45242</td>\n",
        "    </tr>\n",
        "    <tr>\n",
        "      <th>6 </th>\n",
        "      <td> http://www.bbb.org/charity-reviews/fortcollins...</td>\n",
        "      <td>                         Can Do Multiple Sclerosis</td>\n",
        "      <td>              27 Main Street, Suite 303</td>\n",
        "      <td>    Fort Collins, CO 81632</td>\n",
        "    </tr>\n",
        "    <tr>\n",
        "      <th>7 </th>\n",
        "      <td> http://www.bbb.org/nashville/business-reviews/...</td>\n",
        "      <td>               National Multiple Sclerosis Society</td>\n",
        "      <td>           4219 Hillsboro RoadSuite 306</td>\n",
        "      <td>       Nashville, TN 37215</td>\n",
        "    </tr>\n",
        "    <tr>\n",
        "      <th>8 </th>\n",
        "      <td> http://www.bbb.org/charity-reviews/wisconsin/h...</td>\n",
        "      <td>                      Multiple Sclerosis Fund, Inc</td>\n",
        "      <td>                             PO Box 153</td>\n",
        "      <td>          Algoma, WI 54201</td>\n",
        "    </tr>\n",
        "    <tr>\n",
        "      <th>9 </th>\n",
        "      <td> http://www.bbb.org/arkansas/business-reviews/c...</td>\n",
        "      <td>               National Multiple Sclerosis Society</td>\n",
        "      <td>           1100 N University, Suite 225</td>\n",
        "      <td>     Little Rock, AR 72207</td>\n",
        "    </tr>\n",
        "    <tr>\n",
        "      <th>10</th>\n",
        "      <td> http://www.bbb.org/southwestern-missouri/busin...</td>\n",
        "      <td>               National Multiple Sclerosis Society</td>\n",
        "      <td>               1675 E Seminole St Ste J</td>\n",
        "      <td> Springfield, MO 658042480</td>\n",
        "    </tr>\n",
        "    <tr>\n",
        "      <th>11</th>\n",
        "      <td> http://www.bbb.org/western-ontario/business-re...</td>\n",
        "      <td>     Multiple Sclerosis Society - Ontario Division</td>\n",
        "      <td>    700-175 Bloor Street E, North Tower</td>\n",
        "      <td>        Toronto, ON M4W3R8</td>\n",
        "    </tr>\n",
        "    <tr>\n",
        "      <th>12</th>\n",
        "      <td> http://www.bbb.org/akron/business-reviews/char...</td>\n",
        "      <td>                 Oak Clinic for Multiple Sclerosis</td>\n",
        "      <td>              3838 Massillon Rd Ste 360</td>\n",
        "      <td>   Uniontown, OH 446857965</td>\n",
        "    </tr>\n",
        "    <tr>\n",
        "      <th>13</th>\n",
        "      <td> http://www.bbb.org/utah/business-reviews/chari...</td>\n",
        "      <td>           Friends of Multiple Sclerosis Charities</td>\n",
        "      <td>                      396 W Ironwood Dr</td>\n",
        "      <td>  Salt Lake City, UT 84115</td>\n",
        "    </tr>\n",
        "    <tr>\n",
        "      <th>14</th>\n",
        "      <td> http://www.bbb.org/new-york-city/business-revi...</td>\n",
        "      <td> National Multiple Sclerosis Society - Nyc Chapter</td>\n",
        "      <td>                       733 Third Avenue</td>\n",
        "      <td>        New York, NY 10017</td>\n",
        "    </tr>\n",
        "  </tbody>\n",
        "</table>\n",
        "<p>15 rows \u00d7 4 columns</p>\n",
        "</div>"
       ],
       "metadata": {},
       "output_type": "pyout",
       "prompt_number": 9,
       "text": [
        "                                                 link  \\\n",
        "0   http://www.give.org/charity-reviews/national/h...   \n",
        "1   http://www.give.org/charity-reviews/national/h...   \n",
        "2   http://www.give.org/charity-reviews/national/h...   \n",
        "3   http://www.bbb.org/charity-reviews/phoenix/nat...   \n",
        "4   http://www.bbb.org/upstate-new-york/business-r...   \n",
        "5   http://www.bbb.org/cincinnati/business-reviews...   \n",
        "6   http://www.bbb.org/charity-reviews/fortcollins...   \n",
        "7   http://www.bbb.org/nashville/business-reviews/...   \n",
        "8   http://www.bbb.org/charity-reviews/wisconsin/h...   \n",
        "9   http://www.bbb.org/arkansas/business-reviews/c...   \n",
        "10  http://www.bbb.org/southwestern-missouri/busin...   \n",
        "11  http://www.bbb.org/western-ontario/business-re...   \n",
        "12  http://www.bbb.org/akron/business-reviews/char...   \n",
        "13  http://www.bbb.org/utah/business-reviews/chari...   \n",
        "14  http://www.bbb.org/new-york-city/business-revi...   \n",
        "\n",
        "                                                 name  \\\n",
        "0                       Multiple Sclerosis Foundation   \n",
        "1                 National Multiple Sclerosis Society   \n",
        "2           Multiple Sclerosis Association of America   \n",
        "3   National Multiple Sclerosis Society Arizona Ch...   \n",
        "4                 National Multiple Sclerosis Society   \n",
        "5                 National Multiple Sclerosis Society   \n",
        "6                           Can Do Multiple Sclerosis   \n",
        "7                 National Multiple Sclerosis Society   \n",
        "8                        Multiple Sclerosis Fund, Inc   \n",
        "9                 National Multiple Sclerosis Society   \n",
        "10                National Multiple Sclerosis Society   \n",
        "11      Multiple Sclerosis Society - Ontario Division   \n",
        "12                  Oak Clinic for Multiple Sclerosis   \n",
        "13            Friends of Multiple Sclerosis Charities   \n",
        "14  National Multiple Sclerosis Society - Nyc Chapter   \n",
        "\n",
        "                                   address                       city  \n",
        "0                6520 North Andrews Avenue  Fort Lauderdale, FL 33309  \n",
        "1              733 Third Avenue, 3rd Floor         New York, NY 10017  \n",
        "2                     706 Haddonfield Road      Cherry Hill, NJ 08002  \n",
        "3   5025 East Washington Street, Suite 102          Phoenix, AZ 85034  \n",
        "4                           1650 South Ave        Rochester, NY 14620  \n",
        "5                   4440 Lake Forest Drive       Cincinnati, OH 45242  \n",
        "6                27 Main Street, Suite 303     Fort Collins, CO 81632  \n",
        "7             4219 Hillsboro RoadSuite 306        Nashville, TN 37215  \n",
        "8                               PO Box 153           Algoma, WI 54201  \n",
        "9             1100 N University, Suite 225      Little Rock, AR 72207  \n",
        "10                1675 E Seminole St Ste J  Springfield, MO 658042480  \n",
        "11     700-175 Bloor Street E, North Tower         Toronto, ON M4W3R8  \n",
        "12               3838 Massillon Rd Ste 360    Uniontown, OH 446857965  \n",
        "13                       396 W Ironwood Dr   Salt Lake City, UT 84115  \n",
        "14                        733 Third Avenue         New York, NY 10017  \n",
        "\n",
        "[15 rows x 4 columns]"
       ]
      }
     ],
     "prompt_number": 9
    },
    {
     "cell_type": "code",
     "collapsed": false,
     "input": [
      "df['facebook'] = [13702,\t2635,\t13858,\t2290,\t2617,\t2949,\t3758,\t3474,\t1,\t1763,\t7747, 0, 507, 1, 2635]\n",
      "df['twitter'] = [6557,\t2204,\t3690,\t440,\t1108,\t0,\t3760,\t841,\t0,\t124,\t1417, 0, 0, 0, 2204]\n",
      "df['navigator'] = [86.86,\t83.97,\t84.88,\t69.64,\t87.93,\t84.76,\t86.69,\t83.94,\t0,\t0,\t89.05,\t0,\t0,\t19.97,\t81.66]"
     ],
     "language": "python",
     "metadata": {},
     "outputs": [],
     "prompt_number": 10
    },
    {
     "cell_type": "code",
     "collapsed": false,
     "input": [
      "df"
     ],
     "language": "python",
     "metadata": {},
     "outputs": [
      {
       "html": [
        "<div style=\"max-height:1000px;max-width:1500px;overflow:auto;\">\n",
        "<table border=\"1\" class=\"dataframe\">\n",
        "  <thead>\n",
        "    <tr style=\"text-align: right;\">\n",
        "      <th></th>\n",
        "      <th>link</th>\n",
        "      <th>name</th>\n",
        "      <th>address</th>\n",
        "      <th>city</th>\n",
        "      <th>facebook</th>\n",
        "      <th>twitter</th>\n",
        "      <th>navigator</th>\n",
        "    </tr>\n",
        "  </thead>\n",
        "  <tbody>\n",
        "    <tr>\n",
        "      <th>0 </th>\n",
        "      <td> http://www.give.org/charity-reviews/national/h...</td>\n",
        "      <td>                     Multiple Sclerosis Foundation</td>\n",
        "      <td>              6520 North Andrews Avenue</td>\n",
        "      <td> Fort Lauderdale, FL 33309</td>\n",
        "      <td> 13702</td>\n",
        "      <td> 6557</td>\n",
        "      <td> 86.86</td>\n",
        "    </tr>\n",
        "    <tr>\n",
        "      <th>1 </th>\n",
        "      <td> http://www.give.org/charity-reviews/national/h...</td>\n",
        "      <td>               National Multiple Sclerosis Society</td>\n",
        "      <td>            733 Third Avenue, 3rd Floor</td>\n",
        "      <td>        New York, NY 10017</td>\n",
        "      <td>  2635</td>\n",
        "      <td> 2204</td>\n",
        "      <td> 83.97</td>\n",
        "    </tr>\n",
        "    <tr>\n",
        "      <th>2 </th>\n",
        "      <td> http://www.give.org/charity-reviews/national/h...</td>\n",
        "      <td>         Multiple Sclerosis Association of America</td>\n",
        "      <td>                   706 Haddonfield Road</td>\n",
        "      <td>     Cherry Hill, NJ 08002</td>\n",
        "      <td> 13858</td>\n",
        "      <td> 3690</td>\n",
        "      <td> 84.88</td>\n",
        "    </tr>\n",
        "    <tr>\n",
        "      <th>3 </th>\n",
        "      <td> http://www.bbb.org/charity-reviews/phoenix/nat...</td>\n",
        "      <td> National Multiple Sclerosis Society Arizona Ch...</td>\n",
        "      <td> 5025 East Washington Street, Suite 102</td>\n",
        "      <td>         Phoenix, AZ 85034</td>\n",
        "      <td>  2290</td>\n",
        "      <td>  440</td>\n",
        "      <td> 69.64</td>\n",
        "    </tr>\n",
        "    <tr>\n",
        "      <th>4 </th>\n",
        "      <td> http://www.bbb.org/upstate-new-york/business-r...</td>\n",
        "      <td>               National Multiple Sclerosis Society</td>\n",
        "      <td>                         1650 South Ave</td>\n",
        "      <td>       Rochester, NY 14620</td>\n",
        "      <td>  2617</td>\n",
        "      <td> 1108</td>\n",
        "      <td> 87.93</td>\n",
        "    </tr>\n",
        "    <tr>\n",
        "      <th>5 </th>\n",
        "      <td> http://www.bbb.org/cincinnati/business-reviews...</td>\n",
        "      <td>               National Multiple Sclerosis Society</td>\n",
        "      <td>                 4440 Lake Forest Drive</td>\n",
        "      <td>      Cincinnati, OH 45242</td>\n",
        "      <td>  2949</td>\n",
        "      <td>    0</td>\n",
        "      <td> 84.76</td>\n",
        "    </tr>\n",
        "    <tr>\n",
        "      <th>6 </th>\n",
        "      <td> http://www.bbb.org/charity-reviews/fortcollins...</td>\n",
        "      <td>                         Can Do Multiple Sclerosis</td>\n",
        "      <td>              27 Main Street, Suite 303</td>\n",
        "      <td>    Fort Collins, CO 81632</td>\n",
        "      <td>  3758</td>\n",
        "      <td> 3760</td>\n",
        "      <td> 86.69</td>\n",
        "    </tr>\n",
        "    <tr>\n",
        "      <th>7 </th>\n",
        "      <td> http://www.bbb.org/nashville/business-reviews/...</td>\n",
        "      <td>               National Multiple Sclerosis Society</td>\n",
        "      <td>           4219 Hillsboro RoadSuite 306</td>\n",
        "      <td>       Nashville, TN 37215</td>\n",
        "      <td>  3474</td>\n",
        "      <td>  841</td>\n",
        "      <td> 83.94</td>\n",
        "    </tr>\n",
        "    <tr>\n",
        "      <th>8 </th>\n",
        "      <td> http://www.bbb.org/charity-reviews/wisconsin/h...</td>\n",
        "      <td>                      Multiple Sclerosis Fund, Inc</td>\n",
        "      <td>                             PO Box 153</td>\n",
        "      <td>          Algoma, WI 54201</td>\n",
        "      <td>     1</td>\n",
        "      <td>    0</td>\n",
        "      <td>  0.00</td>\n",
        "    </tr>\n",
        "    <tr>\n",
        "      <th>9 </th>\n",
        "      <td> http://www.bbb.org/arkansas/business-reviews/c...</td>\n",
        "      <td>               National Multiple Sclerosis Society</td>\n",
        "      <td>           1100 N University, Suite 225</td>\n",
        "      <td>     Little Rock, AR 72207</td>\n",
        "      <td>  1763</td>\n",
        "      <td>  124</td>\n",
        "      <td>  0.00</td>\n",
        "    </tr>\n",
        "    <tr>\n",
        "      <th>10</th>\n",
        "      <td> http://www.bbb.org/southwestern-missouri/busin...</td>\n",
        "      <td>               National Multiple Sclerosis Society</td>\n",
        "      <td>               1675 E Seminole St Ste J</td>\n",
        "      <td> Springfield, MO 658042480</td>\n",
        "      <td>  7747</td>\n",
        "      <td> 1417</td>\n",
        "      <td> 89.05</td>\n",
        "    </tr>\n",
        "    <tr>\n",
        "      <th>11</th>\n",
        "      <td> http://www.bbb.org/western-ontario/business-re...</td>\n",
        "      <td>     Multiple Sclerosis Society - Ontario Division</td>\n",
        "      <td>    700-175 Bloor Street E, North Tower</td>\n",
        "      <td>        Toronto, ON M4W3R8</td>\n",
        "      <td>     0</td>\n",
        "      <td>    0</td>\n",
        "      <td>  0.00</td>\n",
        "    </tr>\n",
        "    <tr>\n",
        "      <th>12</th>\n",
        "      <td> http://www.bbb.org/akron/business-reviews/char...</td>\n",
        "      <td>                 Oak Clinic for Multiple Sclerosis</td>\n",
        "      <td>              3838 Massillon Rd Ste 360</td>\n",
        "      <td>   Uniontown, OH 446857965</td>\n",
        "      <td>   507</td>\n",
        "      <td>    0</td>\n",
        "      <td>  0.00</td>\n",
        "    </tr>\n",
        "    <tr>\n",
        "      <th>13</th>\n",
        "      <td> http://www.bbb.org/utah/business-reviews/chari...</td>\n",
        "      <td>           Friends of Multiple Sclerosis Charities</td>\n",
        "      <td>                      396 W Ironwood Dr</td>\n",
        "      <td>  Salt Lake City, UT 84115</td>\n",
        "      <td>     1</td>\n",
        "      <td>    0</td>\n",
        "      <td> 19.97</td>\n",
        "    </tr>\n",
        "    <tr>\n",
        "      <th>14</th>\n",
        "      <td> http://www.bbb.org/new-york-city/business-revi...</td>\n",
        "      <td> National Multiple Sclerosis Society - Nyc Chapter</td>\n",
        "      <td>                       733 Third Avenue</td>\n",
        "      <td>        New York, NY 10017</td>\n",
        "      <td>  2635</td>\n",
        "      <td> 2204</td>\n",
        "      <td> 81.66</td>\n",
        "    </tr>\n",
        "  </tbody>\n",
        "</table>\n",
        "<p>15 rows \u00d7 7 columns</p>\n",
        "</div>"
       ],
       "metadata": {},
       "output_type": "pyout",
       "prompt_number": 11,
       "text": [
        "                                                 link  \\\n",
        "0   http://www.give.org/charity-reviews/national/h...   \n",
        "1   http://www.give.org/charity-reviews/national/h...   \n",
        "2   http://www.give.org/charity-reviews/national/h...   \n",
        "3   http://www.bbb.org/charity-reviews/phoenix/nat...   \n",
        "4   http://www.bbb.org/upstate-new-york/business-r...   \n",
        "5   http://www.bbb.org/cincinnati/business-reviews...   \n",
        "6   http://www.bbb.org/charity-reviews/fortcollins...   \n",
        "7   http://www.bbb.org/nashville/business-reviews/...   \n",
        "8   http://www.bbb.org/charity-reviews/wisconsin/h...   \n",
        "9   http://www.bbb.org/arkansas/business-reviews/c...   \n",
        "10  http://www.bbb.org/southwestern-missouri/busin...   \n",
        "11  http://www.bbb.org/western-ontario/business-re...   \n",
        "12  http://www.bbb.org/akron/business-reviews/char...   \n",
        "13  http://www.bbb.org/utah/business-reviews/chari...   \n",
        "14  http://www.bbb.org/new-york-city/business-revi...   \n",
        "\n",
        "                                                 name  \\\n",
        "0                       Multiple Sclerosis Foundation   \n",
        "1                 National Multiple Sclerosis Society   \n",
        "2           Multiple Sclerosis Association of America   \n",
        "3   National Multiple Sclerosis Society Arizona Ch...   \n",
        "4                 National Multiple Sclerosis Society   \n",
        "5                 National Multiple Sclerosis Society   \n",
        "6                           Can Do Multiple Sclerosis   \n",
        "7                 National Multiple Sclerosis Society   \n",
        "8                        Multiple Sclerosis Fund, Inc   \n",
        "9                 National Multiple Sclerosis Society   \n",
        "10                National Multiple Sclerosis Society   \n",
        "11      Multiple Sclerosis Society - Ontario Division   \n",
        "12                  Oak Clinic for Multiple Sclerosis   \n",
        "13            Friends of Multiple Sclerosis Charities   \n",
        "14  National Multiple Sclerosis Society - Nyc Chapter   \n",
        "\n",
        "                                   address                       city  \\\n",
        "0                6520 North Andrews Avenue  Fort Lauderdale, FL 33309   \n",
        "1              733 Third Avenue, 3rd Floor         New York, NY 10017   \n",
        "2                     706 Haddonfield Road      Cherry Hill, NJ 08002   \n",
        "3   5025 East Washington Street, Suite 102          Phoenix, AZ 85034   \n",
        "4                           1650 South Ave        Rochester, NY 14620   \n",
        "5                   4440 Lake Forest Drive       Cincinnati, OH 45242   \n",
        "6                27 Main Street, Suite 303     Fort Collins, CO 81632   \n",
        "7             4219 Hillsboro RoadSuite 306        Nashville, TN 37215   \n",
        "8                               PO Box 153           Algoma, WI 54201   \n",
        "9             1100 N University, Suite 225      Little Rock, AR 72207   \n",
        "10                1675 E Seminole St Ste J  Springfield, MO 658042480   \n",
        "11     700-175 Bloor Street E, North Tower         Toronto, ON M4W3R8   \n",
        "12               3838 Massillon Rd Ste 360    Uniontown, OH 446857965   \n",
        "13                       396 W Ironwood Dr   Salt Lake City, UT 84115   \n",
        "14                        733 Third Avenue         New York, NY 10017   \n",
        "\n",
        "    facebook  twitter  navigator  \n",
        "0      13702     6557      86.86  \n",
        "1       2635     2204      83.97  \n",
        "2      13858     3690      84.88  \n",
        "3       2290      440      69.64  \n",
        "4       2617     1108      87.93  \n",
        "5       2949        0      84.76  \n",
        "6       3758     3760      86.69  \n",
        "7       3474      841      83.94  \n",
        "8          1        0       0.00  \n",
        "9       1763      124       0.00  \n",
        "10      7747     1417      89.05  \n",
        "11         0        0       0.00  \n",
        "12       507        0       0.00  \n",
        "13         1        0      19.97  \n",
        "14      2635     2204      81.66  \n",
        "\n",
        "[15 rows x 7 columns]"
       ]
      }
     ],
     "prompt_number": 11
    },
    {
     "cell_type": "code",
     "collapsed": false,
     "input": [
      "plt.figure(1);\n",
      "plt.plot(df.navigator,df.facebook, 'o', markersize=10);\n",
      "plt.xlabel('Charity Navigator Score', fontsize=20);\n",
      "plt.ylabel('Facebook Likes', fontsize=20);\n",
      "plt.xlim([-5, 91]);\n",
      "plt.ylim([-1000, 14500]);\n",
      "\n"
     ],
     "language": "python",
     "metadata": {},
     "outputs": [
      {
       "metadata": {},
       "output_type": "display_data",
       "png": "[encoded data removed]",
       "text": [
        "<matplotlib.figure.Figure at 0x7f06d56a66d0>"
       ]
      }
     ],
     "prompt_number": 52
    },
    {
     "cell_type": "code",
     "collapsed": false,
     "input": [
      "\n",
      "plt.figure(2);\n",
      "plt.plot(df.navigator,df.twitter, 'o', markersize=10);\n",
      "plt.xlabel('Charity Navigator Score', fontsize=20);\n",
      "plt.ylabel('Twitter Followers', fontsize=20);\n",
      "plt.xlim([-5, 91]);\n",
      "plt.ylim([-500, 7100]);\n",
      "\n"
     ],
     "language": "python",
     "metadata": {},
     "outputs": [
      {
       "metadata": {},
       "output_type": "display_data",
       "png": "[encoded data removed]",
       "text": [
        "<matplotlib.figure.Figure at 0x7f06d5898750>"
       ]
      }
     ],
     "prompt_number": 53
    },
    {
     "cell_type": "code",
     "collapsed": false,
     "input": [
      "plt.figure(3);\n",
      "plt.plot(df.facebook,df.twitter, 'o', markersize=10);\n",
      "plt.xlabel('Facebook Likes', fontsize=20);\n",
      "plt.ylabel('Twitter Followers', fontsize=20);\n",
      "plt.xlim([-1000,14500]);\n",
      "plt.ylim([-500,7100]);\n"
     ],
     "language": "python",
     "metadata": {},
     "outputs": [
      {
       "metadata": {},
       "output_type": "display_data",
       "png": "[encoded data removed]",
       "text": [
        "<matplotlib.figure.Figure at 0x7f06d56e8610>"
       ]
      }
     ],
     "prompt_number": 54
    },
    {
     "cell_type": "code",
     "collapsed": false,
     "input": [
      "mat = np.random.randn(6, 4)"
     ],
     "language": "python",
     "metadata": {},
     "outputs": [],
     "prompt_number": 59
    },
    {
     "cell_type": "code",
     "collapsed": false,
     "input": [],
     "language": "python",
     "metadata": {},
     "outputs": [
      {
       "ename": "AttributeError",
       "evalue": "'module' object has no attribute 'image'",
       "output_type": "pyerr",
       "traceback": [
        "\u001b[0;31m---------------------------------------------------------------------------\u001b[0m\n\u001b[0;31mAttributeError\u001b[0m                            Traceback (most recent call last)",
        "\u001b[0;32m<ipython-input-61-a156b07872e6>\u001b[0m in \u001b[0;36m<module>\u001b[0;34m()\u001b[0m\n\u001b[0;32m----> 1\u001b[0;31m \u001b[0mplt\u001b[0m\u001b[0;34m.\u001b[0m\u001b[0mimage\u001b[0m\u001b[0;34m(\u001b[0m\u001b[0mmat\u001b[0m\u001b[0;34m)\u001b[0m\u001b[0;34m\u001b[0m\u001b[0m\n\u001b[0m",
        "\u001b[0;31mAttributeError\u001b[0m: 'module' object has no attribute 'image'"
       ]
      }
     ],
     "prompt_number": 61
    },
    {
     "cell_type": "code",
     "collapsed": false,
     "input": [],
     "language": "python",
     "metadata": {},
     "outputs": []
    }
   ],
   "metadata": {}
  }
 ]
}