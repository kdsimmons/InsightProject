{
 "metadata": {
  "name": ""
 },
 "nbformat": 3,
 "nbformat_minor": 0,
 "worksheets": [
  {
   "cells": [
    {
     "cell_type": "code",
     "collapsed": false,
     "input": [
      "import numpy as np"
     ],
     "language": "python",
     "metadata": {},
     "outputs": [],
     "prompt_number": 74
    },
    {
     "cell_type": "heading",
     "level": 1,
     "metadata": {},
     "source": [
      "LeetCode: Easy"
     ]
    },
    {
     "cell_type": "markdown",
     "metadata": {},
     "source": [
      "https://leetcode.com/problemset/algorithms/"
     ]
    },
    {
     "cell_type": "code",
     "collapsed": false,
     "input": [
      "s = 'hello'\n",
      "t = 'loleh'"
     ],
     "language": "python",
     "metadata": {},
     "outputs": [],
     "prompt_number": 7
    },
    {
     "cell_type": "code",
     "collapsed": false,
     "input": [
      "sorted(s) == sorted(t)"
     ],
     "language": "python",
     "metadata": {},
     "outputs": [
      {
       "metadata": {},
       "output_type": "pyout",
       "prompt_number": 9,
       "text": [
        "True"
       ]
      }
     ],
     "prompt_number": 9
    },
    {
     "cell_type": "heading",
     "level": 1,
     "metadata": {},
     "source": [
      "100+ exercises: Level 1"
     ]
    },
    {
     "cell_type": "markdown",
     "metadata": {},
     "source": [
      "https://github.com/zhiwehu/Python-programming-exercises/blob/master/100%2B%20Python%20challenging%20programming%20exercises.txt"
     ]
    },
    {
     "cell_type": "raw",
     "metadata": {},
     "source": [
      "#----------------------------------------#\n",
      "Question 1\n",
      "Level 1\n",
      "\n",
      "Question:\n",
      "Write a program which will find all such numbers which are divisible by 7 but are not a multiple of 5,\n",
      "between 2000 and 3200 (both included).\n",
      "The numbers obtained should be printed in a comma-separated sequence on a single line.\n"
     ]
    },
    {
     "cell_type": "code",
     "collapsed": false,
     "input": [
      "print ','.join([str(i) for i in range(200, 3201, 7) if i%5>0])"
     ],
     "language": "python",
     "metadata": {},
     "outputs": [
      {
       "output_type": "stream",
       "stream": "stdout",
       "text": [
        "207,214,221,228,242,249,256,263,277,284,291,298,312,319,326,333,347,354,361,368,382,389,396,403,417,424,431,438,452,459,466,473,487,494,501,508,522,529,536,543,557,564,571,578,592,599,606,613,627,634,641,648,662,669,676,683,697,704,711,718,732,739,746,753,767,774,781,788,802,809,816,823,837,844,851,858,872,879,886,893,907,914,921,928,942,949,956,963,977,984,991,998,1012,1019,1026,1033,1047,1054,1061,1068,1082,1089,1096,1103,1117,1124,1131,1138,1152,1159,1166,1173,1187,1194,1201,1208,1222,1229,1236,1243,1257,1264,1271,1278,1292,1299,1306,1313,1327,1334,1341,1348,1362,1369,1376,1383,1397,1404,1411,1418,1432,1439,1446,1453,1467,1474,1481,1488,1502,1509,1516,1523,1537,1544,1551,1558,1572,1579,1586,1593,1607,1614,1621,1628,1642,1649,1656,1663,1677,1684,1691,1698,1712,1719,1726,1733,1747,1754,1761,1768,1782,1789,1796,1803,1817,1824,1831,1838,1852,1859,1866,1873,1887,1894,1901,1908,1922,1929,1936,1943,1957,1964,1971,1978,1992,1999,2006,2013,2027,2034,2041,2048,2062,2069,2076,2083,2097,2104,2111,2118,2132,2139,2146,2153,2167,2174,2181,2188,2202,2209,2216,2223,2237,2244,2251,2258,2272,2279,2286,2293,2307,2314,2321,2328,2342,2349,2356,2363,2377,2384,2391,2398,2412,2419,2426,2433,2447,2454,2461,2468,2482,2489,2496,2503,2517,2524,2531,2538,2552,2559,2566,2573,2587,2594,2601,2608,2622,2629,2636,2643,2657,2664,2671,2678,2692,2699,2706,2713,2727,2734,2741,2748,2762,2769,2776,2783,2797,2804,2811,2818,2832,2839,2846,2853,2867,2874,2881,2888,2902,2909,2916,2923,2937,2944,2951,2958,2972,2979,2986,2993,3007,3014,3021,3028,3042,3049,3056,3063,3077,3084,3091,3098,3112,3119,3126,3133,3147,3154,3161,3168,3182,3189,3196\n"
       ]
      }
     ],
     "prompt_number": 20
    },
    {
     "cell_type": "raw",
     "metadata": {},
     "source": [
      "#----------------------------------------#\n",
      "Question 2\n",
      "Level 1\n",
      "\n",
      "Question:\n",
      "Write a program which can compute the factorial of a given numbers.\n",
      "The results should be printed in a comma-separated sequence on a single line.\n",
      "Suppose the following input is supplied to the program:\n",
      "8\n",
      "Then, the output should be:\n",
      "40320\n"
     ]
    },
    {
     "cell_type": "code",
     "collapsed": false,
     "input": [
      "def factorial(x):\n",
      "    res = 1\n",
      "    for i in range(1,x+1):\n",
      "        res *= i\n",
      "    return res"
     ],
     "language": "python",
     "metadata": {},
     "outputs": [],
     "prompt_number": 24
    },
    {
     "cell_type": "code",
     "collapsed": false,
     "input": [
      "factorial(8)"
     ],
     "language": "python",
     "metadata": {},
     "outputs": [
      {
       "metadata": {},
       "output_type": "pyout",
       "prompt_number": 26,
       "text": [
        "40320"
       ]
      }
     ],
     "prompt_number": 26
    },
    {
     "cell_type": "raw",
     "metadata": {},
     "source": [
      "#----------------------------------------#\n",
      "Question 3\n",
      "Level 1\n",
      "\n",
      "Question:\n",
      "With a given integral number n, write a program to generate a dictionary that contains (i, i*i) such that is an integral number between 1 and n (both included). and then the program should print the dictionary.\n",
      "Suppose the following input is supplied to the program:\n",
      "8\n",
      "Then, the output should be:\n",
      "{1: 1, 2: 4, 3: 9, 4: 16, 5: 25, 6: 36, 7: 49, 8: 64}\n"
     ]
    },
    {
     "cell_type": "code",
     "collapsed": false,
     "input": [
      "def dict_of_squares(x):\n",
      "    res = {}\n",
      "    for i in range(1,x+1):\n",
      "        res[i] = i**2\n",
      "    return res"
     ],
     "language": "python",
     "metadata": {},
     "outputs": [],
     "prompt_number": 30
    },
    {
     "cell_type": "code",
     "collapsed": false,
     "input": [
      "print dict_of_squares(8)"
     ],
     "language": "python",
     "metadata": {},
     "outputs": [
      {
       "output_type": "stream",
       "stream": "stdout",
       "text": [
        "{1: 1, 2: 4, 3: 9, 4: 16, 5: 25, 6: 36, 7: 49, 8: 64}\n"
       ]
      }
     ],
     "prompt_number": 33
    },
    {
     "cell_type": "raw",
     "metadata": {},
     "source": [
      "#----------------------------------------#\n",
      "Question 4\n",
      "Level 1\n",
      "\n",
      "Question:\n",
      "Write a program which accepts a sequence of comma-separated numbers from console and generate a list and a tuple which contains every number.\n",
      "Suppose the following input is supplied to the program:\n",
      "34,67,55,33,12,98\n",
      "Then, the output should be:\n",
      "['34', '67', '55', '33', '12', '98']\n",
      "('34', '67', '55', '33', '12', '98')\n"
     ]
    },
    {
     "cell_type": "code",
     "collapsed": false,
     "input": [
      "s = '34,67,55,33,12,98'"
     ],
     "language": "python",
     "metadata": {},
     "outputs": [],
     "prompt_number": 35
    },
    {
     "cell_type": "code",
     "collapsed": false,
     "input": [
      "list(s.split(','))"
     ],
     "language": "python",
     "metadata": {},
     "outputs": [
      {
       "metadata": {},
       "output_type": "pyout",
       "prompt_number": 37,
       "text": [
        "['34', '67', '55', '33', '12', '98']"
       ]
      }
     ],
     "prompt_number": 37
    },
    {
     "cell_type": "code",
     "collapsed": false,
     "input": [
      "tuple(s.split(','))"
     ],
     "language": "python",
     "metadata": {},
     "outputs": [
      {
       "metadata": {},
       "output_type": "pyout",
       "prompt_number": 39,
       "text": [
        "('34', '67', '55', '33', '12', '98')"
       ]
      }
     ],
     "prompt_number": 39
    },
    {
     "cell_type": "heading",
     "level": 5,
     "metadata": {},
     "source": [
      "#----------------------------------------#\n",
      "Question 5\n",
      "Level 1\n",
      "\n",
      "Question:\n",
      "Define a class which has at least two methods:\n",
      "getString: to get a string from console input\n",
      "printString: to print the string in upper case.\n",
      "Also please include simple test function to test the class methods.\n"
     ]
    },
    {
     "cell_type": "heading",
     "level": 1,
     "metadata": {},
     "source": [
      "100+ exercises: Level 2"
     ]
    },
    {
     "cell_type": "raw",
     "metadata": {},
     "source": [
      "#----------------------------------------#\n",
      "Question 6\n",
      "Level 2\n",
      "\n",
      "Question:\n",
      "Write a program that calculates and prints the value according to the given formula:\n",
      "Q = Square root of [(2 * C * D)/H]\n",
      "Following are the fixed values of C and H:\n",
      "C is 50. H is 30.\n",
      "D is the variable whose values should be input to your program in a comma-separated sequence.\n",
      "Example\n",
      "Let us assume the following comma separated input sequence is given to the program:\n",
      "100,150,180\n",
      "The output of the program should be:\n",
      "18,22,24\n"
     ]
    },
    {
     "cell_type": "code",
     "collapsed": false,
     "input": [
      "def use_formula(x):\n",
      "    C = 50.\n",
      "    H = 30.\n",
      "    \n",
      "    Q = int(np.sqrt((2.*C*x)/H))\n",
      "    \n",
      "    return str(Q)\n",
      "\n",
      "D = '100,150,180'\n",
      "output = []\n",
      "for val in D.split(','):\n",
      "    output.append(use_formula(float(val)))\n",
      "    \n",
      "print ','.join(output)"
     ],
     "language": "python",
     "metadata": {},
     "outputs": [
      {
       "output_type": "stream",
       "stream": "stdout",
       "text": [
        "18,22,24\n"
       ]
      }
     ],
     "prompt_number": 55
    },
    {
     "cell_type": "raw",
     "metadata": {},
     "source": [
      "#----------------------------------------#\n",
      "Question 7\n",
      "Level 2\n",
      "\n",
      "Question:\n",
      "Write a program which takes 2 digits, X,Y as input and generates a 2-dimensional array. The element value in the i-th row and j-th column of the array should be i*j.\n",
      "Note: i=0,1.., X-1; j=0,1,\u00a1-Y-1.\n",
      "Example\n",
      "Suppose the following inputs are given to the program:\n",
      "3,5\n",
      "Then, the output of the program should be:\n",
      "[[0, 0, 0, 0, 0], [0, 1, 2, 3, 4], [0, 2, 4, 6, 8]] \n"
     ]
    },
    {
     "cell_type": "code",
     "collapsed": false,
     "input": [
      "s = '3,5'\n",
      "X, Y = [int(i) for i in s.split(',')]\n",
      "\n",
      "# first pass:\n",
      "prod_array = np.empty([X, Y])\n",
      "\n",
      "for i in range(X):\n",
      "    for j in range(Y):\n",
      "        prod_array[i,j] = i*j\n",
      "        \n",
      "print prod_array\n",
      "\n",
      "# better way:\n",
      "prod_array = np.arange(X)[:,np.newaxis].astype(float) * np.arange(Y)[np.newaxis,:].astype(float)\n",
      "print prod_array"
     ],
     "language": "python",
     "metadata": {},
     "outputs": [
      {
       "output_type": "stream",
       "stream": "stdout",
       "text": [
        "[[ 0.  0.  0.  0.  0.]\n",
        " [ 0.  1.  2.  3.  4.]\n",
        " [ 0.  2.  4.  6.  8.]]\n",
        "[[ 0.  0.  0.  0.  0.]\n",
        " [ 0.  1.  2.  3.  4.]\n",
        " [ 0.  2.  4.  6.  8.]]\n"
       ]
      }
     ],
     "prompt_number": 85
    },
    {
     "cell_type": "raw",
     "metadata": {},
     "source": [
      "#----------------------------------------#\n",
      "Question 8\n",
      "Level 2\n",
      "\n",
      "Question:\n",
      "Write a program that accepts a comma separated sequence of words as input and prints the words in a comma-separated sequence after sorting them alphabetically.\n",
      "Suppose the following input is supplied to the program:\n",
      "without,hello,bag,world\n",
      "Then, the output should be:\n",
      "bag,hello,without,world\n"
     ]
    },
    {
     "cell_type": "code",
     "collapsed": false,
     "input": [
      "s = 'without,hello,bag,world'.split(',')\n",
      "s.sort()"
     ],
     "language": "python",
     "metadata": {},
     "outputs": [],
     "prompt_number": 123
    },
    {
     "cell_type": "code",
     "collapsed": false,
     "input": [
      "print ','.join(s)"
     ],
     "language": "python",
     "metadata": {},
     "outputs": [
      {
       "output_type": "stream",
       "stream": "stdout",
       "text": [
        "bag,hello,without,world\n"
       ]
      }
     ],
     "prompt_number": 125
    },
    {
     "cell_type": "raw",
     "metadata": {},
     "source": [
      "#----------------------------------------#\n",
      "Question 10\n",
      "Level 2\n",
      "\n",
      "Question:\n",
      "Write a program that accepts a sequence of whitespace separated words as input and prints the words after removing all duplicate words and sorting them alphanumerically.\n",
      "Suppose the following input is supplied to the program:\n",
      "hello world and practice makes perfect and hello world again\n",
      "Then, the output should be:\n",
      "again and hello makes perfect practice world\n"
     ]
    },
    {
     "cell_type": "code",
     "collapsed": false,
     "input": [
      "s = 'hello world and practice makes perfect and hello world again'"
     ],
     "language": "python",
     "metadata": {},
     "outputs": [],
     "prompt_number": 126
    },
    {
     "cell_type": "code",
     "collapsed": false,
     "input": [
      "l = sorted(s.split(' '))"
     ],
     "language": "python",
     "metadata": {},
     "outputs": [],
     "prompt_number": 152
    },
    {
     "cell_type": "code",
     "collapsed": false,
     "input": [
      "# manual method:\n",
      "u = []\n",
      "for w in l:\n",
      "    if w not in u:\n",
      "        u.append(w)\n",
      "        \n",
      "# built-in method:\n",
      "u = sorted(list(set(l)))"
     ],
     "language": "python",
     "metadata": {},
     "outputs": [],
     "prompt_number": 153
    },
    {
     "cell_type": "code",
     "collapsed": false,
     "input": [
      "print ' '.join(u)"
     ],
     "language": "python",
     "metadata": {},
     "outputs": [
      {
       "output_type": "stream",
       "stream": "stdout",
       "text": [
        "again and hello makes perfect practice world\n"
       ]
      }
     ],
     "prompt_number": 155
    },
    {
     "cell_type": "heading",
     "level": 1,
     "metadata": {},
     "source": [
      "McDowell Ch. 17"
     ]
    },
    {
     "cell_type": "raw",
     "metadata": {},
     "source": [
      "17.3: trailing zeros in n!"
     ]
    },
    {
     "cell_type": "code",
     "collapsed": false,
     "input": [
      "# easy but probably slow way\n",
      "def fact(n):\n",
      "    res = 1\n",
      "    for i in range(1,n+1):\n",
      "        res *= i\n",
      "    return res\n",
      "\n",
      "def num_zeros(n):\n",
      "    n_fact = fact(n)\n",
      "    \n",
      "    num_zeros = 0\n",
      "    s = str(n_fact)\n",
      "    \n",
      "    for i in range(len(s)):\n",
      "        if s[len(s)-i-1] == '0':\n",
      "            num_zeros += 1\n",
      "        else:\n",
      "            break\n",
      "    return num_zeros"
     ],
     "language": "python",
     "metadata": {},
     "outputs": [],
     "prompt_number": 11
    },
    {
     "cell_type": "code",
     "collapsed": false,
     "input": [
      "print str(fact(200)) + ': ' + str(num_zeros(200))"
     ],
     "language": "python",
     "metadata": {},
     "outputs": [
      {
       "output_type": "stream",
       "stream": "stdout",
       "text": [
        "788657867364790503552363213932185062295135977687173263294742533244359449963403342920304284011984623904177212138919638830257642790242637105061926624952829931113462857270763317237396988943922445621451664240254033291864131227428294853277524242407573903240321257405579568660226031904170324062351700858796178922222789623703897374720000000000000000000000000000000000000000000000000: 49\n"
       ]
      }
     ],
     "prompt_number": 27
    },
    {
     "cell_type": "heading",
     "level": 1,
     "metadata": {},
     "source": [
      "Miller & Ranum"
     ]
    },
    {
     "cell_type": "heading",
     "level": 3,
     "metadata": {},
     "source": [
      "Create helper functions"
     ]
    },
    {
     "cell_type": "code",
     "collapsed": false,
     "input": [
      "# recursive version\n",
      "def gcd(n,m):\n",
      "    # set m to be the larger (or equal)\n",
      "    if m < n:\n",
      "        m, n = (n, m)\n",
      "    \n",
      "    # find remainder of m / n\n",
      "    newn = m % n\n",
      "\n",
      "    # if n goes into m evenly, GCD is just n\n",
      "    if newn == 0:\n",
      "        return n\n",
      "    \n",
      "    # if n does not divide into m evenly, GCD is GCD of n and m % n\n",
      "    else:\n",
      "        return gcd(newn,n)\n",
      "\n",
      "# iterative version\n",
      "def gcd(n,m):\n",
      "    # set m to be the larger (or equal)\n",
      "    if m < n:\n",
      "        m, n = (n, m)\n",
      "    \n",
      "    # find remainder of m / n\n",
      "    newn = m % n\n",
      "\n",
      "    # if n goes into m evenly, GCD is just n\n",
      "    if newn == 0:\n",
      "        return n\n",
      "\n",
      "    # make n and m smaller until n divides into m\n",
      "    while m % n != 0:\n",
      "        newn = m % n\n",
      "        m = n\n",
      "        n = newn\n",
      "\n",
      "    # n has now reached the GCD\n",
      "    return n\n",
      "    "
     ],
     "language": "python",
     "metadata": {},
     "outputs": [],
     "prompt_number": 66
    },
    {
     "cell_type": "heading",
     "level": 3,
     "metadata": {},
     "source": [
      "Define fraction class"
     ]
    },
    {
     "cell_type": "code",
     "collapsed": false,
     "input": [
      "class Fraction:\n",
      "    def __init__(self,top,bottom):\n",
      "        self.num = top\n",
      "        self.den = bottom\n",
      "        \n",
      "    def show(self):\n",
      "        print str(self.num) + '/' + str(self.den)\n",
      "        \n",
      "    def __str__(self):\n",
      "        return str(self.num) + '/' + str(self.den)\n",
      "    \n",
      "    def __add__(self,other):\n",
      "        newnum = self.num*other.den + other.num*self.den\n",
      "        newden = self.den*other.den\n",
      "        \n",
      "        factor = gcd(newnum, newden)\n",
      "        \n",
      "        return Fraction(newnum/factor,newden/factor)\n",
      "    \n",
      "    def __sub__(self,other):\n",
      "        negative = Fraction(-other.num, other.den)\n",
      "        return self.__add__(negative)\n",
      "    \n",
      "    def __mul__(self,other):\n",
      "        newnum = self.num * other.num\n",
      "        newden = self.den * other.den\n",
      "        factor = gcd(newnum, newden)\n",
      "        \n",
      "        return Fraction(newnum/factor, newden/factor)\n",
      "    \n",
      "    def __div__(self,other):\n",
      "        inverse = Fraction(other.den, other.num)\n",
      "        return self.__mul__(inverse)        \n",
      "    \n",
      "    def __eq__(self,other):\n",
      "        # reduce fractions if needed\n",
      "        factor = gcd(self.num, self.den)\n",
      "        self = Fraction(self.num/factor, self.den/factor)\n",
      "        factor = gcd(other.num, other.den)\n",
      "        other = Fraction(other.num/factor, other.den/factor)\n",
      "        \n",
      "        # test for equality\n",
      "        return self.num == other.num and self.den == other.den\n",
      "\n",
      "    def __lt__(self,other):\n",
      "        "
     ],
     "language": "python",
     "metadata": {},
     "outputs": [],
     "prompt_number": 102
    },
    {
     "cell_type": "heading",
     "level": 3,
     "metadata": {},
     "source": [
      "Test fraction class definitions"
     ]
    },
    {
     "cell_type": "code",
     "collapsed": false,
     "input": [
      "frac = Fraction(3,5)\n",
      "print frac\n",
      "str(frac)"
     ],
     "language": "python",
     "metadata": {},
     "outputs": [
      {
       "output_type": "stream",
       "stream": "stdout",
       "text": [
        "3/5\n"
       ]
      },
      {
       "metadata": {},
       "output_type": "pyout",
       "prompt_number": 74,
       "text": [
        "'3/5'"
       ]
      }
     ],
     "prompt_number": 74
    },
    {
     "cell_type": "code",
     "collapsed": false,
     "input": [
      "f1 = Fraction(3,10)\n",
      "f2 = Fraction(2,10)\n",
      "print f1+f2"
     ],
     "language": "python",
     "metadata": {},
     "outputs": [
      {
       "output_type": "stream",
       "stream": "stdout",
       "text": [
        "1/2\n"
       ]
      }
     ],
     "prompt_number": 77
    },
    {
     "cell_type": "code",
     "collapsed": false,
     "input": [
      "f1 = Fraction(2,5)\n",
      "f2 = Fraction(4,10)\n",
      "f3 = f1\n",
      "print f1 == f2\n",
      "print f1 == f3"
     ],
     "language": "python",
     "metadata": {},
     "outputs": [
      {
       "output_type": "stream",
       "stream": "stdout",
       "text": [
        "True\n",
        "True\n"
       ]
      }
     ],
     "prompt_number": 90
    },
    {
     "cell_type": "code",
     "collapsed": false,
     "input": [
      "f1 = Fraction(3,10)\n",
      "f2 = Fraction(-2,10)\n",
      "print f1-f2"
     ],
     "language": "python",
     "metadata": {},
     "outputs": [
      {
       "output_type": "stream",
       "stream": "stdout",
       "text": [
        "1/2\n"
       ]
      }
     ],
     "prompt_number": 103
    },
    {
     "cell_type": "code",
     "collapsed": false,
     "input": [
      "f1 = Fraction(3,10)\n",
      "f2 = Fraction(2,10)\n",
      "print f1*f2"
     ],
     "language": "python",
     "metadata": {},
     "outputs": [
      {
       "output_type": "stream",
       "stream": "stdout",
       "text": [
        "3/50\n"
       ]
      }
     ],
     "prompt_number": 104
    },
    {
     "cell_type": "code",
     "collapsed": false,
     "input": [
      "f1 = Fraction(3,10)\n",
      "f2 = Fraction(2,10)\n",
      "print f1/f2"
     ],
     "language": "python",
     "metadata": {},
     "outputs": [
      {
       "output_type": "stream",
       "stream": "stdout",
       "text": [
        "3/2\n"
       ]
      }
     ],
     "prompt_number": 105
    },
    {
     "cell_type": "heading",
     "level": 1,
     "metadata": {},
     "source": [
      "Miscellaneous"
     ]
    },
    {
     "cell_type": "code",
     "collapsed": false,
     "input": [
      "age = raw_input(\"how old are you? \")"
     ],
     "language": "python",
     "metadata": {},
     "outputs": [
      {
       "name": "stdout",
       "output_type": "stream",
       "stream": "stdout",
       "text": [
        "how old are you? 30\n"
       ]
      }
     ],
     "prompt_number": 38
    },
    {
     "cell_type": "code",
     "collapsed": false,
     "input": [
      "l = [0,1,2]"
     ],
     "language": "python",
     "metadata": {},
     "outputs": [],
     "prompt_number": 1
    },
    {
     "cell_type": "code",
     "collapsed": false,
     "input": [],
     "language": "python",
     "metadata": {},
     "outputs": [
      {
       "metadata": {},
       "output_type": "pyout",
       "prompt_number": 2,
       "text": [
        "[1, 2]"
       ]
      }
     ],
     "prompt_number": 2
    },
    {
     "cell_type": "code",
     "collapsed": false,
     "input": [
      "def merge_sort(scrambled):\n",
      "    if len(scrambled) == 1:\n",
      "        return scrambled\n",
      "    \n",
      "    n = len(scrambled)//2\n",
      "    left_half = merge_sort(scrambled[:n])\n",
      "    right_half = merge_sort(scrambled[n:])\n",
      "    \n",
      "    counter = 0 # current location in sorted list\n",
      "    while len(left_half) and len(right_half):\n",
      "        if left_half[0] >= right_half[0]:\n",
      "            scrambled[counter] = right_half[0]\n",
      "            del right_half[0]\n",
      "        else:\n",
      "            scrambled[counter] = left_half[0]\n",
      "            del left_half[0]\n",
      "        counter += 1\n",
      "    if len(left_half):\n",
      "        scrambled[counter:] = left_half\n",
      "    elif len(right_half):\n",
      "        scrambled[counter:] = right_half\n",
      "        \n",
      "    return scrambled"
     ],
     "language": "python",
     "metadata": {},
     "outputs": [],
     "prompt_number": 11
    },
    {
     "cell_type": "code",
     "collapsed": false,
     "input": [
      "print merge_sort(['1',11,'a'])"
     ],
     "language": "python",
     "metadata": {},
     "outputs": [
      {
       "output_type": "stream",
       "stream": "stdout",
       "text": [
        "[11, '1', 'a']\n"
       ]
      }
     ],
     "prompt_number": 14
    },
    {
     "cell_type": "code",
     "collapsed": false,
     "input": [
      "def merge_sort(scrambled,first=0,last=None):\n",
      "    if last is None:\n",
      "        last = len(scrambled)\n",
      "\n",
      "    if last-first <= 1:\n",
      "        return scrambled\n",
      "    \n",
      "    n = first+(last-first)//2\n",
      "    left_half = merge_sort(list(scrambled),first,n)\n",
      "    right_half = merge_sort(list(scrambled),n,last)\n",
      "    \n",
      "    counter = first # current location in sorted list\n",
      "    left_idx = first # current location in left_half\n",
      "    right_idx = n # current location in right half\n",
      "    while left_idx < n and right_idx < last:\n",
      "        if left_half[left_idx] <= right_half[right_idx]:\n",
      "            scrambled[counter] = left_half[left_idx]\n",
      "            left_idx += 1\n",
      "        else:\n",
      "            scrambled[counter] = right_half[right_idx]\n",
      "            right_idx += 1\n",
      "        counter += 1\n",
      "    if left_idx < n:\n",
      "        scrambled[counter:last] = left_half[left_idx:n]\n",
      "    elif right_idx < last:\n",
      "        scrambled[counter:last] = right_half[right_idx:last]\n",
      "    \n",
      "    return scrambled"
     ],
     "language": "python",
     "metadata": {},
     "outputs": [],
     "prompt_number": 90
    },
    {
     "cell_type": "code",
     "collapsed": false,
     "input": [
      "s = merge_sort([3,3,5,2,6,2,8,9,1])\n",
      "s"
     ],
     "language": "python",
     "metadata": {},
     "outputs": [
      {
       "metadata": {},
       "output_type": "pyout",
       "prompt_number": 91,
       "text": [
        "[1, 2, 2, 3, 3, 5, 6, 8, 9]"
       ]
      }
     ],
     "prompt_number": 91
    },
    {
     "cell_type": "code",
     "collapsed": false,
     "input": [
      "def quick_sort(sequence,first=0,last=None):\n",
      "    if last is None:\n",
      "        last = len(sequence)\n",
      "\n",
      "    if last-first <= 1:\n",
      "        return sequence\n",
      "\n",
      "    # start by using first element as pivot\n",
      "    pivot = first\n",
      "    \n",
      "    left = first+1\n",
      "    right=last-1\n",
      "    while left < right:\n",
      "        if sequence[left] > sequence[pivot] and sequence[right] < sequence[pivot]:\n",
      "            sequence[left], sequence[right] = sequence[right], sequence[left]\n",
      "            left += 1\n",
      "            right -= 1\n",
      "        else:\n",
      "            if sequence[left] <= sequence[pivot]:\n",
      "                left += 1\n",
      "            if sequence[right] >= sequence[pivot]:\n",
      "                right -= 1\n",
      "    \n",
      "    sequence[pivot], sequence[left] = sequence[left], sequence[pivot]\n",
      "        "
     ],
     "language": "python",
     "metadata": {},
     "outputs": [],
     "prompt_number": 92
    },
    {
     "cell_type": "code",
     "collapsed": false,
     "input": [
      "s[0], s[1] = s[1], s[0]"
     ],
     "language": "python",
     "metadata": {},
     "outputs": [],
     "prompt_number": 96
    },
    {
     "cell_type": "code",
     "collapsed": false,
     "input": [
      "[None]*5"
     ],
     "language": "python",
     "metadata": {},
     "outputs": [
      {
       "metadata": {},
       "output_type": "pyout",
       "prompt_number": 100,
       "text": [
        "[None, None, None, None, None]"
       ]
      }
     ],
     "prompt_number": 100
    }
   ],
   "metadata": {}
  }
 ]
}