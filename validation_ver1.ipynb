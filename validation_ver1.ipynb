{
 "metadata": {
  "name": ""
 },
 "nbformat": 3,
 "nbformat_minor": 0,
 "worksheets": [
  {
   "cells": [
    {
     "cell_type": "heading",
     "level": 1,
     "metadata": {},
     "source": [
      "Validation part 1: Test whether the algorithm selects different charities than random selection."
     ]
    },
    {
     "cell_type": "heading",
     "level": 1,
     "metadata": {},
     "source": [
      "Set up"
     ]
    },
    {
     "cell_type": "code",
     "collapsed": false,
     "input": [
      "from scipy.spatial.distance import cdist\n",
      "# import program_rankings as rank\n",
      "import pymysql as mdb\n",
      "import pandas as pd\n",
      "import matplotlib.pyplot as plt\n",
      "import numpy as np\n",
      "import re\n",
      "import MySQLdb\n",
      "import master_disease_list\n",
      "\n",
      "%matplotlib inline"
     ],
     "language": "python",
     "metadata": {},
     "outputs": [],
     "prompt_number": 2
    },
    {
     "cell_type": "code",
     "collapsed": false,
     "input": [
      "# Get list of diseases\n",
      "disease_list = master_disease_list.return_diseases()\n",
      "\n",
      "# Choose features\n",
      "feature_names = ['bbb_accred', 'cn_rated', 'tax_exempt', 'cn_overall', 'cn_acct_transp', 'cn_financial', 'percent_admin', \n",
      "                 'percent_fund', 'percent_program', 'staff_size', 'board_size',\n",
      "                 'age', 'total_contributions', 'total_expenses', 'total_revenue', 'twitter_followers']"
     ],
     "language": "python",
     "metadata": {},
     "outputs": [],
     "prompt_number": 3
    },
    {
     "cell_type": "code",
     "collapsed": false,
     "input": [
      "mysqlauth = pd.DataFrame.from_csv('/home/kristy/Documents/auth_codes/mysql_user.csv')\n",
      "sqluser = mysqlauth.username[0]\n",
      "sqlpass = mysqlauth.password[0]\n",
      "\n",
      "con = mdb.connect(user=sqluser, host=\"localhost\", db=\"charity_data\", password=sqlpass, charset='utf8')"
     ],
     "language": "python",
     "metadata": {},
     "outputs": [],
     "prompt_number": 4
    },
    {
     "cell_type": "heading",
     "level": 1,
     "metadata": {},
     "source": [
      "Construct ideal organization profile"
     ]
    },
    {
     "cell_type": "code",
     "collapsed": false,
     "input": [
      "# make list of preferred features\n",
      "tax_pref = 1\n",
      "bbb_pref = 0\n",
      "cn_pref = 1\n",
      "age_pref = 2\n",
      "staff_pref = 3\n",
      "board_pref = 2\n",
      "cont_pref = 2\n",
      "expense_pref = 1\n",
      "program_pref = 3\n",
      "twitter_pref = 1\n",
      "\n",
      "pref_list = {'bbb_accred' : bbb_pref, \n",
      "                          'cn_rated' : cn_pref, \n",
      "                          'tax_exempt' : tax_pref,\n",
      "                          'cn_overall' : 100., \n",
      "                          'cn_acct_transp' : 100., \n",
      "                          'cn_financial' : 100., \n",
      "                          'percent_program' : program_pref, \n",
      "                          'staff_size' : staff_pref, \n",
      "                          'board_size' : board_pref,\n",
      "                          'age' : age_pref, \n",
      "                          'total_contributions' : cont_pref, \n",
      "                          'total_expenses' : expense_pref, \n",
      "                          'total_revenue' : 0.,\n",
      "                          'twitter_followers' : twitter_pref }"
     ],
     "language": "python",
     "metadata": {},
     "outputs": [],
     "prompt_number": 5
    },
    {
     "cell_type": "code",
     "collapsed": false,
     "input": [
      "# Read in SQL data with distributions for some variables.\n",
      "with con:\n",
      "    distribution = pd.read_sql(\"SELECT * FROM distribution\", con)\n",
      "distribution.index = distribution.distidx"
     ],
     "language": "python",
     "metadata": {},
     "outputs": [],
     "prompt_number": 9
    },
    {
     "cell_type": "code",
     "collapsed": false,
     "input": [
      "# Make dataframe with preferred features\n",
      "ideal_df = rank.convert_prefs_to_ideal(pref_list)"
     ],
     "language": "python",
     "metadata": {},
     "outputs": [
      {
       "ename": "NameError",
       "evalue": "name 'rank' is not defined",
       "output_type": "pyerr",
       "traceback": [
        "\u001b[0;31m---------------------------------------------------------------------------\u001b[0m\n\u001b[0;31mNameError\u001b[0m                                 Traceback (most recent call last)",
        "\u001b[0;32m<ipython-input-7-5b62f861bd95>\u001b[0m in \u001b[0;36m<module>\u001b[0;34m()\u001b[0m\n\u001b[1;32m      1\u001b[0m \u001b[0;31m# Make dataframe with preferred features\u001b[0m\u001b[0;34m\u001b[0m\u001b[0;34m\u001b[0m\u001b[0m\n\u001b[0;32m----> 2\u001b[0;31m \u001b[0mideal_df\u001b[0m \u001b[0;34m=\u001b[0m \u001b[0mrank\u001b[0m\u001b[0;34m.\u001b[0m\u001b[0mconvert_prefs_to_ideal\u001b[0m\u001b[0;34m(\u001b[0m\u001b[0mpref_list\u001b[0m\u001b[0;34m)\u001b[0m\u001b[0;34m\u001b[0m\u001b[0m\n\u001b[0m",
        "\u001b[0;31mNameError\u001b[0m: name 'rank' is not defined"
       ]
      }
     ],
     "prompt_number": 7
    },
    {
     "cell_type": "code",
     "collapsed": false,
     "input": [
      "distribution"
     ],
     "language": "python",
     "metadata": {},
     "outputs": [
      {
       "html": [
        "<div style=\"max-height:1000px;max-width:1500px;overflow:auto;\">\n",
        "<table border=\"1\" class=\"dataframe\">\n",
        "  <thead>\n",
        "    <tr style=\"text-align: right;\">\n",
        "      <th></th>\n",
        "      <th>age</th>\n",
        "      <th>board_size</th>\n",
        "      <th>cn_acct_transp</th>\n",
        "      <th>cn_financial</th>\n",
        "      <th>cn_overall</th>\n",
        "      <th>percent_admin</th>\n",
        "      <th>percent_fund</th>\n",
        "      <th>percent_program</th>\n",
        "      <th>staff_size</th>\n",
        "      <th>total_contributions</th>\n",
        "      <th>total_expenses</th>\n",
        "      <th>total_revenue</th>\n",
        "      <th>twitter_followers</th>\n",
        "      <th>year_incorporated</th>\n",
        "      <th>distidx</th>\n",
        "    </tr>\n",
        "    <tr>\n",
        "      <th>distidx</th>\n",
        "      <th></th>\n",
        "      <th></th>\n",
        "      <th></th>\n",
        "      <th></th>\n",
        "      <th></th>\n",
        "      <th></th>\n",
        "      <th></th>\n",
        "      <th></th>\n",
        "      <th></th>\n",
        "      <th></th>\n",
        "      <th></th>\n",
        "      <th></th>\n",
        "      <th></th>\n",
        "      <th></th>\n",
        "      <th></th>\n",
        "    </tr>\n",
        "  </thead>\n",
        "  <tbody>\n",
        "    <tr>\n",
        "      <th>p17</th>\n",
        "      <td> 13.000</td>\n",
        "      <td>  7.0000</td>\n",
        "      <td>  79.532</td>\n",
        "      <td> 57.8272</td>\n",
        "      <td> 67.1620</td>\n",
        "      <td>  4.4</td>\n",
        "      <td>  6.5532</td>\n",
        "      <td> 59.5229</td>\n",
        "      <td>   8.000</td>\n",
        "      <td>  1694850</td>\n",
        "      <td>  1895780</td>\n",
        "      <td>  1935230</td>\n",
        "      <td>   199.498</td>\n",
        "      <td> 1959.92</td>\n",
        "      <td> p17</td>\n",
        "    </tr>\n",
        "    <tr>\n",
        "      <th>p25</th>\n",
        "      <td> 16.000</td>\n",
        "      <td>  9.0000</td>\n",
        "      <td>  89.000</td>\n",
        "      <td> 70.0350</td>\n",
        "      <td> 76.3500</td>\n",
        "      <td>  5.3</td>\n",
        "      <td>  8.3500</td>\n",
        "      <td> 66.6000</td>\n",
        "      <td>  11.750</td>\n",
        "      <td>  2545310</td>\n",
        "      <td>  2590270</td>\n",
        "      <td>  2733920</td>\n",
        "      <td>   361.500</td>\n",
        "      <td> 1973.25</td>\n",
        "      <td> p25</td>\n",
        "    </tr>\n",
        "    <tr>\n",
        "      <th>p50</th>\n",
        "      <td> 24.500</td>\n",
        "      <td> 13.5000</td>\n",
        "      <td>  96.000</td>\n",
        "      <td> 81.2600</td>\n",
        "      <td> 85.4500</td>\n",
        "      <td>  6.8</td>\n",
        "      <td> 13.4000</td>\n",
        "      <td> 78.7000</td>\n",
        "      <td>  24.000</td>\n",
        "      <td>  5707500</td>\n",
        "      <td>  5368970</td>\n",
        "      <td>  5708670</td>\n",
        "      <td>  1736.500</td>\n",
        "      <td> 1990.50</td>\n",
        "      <td> p50</td>\n",
        "    </tr>\n",
        "    <tr>\n",
        "      <th>p75</th>\n",
        "      <td> 41.750</td>\n",
        "      <td> 22.2500</td>\n",
        "      <td> 100.000</td>\n",
        "      <td> 88.0500</td>\n",
        "      <td> 91.0800</td>\n",
        "      <td>  9.3</td>\n",
        "      <td> 26.1500</td>\n",
        "      <td> 83.5500</td>\n",
        "      <td>  73.500</td>\n",
        "      <td> 21519500</td>\n",
        "      <td> 22923200</td>\n",
        "      <td> 25147700</td>\n",
        "      <td>  6713.000</td>\n",
        "      <td> 1999.00</td>\n",
        "      <td> p75</td>\n",
        "    </tr>\n",
        "    <tr>\n",
        "      <th>p83</th>\n",
        "      <td> 55.081</td>\n",
        "      <td> 24.8505</td>\n",
        "      <td> 100.000</td>\n",
        "      <td> 91.3471</td>\n",
        "      <td> 92.8037</td>\n",
        "      <td> 11.8</td>\n",
        "      <td> 33.9000</td>\n",
        "      <td> 86.4936</td>\n",
        "      <td> 149.355</td>\n",
        "      <td> 53037300</td>\n",
        "      <td> 66418900</td>\n",
        "      <td> 58517500</td>\n",
        "      <td> 10438.700</td>\n",
        "      <td> 2002.00</td>\n",
        "      <td> p83</td>\n",
        "    </tr>\n",
        "  </tbody>\n",
        "</table>\n",
        "<p>5 rows \u00d7 15 columns</p>\n",
        "</div>"
       ],
       "metadata": {},
       "output_type": "pyout",
       "prompt_number": 10,
       "text": [
        "            age  board_size  cn_acct_transp  cn_financial  cn_overall  \\\n",
        "distidx                                                                 \n",
        "p17      13.000      7.0000          79.532       57.8272     67.1620   \n",
        "p25      16.000      9.0000          89.000       70.0350     76.3500   \n",
        "p50      24.500     13.5000          96.000       81.2600     85.4500   \n",
        "p75      41.750     22.2500         100.000       88.0500     91.0800   \n",
        "p83      55.081     24.8505         100.000       91.3471     92.8037   \n",
        "\n",
        "         percent_admin  percent_fund  percent_program  staff_size  \\\n",
        "distidx                                                             \n",
        "p17                4.4        6.5532          59.5229       8.000   \n",
        "p25                5.3        8.3500          66.6000      11.750   \n",
        "p50                6.8       13.4000          78.7000      24.000   \n",
        "p75                9.3       26.1500          83.5500      73.500   \n",
        "p83               11.8       33.9000          86.4936     149.355   \n",
        "\n",
        "         total_contributions  total_expenses  total_revenue  \\\n",
        "distidx                                                       \n",
        "p17                  1694850         1895780        1935230   \n",
        "p25                  2545310         2590270        2733920   \n",
        "p50                  5707500         5368970        5708670   \n",
        "p75                 21519500        22923200       25147700   \n",
        "p83                 53037300        66418900       58517500   \n",
        "\n",
        "         twitter_followers  year_incorporated distidx  \n",
        "distidx                                                \n",
        "p17                199.498            1959.92     p17  \n",
        "p25                361.500            1973.25     p25  \n",
        "p50               1736.500            1990.50     p50  \n",
        "p75               6713.000            1999.00     p75  \n",
        "p83              10438.700            2002.00     p83  \n",
        "\n",
        "[5 rows x 15 columns]"
       ]
      }
     ],
     "prompt_number": 10
    },
    {
     "cell_type": "heading",
     "level": 1,
     "metadata": {},
     "source": [
      "Get rankings"
     ]
    },
    {
     "cell_type": "code",
     "collapsed": false,
     "input": [
      "# Import data from SQL\n",
      "combined_panda = pd.DataFrame(dtype=float)\n",
      "with con:\n",
      "    for disease in disease_list:\n",
      "        pandadf = pd.read_sql(\"SELECT * FROM \" + str(disease), con)\n",
      "        if len(pandadf) > 0:\n",
      "            combined_panda = pd.concat([combined_panda, pandadf], 0, ignore_index=True)\n",
      "\n",
      "# Fix NaNs that were originally encoded as -1.\n",
      "for idx in range(len(combined_panda)):\n",
      "    if combined_panda['year_incorporated'][idx] == -1.:\n",
      "        combined_panda[idx:(idx+1)]['age'] = np.nan\n",
      "        combined_panda[idx:(idx+1)]['year_incorporated'] = np.nan\n",
      "    for col in combined_panda.columns:\n",
      "        if combined_panda[col][idx] == -1:\n",
      "            combined_panda[idx:(idx+1)][col] = np.nan\n"
     ],
     "language": "python",
     "metadata": {},
     "outputs": [],
     "prompt_number": 9
    },
    {
     "cell_type": "code",
     "collapsed": false,
     "input": [
      "# Get rankings based on algorithm\n",
      "top10_algo = rank.rank_programs(combined_panda, ideal_df)"
     ],
     "language": "python",
     "metadata": {},
     "outputs": [],
     "prompt_number": 10
    },
    {
     "cell_type": "code",
     "collapsed": false,
     "input": [
      "top10_algo.gower"
     ],
     "language": "python",
     "metadata": {},
     "outputs": [
      {
       "metadata": {},
       "output_type": "pyout",
       "prompt_number": 19,
       "text": [
        "194    0.950369\n",
        "505    0.945498\n",
        "740    0.945486\n",
        "739    0.944857\n",
        "510    0.944857\n",
        "197    0.944601\n",
        "2      0.944013\n",
        "0      0.942273\n",
        "703    0.939761\n",
        "513    0.939405\n",
        "Name: gower, dtype: float64"
       ]
      }
     ],
     "prompt_number": 19
    },
    {
     "cell_type": "code",
     "collapsed": false,
     "input": [
      "# Get rankings based on random selection\n",
      "combined_panda['ranking'] = np.random.permutation(range(len(combined_panda)))\n"
     ],
     "language": "python",
     "metadata": {},
     "outputs": [],
     "prompt_number": 13
    },
    {
     "cell_type": "code",
     "collapsed": false,
     "input": [
      "top10_rand = combined_panda[combined_panda['ranking'] < 10]"
     ],
     "language": "python",
     "metadata": {},
     "outputs": [],
     "prompt_number": 16
    },
    {
     "cell_type": "code",
     "collapsed": false,
     "input": [
      "top10_rand.gower"
     ],
     "language": "python",
     "metadata": {},
     "outputs": [
      {
       "metadata": {},
       "output_type": "pyout",
       "prompt_number": 20,
       "text": [
        "424    0.914391\n",
        "724    0.889299\n",
        "709    0.000000\n",
        "37     0.000000\n",
        "117    0.000000\n",
        "629    0.000000\n",
        "580    0.000000\n",
        "600    0.000000\n",
        "690    0.000000\n",
        "332    0.000000\n",
        "Name: gower, dtype: float64"
       ]
      }
     ],
     "prompt_number": 20
    },
    {
     "cell_type": "code",
     "collapsed": false,
     "input": [
      "top10_algo.info()"
     ],
     "language": "python",
     "metadata": {},
     "outputs": [
      {
       "output_type": "stream",
       "stream": "stdout",
       "text": [
        "<class 'pandas.core.frame.DataFrame'>\n",
        "Int64Index: 10 entries, 194 to 513\n",
        "Data columns (total 34 columns):\n",
        "address                10 non-null object\n",
        "age                    8 non-null float64\n",
        "bbb_accred             10 non-null float64\n",
        "bbb_link               10 non-null object\n",
        "board_size             10 non-null float64\n",
        "city                   10 non-null object\n",
        "cn_acct_transp         10 non-null float64\n",
        "cn_financial           10 non-null float64\n",
        "cn_link                10 non-null object\n",
        "cn_overall             10 non-null float64\n",
        "cn_rated               10 non-null float64\n",
        "disease                10 non-null object\n",
        "facebook_likes         10 non-null float64\n",
        "facebook_link          10 non-null object\n",
        "id                     10 non-null float64\n",
        "leader_compensation    10 non-null object\n",
        "link                   10 non-null object\n",
        "name                   10 non-null object\n",
        "percent_admin          10 non-null float64\n",
        "percent_fund           10 non-null float64\n",
        "percent_program        10 non-null float64\n",
        "purpose                10 non-null object\n",
        "staff_size             10 non-null float64\n",
        "state                  10 non-null object\n",
        "tax_exempt             10 non-null float64\n",
        "tax_status             10 non-null object\n",
        "total_contributions    10 non-null float64\n",
        "total_expenses         10 non-null float64\n",
        "total_revenue          10 non-null float64\n",
        "twitter_followers      7 non-null float64\n",
        "twitter_link           10 non-null object\n",
        "year_incorporated      8 non-null float64\n",
        "gower                  10 non-null float64\n",
        "ranking                10 non-null int64\n",
        "dtypes: float64(20), int64(1), object(13)"
       ]
      }
     ],
     "prompt_number": 21
    }
   ],
   "metadata": {}
  }
 ]
}