{
 "metadata": {
  "name": ""
 },
 "nbformat": 3,
 "nbformat_minor": 0,
 "worksheets": [
  {
   "cells": [
    {
     "cell_type": "heading",
     "level": 1,
     "metadata": {},
     "source": [
      "Validation part 1: Test whether the algorithm selects different charities than random selection."
     ]
    },
    {
     "cell_type": "heading",
     "level": 1,
     "metadata": {},
     "source": [
      "Set up"
     ]
    },
    {
     "cell_type": "code",
     "collapsed": false,
     "input": [
      "from scipy.spatial.distance import cdist\n",
      "import program_rankings as rank\n",
      "import pymysql as mdb\n",
      "import pandas as pd\n",
      "import matplotlib.pyplot as plt\n",
      "import numpy as np\n",
      "import re\n",
      "import MySQLdb\n",
      "import master_disease_list\n",
      "\n",
      "%matplotlib inline"
     ],
     "language": "python",
     "metadata": {},
     "outputs": [],
     "prompt_number": 1
    },
    {
     "cell_type": "code",
     "collapsed": false,
     "input": [
      "# Get list of diseases\n",
      "disease_list = master_disease_list.return_diseases()\n",
      "\n",
      "# Choose features\n",
      "feature_names = ['bbb_accred', 'cn_rated', 'tax_exempt', 'cn_overall', 'cn_acct_transp', 'cn_financial', 'percent_admin', \n",
      "                 'percent_fund', 'percent_program', 'staff_size', 'board_size',\n",
      "                 'age', 'total_contributions', 'total_expenses', 'total_revenue', 'twitter_followers']"
     ],
     "language": "python",
     "metadata": {},
     "outputs": [],
     "prompt_number": 2
    },
    {
     "cell_type": "code",
     "collapsed": false,
     "input": [
      "mysqlauth = pd.DataFrame.from_csv('/home/kristy/Documents/auth_codes/mysql_user.csv')\n",
      "sqluser = mysqlauth.username[0]\n",
      "sqlpass = mysqlauth.password[0]\n",
      "\n",
      "con = mdb.connect(user=sqluser, host=\"localhost\", db=\"charity_data\", password=sqlpass, charset='utf8')"
     ],
     "language": "python",
     "metadata": {},
     "outputs": [],
     "prompt_number": 3
    },
    {
     "cell_type": "heading",
     "level": 1,
     "metadata": {},
     "source": [
      "Construct ideal organization profile"
     ]
    },
    {
     "cell_type": "code",
     "collapsed": false,
     "input": [
      "# make list of preferred features\n",
      "tax_pref = 1\n",
      "bbb_pref = 0\n",
      "cn_pref = 1\n",
      "age_pref = 2\n",
      "staff_pref = 3\n",
      "board_pref = 2\n",
      "cont_pref = 2\n",
      "expense_pref = 1\n",
      "program_pref = 3\n",
      "twitter_pref = 1\n",
      "\n",
      "pref_list = {'bbb_accred' : bbb_pref, \n",
      "                          'cn_rated' : cn_pref, \n",
      "                          'tax_exempt' : tax_pref,\n",
      "                          'cn_overall' : 100., \n",
      "                          'cn_acct_transp' : 100., \n",
      "                          'cn_financial' : 100., \n",
      "                          'percent_program' : program_pref, \n",
      "                          'staff_size' : staff_pref, \n",
      "                          'board_size' : board_pref,\n",
      "                          'age' : age_pref, \n",
      "                          'total_contributions' : cont_pref, \n",
      "                          'total_expenses' : expense_pref, \n",
      "                          'total_revenue' : 0.,\n",
      "                          'twitter_followers' : twitter_pref }"
     ],
     "language": "python",
     "metadata": {},
     "outputs": [],
     "prompt_number": 4
    },
    {
     "cell_type": "code",
     "collapsed": false,
     "input": [
      "# Read in SQL data with distributions for some variables.\n",
      "with con:\n",
      "    distribution = pd.read_sql(\"SELECT * FROM distribution\", con)\n",
      "distribution.index = distribution.distidx"
     ],
     "language": "python",
     "metadata": {},
     "outputs": [],
     "prompt_number": 5
    },
    {
     "cell_type": "code",
     "collapsed": false,
     "input": [
      "# Make dataframe with preferred features\n",
      "ideal_df = rank.convert_prefs_to_ideal(pref_list)"
     ],
     "language": "python",
     "metadata": {},
     "outputs": [],
     "prompt_number": 8
    },
    {
     "cell_type": "heading",
     "level": 1,
     "metadata": {},
     "source": [
      "Get rankings"
     ]
    },
    {
     "cell_type": "code",
     "collapsed": false,
     "input": [
      "# Import data from SQL\n",
      "combined_panda = pd.DataFrame(dtype=float)\n",
      "with con:\n",
      "    for disease in disease_list:\n",
      "        pandadf = pd.read_sql(\"SELECT * FROM \" + str(disease), con)\n",
      "        if len(pandadf) > 0:\n",
      "            combined_panda = pd.concat([combined_panda, pandadf], 0, ignore_index=True)\n",
      "\n",
      "# Fix NaNs that were originally encoded as -1.\n",
      "for idx in range(len(combined_panda)):\n",
      "    if combined_panda['year_incorporated'][idx] == -1.:\n",
      "        combined_panda[idx:(idx+1)]['age'] = np.nan\n",
      "        combined_panda[idx:(idx+1)]['year_incorporated'] = np.nan\n",
      "    for col in combined_panda.columns:\n",
      "        if combined_panda[col][idx] == -1:\n",
      "            combined_panda[idx:(idx+1)][col] = np.nan\n"
     ],
     "language": "python",
     "metadata": {},
     "outputs": [],
     "prompt_number": 9
    },
    {
     "cell_type": "code",
     "collapsed": false,
     "input": [
      "# Get rankings based on algorithm\n",
      "top10_algo = rank.rank_programs(combined_panda, ideal_df)"
     ],
     "language": "python",
     "metadata": {},
     "outputs": [],
     "prompt_number": 10
    },
    {
     "cell_type": "code",
     "collapsed": false,
     "input": [
      "top10_algo.gower"
     ],
     "language": "python",
     "metadata": {},
     "outputs": [
      {
       "metadata": {},
       "output_type": "pyout",
       "prompt_number": 19,
       "text": [
        "194    0.950369\n",
        "505    0.945498\n",
        "740    0.945486\n",
        "739    0.944857\n",
        "510    0.944857\n",
        "197    0.944601\n",
        "2      0.944013\n",
        "0      0.942273\n",
        "703    0.939761\n",
        "513    0.939405\n",
        "Name: gower, dtype: float64"
       ]
      }
     ],
     "prompt_number": 19
    },
    {
     "cell_type": "code",
     "collapsed": false,
     "input": [
      "# Get rankings based on random selection\n",
      "combined_panda['ranking'] = np.random.permutation(range(len(combined_panda)))\n"
     ],
     "language": "python",
     "metadata": {},
     "outputs": [],
     "prompt_number": 13
    },
    {
     "cell_type": "code",
     "collapsed": false,
     "input": [
      "top10_rand = combined_panda[combined_panda['ranking'] < 10]"
     ],
     "language": "python",
     "metadata": {},
     "outputs": [],
     "prompt_number": 16
    },
    {
     "cell_type": "code",
     "collapsed": false,
     "input": [
      "top10_rand.gower"
     ],
     "language": "python",
     "metadata": {},
     "outputs": [
      {
       "metadata": {},
       "output_type": "pyout",
       "prompt_number": 20,
       "text": [
        "424    0.914391\n",
        "724    0.889299\n",
        "709    0.000000\n",
        "37     0.000000\n",
        "117    0.000000\n",
        "629    0.000000\n",
        "580    0.000000\n",
        "600    0.000000\n",
        "690    0.000000\n",
        "332    0.000000\n",
        "Name: gower, dtype: float64"
       ]
      }
     ],
     "prompt_number": 20
    },
    {
     "cell_type": "code",
     "collapsed": false,
     "input": [
      "top10_algo.info()"
     ],
     "language": "python",
     "metadata": {},
     "outputs": [
      {
       "output_type": "stream",
       "stream": "stdout",
       "text": [
        "<class 'pandas.core.frame.DataFrame'>\n",
        "Int64Index: 10 entries, 194 to 513\n",
        "Data columns (total 34 columns):\n",
        "address                10 non-null object\n",
        "age                    8 non-null float64\n",
        "bbb_accred             10 non-null float64\n",
        "bbb_link               10 non-null object\n",
        "board_size             10 non-null float64\n",
        "city                   10 non-null object\n",
        "cn_acct_transp         10 non-null float64\n",
        "cn_financial           10 non-null float64\n",
        "cn_link                10 non-null object\n",
        "cn_overall             10 non-null float64\n",
        "cn_rated               10 non-null float64\n",
        "disease                10 non-null object\n",
        "facebook_likes         10 non-null float64\n",
        "facebook_link          10 non-null object\n",
        "id                     10 non-null float64\n",
        "leader_compensation    10 non-null object\n",
        "link                   10 non-null object\n",
        "name                   10 non-null object\n",
        "percent_admin          10 non-null float64\n",
        "percent_fund           10 non-null float64\n",
        "percent_program        10 non-null float64\n",
        "purpose                10 non-null object\n",
        "staff_size             10 non-null float64\n",
        "state                  10 non-null object\n",
        "tax_exempt             10 non-null float64\n",
        "tax_status             10 non-null object\n",
        "total_contributions    10 non-null float64\n",
        "total_expenses         10 non-null float64\n",
        "total_revenue          10 non-null float64\n",
        "twitter_followers      7 non-null float64\n",
        "twitter_link           10 non-null object\n",
        "year_incorporated      8 non-null float64\n",
        "gower                  10 non-null float64\n",
        "ranking                10 non-null int64\n",
        "dtypes: float64(20), int64(1), object(13)"
       ]
      }
     ],
     "prompt_number": 21
    }
   ],
   "metadata": {}
  }
 ]
}