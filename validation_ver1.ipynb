{
 "metadata": {
  "name": ""
 },
 "nbformat": 3,
 "nbformat_minor": 0,
 "worksheets": [
  {
   "cells": [
    {
     "cell_type": "heading",
     "level": 1,
     "metadata": {},
     "source": [
      "Validation part 1: Test whether returned results are actually close to the desired organization."
     ]
    },
    {
     "cell_type": "heading",
     "level": 1,
     "metadata": {},
     "source": [
      "Set up"
     ]
    },
    {
     "cell_type": "code",
     "collapsed": false,
     "input": [
      "import sys\n",
      "sys.path.append('app')"
     ],
     "language": "python",
     "metadata": {},
     "outputs": [],
     "prompt_number": 1
    },
    {
     "cell_type": "code",
     "collapsed": false,
     "input": [
      "from scipy.spatial.distance import cdist\n",
      "# import program_rankings as rank\n",
      "import pymysql as mdb\n",
      "import pandas as pd\n",
      "import matplotlib.pyplot as plt\n",
      "import numpy as np\n",
      "import re\n",
      "import MySQLdb\n",
      "import master_disease_list\n",
      "\n",
      "%matplotlib inline"
     ],
     "language": "python",
     "metadata": {},
     "outputs": [],
     "prompt_number": 2
    },
    {
     "cell_type": "code",
     "collapsed": false,
     "input": [
      "# Get list of diseases\n",
      "disease_list = master_disease_list.return_diseases()\n",
      "\n",
      "# Choose features\n",
      "feature_names = ['bbb_accred', 'cn_rated', 'tax_exempt', 'cn_overall', 'cn_acct_transp', 'cn_financial', 'percent_admin', \n",
      "                 'percent_fund', 'percent_program', 'staff_size', 'board_size',\n",
      "                 'age', 'total_contributions', 'total_expenses', 'total_revenue', 'twitter_followers']"
     ],
     "language": "python",
     "metadata": {},
     "outputs": [],
     "prompt_number": 3
    },
    {
     "cell_type": "code",
     "collapsed": false,
     "input": [
      "mysqlauth = pd.DataFrame.from_csv('/home/kristy/Documents/auth_codes/mysql_user.csv')\n",
      "sqluser = mysqlauth.username[0]\n",
      "sqlpass = mysqlauth.password[0]\n",
      "\n",
      "con = mdb.connect(user=sqluser, host=\"localhost\", db=\"charity_data\", password=sqlpass, charset='utf8')"
     ],
     "language": "python",
     "metadata": {},
     "outputs": [],
     "prompt_number": 4
    },
    {
     "cell_type": "heading",
     "level": 1,
     "metadata": {},
     "source": [
      "Set up dataframes"
     ]
    },
    {
     "cell_type": "heading",
     "level": 2,
     "metadata": {},
     "source": [
      "Actual organizations"
     ]
    },
    {
     "cell_type": "code",
     "collapsed": false,
     "input": [
      "# Import data from SQL\n",
      "combined_panda = pd.DataFrame(dtype=float)\n",
      "\n",
      "with con:\n",
      "    for disease in disease_list:\n",
      "        clean_disease_name = '_'.join(disease.lower().replace('\\'s disease','').replace('\\'s','').split())\n",
      "        pandadf = pd.read_sql(\"SELECT * FROM \" + str(clean_disease_name), con)\n",
      "        if len(pandadf) > 0:\n",
      "            combined_panda = pd.concat([combined_panda, pandadf], 0, ignore_index=True)\n",
      "\n",
      "# Fix NaNs that were originally encoded as -1.\n",
      "for idx in range(len(combined_panda)):\n",
      "    if combined_panda['year_incorporated'][idx] == -1.:\n",
      "        combined_panda[idx:(idx+1)]['age'] = np.nan\n",
      "        combined_panda[idx:(idx+1)]['year_incorporated'] = np.nan\n",
      "    for col in combined_panda.columns:\n",
      "        if combined_panda[col][idx] == -1:\n",
      "            combined_panda[idx:(idx+1)][col] = np.nan\n",
      "\n"
     ],
     "language": "python",
     "metadata": {},
     "outputs": [],
     "prompt_number": 5
    },
    {
     "cell_type": "heading",
     "level": 2,
     "metadata": {},
     "source": [
      "Ideal organizations"
     ]
    },
    {
     "cell_type": "code",
     "collapsed": false,
     "input": [
      "# Read in SQL data with distributions for some variables.\n",
      "with con:\n",
      "    distribution = pd.read_sql(\"SELECT * FROM distribution\", con)\n",
      "distribution.index = distribution.distidx    \n"
     ],
     "language": "python",
     "metadata": {},
     "outputs": [],
     "prompt_number": 6
    },
    {
     "cell_type": "code",
     "collapsed": false,
     "input": [
      "def convert_prefs_to_ideal(pref_list):    \n",
      "    # Construct initial dataframe\n",
      "    ideal_df = pd.DataFrame(columns=pref_list.viewkeys(), index=[1000], dtype='float64')\n",
      "\n",
      "    # Booleans are just scored as important or not.\n",
      "    for col in ['bbb_accred', 'cn_rated', 'tax_exempt']:\n",
      "        if pref_list[col] == 0:\n",
      "            ideal_df[:][col] = np.nan\n",
      "        elif pref_list[col] == 1:\n",
      "            ideal_df[:][col] = 1.\n",
      "        elif pref_list[col] == 2:\n",
      "            ideal_df[:][col] = 0.\n",
      "        else:\n",
      "            raise Exception('Improper input for ' + str(col) + ': ' + str(pref_list[col]) + ' (' + str(type(pref_list[col])) + ').')\n",
      "\n",
      "\n",
      "    # Numerical values are defined based on the overall distribution.\n",
      "    for col in ['staff_size','board_size','total_contributions','total_expenses','percent_program', 'cn_overall',\n",
      "                'cn_financial','cn_acct_transp','total_revenue','age','twitter_followers']:\n",
      "        if pref_list[col] == 0:\n",
      "            ideal_df[:][col] = np.nan\n",
      "        elif  pref_list[col] == 1:\n",
      "            ideal_df[:][col] = distribution.loc['p17',col]\n",
      "        elif pref_list[col] == 2:\n",
      "            ideal_df[:][col] = distribution.loc['p50',col]\n",
      "        elif pref_list[col] == 3:\n",
      "            ideal_df[:][col] = distribution.loc['p83',col]\n",
      "        else:\n",
      "            raise Exception('Improper input for ' + str(col) + ': ' + str(pref_list[col]) + ' (' + str(type(pref_list[col])) + ').')\n",
      "            \n",
      "    # At least for now, some values are hardcoded here\n",
      "    for col in ['percent_admin','percent_fund']:\n",
      "        ideal_df[col] = (100. - ideal_df['percent_program']) / 2.\n",
      "\n",
      "    return ideal_df\n"
     ],
     "language": "python",
     "metadata": {},
     "outputs": [],
     "prompt_number": 7
    },
    {
     "cell_type": "code",
     "collapsed": false,
     "input": [
      "# Set number of random samples\n",
      "num_samples = 500\n",
      "\n",
      "random_inputs = pd.DataFrame(dtype=float, columns=feature_names)\n",
      "\n",
      "# Make random choices and store in data frame\n",
      "for idx in range(num_samples):\n",
      "    pref_list = {'bbb_accred' : np.random.randint(1, 3), \n",
      "                          'cn_rated' : np.random.randint(1, 3), \n",
      "                          'tax_exempt' : np.random.randint(1, 3),\n",
      "                          'cn_overall' : np.random.randint(1, 4), \n",
      "                          'cn_acct_transp' : np.random.randint(1, 4), \n",
      "                          'cn_financial' : np.random.randint(1, 4),\n",
      "                          'percent_program' : np.random.randint(1, 4), \n",
      "                          'staff_size' : np.random.randint(1, 4), \n",
      "                          'board_size' : np.random.randint(1, 4),\n",
      "                          'age' : np.random.randint(1, 4), \n",
      "                          'total_contributions' : np.random.randint(1, 4), \n",
      "                          'total_expenses' : np.random.randint(1, 4),\n",
      "                          'total_revenue' : np.random.randint(1, 4),\n",
      "                          'twitter_followers' : np.random.randint(1, 4) }\n",
      "    \n",
      "    random_inputs = random_inputs.append(convert_prefs_to_ideal(pref_list), ignore_index=True)\n",
      "    \n",
      "raw_random = random_inputs.copy()"
     ],
     "language": "python",
     "metadata": {},
     "outputs": [],
     "prompt_number": 8
    },
    {
     "cell_type": "code",
     "collapsed": false,
     "input": [
      "random_inputs.head()"
     ],
     "language": "python",
     "metadata": {},
     "outputs": [
      {
       "html": [
        "<div style=\"max-height:1000px;max-width:1500px;overflow:auto;\">\n",
        "<table border=\"1\" class=\"dataframe\">\n",
        "  <thead>\n",
        "    <tr style=\"text-align: right;\">\n",
        "      <th></th>\n",
        "      <th>age</th>\n",
        "      <th>bbb_accred</th>\n",
        "      <th>board_size</th>\n",
        "      <th>cn_acct_transp</th>\n",
        "      <th>cn_financial</th>\n",
        "      <th>cn_overall</th>\n",
        "      <th>cn_rated</th>\n",
        "      <th>percent_admin</th>\n",
        "      <th>percent_fund</th>\n",
        "      <th>percent_program</th>\n",
        "      <th>staff_size</th>\n",
        "      <th>tax_exempt</th>\n",
        "      <th>total_contributions</th>\n",
        "      <th>total_expenses</th>\n",
        "      <th>total_revenue</th>\n",
        "      <th>twitter_followers</th>\n",
        "    </tr>\n",
        "  </thead>\n",
        "  <tbody>\n",
        "    <tr>\n",
        "      <th>0</th>\n",
        "      <td> 13.652</td>\n",
        "      <td> 0</td>\n",
        "      <td> 14</td>\n",
        "      <td> 81</td>\n",
        "      <td> 61.870</td>\n",
        "      <td> 70.3043</td>\n",
        "      <td> 0</td>\n",
        "      <td> 10.7000</td>\n",
        "      <td> 10.7000</td>\n",
        "      <td> 78.600</td>\n",
        "      <td> 24</td>\n",
        "      <td> 1</td>\n",
        "      <td> 55890900</td>\n",
        "      <td>  5372260</td>\n",
        "      <td> 89158500</td>\n",
        "      <td> 1651.500</td>\n",
        "    </tr>\n",
        "    <tr>\n",
        "      <th>1</th>\n",
        "      <td> 13.652</td>\n",
        "      <td> 1</td>\n",
        "      <td> 24</td>\n",
        "      <td> 96</td>\n",
        "      <td> 81.125</td>\n",
        "      <td> 70.3043</td>\n",
        "      <td> 0</td>\n",
        "      <td>  6.6850</td>\n",
        "      <td>  6.6850</td>\n",
        "      <td> 86.630</td>\n",
        "      <td> 24</td>\n",
        "      <td> 0</td>\n",
        "      <td>  1689740</td>\n",
        "      <td>  1903740</td>\n",
        "      <td> 89158500</td>\n",
        "      <td>  147.265</td>\n",
        "    </tr>\n",
        "    <tr>\n",
        "      <th>2</th>\n",
        "      <td> 13.652</td>\n",
        "      <td> 0</td>\n",
        "      <td> 24</td>\n",
        "      <td> 96</td>\n",
        "      <td> 61.870</td>\n",
        "      <td> 70.3043</td>\n",
        "      <td> 0</td>\n",
        "      <td> 10.7000</td>\n",
        "      <td> 10.7000</td>\n",
        "      <td> 78.600</td>\n",
        "      <td>  8</td>\n",
        "      <td> 0</td>\n",
        "      <td>  5707500</td>\n",
        "      <td> 75707800</td>\n",
        "      <td>  1962090</td>\n",
        "      <td>  147.265</td>\n",
        "    </tr>\n",
        "    <tr>\n",
        "      <th>3</th>\n",
        "      <td> 25.000</td>\n",
        "      <td> 1</td>\n",
        "      <td> 14</td>\n",
        "      <td> 96</td>\n",
        "      <td> 61.870</td>\n",
        "      <td> 85.2850</td>\n",
        "      <td> 1</td>\n",
        "      <td> 19.8075</td>\n",
        "      <td> 19.8075</td>\n",
        "      <td> 60.385</td>\n",
        "      <td> 24</td>\n",
        "      <td> 1</td>\n",
        "      <td>  1689740</td>\n",
        "      <td>  1903740</td>\n",
        "      <td> 89158500</td>\n",
        "      <td>  147.265</td>\n",
        "    </tr>\n",
        "    <tr>\n",
        "      <th>4</th>\n",
        "      <td> 13.652</td>\n",
        "      <td> 1</td>\n",
        "      <td> 24</td>\n",
        "      <td> 96</td>\n",
        "      <td> 61.870</td>\n",
        "      <td> 85.2850</td>\n",
        "      <td> 1</td>\n",
        "      <td> 10.7000</td>\n",
        "      <td> 10.7000</td>\n",
        "      <td> 78.600</td>\n",
        "      <td> 24</td>\n",
        "      <td> 1</td>\n",
        "      <td>  5707500</td>\n",
        "      <td> 75707800</td>\n",
        "      <td> 89158500</td>\n",
        "      <td>  147.265</td>\n",
        "    </tr>\n",
        "  </tbody>\n",
        "</table>\n",
        "<p>5 rows \u00d7 16 columns</p>\n",
        "</div>"
       ],
       "metadata": {},
       "output_type": "pyout",
       "prompt_number": 9,
       "text": [
        "      age  bbb_accred  board_size  cn_acct_transp  cn_financial  cn_overall  \\\n",
        "0  13.652           0          14              81        61.870     70.3043   \n",
        "1  13.652           1          24              96        81.125     70.3043   \n",
        "2  13.652           0          24              96        61.870     70.3043   \n",
        "3  25.000           1          14              96        61.870     85.2850   \n",
        "4  13.652           1          24              96        61.870     85.2850   \n",
        "\n",
        "   cn_rated  percent_admin  percent_fund  percent_program  staff_size  \\\n",
        "0         0        10.7000       10.7000           78.600          24   \n",
        "1         0         6.6850        6.6850           86.630          24   \n",
        "2         0        10.7000       10.7000           78.600           8   \n",
        "3         1        19.8075       19.8075           60.385          24   \n",
        "4         1        10.7000       10.7000           78.600          24   \n",
        "\n",
        "   tax_exempt  total_contributions  total_expenses  total_revenue  \\\n",
        "0           1             55890900         5372260       89158500   \n",
        "1           0              1689740         1903740       89158500   \n",
        "2           0              5707500        75707800        1962090   \n",
        "3           1              1689740         1903740       89158500   \n",
        "4           1              5707500        75707800       89158500   \n",
        "\n",
        "   twitter_followers  \n",
        "0           1651.500  \n",
        "1            147.265  \n",
        "2            147.265  \n",
        "3            147.265  \n",
        "4            147.265  \n",
        "\n",
        "[5 rows x 16 columns]"
       ]
      }
     ],
     "prompt_number": 9
    },
    {
     "cell_type": "heading",
     "level": 1,
     "metadata": {},
     "source": [
      "Define functions"
     ]
    },
    {
     "cell_type": "code",
     "collapsed": false,
     "input": [
      "# Make simpler dataframe with only the relevant fields\n",
      "def normalize_data(df,feature_names,ideal):\n",
      "    reduceddf = combined_panda[feature_names + ['disease']].copy()\n",
      "    \n",
      "    # Normalize values\n",
      "    for col in feature_names:\n",
      "        minval = np.min([np.min(reduceddf[col]), np.min(ideal[col])])\n",
      "        reduceddf[col] -= minval\n",
      "        ideal[col] -= minval\n",
      "        maxval = np.max([np.max(reduceddf[col]), np.max(ideal[col])])\n",
      "        reduceddf[col] /= maxval\n",
      "        ideal[col] /= maxval\n",
      "        \n",
      "    return (reduceddf, ideal)"
     ],
     "language": "python",
     "metadata": {},
     "outputs": [],
     "prompt_number": 10
    },
    {
     "cell_type": "code",
     "collapsed": false,
     "input": [
      "# Define Gower similarity metric for a single row.\n",
      "# Input: data_df: Series with data from a single charity.\n",
      "#        ref_df: DataFrame with charity to compare against.\n",
      "def gower_similarity(data_df,ref_df):\n",
      "    # Set up data structures\n",
      "    feature_names = ref_df.columns\n",
      "    nFeatures = len(feature_names)\n",
      "    sim = np.empty([nFeatures,1]) # each feature's similarity index (in [0, 1])\n",
      "    wgt = np.empty([nFeatures,1]) # weight to put on each feature (0 or 1)\n",
      "\n",
      "    # Find similarity for each feature\n",
      "    # 'any' is only used for correct syntax -- each comparison is on a single number\n",
      "    # 'np.sum' is used to convert series with a single number into scalar\n",
      "    for idx in range(len(feature_names)):\n",
      "        col = feature_names[idx]\n",
      "        if ref_df[col].dtype == 'bool':\n",
      "            sim[idx] = any(ref_df[col] == 1) and data_df[col] == 1\n",
      "            wgt[idx] = any(ref_df[col] == 1) or data_df[col] == 1\n",
      "        elif ref_df[col].dtype in ['float', 'int']:\n",
      "            sim[idx] = 1 - np.absolute(np.sum(ref_df[col]) - np.sum(data_df[col]))\n",
      "            wgt[idx] = any(np.isfinite(ref_df[col])) and np.isfinite(data_df[col])\n",
      "        else:\n",
      "            print \"error\"\n",
      "            \n",
      "    # Find and return overall similarity\n",
      "    return np.nansum(sim) / np.nansum(wgt)"
     ],
     "language": "python",
     "metadata": {},
     "outputs": [],
     "prompt_number": 11
    },
    {
     "cell_type": "code",
     "collapsed": false,
     "input": [
      "# Function to find maximum similarity to a single goal organization.\n",
      "def max_similarity(data_df,ref_df):\n",
      "    dists = pd.Series(index=data_df.index, name='gower')\n",
      "    closest = pd.Series(index=ref_df.index, name='max_gower')\n",
      "    \n",
      "    # Find maximum similarity.\n",
      "    for ideal_org in ref_df:\n",
      "        dists = data_df.apply(lambda x: gower_similarity(x, ideal_org), axis=1)\n",
      "        closest[ideal_org.index] = dists.max()\n",
      "\n",
      "    return closest"
     ],
     "language": "python",
     "metadata": {},
     "outputs": [],
     "prompt_number": 12
    },
    {
     "cell_type": "heading",
     "level": 1,
     "metadata": {},
     "source": [
      "Get similarity scores"
     ]
    },
    {
     "cell_type": "code",
     "collapsed": false,
     "input": [
      "# Set up smaller dataframe with normalized data\n",
      "[reduceddf, random_inputs] = normalize_data(combined_panda, feature_names, random_inputs)"
     ],
     "language": "python",
     "metadata": {},
     "outputs": [],
     "prompt_number": 13
    },
    {
     "cell_type": "code",
     "collapsed": false,
     "input": [
      "# Find maximum similarity.\n",
      "dists = pd.Series(index=reduceddf.index, name='gower')\n",
      "closest = pd.Series(index=random_inputs.index, name='max_gower')\n",
      "\n",
      "for idx in range(len(random_inputs)):\n",
      "    ideal_org = random_inputs[idx:(idx+1)][feature_names]\n",
      "\n",
      "    dists = reduceddf.apply(lambda x: gower_similarity(x, ideal_org), axis=1)\n",
      "    closest[ideal_org.index] = dists.max()"
     ],
     "language": "python",
     "metadata": {},
     "outputs": [],
     "prompt_number": 14
    },
    {
     "cell_type": "heading",
     "level": 2,
     "metadata": {},
     "source": [
      "Tabulate validation results"
     ]
    },
    {
     "cell_type": "code",
     "collapsed": false,
     "input": [
      "closest.describe()"
     ],
     "language": "python",
     "metadata": {},
     "outputs": [
      {
       "metadata": {},
       "output_type": "pyout",
       "prompt_number": 15,
       "text": [
        "count    500.000000\n",
        "mean       0.973951\n",
        "std        0.023070\n",
        "min        0.915956\n",
        "25%        0.956995\n",
        "50%        0.975823\n",
        "75%        1.000000\n",
        "max        1.000000\n",
        "Name: max_gower, dtype: float64"
       ]
      }
     ],
     "prompt_number": 15
    },
    {
     "cell_type": "code",
     "collapsed": false,
     "input": [
      "# Bar graph of performance vs. features available\n",
      "plt.figure(figsize=[6,6])\n",
      "closest.hist(grid=False);\n",
      "xl = plt.xlim()\n",
      "plt.xticks(np.arange(xl[0], xl[1],0.02), fontsize=20);\n",
      "plt.xlabel('similarity', fontsize=30);\n",
      "plt.yticks(fontsize=20);\n",
      "plt.ylabel('# of samples', fontsize=30);\n"
     ],
     "language": "python",
     "metadata": {},
     "outputs": [
      {
       "metadata": {},
       "output_type": "display_data",
       "png": "[encoded data removed]",
       "text": [
        "<matplotlib.figure.Figure at 0x7f2b4953fdd0>"
       ]
      }
     ],
     "prompt_number": 25
    },
    {
     "cell_type": "heading",
     "level": 1,
     "metadata": {},
     "source": [
      "Run validation by disease"
     ]
    },
    {
     "cell_type": "code",
     "collapsed": false,
     "input": [
      "print disease_list"
     ],
     "language": "python",
     "metadata": {},
     "outputs": [
      {
       "output_type": "stream",
       "stream": "stdout",
       "text": [
        "['alzheimer', 'aids', 'als', 'autism', 'blindness', 'breast_cancer', 'colon_cancer', 'colorectal_cancer', 'cystic_fibrosis', 'crohn', 'diabetes', 'dyslexia', 'leukemia', 'lung_cancer', 'multiple_sclerosis', 'parkinson', 'prostate_cancer', 'cancer', 'tumor', 'melanoma', 'lymphoma', 'fibromyalgia', 'colitis', 'lupus', 'pancreatic_cancer', 'ovarian_cancer']\n"
       ]
      }
     ],
     "prompt_number": 16
    },
    {
     "cell_type": "heading",
     "level": 2,
     "metadata": {},
     "source": [
      "Alzheimer's"
     ]
    },
    {
     "cell_type": "code",
     "collapsed": false,
     "input": [
      "# Set up smaller dataframe with normalized data\n",
      "[reduceddf, random_inputs] = normalize_data(combined_panda[combined_panda.disease=='alzheimer'], feature_names, raw_random[:100])\n",
      "\n",
      "# Find maximum similarity.\n",
      "dists = pd.Series(index=reduceddf.index, name='gower')\n",
      "closest = pd.Series(index=random_inputs.index, name='max_gower')\n",
      "\n",
      "for idx in range(len(random_inputs)):\n",
      "    ideal_org = random_inputs[idx:(idx+1)][feature_names]\n",
      "\n",
      "    dists = reduceddf.apply(lambda x: gower_similarity(x, ideal_org), axis=1)\n",
      "    closest[ideal_org.index] = dists.max()\n",
      "\n",
      "closest.describe()"
     ],
     "language": "python",
     "metadata": {},
     "outputs": [
      {
       "metadata": {},
       "output_type": "pyout",
       "prompt_number": 23,
       "text": [
        "count    100.000000\n",
        "mean       0.974052\n",
        "std        0.020477\n",
        "min        0.923022\n",
        "25%        0.962203\n",
        "50%        0.975866\n",
        "75%        0.986563\n",
        "max        1.000000\n",
        "Name: max_gower, dtype: float64"
       ]
      }
     ],
     "prompt_number": 23
    },
    {
     "cell_type": "markdown",
     "metadata": {},
     "source": [
      "Alzheimer's disease:\n",
      "\n",
      "Range: 0.93-1.00\n",
      "\n",
      "Mean +/- SD: 0.97+/-0.02"
     ]
    },
    {
     "cell_type": "heading",
     "level": 2,
     "metadata": {},
     "source": [
      "AIDS"
     ]
    },
    {
     "cell_type": "code",
     "collapsed": false,
     "input": [
      "# Set up smaller dataframe with normalized data\n",
      "[reduceddf, random_inputs] = normalize_data(combined_panda[combined_panda.disease=='aids'], feature_names, raw_random[:100])\n",
      "\n",
      "# Find maximum similarity.\n",
      "dists = pd.Series(index=reduceddf.index, name='gower')\n",
      "closest = pd.Series(index=random_inputs.index, name='max_gower')\n",
      "\n",
      "for idx in range(len(random_inputs)):\n",
      "    ideal_org = random_inputs[idx:(idx+1)][feature_names]\n",
      "\n",
      "    dists = reduceddf.apply(lambda x: gower_similarity(x, ideal_org), axis=1)\n",
      "    closest[ideal_org.index] = dists.max()\n",
      "\n",
      "closest.describe()"
     ],
     "language": "python",
     "metadata": {},
     "outputs": [
      {
       "metadata": {},
       "output_type": "pyout",
       "prompt_number": 26,
       "text": [
        "count    100.000000\n",
        "mean       0.892407\n",
        "std        0.085729\n",
        "min        0.798703\n",
        "25%        0.812801\n",
        "50%        0.837905\n",
        "75%        0.981012\n",
        "max        1.000000\n",
        "Name: max_gower, dtype: float64"
       ]
      }
     ],
     "prompt_number": 26
    },
    {
     "cell_type": "heading",
     "level": 2,
     "metadata": {},
     "source": [
      "Autism"
     ]
    },
    {
     "cell_type": "code",
     "collapsed": false,
     "input": [
      "# Set up smaller dataframe with normalized data\n",
      "[reduceddf, random_inputs] = normalize_data(combined_panda[combined_panda.disease=='autism'], feature_names, raw_random[:100])\n",
      "\n",
      "# Find maximum similarity.\n",
      "dists = pd.Series(index=reduceddf.index, name='gower')\n",
      "closest = pd.Series(index=random_inputs.index, name='max_gower')\n",
      "\n",
      "for idx in range(len(random_inputs)):\n",
      "    ideal_org = random_inputs[idx:(idx+1)][feature_names]\n",
      "\n",
      "    dists = reduceddf.apply(lambda x: gower_similarity(x, ideal_org), axis=1)\n",
      "    closest[ideal_org.index] = dists.max()\n",
      "\n",
      "closest.describe()"
     ],
     "language": "python",
     "metadata": {},
     "outputs": [
      {
       "metadata": {},
       "output_type": "pyout",
       "prompt_number": 27,
       "text": [
        "count    100.000000\n",
        "mean       0.891529\n",
        "std        0.086066\n",
        "min        0.798478\n",
        "25%        0.811464\n",
        "50%        0.835863\n",
        "75%        0.979277\n",
        "max        1.000000\n",
        "Name: max_gower, dtype: float64"
       ]
      }
     ],
     "prompt_number": 27
    },
    {
     "cell_type": "heading",
     "level": 2,
     "metadata": {},
     "source": [
      "ALS"
     ]
    },
    {
     "cell_type": "code",
     "collapsed": false,
     "input": [
      "# Set up smaller dataframe with normalized data\n",
      "[reduceddf, random_inputs] = normalize_data(combined_panda[combined_panda.disease=='als'], feature_names, raw_random[:100])\n",
      "\n",
      "# Find maximum similarity.\n",
      "dists = pd.Series(index=reduceddf.index, name='gower')\n",
      "closest = pd.Series(index=random_inputs.index, name='max_gower')\n",
      "\n",
      "for idx in range(len(random_inputs)):\n",
      "    ideal_org = random_inputs[idx:(idx+1)][feature_names]\n",
      "\n",
      "    dists = reduceddf.apply(lambda x: gower_similarity(x, ideal_org), axis=1)\n",
      "    closest[ideal_org.index] = dists.max()\n",
      "\n",
      "closest.describe()"
     ],
     "language": "python",
     "metadata": {},
     "outputs": [
      {
       "metadata": {},
       "output_type": "pyout",
       "prompt_number": 28,
       "text": [
        "count    100.000000\n",
        "mean       0.891519\n",
        "std        0.086069\n",
        "min        0.798478\n",
        "25%        0.811444\n",
        "50%        0.835834\n",
        "75%        0.979249\n",
        "max        1.000000\n",
        "Name: max_gower, dtype: float64"
       ]
      }
     ],
     "prompt_number": 28
    },
    {
     "cell_type": "heading",
     "level": 2,
     "metadata": {},
     "source": [
      "Blindness"
     ]
    },
    {
     "cell_type": "code",
     "collapsed": false,
     "input": [
      "# Set up smaller dataframe with normalized data\n",
      "[reduceddf, random_inputs] = normalize_data(combined_panda[combined_panda.disease=='blindness'], feature_names, raw_random[:100])\n",
      "\n",
      "# Find maximum similarity.\n",
      "dists = pd.Series(index=reduceddf.index, name='gower')\n",
      "closest = pd.Series(index=random_inputs.index, name='max_gower')\n",
      "\n",
      "for idx in range(len(random_inputs)):\n",
      "    ideal_org = random_inputs[idx:(idx+1)][feature_names]\n",
      "\n",
      "    dists = reduceddf.apply(lambda x: gower_similarity(x, ideal_org), axis=1)\n",
      "    closest[ideal_org.index] = dists.max()\n",
      "\n",
      "closest.describe()"
     ],
     "language": "python",
     "metadata": {},
     "outputs": [
      {
       "metadata": {},
       "output_type": "pyout",
       "prompt_number": 29,
       "text": [
        "count    100.000000\n",
        "mean       0.891519\n",
        "std        0.086069\n",
        "min        0.798478\n",
        "25%        0.811444\n",
        "50%        0.835833\n",
        "75%        0.979248\n",
        "max        1.000000\n",
        "Name: max_gower, dtype: float64"
       ]
      }
     ],
     "prompt_number": 29
    },
    {
     "cell_type": "heading",
     "level": 2,
     "metadata": {},
     "source": [
      "Colon cancer"
     ]
    },
    {
     "cell_type": "code",
     "collapsed": false,
     "input": [
      "# Set up smaller dataframe with normalized data\n",
      "[reduceddf, random_inputs] = normalize_data(combined_panda[combined_panda.disease=='colon_cancer'], feature_names, raw_random[:100])\n",
      "\n",
      "# Find maximum similarity.\n",
      "dists = pd.Series(index=reduceddf.index, name='gower')\n",
      "closest = pd.Series(index=random_inputs.index, name='max_gower')\n",
      "\n",
      "for idx in range(len(random_inputs)):\n",
      "    ideal_org = random_inputs[idx:(idx+1)][feature_names]\n",
      "\n",
      "    dists = reduceddf.apply(lambda x: gower_similarity(x, ideal_org), axis=1)\n",
      "    closest[ideal_org.index] = dists.max()\n",
      "\n",
      "closest.describe()"
     ],
     "language": "python",
     "metadata": {},
     "outputs": [
      {
       "metadata": {},
       "output_type": "pyout",
       "prompt_number": 30,
       "text": [
        "count    100.000000\n",
        "mean       0.891519\n",
        "std        0.086069\n",
        "min        0.798478\n",
        "25%        0.811444\n",
        "50%        0.835833\n",
        "75%        0.979248\n",
        "max        1.000000\n",
        "Name: max_gower, dtype: float64"
       ]
      }
     ],
     "prompt_number": 30
    },
    {
     "cell_type": "heading",
     "level": 2,
     "metadata": {},
     "source": [
      "Crohn's disease"
     ]
    },
    {
     "cell_type": "code",
     "collapsed": false,
     "input": [
      "# Set up smaller dataframe with normalized data\n",
      "[reduceddf, random_inputs] = normalize_data(combined_panda[combined_panda.disease=='crohn'], feature_names, raw_random[:100])\n",
      "\n",
      "# Find maximum similarity.\n",
      "dists = pd.Series(index=reduceddf.index, name='gower')\n",
      "closest = pd.Series(index=random_inputs.index, name='max_gower')\n",
      "\n",
      "for idx in range(len(random_inputs)):\n",
      "    ideal_org = random_inputs[idx:(idx+1)][feature_names]\n",
      "\n",
      "    dists = reduceddf.apply(lambda x: gower_similarity(x, ideal_org), axis=1)\n",
      "    closest[ideal_org.index] = dists.max()\n",
      "\n",
      "closest.describe()"
     ],
     "language": "python",
     "metadata": {},
     "outputs": [
      {
       "metadata": {},
       "output_type": "pyout",
       "prompt_number": 31,
       "text": [
        "count    100.000000\n",
        "mean       0.891519\n",
        "std        0.086069\n",
        "min        0.798478\n",
        "25%        0.811444\n",
        "50%        0.835833\n",
        "75%        0.979248\n",
        "max        1.000000\n",
        "Name: max_gower, dtype: float64"
       ]
      }
     ],
     "prompt_number": 31
    },
    {
     "cell_type": "code",
     "collapsed": false,
     "input": [],
     "language": "python",
     "metadata": {},
     "outputs": []
    }
   ],
   "metadata": {}
  }
 ]
}