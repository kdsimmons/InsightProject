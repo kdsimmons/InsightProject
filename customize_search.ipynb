{
 "metadata": {
  "name": ""
 },
 "nbformat": 3,
 "nbformat_minor": 0,
 "worksheets": [
  {
   "cells": [
    {
     "cell_type": "code",
     "collapsed": false,
     "input": [
      "from scipy.spatial.distance import cdist\n",
      "\n",
      "import pymysql as mdb\n",
      "import pandas as pd\n",
      "import matplotlib.pyplot as plt\n",
      "import numpy as np\n",
      "import re\n",
      "\n",
      "%matplotlib inline"
     ],
     "language": "python",
     "metadata": {},
     "outputs": [],
     "prompt_number": 302
    },
    {
     "cell_type": "code",
     "collapsed": false,
     "input": [
      "# Choose features\n",
      "feature_names = ['bbb_accred', 'cn_rated', 'cn_overall', 'cn_acct_transp', 'cn_financial', 'percent_admin', \n",
      "                 'percent_fund', 'percent_program', 'staff_size', 'board_size',\n",
      "                 'age', 'total_contributions', 'total_expenses', 'total_revenue', 'twitter_followers']"
     ],
     "language": "python",
     "metadata": {},
     "outputs": [],
     "prompt_number": 303
    },
    {
     "cell_type": "code",
     "collapsed": false,
     "input": [
      "# Hard-code user preferences for code development\n",
      "ideal_org = pd.DataFrame({'bbb_accred' : 1, \n",
      "                          'cn_rated' : 1, \n",
      "                          'cn_overall' : 100, \n",
      "                          'cn_acct_transp' : 100, \n",
      "                          'cn_financial' : 100, \n",
      "                          'percent_admin' : 0, \n",
      "                          'percent_fund' : 0, \n",
      "                          'percent_program' : 100, \n",
      "                          'staff_size' : 10, \n",
      "                          'board_size' : 2,\n",
      "                          'age' : 10, \n",
      "                          'total_contributions' : 10000, \n",
      "                          'total_expenses' : 10000, \n",
      "                          'total_revenue' : 0, \n",
      "                          'twitter_followers' : 1000 },\n",
      "                         index={0})\n",
      "# Put columns in fixed order\n",
      "ideal_org = ideal_org[feature_names]"
     ],
     "language": "python",
     "metadata": {},
     "outputs": [],
     "prompt_number": 304
    },
    {
     "cell_type": "code",
     "collapsed": false,
     "input": [
      "mysqlauth = pd.DataFrame.from_csv('/home/kristy/Documents/auth_codes/mysql_user.csv')\n",
      "sqluser = mysqlauth.username[0]\n",
      "sqlpass = mysqlauth.password[0]\n",
      "\n",
      "con = mdb.connect(user=sqluser, host=\"localhost\", db=\"charity_data\", password=sqlpass, charset='utf8')"
     ],
     "language": "python",
     "metadata": {},
     "outputs": [],
     "prompt_number": 305
    },
    {
     "cell_type": "code",
     "collapsed": false,
     "input": [
      "# Import data from SQL\n",
      "combined_panda = pd.DataFrame()\n",
      "disease_list = ['alzheimer', 'blindness', 'breast_cancer', 'colon_cancer', 'crohn', 'diabetes',\n",
      "                'dyslexia', 'leukemia', 'lung_cancer', 'multiple_sclerosis', 'osteoporosis',\n",
      "                'parkinson', 'prostate_cancer']\n",
      "disease_list = ['cancer']\n",
      "with con:\n",
      "    for disease in disease_list:\n",
      "        pandadf = pd.read_sql(\"SELECT * FROM \" + str(disease), con)\n",
      "        if len(pandadf) > 0:\n",
      "            combined_panda = pd.concat([combined_panda, pandadf], 0, ignore_index=True)\n",
      "\n",
      "# Fix NaNs that were originally encoded as -1.\n",
      "for idx in range(len(combined_panda)):\n",
      "    if combined_panda['cn_rated'][idx] <= 0:\n",
      "        for col in ['cn_overall', 'cn_acct_transp', 'cn_financial', 'percent_admin', 'percent_fund', 'percent_program', \n",
      "                    'total_contributions', 'total_expenses', 'total_revenue']:\n",
      "            combined_panda[idx:(idx+1)][col] = np.nan\n",
      "    if combined_panda['year_incorporated'][idx] == -1:\n",
      "        combined_panda[idx:(idx+1)]['age'] = np.nan\n",
      "        combined_panda[idx:(idx+1)]['year_incorporated'] = np.nan\n",
      "    for col in ['board_size', 'staff_size', 'twitter_followers']:\n",
      "        if combined_panda[col][idx] == -1:\n",
      "            combined_panda[idx:(idx+1)][col] = np.nan\n",
      "\n",
      "# Make simpler dataframe with only the relevant fields\n",
      "reduceddf = combined_panda[:][feature_names]\n"
     ],
     "language": "python",
     "metadata": {},
     "outputs": [],
     "prompt_number": 306
    },
    {
     "cell_type": "code",
     "collapsed": false,
     "input": [
      "# convert dataframes to numpy arrays\n",
      "data_array = reduceddf.as_matrix()\n",
      "np_ideal = ideal_org.as_matrix()"
     ],
     "language": "python",
     "metadata": {},
     "outputs": [],
     "prompt_number": 307
    },
    {
     "cell_type": "code",
     "collapsed": false,
     "input": [
      "# Define distance metric for a single row.\n",
      "def row_distance(data_row,ref_row):\n",
      "    data_row = data_row[np.newaxis,:]\n",
      "    nan_mask = np.ma.masked_invalid(data_row)\n",
      "    dist_array = cdist(ref_row[~nan_mask.mask][np.newaxis,:], data_row[~nan_mask.mask][np.newaxis,:], metric='euclidean')\n",
      "    return dist_array[0,0]\n"
     ],
     "language": "python",
     "metadata": {},
     "outputs": [],
     "prompt_number": 308
    },
    {
     "cell_type": "code",
     "collapsed": false,
     "input": [
      "# Find distances for all charities\n",
      "dists = np.apply_along_axis(row_distance, 1, data_array, np_ideal)\n",
      "dists.shape"
     ],
     "language": "python",
     "metadata": {},
     "outputs": [
      {
       "metadata": {},
       "output_type": "pyout",
       "prompt_number": 309,
       "text": [
        "(220,)"
       ]
      }
     ],
     "prompt_number": 309
    },
    {
     "cell_type": "code",
     "collapsed": false,
     "input": [
      "# Merge distances with other data\n",
      "dist_pd = pd.DataFrame(data=dists, columns={'distance'})\n",
      "data_with_dist = pd.concat([combined_panda, dist_pd], axis=1, ignore_index=False)"
     ],
     "language": "python",
     "metadata": {},
     "outputs": [],
     "prompt_number": 310
    },
    {
     "cell_type": "code",
     "collapsed": false,
     "input": [
      "data_with_dist.shape"
     ],
     "language": "python",
     "metadata": {},
     "outputs": [
      {
       "metadata": {},
       "output_type": "pyout",
       "prompt_number": 311,
       "text": [
        "(220, 33)"
       ]
      }
     ],
     "prompt_number": 311
    },
    {
     "cell_type": "code",
     "collapsed": false,
     "input": [
      "print dists[0]\n",
      "reduceddf[:1]"
     ],
     "language": "python",
     "metadata": {},
     "outputs": [
      {
       "output_type": "stream",
       "stream": "stdout",
       "text": [
        "16847227.393\n"
       ]
      },
      {
       "html": [
        "<div style=\"max-height:1000px;max-width:1500px;overflow:auto;\">\n",
        "<table border=\"1\" class=\"dataframe\">\n",
        "  <thead>\n",
        "    <tr style=\"text-align: right;\">\n",
        "      <th></th>\n",
        "      <th>bbb_accred</th>\n",
        "      <th>cn_rated</th>\n",
        "      <th>cn_overall</th>\n",
        "      <th>cn_acct_transp</th>\n",
        "      <th>cn_financial</th>\n",
        "      <th>percent_admin</th>\n",
        "      <th>percent_fund</th>\n",
        "      <th>percent_program</th>\n",
        "      <th>staff_size</th>\n",
        "      <th>board_size</th>\n",
        "      <th>age</th>\n",
        "      <th>total_contributions</th>\n",
        "      <th>total_expenses</th>\n",
        "      <th>total_revenue</th>\n",
        "      <th>twitter_followers</th>\n",
        "    </tr>\n",
        "  </thead>\n",
        "  <tbody>\n",
        "    <tr>\n",
        "      <th>0</th>\n",
        "      <td> 0</td>\n",
        "      <td> 1</td>\n",
        "      <td> 24.35</td>\n",
        "      <td> 62</td>\n",
        "      <td> 0</td>\n",
        "      <td> 5.5</td>\n",
        "      <td> 90.5</td>\n",
        "      <td> 3.8</td>\n",
        "      <td>NaN</td>\n",
        "      <td>NaN</td>\n",
        "      <td>NaN</td>\n",
        "      <td> 9469865</td>\n",
        "      <td> 9833437</td>\n",
        "      <td> 9891416</td>\n",
        "      <td>NaN</td>\n",
        "    </tr>\n",
        "  </tbody>\n",
        "</table>\n",
        "<p>1 rows \u00d7 15 columns</p>\n",
        "</div>"
       ],
       "metadata": {},
       "output_type": "pyout",
       "prompt_number": 312,
       "text": [
        "   bbb_accred  cn_rated  cn_overall  cn_acct_transp  cn_financial  \\\n",
        "0           0         1       24.35              62             0   \n",
        "\n",
        "   percent_admin  percent_fund  percent_program  staff_size  board_size  age  \\\n",
        "0            5.5          90.5              3.8         NaN         NaN  NaN   \n",
        "\n",
        "   total_contributions  total_expenses  total_revenue  twitter_followers  \n",
        "0              9469865         9833437        9891416                NaN  \n",
        "\n",
        "[1 rows x 15 columns]"
       ]
      }
     ],
     "prompt_number": 312
    },
    {
     "cell_type": "code",
     "collapsed": false,
     "input": [],
     "language": "python",
     "metadata": {},
     "outputs": [],
     "prompt_number": 312
    }
   ],
   "metadata": {}
  }
 ]
}