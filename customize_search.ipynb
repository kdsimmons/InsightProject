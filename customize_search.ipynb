{
 "metadata": {
  "name": ""
 },
 "nbformat": 3,
 "nbformat_minor": 0,
 "worksheets": [
  {
   "cells": [
    {
     "cell_type": "heading",
     "level": 1,
     "metadata": {},
     "source": [
      "Set up"
     ]
    },
    {
     "cell_type": "code",
     "collapsed": false,
     "input": [
      "import sys\n",
      "sys.path.append('app')\n",
      "\n",
      "from scipy.spatial.distance import cdist\n",
      "\n",
      "import pymysql as mdb\n",
      "import pandas as pd\n",
      "import matplotlib.pyplot as plt\n",
      "import numpy as np\n",
      "import re\n",
      "import MySQLdb\n",
      "import master_disease_list\n",
      "\n",
      "%matplotlib inline"
     ],
     "language": "python",
     "metadata": {},
     "outputs": [],
     "prompt_number": 2
    },
    {
     "cell_type": "code",
     "collapsed": false,
     "input": [
      "# Get list of diseases\n",
      "disease_list = master_disease_list.return_diseases()\n",
      "\n",
      "# Choose features\n",
      "feature_names = ['bbb_accred', 'cn_rated', 'tax_exempt', 'cn_overall', 'cn_acct_transp', 'cn_financial', 'percent_admin', \n",
      "                 'percent_fund', 'percent_program', 'staff_size', 'board_size',\n",
      "                 'age', 'total_contributions', 'total_expenses', 'total_revenue', 'twitter_followers']"
     ],
     "language": "python",
     "metadata": {},
     "outputs": [],
     "prompt_number": 2
    },
    {
     "cell_type": "code",
     "collapsed": false,
     "input": [
      "mysqlauth = pd.DataFrame.from_csv('/home/kristy/Documents/auth_codes/mysql_user.csv')\n",
      "sqluser = mysqlauth.username[0]\n",
      "sqlpass = mysqlauth.password[0]\n",
      "\n",
      "con = mdb.connect(user=sqluser, host=\"localhost\", db=\"charity_data\", password=sqlpass, charset='utf8')"
     ],
     "language": "python",
     "metadata": {},
     "outputs": [],
     "prompt_number": 3
    },
    {
     "cell_type": "heading",
     "level": 3,
     "metadata": {},
     "source": [
      "Make dataframe with cutoffs for distributions (now done in get_distribution.py)"
     ]
    },
    {
     "cell_type": "code",
     "collapsed": false,
     "input": [
      "# Read in SQL data to get distributions for some variables.\n",
      "combined_panda = pd.DataFrame(dtype=float)\n",
      "disease_list = ['alzheimer', 'aids', 'als', 'autism', 'blindness', 'breast_cancer', 'colon_cancer', 'colorectal_cancer', \\\n",
      "                'cystic_fibrosis', 'crohn', 'diabetes', 'dyslexia', 'leukemia', 'lung_cancer', 'multiple_sclerosis', \\\n",
      "                'parkinson', 'prostate_cancer', 'cancer', 'tumor', 'melanoma', 'lymphoma', 'fibromyalgia', 'colitis', \\\n",
      "                'lupus', 'pancreatic_cancer', 'ovarian_cancer']\n",
      "with con:\n",
      "    for disease in disease_list:\n",
      "        pandadf = pd.read_sql(\"SELECT cn_overall, cn_financial, cn_acct_transp, year_incorporated, age, twitter_followers, \\\n",
      "                percent_admin, percent_fund, percent_program, \\\n",
      "                total_contributions, total_expenses, total_revenue, staff_size, board_size FROM \" + str(disease), con)\n",
      "        if len(pandadf) > 0:\n",
      "            combined_panda = pd.concat([combined_panda, pandadf], 0, ignore_index=True)\n",
      "# Fix NaNs that were originally encoded as -1.\n",
      "for idx in range(len(combined_panda)):\n",
      "    if combined_panda['year_incorporated'][idx] == -1.:\n",
      "        combined_panda[idx:(idx+1)]['age'] = np.nan\n",
      "        combined_panda[idx:(idx+1)]['year_incorporated'] = np.nan\n",
      "    for col in combined_panda.columns:\n",
      "        if combined_panda[col][idx] == -1:\n",
      "            combined_panda[idx:(idx+1)][col] = np.nan\n",
      "\n",
      "# Make data frame with distributions of each feature.\n",
      "distribution = pd.DataFrame(columns=combined_panda.columns, index=['p17','p25','p50','p75','p83'], dtype='float')\n",
      "\n",
      "for col in distribution.columns:\n",
      "    quantiles = combined_panda[col].describe(percentile_width=50.)\n",
      "    distribution.loc['p25',col] = quantiles['25%']\n",
      "    distribution.loc['p50',col] = quantiles['50%']\n",
      "    distribution.loc['p75',col] = quantiles['75%']\n",
      "\n",
      "    quantiles = combined_panda[col].describe(percentile_width=66.7)\n",
      "    distribution.loc['p17',col] = quantiles['16.6%']\n",
      "    distribution.loc['p83',col] = quantiles['83.4%']\n",
      "\n",
      "# Store indices as a column. It should be possible to put indices directly into SQL, but this isn't working.\n",
      "distribution['distidx'] = distribution.index "
     ],
     "language": "python",
     "metadata": {},
     "outputs": []
    },
    {
     "cell_type": "code",
     "collapsed": false,
     "input": [
      "combined_panda.year_incorporated.describe()"
     ],
     "language": "python",
     "metadata": {},
     "outputs": [
      {
       "metadata": {},
       "output_type": "pyout",
       "prompt_number": 19,
       "text": [
        "count     772.000000\n",
        "mean        6.760363\n",
        "std       124.329166\n",
        "min        -1.000000\n",
        "25%        -1.000000\n",
        "50%        -1.000000\n",
        "75%        -1.000000\n",
        "max      2004.000000\n",
        "Name: year_incorporated, dtype: float64"
       ]
      }
     ],
     "prompt_number": 19
    },
    {
     "cell_type": "code",
     "collapsed": false,
     "input": [
      "# Save distribution table\n",
      "db = MySQLdb.connect(read_default_file='/home/kristy/Documents/auth_codes/my.cnf')                                                                                                                                                              \n",
      "db.query(\"CREATE DATABASE IF NOT EXISTS charity_data;\")\n",
      "db.query(\"USE charity_data;\")\n",
      "db.query(\"DROP TABLE IF EXISTS distribution;\")\n",
      "distribution.to_sql(name='distribution', con = db, flavor = 'mysql')                                                                                                                                                    \n",
      "db.close() "
     ],
     "language": "python",
     "metadata": {},
     "outputs": [
      {
       "ename": "OperationalError",
       "evalue": "(1054, \"Unknown column 'nan' in 'field list'\")",
       "output_type": "pyerr",
       "traceback": [
        "\u001b[0;31m---------------------------------------------------------------------------\u001b[0m\n\u001b[0;31mOperationalError\u001b[0m                          Traceback (most recent call last)",
        "\u001b[0;32m<ipython-input-8-4f575925beb0>\u001b[0m in \u001b[0;36m<module>\u001b[0;34m()\u001b[0m\n\u001b[1;32m      4\u001b[0m \u001b[0mdb\u001b[0m\u001b[0;34m.\u001b[0m\u001b[0mquery\u001b[0m\u001b[0;34m(\u001b[0m\u001b[0;34m\"USE charity_data;\"\u001b[0m\u001b[0;34m)\u001b[0m\u001b[0;34m\u001b[0m\u001b[0m\n\u001b[1;32m      5\u001b[0m \u001b[0mdb\u001b[0m\u001b[0;34m.\u001b[0m\u001b[0mquery\u001b[0m\u001b[0;34m(\u001b[0m\u001b[0;34m\"DROP TABLE IF EXISTS distribution;\"\u001b[0m\u001b[0;34m)\u001b[0m\u001b[0;34m\u001b[0m\u001b[0m\n\u001b[0;32m----> 6\u001b[0;31m \u001b[0mdistribution\u001b[0m\u001b[0;34m.\u001b[0m\u001b[0mto_sql\u001b[0m\u001b[0;34m(\u001b[0m\u001b[0mname\u001b[0m\u001b[0;34m=\u001b[0m\u001b[0;34m'distribution'\u001b[0m\u001b[0;34m,\u001b[0m \u001b[0mcon\u001b[0m \u001b[0;34m=\u001b[0m \u001b[0mdb\u001b[0m\u001b[0;34m,\u001b[0m \u001b[0mflavor\u001b[0m \u001b[0;34m=\u001b[0m \u001b[0;34m'mysql'\u001b[0m\u001b[0;34m)\u001b[0m\u001b[0;34m\u001b[0m\u001b[0m\n\u001b[0m\u001b[1;32m      7\u001b[0m \u001b[0mdb\u001b[0m\u001b[0;34m.\u001b[0m\u001b[0mclose\u001b[0m\u001b[0;34m(\u001b[0m\u001b[0;34m)\u001b[0m\u001b[0;34m\u001b[0m\u001b[0m\n",
        "\u001b[0;32m/usr/lib/python2.7/dist-packages/pandas/core/frame.pyc\u001b[0m in \u001b[0;36mto_sql\u001b[0;34m(self, name, con, flavor, if_exists, **kwargs)\u001b[0m\n\u001b[1;32m   1259\u001b[0m         \u001b[0;32mfrom\u001b[0m \u001b[0mpandas\u001b[0m\u001b[0;34m.\u001b[0m\u001b[0mio\u001b[0m\u001b[0;34m.\u001b[0m\u001b[0msql\u001b[0m \u001b[0;32mimport\u001b[0m \u001b[0mwrite_frame\u001b[0m\u001b[0;34m\u001b[0m\u001b[0m\n\u001b[1;32m   1260\u001b[0m         write_frame(\n\u001b[0;32m-> 1261\u001b[0;31m             self, name, con, flavor=flavor, if_exists=if_exists, **kwargs)\n\u001b[0m\u001b[1;32m   1262\u001b[0m \u001b[0;34m\u001b[0m\u001b[0m\n\u001b[1;32m   1263\u001b[0m     \u001b[0;34m@\u001b[0m\u001b[0mAppender\u001b[0m\u001b[0;34m(\u001b[0m\u001b[0mfmt\u001b[0m\u001b[0;34m.\u001b[0m\u001b[0mdocstring_to_string\u001b[0m\u001b[0;34m,\u001b[0m \u001b[0mindents\u001b[0m\u001b[0;34m=\u001b[0m\u001b[0;36m1\u001b[0m\u001b[0;34m)\u001b[0m\u001b[0;34m\u001b[0m\u001b[0m\n",
        "\u001b[0;32m/usr/lib/python2.7/dist-packages/pandas/io/sql.pyc\u001b[0m in \u001b[0;36mwrite_frame\u001b[0;34m(frame, name, con, flavor, if_exists, **kwargs)\u001b[0m\n\u001b[1;32m    236\u001b[0m     \u001b[0;32mif\u001b[0m \u001b[0mfunc\u001b[0m \u001b[0;32mis\u001b[0m \u001b[0mNone\u001b[0m\u001b[0;34m:\u001b[0m\u001b[0;34m\u001b[0m\u001b[0m\n\u001b[1;32m    237\u001b[0m         \u001b[0;32mraise\u001b[0m \u001b[0mNotImplementedError\u001b[0m\u001b[0;34m\u001b[0m\u001b[0m\n\u001b[0;32m--> 238\u001b[0;31m     \u001b[0mfunc\u001b[0m\u001b[0;34m(\u001b[0m\u001b[0mframe\u001b[0m\u001b[0;34m,\u001b[0m \u001b[0mname\u001b[0m\u001b[0;34m,\u001b[0m \u001b[0msafe_names\u001b[0m\u001b[0;34m,\u001b[0m \u001b[0mcur\u001b[0m\u001b[0;34m)\u001b[0m\u001b[0;34m\u001b[0m\u001b[0m\n\u001b[0m\u001b[1;32m    239\u001b[0m     \u001b[0mcur\u001b[0m\u001b[0;34m.\u001b[0m\u001b[0mclose\u001b[0m\u001b[0;34m(\u001b[0m\u001b[0;34m)\u001b[0m\u001b[0;34m\u001b[0m\u001b[0m\n\u001b[1;32m    240\u001b[0m     \u001b[0mcon\u001b[0m\u001b[0;34m.\u001b[0m\u001b[0mcommit\u001b[0m\u001b[0;34m(\u001b[0m\u001b[0;34m)\u001b[0m\u001b[0;34m\u001b[0m\u001b[0m\n",
        "\u001b[0;32m/usr/lib/python2.7/dist-packages/pandas/io/sql.pyc\u001b[0m in \u001b[0;36m_write_mysql\u001b[0;34m(frame, table, names, cur)\u001b[0m\n\u001b[1;32m    262\u001b[0m         table, col_names, wildcards)\n\u001b[1;32m    263\u001b[0m     \u001b[0mdata\u001b[0m \u001b[0;34m=\u001b[0m \u001b[0;34m[\u001b[0m\u001b[0mtuple\u001b[0m\u001b[0;34m(\u001b[0m\u001b[0mx\u001b[0m\u001b[0;34m)\u001b[0m \u001b[0;32mfor\u001b[0m \u001b[0mx\u001b[0m \u001b[0;32min\u001b[0m \u001b[0mframe\u001b[0m\u001b[0;34m.\u001b[0m\u001b[0mvalues\u001b[0m\u001b[0;34m]\u001b[0m\u001b[0;34m\u001b[0m\u001b[0m\n\u001b[0;32m--> 264\u001b[0;31m     \u001b[0mcur\u001b[0m\u001b[0;34m.\u001b[0m\u001b[0mexecutemany\u001b[0m\u001b[0;34m(\u001b[0m\u001b[0minsert_query\u001b[0m\u001b[0;34m,\u001b[0m \u001b[0mdata\u001b[0m\u001b[0;34m)\u001b[0m\u001b[0;34m\u001b[0m\u001b[0m\n\u001b[0m\u001b[1;32m    265\u001b[0m \u001b[0;34m\u001b[0m\u001b[0m\n\u001b[1;32m    266\u001b[0m \u001b[0;34m\u001b[0m\u001b[0m\n",
        "\u001b[0;32m/usr/lib/python2.7/dist-packages/MySQLdb/cursors.pyc\u001b[0m in \u001b[0;36mexecutemany\u001b[0;34m(self, query, args)\u001b[0m\n\u001b[1;32m    204\u001b[0m             \u001b[0mr\u001b[0m \u001b[0;34m=\u001b[0m \u001b[0;36m0\u001b[0m\u001b[0;34m\u001b[0m\u001b[0m\n\u001b[1;32m    205\u001b[0m             \u001b[0;32mfor\u001b[0m \u001b[0ma\u001b[0m \u001b[0;32min\u001b[0m \u001b[0margs\u001b[0m\u001b[0;34m:\u001b[0m\u001b[0;34m\u001b[0m\u001b[0m\n\u001b[0;32m--> 206\u001b[0;31m                 \u001b[0mr\u001b[0m \u001b[0;34m=\u001b[0m \u001b[0mr\u001b[0m \u001b[0;34m+\u001b[0m \u001b[0mself\u001b[0m\u001b[0;34m.\u001b[0m\u001b[0mexecute\u001b[0m\u001b[0;34m(\u001b[0m\u001b[0mquery\u001b[0m\u001b[0;34m,\u001b[0m \u001b[0ma\u001b[0m\u001b[0;34m)\u001b[0m\u001b[0;34m\u001b[0m\u001b[0m\n\u001b[0m\u001b[1;32m    207\u001b[0m             \u001b[0;32mreturn\u001b[0m \u001b[0mr\u001b[0m\u001b[0;34m\u001b[0m\u001b[0m\n\u001b[1;32m    208\u001b[0m         \u001b[0mp\u001b[0m \u001b[0;34m=\u001b[0m \u001b[0mm\u001b[0m\u001b[0;34m.\u001b[0m\u001b[0mstart\u001b[0m\u001b[0;34m(\u001b[0m\u001b[0;36m1\u001b[0m\u001b[0;34m)\u001b[0m\u001b[0;34m\u001b[0m\u001b[0m\n",
        "\u001b[0;32m/usr/lib/python2.7/dist-packages/MySQLdb/cursors.pyc\u001b[0m in \u001b[0;36mexecute\u001b[0;34m(self, query, args)\u001b[0m\n\u001b[1;32m    172\u001b[0m             \u001b[0;32mdel\u001b[0m \u001b[0mtb\u001b[0m\u001b[0;34m\u001b[0m\u001b[0m\n\u001b[1;32m    173\u001b[0m             \u001b[0mself\u001b[0m\u001b[0;34m.\u001b[0m\u001b[0mmessages\u001b[0m\u001b[0;34m.\u001b[0m\u001b[0mappend\u001b[0m\u001b[0;34m(\u001b[0m\u001b[0;34m(\u001b[0m\u001b[0mexc\u001b[0m\u001b[0;34m,\u001b[0m \u001b[0mvalue\u001b[0m\u001b[0;34m)\u001b[0m\u001b[0;34m)\u001b[0m\u001b[0;34m\u001b[0m\u001b[0m\n\u001b[0;32m--> 174\u001b[0;31m             \u001b[0mself\u001b[0m\u001b[0;34m.\u001b[0m\u001b[0merrorhandler\u001b[0m\u001b[0;34m(\u001b[0m\u001b[0mself\u001b[0m\u001b[0;34m,\u001b[0m \u001b[0mexc\u001b[0m\u001b[0;34m,\u001b[0m \u001b[0mvalue\u001b[0m\u001b[0;34m)\u001b[0m\u001b[0;34m\u001b[0m\u001b[0m\n\u001b[0m\u001b[1;32m    175\u001b[0m         \u001b[0mself\u001b[0m\u001b[0;34m.\u001b[0m\u001b[0m_executed\u001b[0m \u001b[0;34m=\u001b[0m \u001b[0mquery\u001b[0m\u001b[0;34m\u001b[0m\u001b[0m\n\u001b[1;32m    176\u001b[0m         \u001b[0;32mif\u001b[0m \u001b[0;32mnot\u001b[0m \u001b[0mself\u001b[0m\u001b[0;34m.\u001b[0m\u001b[0m_defer_warnings\u001b[0m\u001b[0;34m:\u001b[0m \u001b[0mself\u001b[0m\u001b[0;34m.\u001b[0m\u001b[0m_warning_check\u001b[0m\u001b[0;34m(\u001b[0m\u001b[0;34m)\u001b[0m\u001b[0;34m\u001b[0m\u001b[0m\n",
        "\u001b[0;32m/usr/lib/python2.7/dist-packages/MySQLdb/connections.pyc\u001b[0m in \u001b[0;36mdefaulterrorhandler\u001b[0;34m(***failed resolving arguments***)\u001b[0m\n\u001b[1;32m     34\u001b[0m     \u001b[0;32mdel\u001b[0m \u001b[0mcursor\u001b[0m\u001b[0;34m\u001b[0m\u001b[0m\n\u001b[1;32m     35\u001b[0m     \u001b[0;32mdel\u001b[0m \u001b[0mconnection\u001b[0m\u001b[0;34m\u001b[0m\u001b[0m\n\u001b[0;32m---> 36\u001b[0;31m     \u001b[0;32mraise\u001b[0m \u001b[0merrorclass\u001b[0m\u001b[0;34m,\u001b[0m \u001b[0merrorvalue\u001b[0m\u001b[0;34m\u001b[0m\u001b[0m\n\u001b[0m\u001b[1;32m     37\u001b[0m \u001b[0;34m\u001b[0m\u001b[0m\n\u001b[1;32m     38\u001b[0m \u001b[0mre_numeric_part\u001b[0m \u001b[0;34m=\u001b[0m \u001b[0mre\u001b[0m\u001b[0;34m.\u001b[0m\u001b[0mcompile\u001b[0m\u001b[0;34m(\u001b[0m\u001b[0;34mr\"^(\\d+)\"\u001b[0m\u001b[0;34m)\u001b[0m\u001b[0;34m\u001b[0m\u001b[0m\n",
        "\u001b[0;31mOperationalError\u001b[0m: (1054, \"Unknown column 'nan' in 'field list'\")"
       ]
      }
     ],
     "prompt_number": 8
    },
    {
     "cell_type": "heading",
     "level": 1,
     "metadata": {},
     "source": [
      "Measure similarity"
     ]
    },
    {
     "cell_type": "code",
     "collapsed": false,
     "input": [
      "# Normalize values\n",
      "for col in feature_names:\n",
      "    if not ideal_org[col].dtype == 'bool':\n",
      "        minval = np.min([np.min(ideal_org[col]), np.min(reduceddf[col])])\n",
      "        ideal_org[col] -= minval\n",
      "        reduceddf[col] -= minval\n",
      "        maxval = np.max([np.max(ideal_org[col]), np.max(reduceddf[col])])\n",
      "        ideal_org[col] /= maxval\n",
      "        reduceddf[col] /= maxval"
     ],
     "language": "python",
     "metadata": {},
     "outputs": [],
     "prompt_number": 52
    },
    {
     "cell_type": "code",
     "collapsed": false,
     "input": [
      "# Define Gower similarity metric for a single row.\n",
      "def gower_similarity(data_df,ref_df):\n",
      "\n",
      "    # Find similarity for each feature\n",
      "    nFeatures = len(feature_names)\n",
      "    sim = np.empty([nFeatures,1]) # each feature's similarity index (in [0, 1])\n",
      "    wgt = np.empty([nFeatures,1]) # weight to put on each feature (0 or 1)\n",
      "\n",
      "    # 'any' is only used for correct syntax -- each comparison is on a single number\n",
      "    # 'np.sum' is used to convert series with a single number into scalar\n",
      "    for idx in range(len(feature_names)):\n",
      "        col = feature_names[idx]\n",
      "        if ref_df[col].dtype == 'bool':\n",
      "            sim[idx] = any(ref_df[col] == True) and data_df[col] == 1\n",
      "            wgt[idx] = any(ref_df[col] == True) or data_df[col] == 1\n",
      "        elif ref_df[col].dtype in ['float', 'int']:\n",
      "            sim[idx] = 1 - np.absolute(np.sum(ref_df[col]) - np.sum(data_df[col]))\n",
      "            wgt[idx] = any(np.isfinite(ref_df[col])) and np.isfinite(data_df[col])\n",
      "        else:\n",
      "            print \"error\"\n",
      "            \n",
      "    # Find and return overall similarity\n",
      "    return np.nansum(sim) / np.nansum(wgt)\n"
     ],
     "language": "python",
     "metadata": {},
     "outputs": [],
     "prompt_number": 69
    },
    {
     "cell_type": "code",
     "collapsed": false,
     "input": [
      "# Find distances for all charities\n",
      "dists = pd.Series(index=reduceddf.index, name='gower')\n",
      "for idx, r in reduceddf.iterrows():\n",
      "    dists[idx] = gower_similarity(r, ideal_org)\n",
      "\n",
      "# Merge distances with other data\n",
      "combined_panda['gower'] = dists"
     ],
     "language": "python",
     "metadata": {},
     "outputs": [],
     "prompt_number": 70
    },
    {
     "cell_type": "code",
     "collapsed": false,
     "input": [
      "# Find best charities based on distance metric.\n",
      "combined_panda.sort(columns='gower', ascending=False, inplace=True)\n",
      "combined_panda['rank'] = range(1,len(combined_panda)+1)\n",
      "top_charities = combined_panda[:10]"
     ],
     "language": "python",
     "metadata": {},
     "outputs": [],
     "prompt_number": 66
    },
    {
     "cell_type": "heading",
     "level": 1,
     "metadata": {},
     "source": [
      "Construct ideal organization profile"
     ]
    },
    {
     "cell_type": "code",
     "collapsed": false,
     "input": [
      "# pull input fields and store preferred features\n",
      "tax_pref = 1\n",
      "bbb_pref = 0\n",
      "cn_pref = 1\n",
      "age_pref = 2\n",
      "staff_pref = 3\n",
      "board_pref = 2\n",
      "cont_pref = 2\n",
      "expense_pref = 1\n",
      "program_pref = 3\n",
      "twitter_pref = 1\n",
      "\n",
      "# compile user preferences\n",
      "pref_list = {'bbb_accred' : bbb_pref, \n",
      "                          'cn_rated' : cn_pref, \n",
      "                          'tax_exempt' : tax_pref,\n",
      "                          'cn_overall' : 100., \n",
      "                          'cn_acct_transp' : 100., \n",
      "                          'cn_financial' : 100., \n",
      "                          'percent_program' : program_pref, \n",
      "                          'staff_size' : staff_pref, \n",
      "                          'board_size' : board_pref,\n",
      "                          'age' : age_pref, \n",
      "                          'total_contributions' : cont_pref, \n",
      "                          'total_expenses' : expense_pref, \n",
      "                          'total_revenue' : 0.,\n",
      "                          'twitter_followers' : twitter_pref }\n"
     ],
     "language": "python",
     "metadata": {},
     "outputs": [],
     "prompt_number": 4
    },
    {
     "cell_type": "code",
     "collapsed": false,
     "input": [
      "ideal_df = pd.DataFrame(columns=pref_list.viewkeys(), index=[1000], dtype='float64')\n",
      "ideal_df.dtypes"
     ],
     "language": "python",
     "metadata": {},
     "outputs": [
      {
       "metadata": {},
       "output_type": "pyout",
       "prompt_number": 5,
       "text": [
        "total_contributions    float64\n",
        "board_size             float64\n",
        "total_revenue          float64\n",
        "twitter_followers      float64\n",
        "total_expenses         float64\n",
        "tax_exempt             float64\n",
        "cn_overall             float64\n",
        "percent_program        float64\n",
        "cn_acct_transp         float64\n",
        "age                    float64\n",
        "staff_size             float64\n",
        "cn_financial           float64\n",
        "cn_rated               float64\n",
        "bbb_accred             float64\n",
        "dtype: object"
       ]
      }
     ],
     "prompt_number": 5
    },
    {
     "cell_type": "code",
     "collapsed": false,
     "input": [
      "# Booleans are just scored as important or not.\n",
      "for col in ['bbb_accred', 'cn_rated', 'tax_exempt']:\n",
      "    if pref_list[col] == 0:\n",
      "        ideal_df[:][col] = np.nan\n",
      "    elif pref_list[col] == 1:\n",
      "        ideal_df[:][col] = 1.\n",
      "    else:\n",
      "        raise Exception('Improper input for ' + str(col) + '.')\n",
      "\n",
      "ideal_df"
     ],
     "language": "python",
     "metadata": {},
     "outputs": [
      {
       "html": [
        "<div style=\"max-height:1000px;max-width:1500px;overflow:auto;\">\n",
        "<table border=\"1\" class=\"dataframe\">\n",
        "  <thead>\n",
        "    <tr style=\"text-align: right;\">\n",
        "      <th></th>\n",
        "      <th>total_contributions</th>\n",
        "      <th>board_size</th>\n",
        "      <th>total_revenue</th>\n",
        "      <th>twitter_followers</th>\n",
        "      <th>total_expenses</th>\n",
        "      <th>tax_exempt</th>\n",
        "      <th>cn_overall</th>\n",
        "      <th>percent_program</th>\n",
        "      <th>cn_acct_transp</th>\n",
        "      <th>age</th>\n",
        "      <th>staff_size</th>\n",
        "      <th>cn_financial</th>\n",
        "      <th>cn_rated</th>\n",
        "      <th>bbb_accred</th>\n",
        "    </tr>\n",
        "  </thead>\n",
        "  <tbody>\n",
        "    <tr>\n",
        "      <th>1000</th>\n",
        "      <td>NaN</td>\n",
        "      <td>NaN</td>\n",
        "      <td>NaN</td>\n",
        "      <td>NaN</td>\n",
        "      <td>NaN</td>\n",
        "      <td> 1</td>\n",
        "      <td>NaN</td>\n",
        "      <td>NaN</td>\n",
        "      <td>NaN</td>\n",
        "      <td>NaN</td>\n",
        "      <td>NaN</td>\n",
        "      <td>NaN</td>\n",
        "      <td> 1</td>\n",
        "      <td>NaN</td>\n",
        "    </tr>\n",
        "  </tbody>\n",
        "</table>\n",
        "<p>1 rows \u00d7 14 columns</p>\n",
        "</div>"
       ],
       "metadata": {},
       "output_type": "pyout",
       "prompt_number": 7,
       "text": [
        "      total_contributions  board_size  total_revenue  twitter_followers  \\\n",
        "1000                  NaN         NaN            NaN                NaN   \n",
        "\n",
        "      total_expenses  tax_exempt  cn_overall  percent_program  cn_acct_transp  \\\n",
        "1000             NaN           1         NaN              NaN             NaN   \n",
        "\n",
        "      age  staff_size  cn_financial  cn_rated  bbb_accred  \n",
        "1000  NaN         NaN           NaN         1         NaN  \n",
        "\n",
        "[1 rows x 14 columns]"
       ]
      }
     ],
     "prompt_number": 7
    },
    {
     "cell_type": "heading",
     "level": 1,
     "metadata": {},
     "source": [
      "Set up ideal organization"
     ]
    },
    {
     "cell_type": "code",
     "collapsed": false,
     "input": [],
     "language": "python",
     "metadata": {},
     "outputs": [],
     "prompt_number": 20
    },
    {
     "cell_type": "code",
     "collapsed": false,
     "input": [
      "# Numerical values are defined based on the overall distribution.\n",
      "# Put in ideal values for variables with 2 possible values\n",
      "for col in ['age','twitter_followers']:\n",
      "    quantiles = combined_panda[col].describe(percentile_width=50.)\n",
      "    if pref_list[col] == 0:\n",
      "        ideal_df[:][col] = np.nan\n",
      "    elif  pref_list[col] == 1:\n",
      "        ideal_df[:][col] = quantiles['25%']\n",
      "    elif pref_list[col] == 2:\n",
      "        ideal_df[:][col] = quantiles['75%']\n",
      "    else:\n",
      "        raise Exception('Improper input for ' + str(col) + '.')\n",
      "       \n",
      "# Put in ideal values for variables with 3 possible values\n",
      "for col in ['staff_size','board_size','total_contributions','total_expenses','percent_program']:\n",
      "    quantiles = combined_panda[col].describe(percentile_width=66.7)    \n",
      "    if pref_list[col] == 0:\n",
      "        ideal_df[:][col] = np.nan\n",
      "    elif  pref_list[col] == 1:\n",
      "        ideal_df[:][col] = quantiles['16.6%']\n",
      "    elif pref_list[col] == 2:\n",
      "        ideal_df[:][col] = quantiles['50%']\n",
      "    elif pref_list[col] == 3:\n",
      "        ideal_df[:][col] = quantiles['83.4%']\n",
      "    else:\n",
      "        raise Exception('Improper input for ' + str(col) + '.')\n",
      "\n",
      "# At least for now, some values are hardcoded in calling function\n",
      "for col in ['cn_overall','cn_financial','cn_acct_transp','total_revenue']:\n",
      "    ideal_df[:][col] = pref_list[col]\n",
      "\n",
      "# At least for now, some values are hardcoded here\n",
      "for col in ['percent_admin','percent_fund']:\n",
      "    ideal_df[col] = (100. - ideal_df['percent_program']) / 2.\n",
      "\n",
      "ideal_df"
     ],
     "language": "python",
     "metadata": {},
     "outputs": [
      {
       "html": [
        "<div style=\"max-height:1000px;max-width:1500px;overflow:auto;\">\n",
        "<table border=\"1\" class=\"dataframe\">\n",
        "  <thead>\n",
        "    <tr style=\"text-align: right;\">\n",
        "      <th></th>\n",
        "      <th>total_contributions</th>\n",
        "      <th>board_size</th>\n",
        "      <th>total_revenue</th>\n",
        "      <th>twitter_followers</th>\n",
        "      <th>total_expenses</th>\n",
        "      <th>tax_exempt</th>\n",
        "      <th>cn_overall</th>\n",
        "      <th>percent_program</th>\n",
        "      <th>cn_acct_transp</th>\n",
        "      <th>age</th>\n",
        "      <th>staff_size</th>\n",
        "      <th>cn_financial</th>\n",
        "      <th>cn_rated</th>\n",
        "      <th>bbb_accred</th>\n",
        "      <th>percent_admin</th>\n",
        "      <th>percent_fund</th>\n",
        "    </tr>\n",
        "  </thead>\n",
        "  <tbody>\n",
        "    <tr>\n",
        "      <th>1000</th>\n",
        "      <td> 0</td>\n",
        "      <td> 14</td>\n",
        "      <td> 0</td>\n",
        "      <td> 0</td>\n",
        "      <td> 0</td>\n",
        "      <td> 1</td>\n",
        "      <td> 100</td>\n",
        "      <td> 69.7</td>\n",
        "      <td> 100</td>\n",
        "      <td> 50.5</td>\n",
        "      <td> 164.52</td>\n",
        "      <td> 100</td>\n",
        "      <td> 1</td>\n",
        "      <td>NaN</td>\n",
        "      <td> 15.15</td>\n",
        "      <td> 15.15</td>\n",
        "    </tr>\n",
        "  </tbody>\n",
        "</table>\n",
        "<p>1 rows \u00d7 16 columns</p>\n",
        "</div>"
       ],
       "metadata": {},
       "output_type": "pyout",
       "prompt_number": 155,
       "text": [
        "      total_contributions  board_size  total_revenue  twitter_followers  \\\n",
        "1000                    0          14              0                  0   \n",
        "\n",
        "      total_expenses  tax_exempt  cn_overall  percent_program  cn_acct_transp  \\\n",
        "1000               0           1         100             69.7             100   \n",
        "\n",
        "       age  staff_size  cn_financial  cn_rated  bbb_accred  percent_admin  \\\n",
        "1000  50.5      164.52           100         1         NaN          15.15   \n",
        "\n",
        "      percent_fund  \n",
        "1000         15.15  \n",
        "\n",
        "[1 rows x 16 columns]"
       ]
      }
     ],
     "prompt_number": 155
    }
   ],
   "metadata": {}
  }
 ]
}