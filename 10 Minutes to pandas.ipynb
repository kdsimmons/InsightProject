{
 "metadata": {
  "colabVersion": "0.1",
  "name": ""
 },
 "nbformat": 3,
 "nbformat_minor": 0,
 "worksheets": [
  {
   "cells": [
    {
     "cell_type": "heading",
     "level": 4,
     "metadata": {},
     "source": [
      "This is a short introduction to pandas for new users, adapted from \"10 Minutes to Pandas\": http://pandas.pydata.org/pandas-docs/stable/10min.html"
     ]
    },
    {
     "cell_type": "heading",
     "level": 3,
     "metadata": {},
     "source": [
      "0. Import pandas and related packages"
     ]
    },
    {
     "cell_type": "code",
     "collapsed": false,
     "input": [
      "import pandas as pd\n",
      "import numpy as np\n",
      "import matplotlib.pyplot as plt"
     ],
     "language": "python",
     "metadata": {
      "cellView": null,
      "executionInfo": null
     },
     "outputs": [],
     "prompt_number": 1
    },
    {
     "cell_type": "heading",
     "level": 3,
     "metadata": {},
     "source": [
      "1. Object creation"
     ]
    },
    {
     "cell_type": "markdown",
     "metadata": {},
     "source": [
      "Creating a Series by passing a list of values, letting pandas create a default integer index:"
     ]
    },
    {
     "cell_type": "code",
     "collapsed": false,
     "input": [
      "s = pd.Series([1,3,5,np.nan,6,8])\n",
      "print s\n",
      "type(s)"
     ],
     "language": "python",
     "metadata": {
      "cellView": null,
      "executionInfo": null
     },
     "outputs": [
      {
       "output_type": "stream",
       "stream": "stdout",
       "text": [
        "0     1\n",
        "1     3\n",
        "2     5\n",
        "3   NaN\n",
        "4     6\n",
        "5     8\n",
        "dtype: float64\n"
       ]
      },
      {
       "metadata": {},
       "output_type": "pyout",
       "prompt_number": 4,
       "text": [
        "pandas.core.series.Series"
       ]
      }
     ],
     "prompt_number": 4
    },
    {
     "cell_type": "markdown",
     "metadata": {},
     "source": [
      "Creating a DataFrame by passing a numpy array, with a datetime index and labeled columns:"
     ]
    },
    {
     "cell_type": "code",
     "collapsed": false,
     "input": [
      "dates = pd.date_range('20130101', periods=6)\n",
      "dates"
     ],
     "language": "python",
     "metadata": {
      "cellView": null,
      "executionInfo": null
     },
     "outputs": [
      {
       "metadata": {},
       "output_type": "pyout",
       "prompt_number": 5,
       "text": [
        "<class 'pandas.tseries.index.DatetimeIndex'>\n",
        "[2013-01-01, ..., 2013-01-06]\n",
        "Length: 6, Freq: D, Timezone: None"
       ]
      }
     ],
     "prompt_number": 5
    },
    {
     "cell_type": "code",
     "collapsed": false,
     "input": [
      "df = pd.DataFrame(np.random.randn(6,4), index=dates, columns=list('ABCD'))\n",
      "df"
     ],
     "language": "python",
     "metadata": {
      "cellView": null,
      "executionInfo": null
     },
     "outputs": [
      {
       "html": [
        "<div style=\"max-height:1000px;max-width:1500px;overflow:auto;\">\n",
        "<table border=\"1\" class=\"dataframe\">\n",
        "  <thead>\n",
        "    <tr style=\"text-align: right;\">\n",
        "      <th></th>\n",
        "      <th>A</th>\n",
        "      <th>B</th>\n",
        "      <th>C</th>\n",
        "      <th>D</th>\n",
        "    </tr>\n",
        "  </thead>\n",
        "  <tbody>\n",
        "    <tr>\n",
        "      <th>2013-01-01</th>\n",
        "      <td>-0.631068</td>\n",
        "      <td> 1.538899</td>\n",
        "      <td> 0.162319</td>\n",
        "      <td> 0.001233</td>\n",
        "    </tr>\n",
        "    <tr>\n",
        "      <th>2013-01-02</th>\n",
        "      <td> 0.973547</td>\n",
        "      <td> 1.564250</td>\n",
        "      <td> 1.635814</td>\n",
        "      <td>-0.311728</td>\n",
        "    </tr>\n",
        "    <tr>\n",
        "      <th>2013-01-03</th>\n",
        "      <td> 0.307473</td>\n",
        "      <td>-0.745613</td>\n",
        "      <td>-1.306278</td>\n",
        "      <td> 0.064167</td>\n",
        "    </tr>\n",
        "    <tr>\n",
        "      <th>2013-01-04</th>\n",
        "      <td>-0.131905</td>\n",
        "      <td> 0.369418</td>\n",
        "      <td> 1.211003</td>\n",
        "      <td> 0.336120</td>\n",
        "    </tr>\n",
        "    <tr>\n",
        "      <th>2013-01-05</th>\n",
        "      <td>-0.296780</td>\n",
        "      <td>-0.613515</td>\n",
        "      <td>-0.004401</td>\n",
        "      <td> 0.756706</td>\n",
        "    </tr>\n",
        "    <tr>\n",
        "      <th>2013-01-06</th>\n",
        "      <td>-0.335854</td>\n",
        "      <td>-0.954398</td>\n",
        "      <td> 0.691952</td>\n",
        "      <td>-0.170677</td>\n",
        "    </tr>\n",
        "  </tbody>\n",
        "</table>\n",
        "<p>6 rows \u00d7 4 columns</p>\n",
        "</div>"
       ],
       "metadata": {},
       "output_type": "pyout",
       "prompt_number": 6,
       "text": [
        "                   A         B         C         D\n",
        "2013-01-01 -0.631068  1.538899  0.162319  0.001233\n",
        "2013-01-02  0.973547  1.564250  1.635814 -0.311728\n",
        "2013-01-03  0.307473 -0.745613 -1.306278  0.064167\n",
        "2013-01-04 -0.131905  0.369418  1.211003  0.336120\n",
        "2013-01-05 -0.296780 -0.613515 -0.004401  0.756706\n",
        "2013-01-06 -0.335854 -0.954398  0.691952 -0.170677\n",
        "\n",
        "[6 rows x 4 columns]"
       ]
      }
     ],
     "prompt_number": 6
    },
    {
     "cell_type": "markdown",
     "metadata": {},
     "source": [
      "Creating a DataFrame by passing a dict of objects that can be converted to series-like."
     ]
    },
    {
     "cell_type": "code",
     "collapsed": false,
     "input": [
      "df2 = pd.DataFrame({ 'A' : 1.,\n",
      "    'B' : pd.Timestamp('20130102'),\n",
      "    'C' : pd.Series(1,index=list(range(4)),dtype='float32'),\n",
      "    'D' : np.array([3] * 4,dtype='int32'),\n",
      "    'E' : pd.Categorical([\"test\",\"train\",\"test\",\"train\"]),\n",
      "    'F' : 'foo' })\n",
      "df2"
     ],
     "language": "python",
     "metadata": {
      "cellView": null,
      "executionInfo": null
     },
     "outputs": [
      {
       "html": [
        "<div style=\"max-height:1000px;max-width:1500px;overflow:auto;\">\n",
        "<table border=\"1\" class=\"dataframe\">\n",
        "  <thead>\n",
        "    <tr style=\"text-align: right;\">\n",
        "      <th></th>\n",
        "      <th>A</th>\n",
        "      <th>B</th>\n",
        "      <th>C</th>\n",
        "      <th>D</th>\n",
        "      <th>E</th>\n",
        "      <th>F</th>\n",
        "    </tr>\n",
        "  </thead>\n",
        "  <tbody>\n",
        "    <tr>\n",
        "      <th>0</th>\n",
        "      <td> 1</td>\n",
        "      <td>2013-01-02</td>\n",
        "      <td> 1</td>\n",
        "      <td> 3</td>\n",
        "      <td>  test</td>\n",
        "      <td> foo</td>\n",
        "    </tr>\n",
        "    <tr>\n",
        "      <th>1</th>\n",
        "      <td> 1</td>\n",
        "      <td>2013-01-02</td>\n",
        "      <td> 1</td>\n",
        "      <td> 3</td>\n",
        "      <td> train</td>\n",
        "      <td> foo</td>\n",
        "    </tr>\n",
        "    <tr>\n",
        "      <th>2</th>\n",
        "      <td> 1</td>\n",
        "      <td>2013-01-02</td>\n",
        "      <td> 1</td>\n",
        "      <td> 3</td>\n",
        "      <td>  test</td>\n",
        "      <td> foo</td>\n",
        "    </tr>\n",
        "    <tr>\n",
        "      <th>3</th>\n",
        "      <td> 1</td>\n",
        "      <td>2013-01-02</td>\n",
        "      <td> 1</td>\n",
        "      <td> 3</td>\n",
        "      <td> train</td>\n",
        "      <td> foo</td>\n",
        "    </tr>\n",
        "  </tbody>\n",
        "</table>\n",
        "<p>4 rows \u00d7 6 columns</p>\n",
        "</div>"
       ],
       "metadata": {},
       "output_type": "pyout",
       "prompt_number": 7,
       "text": [
        "   A          B  C  D      E    F\n",
        "0  1 2013-01-02  1  3   test  foo\n",
        "1  1 2013-01-02  1  3  train  foo\n",
        "2  1 2013-01-02  1  3   test  foo\n",
        "3  1 2013-01-02  1  3  train  foo\n",
        "\n",
        "[4 rows x 6 columns]"
       ]
      }
     ],
     "prompt_number": 7
    },
    {
     "cell_type": "markdown",
     "metadata": {},
     "source": [
      "Having specific dtypes"
     ]
    },
    {
     "cell_type": "code",
     "collapsed": false,
     "input": [
      "df2.dtypes"
     ],
     "language": "python",
     "metadata": {
      "cellView": null,
      "executionInfo": null
     },
     "outputs": [
      {
       "metadata": {},
       "output_type": "pyout",
       "prompt_number": 8,
       "text": [
        "A           float64\n",
        "B    datetime64[ns]\n",
        "C           float32\n",
        "D             int32\n",
        "E            object\n",
        "F            object\n",
        "dtype: object"
       ]
      }
     ],
     "prompt_number": 8
    },
    {
     "cell_type": "heading",
     "level": 3,
     "metadata": {},
     "source": [
      "2. Viewing data"
     ]
    },
    {
     "cell_type": "markdown",
     "metadata": {},
     "source": [
      "Let's create a toy dataset"
     ]
    },
    {
     "cell_type": "code",
     "collapsed": false,
     "input": [
      "sindex = pd.date_range('1/1/2000', periods=8)\n",
      "s = pd.Series(np.random.randn(5), index=['a', 'b', 'c', 'd', 'e'])\n",
      "df = pd.DataFrame(np.random.randn(6,4), index=dates, columns=list('ABCD'))"
     ],
     "language": "python",
     "metadata": {
      "cellView": null,
      "executionInfo": null
     },
     "outputs": [],
     "prompt_number": 9
    },
    {
     "cell_type": "markdown",
     "metadata": {},
     "source": [
      "To view a small sample of a Series or DataFrame object, use the head() and tail() methods. The default number of elements to display is five, but you may pass a custom number."
     ]
    },
    {
     "cell_type": "code",
     "collapsed": false,
     "input": [
      "long_series = pd.Series(np.random.randn(1000))\n",
      "long_series.head()"
     ],
     "language": "python",
     "metadata": {
      "cellView": null,
      "executionInfo": null
     },
     "outputs": [
      {
       "metadata": {},
       "output_type": "pyout",
       "prompt_number": 10,
       "text": [
        "0    0.321458\n",
        "1    0.426099\n",
        "2   -0.227651\n",
        "3   -0.084489\n",
        "4   -1.956990\n",
        "dtype: float64"
       ]
      }
     ],
     "prompt_number": 10
    },
    {
     "cell_type": "code",
     "collapsed": false,
     "input": [
      "long_series.tail(3)"
     ],
     "language": "python",
     "metadata": {
      "cellView": null,
      "executionInfo": null
     },
     "outputs": [
      {
       "metadata": {},
       "output_type": "pyout",
       "prompt_number": 11,
       "text": [
        "997    0.432975\n",
        "998    0.081344\n",
        "999   -2.457128\n",
        "dtype: float64"
       ]
      }
     ],
     "prompt_number": 11
    },
    {
     "cell_type": "markdown",
     "metadata": {},
     "source": [
      "Display the index, columns, and the underlying numpy data"
     ]
    },
    {
     "cell_type": "code",
     "collapsed": false,
     "input": [
      "df.index"
     ],
     "language": "python",
     "metadata": {
      "cellView": null,
      "executionInfo": null
     },
     "outputs": [
      {
       "metadata": {},
       "output_type": "pyout",
       "prompt_number": 12,
       "text": [
        "<class 'pandas.tseries.index.DatetimeIndex'>\n",
        "[2013-01-01, ..., 2013-01-06]\n",
        "Length: 6, Freq: D, Timezone: None"
       ]
      }
     ],
     "prompt_number": 12
    },
    {
     "cell_type": "code",
     "collapsed": false,
     "input": [
      "df.columns"
     ],
     "language": "python",
     "metadata": {
      "cellView": null,
      "executionInfo": null
     },
     "outputs": [
      {
       "metadata": {},
       "output_type": "pyout",
       "prompt_number": 15,
       "text": [
        "Index([u'A', u'B', u'C', u'D'], dtype='object')"
       ]
      }
     ],
     "prompt_number": 15
    },
    {
     "cell_type": "code",
     "collapsed": false,
     "input": [
      "df.values"
     ],
     "language": "python",
     "metadata": {
      "cellView": null,
      "executionInfo": null
     },
     "outputs": [
      {
       "metadata": {},
       "output_type": "pyout",
       "prompt_number": 16,
       "text": [
        "array([[-0.76494438, -1.90487085,  1.61345684,  1.43768684],\n",
        "       [ 1.83216957,  0.74125429, -2.34036506,  0.98484224],\n",
        "       [-0.62987866, -0.27627009,  0.06858999,  0.08628218],\n",
        "       [-0.05224675, -0.70054482, -2.44299672,  0.58166337],\n",
        "       [ 0.616462  , -1.25162921, -1.67365316,  0.3429988 ],\n",
        "       [ 0.39426885, -0.20033241,  0.11095289, -0.55108215]])"
       ]
      }
     ],
     "prompt_number": 16
    },
    {
     "cell_type": "markdown",
     "metadata": {},
     "source": [
      "Describe shows a quick statistic summary of your data"
     ]
    },
    {
     "cell_type": "code",
     "collapsed": false,
     "input": [
      "df.describe()"
     ],
     "language": "python",
     "metadata": {
      "cellView": null,
      "executionInfo": null
     },
     "outputs": [
      {
       "html": [
        "<div style=\"max-height:1000px;max-width:1500px;overflow:auto;\">\n",
        "<table border=\"1\" class=\"dataframe\">\n",
        "  <thead>\n",
        "    <tr style=\"text-align: right;\">\n",
        "      <th></th>\n",
        "      <th>A</th>\n",
        "      <th>B</th>\n",
        "      <th>C</th>\n",
        "      <th>D</th>\n",
        "    </tr>\n",
        "  </thead>\n",
        "  <tbody>\n",
        "    <tr>\n",
        "      <th>count</th>\n",
        "      <td> 6.000000</td>\n",
        "      <td> 6.000000</td>\n",
        "      <td> 6.000000</td>\n",
        "      <td> 6.000000</td>\n",
        "    </tr>\n",
        "    <tr>\n",
        "      <th>mean</th>\n",
        "      <td> 0.232638</td>\n",
        "      <td>-0.598732</td>\n",
        "      <td>-0.777336</td>\n",
        "      <td> 0.480399</td>\n",
        "    </tr>\n",
        "    <tr>\n",
        "      <th>std</th>\n",
        "      <td> 0.954171</td>\n",
        "      <td> 0.916614</td>\n",
        "      <td> 1.627354</td>\n",
        "      <td> 0.695597</td>\n",
        "    </tr>\n",
        "    <tr>\n",
        "      <th>min</th>\n",
        "      <td>-0.764944</td>\n",
        "      <td>-1.904871</td>\n",
        "      <td>-2.442997</td>\n",
        "      <td>-0.551082</td>\n",
        "    </tr>\n",
        "    <tr>\n",
        "      <th>25%</th>\n",
        "      <td>-0.485471</td>\n",
        "      <td>-1.113858</td>\n",
        "      <td>-2.173687</td>\n",
        "      <td> 0.150461</td>\n",
        "    </tr>\n",
        "    <tr>\n",
        "      <th>50%</th>\n",
        "      <td> 0.171011</td>\n",
        "      <td>-0.488407</td>\n",
        "      <td>-0.802532</td>\n",
        "      <td> 0.462331</td>\n",
        "    </tr>\n",
        "    <tr>\n",
        "      <th>75%</th>\n",
        "      <td> 0.560914</td>\n",
        "      <td>-0.219317</td>\n",
        "      <td> 0.100362</td>\n",
        "      <td> 0.884048</td>\n",
        "    </tr>\n",
        "    <tr>\n",
        "      <th>max</th>\n",
        "      <td> 1.832170</td>\n",
        "      <td> 0.741254</td>\n",
        "      <td> 1.613457</td>\n",
        "      <td> 1.437687</td>\n",
        "    </tr>\n",
        "  </tbody>\n",
        "</table>\n",
        "<p>8 rows \u00d7 4 columns</p>\n",
        "</div>"
       ],
       "metadata": {},
       "output_type": "pyout",
       "prompt_number": 17,
       "text": [
        "              A         B         C         D\n",
        "count  6.000000  6.000000  6.000000  6.000000\n",
        "mean   0.232638 -0.598732 -0.777336  0.480399\n",
        "std    0.954171  0.916614  1.627354  0.695597\n",
        "min   -0.764944 -1.904871 -2.442997 -0.551082\n",
        "25%   -0.485471 -1.113858 -2.173687  0.150461\n",
        "50%    0.171011 -0.488407 -0.802532  0.462331\n",
        "75%    0.560914 -0.219317  0.100362  0.884048\n",
        "max    1.832170  0.741254  1.613457  1.437687\n",
        "\n",
        "[8 rows x 4 columns]"
       ]
      }
     ],
     "prompt_number": 17
    },
    {
     "cell_type": "markdown",
     "metadata": {},
     "source": [
      "Transposing your data"
     ]
    },
    {
     "cell_type": "code",
     "collapsed": false,
     "input": [
      "df.T"
     ],
     "language": "python",
     "metadata": {
      "cellView": null,
      "executionInfo": null
     },
     "outputs": [
      {
       "html": [
        "<div style=\"max-height:1000px;max-width:1500px;overflow:auto;\">\n",
        "<table border=\"1\" class=\"dataframe\">\n",
        "  <thead>\n",
        "    <tr style=\"text-align: right;\">\n",
        "      <th></th>\n",
        "      <th>2013-01-01 00:00:00</th>\n",
        "      <th>2013-01-02 00:00:00</th>\n",
        "      <th>2013-01-03 00:00:00</th>\n",
        "      <th>2013-01-04 00:00:00</th>\n",
        "      <th>2013-01-05 00:00:00</th>\n",
        "      <th>2013-01-06 00:00:00</th>\n",
        "    </tr>\n",
        "  </thead>\n",
        "  <tbody>\n",
        "    <tr>\n",
        "      <th>A</th>\n",
        "      <td>-0.764944</td>\n",
        "      <td> 1.832170</td>\n",
        "      <td>-0.629879</td>\n",
        "      <td>-0.052247</td>\n",
        "      <td> 0.616462</td>\n",
        "      <td> 0.394269</td>\n",
        "    </tr>\n",
        "    <tr>\n",
        "      <th>B</th>\n",
        "      <td>-1.904871</td>\n",
        "      <td> 0.741254</td>\n",
        "      <td>-0.276270</td>\n",
        "      <td>-0.700545</td>\n",
        "      <td>-1.251629</td>\n",
        "      <td>-0.200332</td>\n",
        "    </tr>\n",
        "    <tr>\n",
        "      <th>C</th>\n",
        "      <td> 1.613457</td>\n",
        "      <td>-2.340365</td>\n",
        "      <td> 0.068590</td>\n",
        "      <td>-2.442997</td>\n",
        "      <td>-1.673653</td>\n",
        "      <td> 0.110953</td>\n",
        "    </tr>\n",
        "    <tr>\n",
        "      <th>D</th>\n",
        "      <td> 1.437687</td>\n",
        "      <td> 0.984842</td>\n",
        "      <td> 0.086282</td>\n",
        "      <td> 0.581663</td>\n",
        "      <td> 0.342999</td>\n",
        "      <td>-0.551082</td>\n",
        "    </tr>\n",
        "  </tbody>\n",
        "</table>\n",
        "<p>4 rows \u00d7 6 columns</p>\n",
        "</div>"
       ],
       "metadata": {},
       "output_type": "pyout",
       "prompt_number": 18,
       "text": [
        "   2013-01-01  2013-01-02  2013-01-03  2013-01-04  2013-01-05  2013-01-06\n",
        "A   -0.764944    1.832170   -0.629879   -0.052247    0.616462    0.394269\n",
        "B   -1.904871    0.741254   -0.276270   -0.700545   -1.251629   -0.200332\n",
        "C    1.613457   -2.340365    0.068590   -2.442997   -1.673653    0.110953\n",
        "D    1.437687    0.984842    0.086282    0.581663    0.342999   -0.551082\n",
        "\n",
        "[4 rows x 6 columns]"
       ]
      }
     ],
     "prompt_number": 18
    },
    {
     "cell_type": "markdown",
     "metadata": {},
     "source": [
      "Sorting by an axis"
     ]
    },
    {
     "cell_type": "code",
     "collapsed": false,
     "input": [
      "df.sort_index(axis=1, ascending=False)"
     ],
     "language": "python",
     "metadata": {
      "cellView": null,
      "executionInfo": null
     },
     "outputs": [
      {
       "html": [
        "<div style=\"max-height:1000px;max-width:1500px;overflow:auto;\">\n",
        "<table border=\"1\" class=\"dataframe\">\n",
        "  <thead>\n",
        "    <tr style=\"text-align: right;\">\n",
        "      <th></th>\n",
        "      <th>D</th>\n",
        "      <th>C</th>\n",
        "      <th>B</th>\n",
        "      <th>A</th>\n",
        "    </tr>\n",
        "  </thead>\n",
        "  <tbody>\n",
        "    <tr>\n",
        "      <th>2013-01-01</th>\n",
        "      <td> 1.437687</td>\n",
        "      <td> 1.613457</td>\n",
        "      <td>-1.904871</td>\n",
        "      <td>-0.764944</td>\n",
        "    </tr>\n",
        "    <tr>\n",
        "      <th>2013-01-02</th>\n",
        "      <td> 0.984842</td>\n",
        "      <td>-2.340365</td>\n",
        "      <td> 0.741254</td>\n",
        "      <td> 1.832170</td>\n",
        "    </tr>\n",
        "    <tr>\n",
        "      <th>2013-01-03</th>\n",
        "      <td> 0.086282</td>\n",
        "      <td> 0.068590</td>\n",
        "      <td>-0.276270</td>\n",
        "      <td>-0.629879</td>\n",
        "    </tr>\n",
        "    <tr>\n",
        "      <th>2013-01-04</th>\n",
        "      <td> 0.581663</td>\n",
        "      <td>-2.442997</td>\n",
        "      <td>-0.700545</td>\n",
        "      <td>-0.052247</td>\n",
        "    </tr>\n",
        "    <tr>\n",
        "      <th>2013-01-05</th>\n",
        "      <td> 0.342999</td>\n",
        "      <td>-1.673653</td>\n",
        "      <td>-1.251629</td>\n",
        "      <td> 0.616462</td>\n",
        "    </tr>\n",
        "    <tr>\n",
        "      <th>2013-01-06</th>\n",
        "      <td>-0.551082</td>\n",
        "      <td> 0.110953</td>\n",
        "      <td>-0.200332</td>\n",
        "      <td> 0.394269</td>\n",
        "    </tr>\n",
        "  </tbody>\n",
        "</table>\n",
        "<p>6 rows \u00d7 4 columns</p>\n",
        "</div>"
       ],
       "metadata": {},
       "output_type": "pyout",
       "prompt_number": 19,
       "text": [
        "                   D         C         B         A\n",
        "2013-01-01  1.437687  1.613457 -1.904871 -0.764944\n",
        "2013-01-02  0.984842 -2.340365  0.741254  1.832170\n",
        "2013-01-03  0.086282  0.068590 -0.276270 -0.629879\n",
        "2013-01-04  0.581663 -2.442997 -0.700545 -0.052247\n",
        "2013-01-05  0.342999 -1.673653 -1.251629  0.616462\n",
        "2013-01-06 -0.551082  0.110953 -0.200332  0.394269\n",
        "\n",
        "[6 rows x 4 columns]"
       ]
      }
     ],
     "prompt_number": 19
    },
    {
     "cell_type": "markdown",
     "metadata": {},
     "source": [
      "Sorting by values"
     ]
    },
    {
     "cell_type": "code",
     "collapsed": false,
     "input": [
      "df.sort(columns='B')"
     ],
     "language": "python",
     "metadata": {
      "cellView": null,
      "executionInfo": null
     },
     "outputs": [
      {
       "html": [
        "<div style=\"max-height:1000px;max-width:1500px;overflow:auto;\">\n",
        "<table border=\"1\" class=\"dataframe\">\n",
        "  <thead>\n",
        "    <tr style=\"text-align: right;\">\n",
        "      <th></th>\n",
        "      <th>A</th>\n",
        "      <th>B</th>\n",
        "      <th>C</th>\n",
        "      <th>D</th>\n",
        "    </tr>\n",
        "  </thead>\n",
        "  <tbody>\n",
        "    <tr>\n",
        "      <th>2013-01-01</th>\n",
        "      <td>-0.764944</td>\n",
        "      <td>-1.904871</td>\n",
        "      <td> 1.613457</td>\n",
        "      <td> 1.437687</td>\n",
        "    </tr>\n",
        "    <tr>\n",
        "      <th>2013-01-05</th>\n",
        "      <td> 0.616462</td>\n",
        "      <td>-1.251629</td>\n",
        "      <td>-1.673653</td>\n",
        "      <td> 0.342999</td>\n",
        "    </tr>\n",
        "    <tr>\n",
        "      <th>2013-01-04</th>\n",
        "      <td>-0.052247</td>\n",
        "      <td>-0.700545</td>\n",
        "      <td>-2.442997</td>\n",
        "      <td> 0.581663</td>\n",
        "    </tr>\n",
        "    <tr>\n",
        "      <th>2013-01-03</th>\n",
        "      <td>-0.629879</td>\n",
        "      <td>-0.276270</td>\n",
        "      <td> 0.068590</td>\n",
        "      <td> 0.086282</td>\n",
        "    </tr>\n",
        "    <tr>\n",
        "      <th>2013-01-06</th>\n",
        "      <td> 0.394269</td>\n",
        "      <td>-0.200332</td>\n",
        "      <td> 0.110953</td>\n",
        "      <td>-0.551082</td>\n",
        "    </tr>\n",
        "    <tr>\n",
        "      <th>2013-01-02</th>\n",
        "      <td> 1.832170</td>\n",
        "      <td> 0.741254</td>\n",
        "      <td>-2.340365</td>\n",
        "      <td> 0.984842</td>\n",
        "    </tr>\n",
        "  </tbody>\n",
        "</table>\n",
        "<p>6 rows \u00d7 4 columns</p>\n",
        "</div>"
       ],
       "metadata": {},
       "output_type": "pyout",
       "prompt_number": 20,
       "text": [
        "                   A         B         C         D\n",
        "2013-01-01 -0.764944 -1.904871  1.613457  1.437687\n",
        "2013-01-05  0.616462 -1.251629 -1.673653  0.342999\n",
        "2013-01-04 -0.052247 -0.700545 -2.442997  0.581663\n",
        "2013-01-03 -0.629879 -0.276270  0.068590  0.086282\n",
        "2013-01-06  0.394269 -0.200332  0.110953 -0.551082\n",
        "2013-01-02  1.832170  0.741254 -2.340365  0.984842\n",
        "\n",
        "[6 rows x 4 columns]"
       ]
      }
     ],
     "prompt_number": 20
    },
    {
     "cell_type": "heading",
     "level": 3,
     "metadata": {},
     "source": [
      "3. Selection"
     ]
    },
    {
     "cell_type": "markdown",
     "metadata": {},
     "source": [
      "While standard Python / Numpy expressions for selecting and setting are intuitive and come in handy for interactive work, for production code, we recommend the optimized pandas data access methods, .at, .iat, .loc, .iloc and .ix."
     ]
    },
    {
     "cell_type": "heading",
     "level": 4,
     "metadata": {},
     "source": [
      "Selecting a single column, which yields a Series, equivalent to df.A"
     ]
    },
    {
     "cell_type": "code",
     "collapsed": false,
     "input": [
      "df['A']"
     ],
     "language": "python",
     "metadata": {
      "cellView": null,
      "executionInfo": null
     },
     "outputs": [
      {
       "metadata": {},
       "output_type": "pyout",
       "prompt_number": 21,
       "text": [
        "2013-01-01   -0.764944\n",
        "2013-01-02    1.832170\n",
        "2013-01-03   -0.629879\n",
        "2013-01-04   -0.052247\n",
        "2013-01-05    0.616462\n",
        "2013-01-06    0.394269\n",
        "Freq: D, Name: A, dtype: float64"
       ]
      }
     ],
     "prompt_number": 21
    },
    {
     "cell_type": "markdown",
     "metadata": {},
     "source": [
      "Selecting via [  ], which slices the rows."
     ]
    },
    {
     "cell_type": "code",
     "collapsed": false,
     "input": [
      "df[0:3]"
     ],
     "language": "python",
     "metadata": {
      "cellView": null,
      "executionInfo": null
     },
     "outputs": [
      {
       "html": [
        "<div style=\"max-height:1000px;max-width:1500px;overflow:auto;\">\n",
        "<table border=\"1\" class=\"dataframe\">\n",
        "  <thead>\n",
        "    <tr style=\"text-align: right;\">\n",
        "      <th></th>\n",
        "      <th>A</th>\n",
        "      <th>B</th>\n",
        "      <th>C</th>\n",
        "      <th>D</th>\n",
        "    </tr>\n",
        "  </thead>\n",
        "  <tbody>\n",
        "    <tr>\n",
        "      <th>2013-01-01</th>\n",
        "      <td>-0.764944</td>\n",
        "      <td>-1.904871</td>\n",
        "      <td> 1.613457</td>\n",
        "      <td> 1.437687</td>\n",
        "    </tr>\n",
        "    <tr>\n",
        "      <th>2013-01-02</th>\n",
        "      <td> 1.832170</td>\n",
        "      <td> 0.741254</td>\n",
        "      <td>-2.340365</td>\n",
        "      <td> 0.984842</td>\n",
        "    </tr>\n",
        "    <tr>\n",
        "      <th>2013-01-03</th>\n",
        "      <td>-0.629879</td>\n",
        "      <td>-0.276270</td>\n",
        "      <td> 0.068590</td>\n",
        "      <td> 0.086282</td>\n",
        "    </tr>\n",
        "  </tbody>\n",
        "</table>\n",
        "<p>3 rows \u00d7 4 columns</p>\n",
        "</div>"
       ],
       "metadata": {},
       "output_type": "pyout",
       "prompt_number": 22,
       "text": [
        "                   A         B         C         D\n",
        "2013-01-01 -0.764944 -1.904871  1.613457  1.437687\n",
        "2013-01-02  1.832170  0.741254 -2.340365  0.984842\n",
        "2013-01-03 -0.629879 -0.276270  0.068590  0.086282\n",
        "\n",
        "[3 rows x 4 columns]"
       ]
      }
     ],
     "prompt_number": 22
    },
    {
     "cell_type": "code",
     "collapsed": false,
     "input": [
      "df['20130102':'20130104']"
     ],
     "language": "python",
     "metadata": {
      "cellView": null,
      "executionInfo": null
     },
     "outputs": [
      {
       "html": [
        "<div style=\"max-height:1000px;max-width:1500px;overflow:auto;\">\n",
        "<table border=\"1\" class=\"dataframe\">\n",
        "  <thead>\n",
        "    <tr style=\"text-align: right;\">\n",
        "      <th></th>\n",
        "      <th>A</th>\n",
        "      <th>B</th>\n",
        "      <th>C</th>\n",
        "      <th>D</th>\n",
        "    </tr>\n",
        "  </thead>\n",
        "  <tbody>\n",
        "    <tr>\n",
        "      <th>2013-01-02</th>\n",
        "      <td> 1.832170</td>\n",
        "      <td> 0.741254</td>\n",
        "      <td>-2.340365</td>\n",
        "      <td> 0.984842</td>\n",
        "    </tr>\n",
        "    <tr>\n",
        "      <th>2013-01-03</th>\n",
        "      <td>-0.629879</td>\n",
        "      <td>-0.276270</td>\n",
        "      <td> 0.068590</td>\n",
        "      <td> 0.086282</td>\n",
        "    </tr>\n",
        "    <tr>\n",
        "      <th>2013-01-04</th>\n",
        "      <td>-0.052247</td>\n",
        "      <td>-0.700545</td>\n",
        "      <td>-2.442997</td>\n",
        "      <td> 0.581663</td>\n",
        "    </tr>\n",
        "  </tbody>\n",
        "</table>\n",
        "<p>3 rows \u00d7 4 columns</p>\n",
        "</div>"
       ],
       "metadata": {},
       "output_type": "pyout",
       "prompt_number": 23,
       "text": [
        "                   A         B         C         D\n",
        "2013-01-02  1.832170  0.741254 -2.340365  0.984842\n",
        "2013-01-03 -0.629879 -0.276270  0.068590  0.086282\n",
        "2013-01-04 -0.052247 -0.700545 -2.442997  0.581663\n",
        "\n",
        "[3 rows x 4 columns]"
       ]
      }
     ],
     "prompt_number": 23
    },
    {
     "cell_type": "heading",
     "level": 4,
     "metadata": {},
     "source": [
      "Selection by Label\u00b6"
     ]
    },
    {
     "cell_type": "markdown",
     "metadata": {},
     "source": [
      "For getting a cross section using a label"
     ]
    },
    {
     "cell_type": "code",
     "collapsed": false,
     "input": [
      "df.loc[dates[0]]"
     ],
     "language": "python",
     "metadata": {
      "cellView": null,
      "executionInfo": null
     },
     "outputs": [
      {
       "metadata": {},
       "output_type": "pyout",
       "prompt_number": 24,
       "text": [
        "A   -0.764944\n",
        "B   -1.904871\n",
        "C    1.613457\n",
        "D    1.437687\n",
        "Name: 2013-01-01 00:00:00, dtype: float64"
       ]
      }
     ],
     "prompt_number": 24
    },
    {
     "cell_type": "markdown",
     "metadata": {},
     "source": [
      "Selecting on a multi-axis by label"
     ]
    },
    {
     "cell_type": "code",
     "collapsed": false,
     "input": [
      "df.loc[:,['A','B']]"
     ],
     "language": "python",
     "metadata": {
      "cellView": null,
      "executionInfo": null
     },
     "outputs": [
      {
       "html": [
        "<div style=\"max-height:1000px;max-width:1500px;overflow:auto;\">\n",
        "<table border=\"1\" class=\"dataframe\">\n",
        "  <thead>\n",
        "    <tr style=\"text-align: right;\">\n",
        "      <th></th>\n",
        "      <th>A</th>\n",
        "      <th>B</th>\n",
        "    </tr>\n",
        "  </thead>\n",
        "  <tbody>\n",
        "    <tr>\n",
        "      <th>2013-01-01</th>\n",
        "      <td>-0.764944</td>\n",
        "      <td>-1.904871</td>\n",
        "    </tr>\n",
        "    <tr>\n",
        "      <th>2013-01-02</th>\n",
        "      <td> 1.832170</td>\n",
        "      <td> 0.741254</td>\n",
        "    </tr>\n",
        "    <tr>\n",
        "      <th>2013-01-03</th>\n",
        "      <td>-0.629879</td>\n",
        "      <td>-0.276270</td>\n",
        "    </tr>\n",
        "    <tr>\n",
        "      <th>2013-01-04</th>\n",
        "      <td>-0.052247</td>\n",
        "      <td>-0.700545</td>\n",
        "    </tr>\n",
        "    <tr>\n",
        "      <th>2013-01-05</th>\n",
        "      <td> 0.616462</td>\n",
        "      <td>-1.251629</td>\n",
        "    </tr>\n",
        "    <tr>\n",
        "      <th>2013-01-06</th>\n",
        "      <td> 0.394269</td>\n",
        "      <td>-0.200332</td>\n",
        "    </tr>\n",
        "  </tbody>\n",
        "</table>\n",
        "<p>6 rows \u00d7 2 columns</p>\n",
        "</div>"
       ],
       "metadata": {},
       "output_type": "pyout",
       "prompt_number": 25,
       "text": [
        "                   A         B\n",
        "2013-01-01 -0.764944 -1.904871\n",
        "2013-01-02  1.832170  0.741254\n",
        "2013-01-03 -0.629879 -0.276270\n",
        "2013-01-04 -0.052247 -0.700545\n",
        "2013-01-05  0.616462 -1.251629\n",
        "2013-01-06  0.394269 -0.200332\n",
        "\n",
        "[6 rows x 2 columns]"
       ]
      }
     ],
     "prompt_number": 25
    },
    {
     "cell_type": "markdown",
     "metadata": {},
     "source": [
      "Showing label slicing, both endpoints are included"
     ]
    },
    {
     "cell_type": "code",
     "collapsed": false,
     "input": [
      "df.loc['20130102':'20130104',['A','B']]"
     ],
     "language": "python",
     "metadata": {
      "cellView": null,
      "executionInfo": null
     },
     "outputs": [
      {
       "html": [
        "<div style=\"max-height:1000px;max-width:1500px;overflow:auto;\">\n",
        "<table border=\"1\" class=\"dataframe\">\n",
        "  <thead>\n",
        "    <tr style=\"text-align: right;\">\n",
        "      <th></th>\n",
        "      <th>A</th>\n",
        "      <th>B</th>\n",
        "    </tr>\n",
        "  </thead>\n",
        "  <tbody>\n",
        "    <tr>\n",
        "      <th>2013-01-02</th>\n",
        "      <td> 1.832170</td>\n",
        "      <td> 0.741254</td>\n",
        "    </tr>\n",
        "    <tr>\n",
        "      <th>2013-01-03</th>\n",
        "      <td>-0.629879</td>\n",
        "      <td>-0.276270</td>\n",
        "    </tr>\n",
        "    <tr>\n",
        "      <th>2013-01-04</th>\n",
        "      <td>-0.052247</td>\n",
        "      <td>-0.700545</td>\n",
        "    </tr>\n",
        "  </tbody>\n",
        "</table>\n",
        "<p>3 rows \u00d7 2 columns</p>\n",
        "</div>"
       ],
       "metadata": {},
       "output_type": "pyout",
       "prompt_number": 26,
       "text": [
        "                   A         B\n",
        "2013-01-02  1.832170  0.741254\n",
        "2013-01-03 -0.629879 -0.276270\n",
        "2013-01-04 -0.052247 -0.700545\n",
        "\n",
        "[3 rows x 2 columns]"
       ]
      }
     ],
     "prompt_number": 26
    },
    {
     "cell_type": "markdown",
     "metadata": {},
     "source": [
      "Reduction in the dimensions of the returned object"
     ]
    },
    {
     "cell_type": "code",
     "collapsed": false,
     "input": [
      "df.loc['20130102',['A','B']]"
     ],
     "language": "python",
     "metadata": {
      "cellView": null,
      "executionInfo": null
     },
     "outputs": [
      {
       "metadata": {},
       "output_type": "pyout",
       "prompt_number": 27,
       "text": [
        "A    1.832170\n",
        "B    0.741254\n",
        "Name: 2013-01-02 00:00:00, dtype: float64"
       ]
      }
     ],
     "prompt_number": 27
    },
    {
     "cell_type": "markdown",
     "metadata": {},
     "source": [
      "For getting a scalar value"
     ]
    },
    {
     "cell_type": "code",
     "collapsed": false,
     "input": [
      "df.loc[dates[0],'A']"
     ],
     "language": "python",
     "metadata": {
      "cellView": null,
      "executionInfo": null
     },
     "outputs": [
      {
       "metadata": {},
       "output_type": "pyout",
       "prompt_number": 28,
       "text": [
        "-0.76494438309031443"
       ]
      }
     ],
     "prompt_number": 28
    },
    {
     "cell_type": "markdown",
     "metadata": {},
     "source": [
      "For getting fast access to a scalar (equiv to the prior method)"
     ]
    },
    {
     "cell_type": "code",
     "collapsed": false,
     "input": [
      "df.at[dates[0],'A']"
     ],
     "language": "python",
     "metadata": {
      "cellView": null,
      "executionInfo": null
     },
     "outputs": [
      {
       "metadata": {},
       "output_type": "pyout",
       "prompt_number": 29,
       "text": [
        "-0.76494438309031443"
       ]
      }
     ],
     "prompt_number": 29
    },
    {
     "cell_type": "heading",
     "level": 4,
     "metadata": {},
     "source": [
      "Selection by Position"
     ]
    },
    {
     "cell_type": "markdown",
     "metadata": {},
     "source": [
      "Select via the position of the passed integers"
     ]
    },
    {
     "cell_type": "code",
     "collapsed": false,
     "input": [
      "df.iloc[2]"
     ],
     "language": "python",
     "metadata": {
      "cellView": null,
      "executionInfo": null
     },
     "outputs": [
      {
       "metadata": {},
       "output_type": "pyout",
       "prompt_number": 32,
       "text": [
        "A   -0.629879\n",
        "B   -0.276270\n",
        "C    0.068590\n",
        "D    0.086282\n",
        "Name: 2013-01-03 00:00:00, dtype: float64"
       ]
      }
     ],
     "prompt_number": 32
    },
    {
     "cell_type": "markdown",
     "metadata": {},
     "source": [
      "By integer slices, acting similar to numpy/python"
     ]
    },
    {
     "cell_type": "code",
     "collapsed": false,
     "input": [
      "df.iloc[3:5,0:2]"
     ],
     "language": "python",
     "metadata": {
      "cellView": null,
      "executionInfo": null
     },
     "outputs": [
      {
       "html": [
        "<div style=\"max-height:1000px;max-width:1500px;overflow:auto;\">\n",
        "<table border=\"1\" class=\"dataframe\">\n",
        "  <thead>\n",
        "    <tr style=\"text-align: right;\">\n",
        "      <th></th>\n",
        "      <th>A</th>\n",
        "      <th>B</th>\n",
        "    </tr>\n",
        "  </thead>\n",
        "  <tbody>\n",
        "    <tr>\n",
        "      <th>2013-01-04</th>\n",
        "      <td>-0.052247</td>\n",
        "      <td>-0.700545</td>\n",
        "    </tr>\n",
        "    <tr>\n",
        "      <th>2013-01-05</th>\n",
        "      <td> 0.616462</td>\n",
        "      <td>-1.251629</td>\n",
        "    </tr>\n",
        "  </tbody>\n",
        "</table>\n",
        "<p>2 rows \u00d7 2 columns</p>\n",
        "</div>"
       ],
       "metadata": {},
       "output_type": "pyout",
       "prompt_number": 36,
       "text": [
        "                   A         B\n",
        "2013-01-04 -0.052247 -0.700545\n",
        "2013-01-05  0.616462 -1.251629\n",
        "\n",
        "[2 rows x 2 columns]"
       ]
      }
     ],
     "prompt_number": 36
    },
    {
     "cell_type": "markdown",
     "metadata": {},
     "source": [
      "By lists of integer position locations, similar to the numpy/python style"
     ]
    },
    {
     "cell_type": "code",
     "collapsed": false,
     "input": [
      "df.iloc[[1,2,4],[0,2]]"
     ],
     "language": "python",
     "metadata": {
      "cellView": null,
      "executionInfo": null
     },
     "outputs": [
      {
       "html": [
        "<div style=\"max-height:1000px;max-width:1500px;overflow:auto;\">\n",
        "<table border=\"1\" class=\"dataframe\">\n",
        "  <thead>\n",
        "    <tr style=\"text-align: right;\">\n",
        "      <th></th>\n",
        "      <th>A</th>\n",
        "      <th>C</th>\n",
        "    </tr>\n",
        "  </thead>\n",
        "  <tbody>\n",
        "    <tr>\n",
        "      <th>2013-01-02</th>\n",
        "      <td> 1.832170</td>\n",
        "      <td>-2.340365</td>\n",
        "    </tr>\n",
        "    <tr>\n",
        "      <th>2013-01-03</th>\n",
        "      <td>-0.629879</td>\n",
        "      <td> 0.068590</td>\n",
        "    </tr>\n",
        "    <tr>\n",
        "      <th>2013-01-05</th>\n",
        "      <td> 0.616462</td>\n",
        "      <td>-1.673653</td>\n",
        "    </tr>\n",
        "  </tbody>\n",
        "</table>\n",
        "<p>3 rows \u00d7 2 columns</p>\n",
        "</div>"
       ],
       "metadata": {},
       "output_type": "pyout",
       "prompt_number": 37,
       "text": [
        "                   A         C\n",
        "2013-01-02  1.832170 -2.340365\n",
        "2013-01-03 -0.629879  0.068590\n",
        "2013-01-05  0.616462 -1.673653\n",
        "\n",
        "[3 rows x 2 columns]"
       ]
      }
     ],
     "prompt_number": 37
    },
    {
     "cell_type": "markdown",
     "metadata": {},
     "source": [
      "For slicing rows explicitly"
     ]
    },
    {
     "cell_type": "code",
     "collapsed": false,
     "input": [
      "df.iloc[1:3,:]"
     ],
     "language": "python",
     "metadata": {
      "cellView": null,
      "executionInfo": null
     },
     "outputs": [
      {
       "html": [
        "<div style=\"max-height:1000px;max-width:1500px;overflow:auto;\">\n",
        "<table border=\"1\" class=\"dataframe\">\n",
        "  <thead>\n",
        "    <tr style=\"text-align: right;\">\n",
        "      <th></th>\n",
        "      <th>A</th>\n",
        "      <th>B</th>\n",
        "      <th>C</th>\n",
        "      <th>D</th>\n",
        "    </tr>\n",
        "  </thead>\n",
        "  <tbody>\n",
        "    <tr>\n",
        "      <th>2013-01-02</th>\n",
        "      <td> 1.832170</td>\n",
        "      <td> 0.741254</td>\n",
        "      <td>-2.340365</td>\n",
        "      <td> 0.984842</td>\n",
        "    </tr>\n",
        "    <tr>\n",
        "      <th>2013-01-03</th>\n",
        "      <td>-0.629879</td>\n",
        "      <td>-0.276270</td>\n",
        "      <td> 0.068590</td>\n",
        "      <td> 0.086282</td>\n",
        "    </tr>\n",
        "  </tbody>\n",
        "</table>\n",
        "<p>2 rows \u00d7 4 columns</p>\n",
        "</div>"
       ],
       "metadata": {},
       "output_type": "pyout",
       "prompt_number": 38,
       "text": [
        "                   A         B         C         D\n",
        "2013-01-02  1.832170  0.741254 -2.340365  0.984842\n",
        "2013-01-03 -0.629879 -0.276270  0.068590  0.086282\n",
        "\n",
        "[2 rows x 4 columns]"
       ]
      }
     ],
     "prompt_number": 38
    },
    {
     "cell_type": "markdown",
     "metadata": {},
     "source": [
      "For slicing columns explicitly"
     ]
    },
    {
     "cell_type": "code",
     "collapsed": false,
     "input": [
      "df.iloc[:,1:3]"
     ],
     "language": "python",
     "metadata": {
      "cellView": null,
      "executionInfo": null
     },
     "outputs": [
      {
       "html": [
        "<div style=\"max-height:1000px;max-width:1500px;overflow:auto;\">\n",
        "<table border=\"1\" class=\"dataframe\">\n",
        "  <thead>\n",
        "    <tr style=\"text-align: right;\">\n",
        "      <th></th>\n",
        "      <th>B</th>\n",
        "      <th>C</th>\n",
        "    </tr>\n",
        "  </thead>\n",
        "  <tbody>\n",
        "    <tr>\n",
        "      <th>2013-01-01</th>\n",
        "      <td>-1.904871</td>\n",
        "      <td> 1.613457</td>\n",
        "    </tr>\n",
        "    <tr>\n",
        "      <th>2013-01-02</th>\n",
        "      <td> 0.741254</td>\n",
        "      <td>-2.340365</td>\n",
        "    </tr>\n",
        "    <tr>\n",
        "      <th>2013-01-03</th>\n",
        "      <td>-0.276270</td>\n",
        "      <td> 0.068590</td>\n",
        "    </tr>\n",
        "    <tr>\n",
        "      <th>2013-01-04</th>\n",
        "      <td>-0.700545</td>\n",
        "      <td>-2.442997</td>\n",
        "    </tr>\n",
        "    <tr>\n",
        "      <th>2013-01-05</th>\n",
        "      <td>-1.251629</td>\n",
        "      <td>-1.673653</td>\n",
        "    </tr>\n",
        "    <tr>\n",
        "      <th>2013-01-06</th>\n",
        "      <td>-0.200332</td>\n",
        "      <td> 0.110953</td>\n",
        "    </tr>\n",
        "  </tbody>\n",
        "</table>\n",
        "<p>6 rows \u00d7 2 columns</p>\n",
        "</div>"
       ],
       "metadata": {},
       "output_type": "pyout",
       "prompt_number": 39,
       "text": [
        "                   B         C\n",
        "2013-01-01 -1.904871  1.613457\n",
        "2013-01-02  0.741254 -2.340365\n",
        "2013-01-03 -0.276270  0.068590\n",
        "2013-01-04 -0.700545 -2.442997\n",
        "2013-01-05 -1.251629 -1.673653\n",
        "2013-01-06 -0.200332  0.110953\n",
        "\n",
        "[6 rows x 2 columns]"
       ]
      }
     ],
     "prompt_number": 39
    },
    {
     "cell_type": "markdown",
     "metadata": {},
     "source": [
      "For getting a value explicitly"
     ]
    },
    {
     "cell_type": "code",
     "collapsed": false,
     "input": [
      "df.iloc[1,1]"
     ],
     "language": "python",
     "metadata": {
      "cellView": null,
      "executionInfo": null
     },
     "outputs": [
      {
       "metadata": {},
       "output_type": "pyout",
       "prompt_number": 40,
       "text": [
        "0.74125429064956871"
       ]
      }
     ],
     "prompt_number": 40
    },
    {
     "cell_type": "markdown",
     "metadata": {},
     "source": [
      "For getting fast access to a scalar (equiv to the prior method)"
     ]
    },
    {
     "cell_type": "code",
     "collapsed": false,
     "input": [
      "df.iat[1,1]"
     ],
     "language": "python",
     "metadata": {
      "cellView": null,
      "executionInfo": null
     },
     "outputs": [
      {
       "metadata": {},
       "output_type": "pyout",
       "prompt_number": 41,
       "text": [
        "0.74125429064956871"
       ]
      }
     ],
     "prompt_number": 41
    },
    {
     "cell_type": "heading",
     "level": 4,
     "metadata": {},
     "source": [
      "Boolean Indexing"
     ]
    },
    {
     "cell_type": "markdown",
     "metadata": {},
     "source": [
      "Using a single column\u2019s values to select data."
     ]
    },
    {
     "cell_type": "code",
     "collapsed": false,
     "input": [
      "df[df.A > 0]"
     ],
     "language": "python",
     "metadata": {
      "cellView": null,
      "executionInfo": null
     },
     "outputs": [
      {
       "html": [
        "<div style=\"max-height:1000px;max-width:1500px;overflow:auto;\">\n",
        "<table border=\"1\" class=\"dataframe\">\n",
        "  <thead>\n",
        "    <tr style=\"text-align: right;\">\n",
        "      <th></th>\n",
        "      <th>A</th>\n",
        "      <th>B</th>\n",
        "      <th>C</th>\n",
        "      <th>D</th>\n",
        "    </tr>\n",
        "  </thead>\n",
        "  <tbody>\n",
        "    <tr>\n",
        "      <th>2013-01-02</th>\n",
        "      <td> 1.832170</td>\n",
        "      <td> 0.741254</td>\n",
        "      <td>-2.340365</td>\n",
        "      <td> 0.984842</td>\n",
        "    </tr>\n",
        "    <tr>\n",
        "      <th>2013-01-05</th>\n",
        "      <td> 0.616462</td>\n",
        "      <td>-1.251629</td>\n",
        "      <td>-1.673653</td>\n",
        "      <td> 0.342999</td>\n",
        "    </tr>\n",
        "    <tr>\n",
        "      <th>2013-01-06</th>\n",
        "      <td> 0.394269</td>\n",
        "      <td>-0.200332</td>\n",
        "      <td> 0.110953</td>\n",
        "      <td>-0.551082</td>\n",
        "    </tr>\n",
        "  </tbody>\n",
        "</table>\n",
        "<p>3 rows \u00d7 4 columns</p>\n",
        "</div>"
       ],
       "metadata": {},
       "output_type": "pyout",
       "prompt_number": 42,
       "text": [
        "                   A         B         C         D\n",
        "2013-01-02  1.832170  0.741254 -2.340365  0.984842\n",
        "2013-01-05  0.616462 -1.251629 -1.673653  0.342999\n",
        "2013-01-06  0.394269 -0.200332  0.110953 -0.551082\n",
        "\n",
        "[3 rows x 4 columns]"
       ]
      }
     ],
     "prompt_number": 42
    },
    {
     "cell_type": "markdown",
     "metadata": {},
     "source": [
      "A where operation for getting."
     ]
    },
    {
     "cell_type": "code",
     "collapsed": false,
     "input": [
      "df[df > 0]"
     ],
     "language": "python",
     "metadata": {
      "cellView": null,
      "executionInfo": null
     },
     "outputs": [
      {
       "html": [
        "<div style=\"max-height:1000px;max-width:1500px;overflow:auto;\">\n",
        "<table border=\"1\" class=\"dataframe\">\n",
        "  <thead>\n",
        "    <tr style=\"text-align: right;\">\n",
        "      <th></th>\n",
        "      <th>A</th>\n",
        "      <th>B</th>\n",
        "      <th>C</th>\n",
        "      <th>D</th>\n",
        "    </tr>\n",
        "  </thead>\n",
        "  <tbody>\n",
        "    <tr>\n",
        "      <th>2013-01-01</th>\n",
        "      <td>      NaN</td>\n",
        "      <td>      NaN</td>\n",
        "      <td> 1.613457</td>\n",
        "      <td> 1.437687</td>\n",
        "    </tr>\n",
        "    <tr>\n",
        "      <th>2013-01-02</th>\n",
        "      <td> 1.832170</td>\n",
        "      <td> 0.741254</td>\n",
        "      <td>      NaN</td>\n",
        "      <td> 0.984842</td>\n",
        "    </tr>\n",
        "    <tr>\n",
        "      <th>2013-01-03</th>\n",
        "      <td>      NaN</td>\n",
        "      <td>      NaN</td>\n",
        "      <td> 0.068590</td>\n",
        "      <td> 0.086282</td>\n",
        "    </tr>\n",
        "    <tr>\n",
        "      <th>2013-01-04</th>\n",
        "      <td>      NaN</td>\n",
        "      <td>      NaN</td>\n",
        "      <td>      NaN</td>\n",
        "      <td> 0.581663</td>\n",
        "    </tr>\n",
        "    <tr>\n",
        "      <th>2013-01-05</th>\n",
        "      <td> 0.616462</td>\n",
        "      <td>      NaN</td>\n",
        "      <td>      NaN</td>\n",
        "      <td> 0.342999</td>\n",
        "    </tr>\n",
        "    <tr>\n",
        "      <th>2013-01-06</th>\n",
        "      <td> 0.394269</td>\n",
        "      <td>      NaN</td>\n",
        "      <td> 0.110953</td>\n",
        "      <td>      NaN</td>\n",
        "    </tr>\n",
        "  </tbody>\n",
        "</table>\n",
        "<p>6 rows \u00d7 4 columns</p>\n",
        "</div>"
       ],
       "metadata": {},
       "output_type": "pyout",
       "prompt_number": 43,
       "text": [
        "                   A         B         C         D\n",
        "2013-01-01       NaN       NaN  1.613457  1.437687\n",
        "2013-01-02  1.832170  0.741254       NaN  0.984842\n",
        "2013-01-03       NaN       NaN  0.068590  0.086282\n",
        "2013-01-04       NaN       NaN       NaN  0.581663\n",
        "2013-01-05  0.616462       NaN       NaN  0.342999\n",
        "2013-01-06  0.394269       NaN  0.110953       NaN\n",
        "\n",
        "[6 rows x 4 columns]"
       ]
      }
     ],
     "prompt_number": 43
    },
    {
     "cell_type": "markdown",
     "metadata": {},
     "source": [
      "Using the isin( ) method for filtering:"
     ]
    },
    {
     "cell_type": "code",
     "collapsed": false,
     "input": [
      "df2 = df.copy()\n",
      "df2['E'] = ['one', 'one','two','three','four','three']\n",
      "df2"
     ],
     "language": "python",
     "metadata": {
      "cellView": null,
      "executionInfo": null
     },
     "outputs": [
      {
       "html": [
        "<div style=\"max-height:1000px;max-width:1500px;overflow:auto;\">\n",
        "<table border=\"1\" class=\"dataframe\">\n",
        "  <thead>\n",
        "    <tr style=\"text-align: right;\">\n",
        "      <th></th>\n",
        "      <th>A</th>\n",
        "      <th>B</th>\n",
        "      <th>C</th>\n",
        "      <th>D</th>\n",
        "      <th>E</th>\n",
        "    </tr>\n",
        "  </thead>\n",
        "  <tbody>\n",
        "    <tr>\n",
        "      <th>2013-01-01</th>\n",
        "      <td>-0.764944</td>\n",
        "      <td>-1.904871</td>\n",
        "      <td> 1.613457</td>\n",
        "      <td> 1.437687</td>\n",
        "      <td>   one</td>\n",
        "    </tr>\n",
        "    <tr>\n",
        "      <th>2013-01-02</th>\n",
        "      <td> 1.832170</td>\n",
        "      <td> 0.741254</td>\n",
        "      <td>-2.340365</td>\n",
        "      <td> 0.984842</td>\n",
        "      <td>   one</td>\n",
        "    </tr>\n",
        "    <tr>\n",
        "      <th>2013-01-03</th>\n",
        "      <td>-0.629879</td>\n",
        "      <td>-0.276270</td>\n",
        "      <td> 0.068590</td>\n",
        "      <td> 0.086282</td>\n",
        "      <td>   two</td>\n",
        "    </tr>\n",
        "    <tr>\n",
        "      <th>2013-01-04</th>\n",
        "      <td>-0.052247</td>\n",
        "      <td>-0.700545</td>\n",
        "      <td>-2.442997</td>\n",
        "      <td> 0.581663</td>\n",
        "      <td> three</td>\n",
        "    </tr>\n",
        "    <tr>\n",
        "      <th>2013-01-05</th>\n",
        "      <td> 0.616462</td>\n",
        "      <td>-1.251629</td>\n",
        "      <td>-1.673653</td>\n",
        "      <td> 0.342999</td>\n",
        "      <td>  four</td>\n",
        "    </tr>\n",
        "    <tr>\n",
        "      <th>2013-01-06</th>\n",
        "      <td> 0.394269</td>\n",
        "      <td>-0.200332</td>\n",
        "      <td> 0.110953</td>\n",
        "      <td>-0.551082</td>\n",
        "      <td> three</td>\n",
        "    </tr>\n",
        "  </tbody>\n",
        "</table>\n",
        "<p>6 rows \u00d7 5 columns</p>\n",
        "</div>"
       ],
       "metadata": {},
       "output_type": "pyout",
       "prompt_number": 44,
       "text": [
        "                   A         B         C         D      E\n",
        "2013-01-01 -0.764944 -1.904871  1.613457  1.437687    one\n",
        "2013-01-02  1.832170  0.741254 -2.340365  0.984842    one\n",
        "2013-01-03 -0.629879 -0.276270  0.068590  0.086282    two\n",
        "2013-01-04 -0.052247 -0.700545 -2.442997  0.581663  three\n",
        "2013-01-05  0.616462 -1.251629 -1.673653  0.342999   four\n",
        "2013-01-06  0.394269 -0.200332  0.110953 -0.551082  three\n",
        "\n",
        "[6 rows x 5 columns]"
       ]
      }
     ],
     "prompt_number": 44
    },
    {
     "cell_type": "code",
     "collapsed": false,
     "input": [
      "df2[df2['E'].isin(['two','four'])]"
     ],
     "language": "python",
     "metadata": {
      "cellView": null,
      "executionInfo": null
     },
     "outputs": [
      {
       "html": [
        "<div style=\"max-height:1000px;max-width:1500px;overflow:auto;\">\n",
        "<table border=\"1\" class=\"dataframe\">\n",
        "  <thead>\n",
        "    <tr style=\"text-align: right;\">\n",
        "      <th></th>\n",
        "      <th>A</th>\n",
        "      <th>B</th>\n",
        "      <th>C</th>\n",
        "      <th>D</th>\n",
        "      <th>E</th>\n",
        "    </tr>\n",
        "  </thead>\n",
        "  <tbody>\n",
        "    <tr>\n",
        "      <th>2013-01-03</th>\n",
        "      <td>-0.629879</td>\n",
        "      <td>-0.276270</td>\n",
        "      <td> 0.068590</td>\n",
        "      <td> 0.086282</td>\n",
        "      <td>  two</td>\n",
        "    </tr>\n",
        "    <tr>\n",
        "      <th>2013-01-05</th>\n",
        "      <td> 0.616462</td>\n",
        "      <td>-1.251629</td>\n",
        "      <td>-1.673653</td>\n",
        "      <td> 0.342999</td>\n",
        "      <td> four</td>\n",
        "    </tr>\n",
        "  </tbody>\n",
        "</table>\n",
        "<p>2 rows \u00d7 5 columns</p>\n",
        "</div>"
       ],
       "metadata": {},
       "output_type": "pyout",
       "prompt_number": 45,
       "text": [
        "                   A         B         C         D     E\n",
        "2013-01-03 -0.629879 -0.276270  0.068590  0.086282   two\n",
        "2013-01-05  0.616462 -1.251629 -1.673653  0.342999  four\n",
        "\n",
        "[2 rows x 5 columns]"
       ]
      }
     ],
     "prompt_number": 45
    },
    {
     "cell_type": "heading",
     "level": 4,
     "metadata": {},
     "source": [
      "Setting"
     ]
    },
    {
     "cell_type": "markdown",
     "metadata": {},
     "source": [
      "Setting a new column automatically aligns the data by the indexes"
     ]
    },
    {
     "cell_type": "code",
     "collapsed": false,
     "input": [
      "s1 = pd.Series([1,2,3,4,5,6], index=pd.date_range('20130102', periods=6))\n",
      "s1"
     ],
     "language": "python",
     "metadata": {
      "cellView": null,
      "executionInfo": null
     },
     "outputs": [
      {
       "metadata": {},
       "output_type": "pyout",
       "prompt_number": 46,
       "text": [
        "2013-01-02    1\n",
        "2013-01-03    2\n",
        "2013-01-04    3\n",
        "2013-01-05    4\n",
        "2013-01-06    5\n",
        "2013-01-07    6\n",
        "Freq: D, dtype: int64"
       ]
      }
     ],
     "prompt_number": 46
    },
    {
     "cell_type": "code",
     "collapsed": false,
     "input": [
      "df['F'] = s1\n",
      "df"
     ],
     "language": "python",
     "metadata": {
      "cellView": null,
      "executionInfo": null
     },
     "outputs": [
      {
       "html": [
        "<div style=\"max-height:1000px;max-width:1500px;overflow:auto;\">\n",
        "<table border=\"1\" class=\"dataframe\">\n",
        "  <thead>\n",
        "    <tr style=\"text-align: right;\">\n",
        "      <th></th>\n",
        "      <th>A</th>\n",
        "      <th>B</th>\n",
        "      <th>C</th>\n",
        "      <th>D</th>\n",
        "      <th>F</th>\n",
        "    </tr>\n",
        "  </thead>\n",
        "  <tbody>\n",
        "    <tr>\n",
        "      <th>2013-01-01</th>\n",
        "      <td>-0.764944</td>\n",
        "      <td>-1.904871</td>\n",
        "      <td> 1.613457</td>\n",
        "      <td> 1.437687</td>\n",
        "      <td>NaN</td>\n",
        "    </tr>\n",
        "    <tr>\n",
        "      <th>2013-01-02</th>\n",
        "      <td> 1.832170</td>\n",
        "      <td> 0.741254</td>\n",
        "      <td>-2.340365</td>\n",
        "      <td> 0.984842</td>\n",
        "      <td>  1</td>\n",
        "    </tr>\n",
        "    <tr>\n",
        "      <th>2013-01-03</th>\n",
        "      <td>-0.629879</td>\n",
        "      <td>-0.276270</td>\n",
        "      <td> 0.068590</td>\n",
        "      <td> 0.086282</td>\n",
        "      <td>  2</td>\n",
        "    </tr>\n",
        "    <tr>\n",
        "      <th>2013-01-04</th>\n",
        "      <td>-0.052247</td>\n",
        "      <td>-0.700545</td>\n",
        "      <td>-2.442997</td>\n",
        "      <td> 0.581663</td>\n",
        "      <td>  3</td>\n",
        "    </tr>\n",
        "    <tr>\n",
        "      <th>2013-01-05</th>\n",
        "      <td> 0.616462</td>\n",
        "      <td>-1.251629</td>\n",
        "      <td>-1.673653</td>\n",
        "      <td> 0.342999</td>\n",
        "      <td>  4</td>\n",
        "    </tr>\n",
        "    <tr>\n",
        "      <th>2013-01-06</th>\n",
        "      <td> 0.394269</td>\n",
        "      <td>-0.200332</td>\n",
        "      <td> 0.110953</td>\n",
        "      <td>-0.551082</td>\n",
        "      <td>  5</td>\n",
        "    </tr>\n",
        "  </tbody>\n",
        "</table>\n",
        "<p>6 rows \u00d7 5 columns</p>\n",
        "</div>"
       ],
       "metadata": {},
       "output_type": "pyout",
       "prompt_number": 47,
       "text": [
        "                   A         B         C         D   F\n",
        "2013-01-01 -0.764944 -1.904871  1.613457  1.437687 NaN\n",
        "2013-01-02  1.832170  0.741254 -2.340365  0.984842   1\n",
        "2013-01-03 -0.629879 -0.276270  0.068590  0.086282   2\n",
        "2013-01-04 -0.052247 -0.700545 -2.442997  0.581663   3\n",
        "2013-01-05  0.616462 -1.251629 -1.673653  0.342999   4\n",
        "2013-01-06  0.394269 -0.200332  0.110953 -0.551082   5\n",
        "\n",
        "[6 rows x 5 columns]"
       ]
      }
     ],
     "prompt_number": 47
    },
    {
     "cell_type": "markdown",
     "metadata": {},
     "source": [
      "    Setting values by label"
     ]
    },
    {
     "cell_type": "code",
     "collapsed": false,
     "input": [
      "df.at[dates[0],'A'] = 0\n",
      "df"
     ],
     "language": "python",
     "metadata": {
      "cellView": null,
      "executionInfo": null
     },
     "outputs": [
      {
       "html": [
        "<div style=\"max-height:1000px;max-width:1500px;overflow:auto;\">\n",
        "<table border=\"1\" class=\"dataframe\">\n",
        "  <thead>\n",
        "    <tr style=\"text-align: right;\">\n",
        "      <th></th>\n",
        "      <th>A</th>\n",
        "      <th>B</th>\n",
        "      <th>C</th>\n",
        "      <th>D</th>\n",
        "      <th>F</th>\n",
        "    </tr>\n",
        "  </thead>\n",
        "  <tbody>\n",
        "    <tr>\n",
        "      <th>2013-01-01</th>\n",
        "      <td> 0.000000</td>\n",
        "      <td>-1.904871</td>\n",
        "      <td> 1.613457</td>\n",
        "      <td> 1.437687</td>\n",
        "      <td>NaN</td>\n",
        "    </tr>\n",
        "    <tr>\n",
        "      <th>2013-01-02</th>\n",
        "      <td> 1.832170</td>\n",
        "      <td> 0.741254</td>\n",
        "      <td>-2.340365</td>\n",
        "      <td> 0.984842</td>\n",
        "      <td>  1</td>\n",
        "    </tr>\n",
        "    <tr>\n",
        "      <th>2013-01-03</th>\n",
        "      <td>-0.629879</td>\n",
        "      <td>-0.276270</td>\n",
        "      <td> 0.068590</td>\n",
        "      <td> 0.086282</td>\n",
        "      <td>  2</td>\n",
        "    </tr>\n",
        "    <tr>\n",
        "      <th>2013-01-04</th>\n",
        "      <td>-0.052247</td>\n",
        "      <td>-0.700545</td>\n",
        "      <td>-2.442997</td>\n",
        "      <td> 0.581663</td>\n",
        "      <td>  3</td>\n",
        "    </tr>\n",
        "    <tr>\n",
        "      <th>2013-01-05</th>\n",
        "      <td> 0.616462</td>\n",
        "      <td>-1.251629</td>\n",
        "      <td>-1.673653</td>\n",
        "      <td> 0.342999</td>\n",
        "      <td>  4</td>\n",
        "    </tr>\n",
        "    <tr>\n",
        "      <th>2013-01-06</th>\n",
        "      <td> 0.394269</td>\n",
        "      <td>-0.200332</td>\n",
        "      <td> 0.110953</td>\n",
        "      <td>-0.551082</td>\n",
        "      <td>  5</td>\n",
        "    </tr>\n",
        "  </tbody>\n",
        "</table>\n",
        "<p>6 rows \u00d7 5 columns</p>\n",
        "</div>"
       ],
       "metadata": {},
       "output_type": "pyout",
       "prompt_number": 49,
       "text": [
        "                   A         B         C         D   F\n",
        "2013-01-01  0.000000 -1.904871  1.613457  1.437687 NaN\n",
        "2013-01-02  1.832170  0.741254 -2.340365  0.984842   1\n",
        "2013-01-03 -0.629879 -0.276270  0.068590  0.086282   2\n",
        "2013-01-04 -0.052247 -0.700545 -2.442997  0.581663   3\n",
        "2013-01-05  0.616462 -1.251629 -1.673653  0.342999   4\n",
        "2013-01-06  0.394269 -0.200332  0.110953 -0.551082   5\n",
        "\n",
        "[6 rows x 5 columns]"
       ]
      }
     ],
     "prompt_number": 49
    },
    {
     "cell_type": "markdown",
     "metadata": {},
     "source": [
      "Setting values by position"
     ]
    },
    {
     "cell_type": "code",
     "collapsed": false,
     "input": [
      "df.iat[0,1] = 0\n",
      "df"
     ],
     "language": "python",
     "metadata": {
      "cellView": null,
      "executionInfo": null
     },
     "outputs": [
      {
       "html": [
        "<div style=\"max-height:1000px;max-width:1500px;overflow:auto;\">\n",
        "<table border=\"1\" class=\"dataframe\">\n",
        "  <thead>\n",
        "    <tr style=\"text-align: right;\">\n",
        "      <th></th>\n",
        "      <th>A</th>\n",
        "      <th>B</th>\n",
        "      <th>C</th>\n",
        "      <th>D</th>\n",
        "      <th>F</th>\n",
        "    </tr>\n",
        "  </thead>\n",
        "  <tbody>\n",
        "    <tr>\n",
        "      <th>2013-01-01</th>\n",
        "      <td> 0.000000</td>\n",
        "      <td> 0.000000</td>\n",
        "      <td> 1.613457</td>\n",
        "      <td> 1.437687</td>\n",
        "      <td>NaN</td>\n",
        "    </tr>\n",
        "    <tr>\n",
        "      <th>2013-01-02</th>\n",
        "      <td> 1.832170</td>\n",
        "      <td> 0.741254</td>\n",
        "      <td>-2.340365</td>\n",
        "      <td> 0.984842</td>\n",
        "      <td>  1</td>\n",
        "    </tr>\n",
        "    <tr>\n",
        "      <th>2013-01-03</th>\n",
        "      <td>-0.629879</td>\n",
        "      <td>-0.276270</td>\n",
        "      <td> 0.068590</td>\n",
        "      <td> 0.086282</td>\n",
        "      <td>  2</td>\n",
        "    </tr>\n",
        "    <tr>\n",
        "      <th>2013-01-04</th>\n",
        "      <td>-0.052247</td>\n",
        "      <td>-0.700545</td>\n",
        "      <td>-2.442997</td>\n",
        "      <td> 0.581663</td>\n",
        "      <td>  3</td>\n",
        "    </tr>\n",
        "    <tr>\n",
        "      <th>2013-01-05</th>\n",
        "      <td> 0.616462</td>\n",
        "      <td>-1.251629</td>\n",
        "      <td>-1.673653</td>\n",
        "      <td> 0.342999</td>\n",
        "      <td>  4</td>\n",
        "    </tr>\n",
        "    <tr>\n",
        "      <th>2013-01-06</th>\n",
        "      <td> 0.394269</td>\n",
        "      <td>-0.200332</td>\n",
        "      <td> 0.110953</td>\n",
        "      <td>-0.551082</td>\n",
        "      <td>  5</td>\n",
        "    </tr>\n",
        "  </tbody>\n",
        "</table>\n",
        "<p>6 rows \u00d7 5 columns</p>\n",
        "</div>"
       ],
       "metadata": {},
       "output_type": "pyout",
       "prompt_number": 50,
       "text": [
        "                   A         B         C         D   F\n",
        "2013-01-01  0.000000  0.000000  1.613457  1.437687 NaN\n",
        "2013-01-02  1.832170  0.741254 -2.340365  0.984842   1\n",
        "2013-01-03 -0.629879 -0.276270  0.068590  0.086282   2\n",
        "2013-01-04 -0.052247 -0.700545 -2.442997  0.581663   3\n",
        "2013-01-05  0.616462 -1.251629 -1.673653  0.342999   4\n",
        "2013-01-06  0.394269 -0.200332  0.110953 -0.551082   5\n",
        "\n",
        "[6 rows x 5 columns]"
       ]
      }
     ],
     "prompt_number": 50
    },
    {
     "cell_type": "markdown",
     "metadata": {},
     "source": [
      "Setting by assigning with a numpy array"
     ]
    },
    {
     "cell_type": "code",
     "collapsed": false,
     "input": [
      "df.loc[:,'D'] = np.array([5] * len(df))\n",
      "df"
     ],
     "language": "python",
     "metadata": {
      "cellView": null,
      "executionInfo": null
     },
     "outputs": [
      {
       "html": [
        "<div style=\"max-height:1000px;max-width:1500px;overflow:auto;\">\n",
        "<table border=\"1\" class=\"dataframe\">\n",
        "  <thead>\n",
        "    <tr style=\"text-align: right;\">\n",
        "      <th></th>\n",
        "      <th>A</th>\n",
        "      <th>B</th>\n",
        "      <th>C</th>\n",
        "      <th>D</th>\n",
        "      <th>F</th>\n",
        "    </tr>\n",
        "  </thead>\n",
        "  <tbody>\n",
        "    <tr>\n",
        "      <th>2013-01-01</th>\n",
        "      <td> 0.000000</td>\n",
        "      <td> 0.000000</td>\n",
        "      <td> 1.613457</td>\n",
        "      <td> 5</td>\n",
        "      <td>NaN</td>\n",
        "    </tr>\n",
        "    <tr>\n",
        "      <th>2013-01-02</th>\n",
        "      <td> 1.832170</td>\n",
        "      <td> 0.741254</td>\n",
        "      <td>-2.340365</td>\n",
        "      <td> 5</td>\n",
        "      <td>  1</td>\n",
        "    </tr>\n",
        "    <tr>\n",
        "      <th>2013-01-03</th>\n",
        "      <td>-0.629879</td>\n",
        "      <td>-0.276270</td>\n",
        "      <td> 0.068590</td>\n",
        "      <td> 5</td>\n",
        "      <td>  2</td>\n",
        "    </tr>\n",
        "    <tr>\n",
        "      <th>2013-01-04</th>\n",
        "      <td>-0.052247</td>\n",
        "      <td>-0.700545</td>\n",
        "      <td>-2.442997</td>\n",
        "      <td> 5</td>\n",
        "      <td>  3</td>\n",
        "    </tr>\n",
        "    <tr>\n",
        "      <th>2013-01-05</th>\n",
        "      <td> 0.616462</td>\n",
        "      <td>-1.251629</td>\n",
        "      <td>-1.673653</td>\n",
        "      <td> 5</td>\n",
        "      <td>  4</td>\n",
        "    </tr>\n",
        "    <tr>\n",
        "      <th>2013-01-06</th>\n",
        "      <td> 0.394269</td>\n",
        "      <td>-0.200332</td>\n",
        "      <td> 0.110953</td>\n",
        "      <td> 5</td>\n",
        "      <td>  5</td>\n",
        "    </tr>\n",
        "  </tbody>\n",
        "</table>\n",
        "<p>6 rows \u00d7 5 columns</p>\n",
        "</div>"
       ],
       "metadata": {},
       "output_type": "pyout",
       "prompt_number": 51,
       "text": [
        "                   A         B         C  D   F\n",
        "2013-01-01  0.000000  0.000000  1.613457  5 NaN\n",
        "2013-01-02  1.832170  0.741254 -2.340365  5   1\n",
        "2013-01-03 -0.629879 -0.276270  0.068590  5   2\n",
        "2013-01-04 -0.052247 -0.700545 -2.442997  5   3\n",
        "2013-01-05  0.616462 -1.251629 -1.673653  5   4\n",
        "2013-01-06  0.394269 -0.200332  0.110953  5   5\n",
        "\n",
        "[6 rows x 5 columns]"
       ]
      }
     ],
     "prompt_number": 51
    },
    {
     "cell_type": "markdown",
     "metadata": {},
     "source": [
      "A where operation with setting."
     ]
    },
    {
     "cell_type": "code",
     "collapsed": false,
     "input": [
      "df2 = df.copy()\n",
      "df2[df2 > 0] = -df2\n",
      "df2"
     ],
     "language": "python",
     "metadata": {
      "cellView": null,
      "executionInfo": null
     },
     "outputs": [
      {
       "html": [
        "<div style=\"max-height:1000px;max-width:1500px;overflow:auto;\">\n",
        "<table border=\"1\" class=\"dataframe\">\n",
        "  <thead>\n",
        "    <tr style=\"text-align: right;\">\n",
        "      <th></th>\n",
        "      <th>A</th>\n",
        "      <th>B</th>\n",
        "      <th>C</th>\n",
        "      <th>D</th>\n",
        "      <th>F</th>\n",
        "    </tr>\n",
        "  </thead>\n",
        "  <tbody>\n",
        "    <tr>\n",
        "      <th>2013-01-01</th>\n",
        "      <td> 0.000000</td>\n",
        "      <td> 0.000000</td>\n",
        "      <td>-1.613457</td>\n",
        "      <td>-5</td>\n",
        "      <td>NaN</td>\n",
        "    </tr>\n",
        "    <tr>\n",
        "      <th>2013-01-02</th>\n",
        "      <td>-1.832170</td>\n",
        "      <td>-0.741254</td>\n",
        "      <td>-2.340365</td>\n",
        "      <td>-5</td>\n",
        "      <td> -1</td>\n",
        "    </tr>\n",
        "    <tr>\n",
        "      <th>2013-01-03</th>\n",
        "      <td>-0.629879</td>\n",
        "      <td>-0.276270</td>\n",
        "      <td>-0.068590</td>\n",
        "      <td>-5</td>\n",
        "      <td> -2</td>\n",
        "    </tr>\n",
        "    <tr>\n",
        "      <th>2013-01-04</th>\n",
        "      <td>-0.052247</td>\n",
        "      <td>-0.700545</td>\n",
        "      <td>-2.442997</td>\n",
        "      <td>-5</td>\n",
        "      <td> -3</td>\n",
        "    </tr>\n",
        "    <tr>\n",
        "      <th>2013-01-05</th>\n",
        "      <td>-0.616462</td>\n",
        "      <td>-1.251629</td>\n",
        "      <td>-1.673653</td>\n",
        "      <td>-5</td>\n",
        "      <td> -4</td>\n",
        "    </tr>\n",
        "    <tr>\n",
        "      <th>2013-01-06</th>\n",
        "      <td>-0.394269</td>\n",
        "      <td>-0.200332</td>\n",
        "      <td>-0.110953</td>\n",
        "      <td>-5</td>\n",
        "      <td> -5</td>\n",
        "    </tr>\n",
        "  </tbody>\n",
        "</table>\n",
        "<p>6 rows \u00d7 5 columns</p>\n",
        "</div>"
       ],
       "metadata": {},
       "output_type": "pyout",
       "prompt_number": 52,
       "text": [
        "                   A         B         C  D   F\n",
        "2013-01-01  0.000000  0.000000 -1.613457 -5 NaN\n",
        "2013-01-02 -1.832170 -0.741254 -2.340365 -5  -1\n",
        "2013-01-03 -0.629879 -0.276270 -0.068590 -5  -2\n",
        "2013-01-04 -0.052247 -0.700545 -2.442997 -5  -3\n",
        "2013-01-05 -0.616462 -1.251629 -1.673653 -5  -4\n",
        "2013-01-06 -0.394269 -0.200332 -0.110953 -5  -5\n",
        "\n",
        "[6 rows x 5 columns]"
       ]
      }
     ],
     "prompt_number": 52
    },
    {
     "cell_type": "heading",
     "level": 4,
     "metadata": {},
     "source": [
      "Now you are familiar with the basics of pandas in IPython Notebook, finish the rest of the tutorial at: http://pandas.pydata.org/pandas-docs/stable/10min.html. "
     ]
    },
    {
     "cell_type": "heading",
     "level": 4,
     "metadata": {},
     "source": [
      "Make sure to read the following sections:"
     ]
    },
    {
     "cell_type": "markdown",
     "metadata": {},
     "source": [
      "- Missing data: drop rows/columns containing missing data; fill missing data; find missing data"
     ]
    },
    {
     "cell_type": "markdown",
     "metadata": {},
     "source": [
      "- Operations: descriptive statistic, apply row/column/cell wise functions, string manipulation"
     ]
    },
    {
     "cell_type": "markdown",
     "metadata": {},
     "source": [
      "- Merge: concat, join, append"
     ]
    },
    {
     "cell_type": "markdown",
     "metadata": {},
     "source": [
      "- Grouping: split-apply-combine, very powerful!"
     ]
    },
    {
     "cell_type": "markdown",
     "metadata": {},
     "source": [
      "- Reshaping: stack, unstack, pivot tables"
     ]
    },
    {
     "cell_type": "markdown",
     "metadata": {},
     "source": [
      "- Getting data in/out: pd.read_csv( ), df.to_csv( )"
     ]
    },
    {
     "cell_type": "heading",
     "level": 4,
     "metadata": {},
     "source": [
      "More complex recipes here: http://pandas.pydata.org/pandas-docs/stable/cookbook.html#cookbook"
     ]
    },
    {
     "cell_type": "code",
     "collapsed": false,
     "input": [],
     "language": "python",
     "metadata": {
      "cellView": null,
      "executionInfo": null
     },
     "outputs": [],
     "prompt_number": 52
    },
    {
     "cell_type": "code",
     "collapsed": false,
     "input": [],
     "language": "python",
     "metadata": {},
     "outputs": []
    }
   ],
   "metadata": {}
  }
 ]
}