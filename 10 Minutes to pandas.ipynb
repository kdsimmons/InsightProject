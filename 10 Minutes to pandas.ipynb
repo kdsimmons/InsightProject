{
  "worksheets": [
    {
      "cells": [
        {
          "level": 4,
          "cell_type": "heading",
          "source": "This is a short introduction to pandas for new users, adapted from \"10 Minutes to Pandas\": http://pandas.pydata.org/pandas-docs/stable/10min.html"
        },
        {
          "level": 3,
          "cell_type": "heading",
          "source": "0. Import pandas and related packages"
        },
        {
          "cell_type": "code",
          "input": "import pandas as pd\nimport numpy as np\nimport matplotlib.pyplot as plt",
          "outputs": [],
          "language": "python",
          "metadata": {
            "cellView": null,
            "executionInfo": null
          }
        },
        {
          "level": 3,
          "cell_type": "heading",
          "source": "1. Object creation"
        },
        {
          "cell_type": "markdown",
          "source": "Creating a Series by passing a list of values, letting pandas create a default integer index:"
        },
        {
          "cell_type": "code",
          "input": "s = pd.Series([1,3,5,np.nan,6,8])",
          "outputs": [],
          "language": "python",
          "metadata": {
            "cellView": null,
            "executionInfo": null
          }
        },
        {
          "cell_type": "markdown",
          "source": "Creating a DataFrame by passing a numpy array, with a datetime index and labeled columns:"
        },
        {
          "cell_type": "code",
          "input": "dates = pd.date_range('20130101', periods=6)\ndates",
          "outputs": [],
          "language": "python",
          "metadata": {
            "cellView": null,
            "executionInfo": null
          }
        },
        {
          "cell_type": "code",
          "input": "df = pd.DataFrame(np.random.randn(6,4), index=dates, columns=list('ABCD'))\ndf",
          "outputs": [],
          "language": "python",
          "metadata": {
            "cellView": null,
            "executionInfo": null
          }
        },
        {
          "cell_type": "markdown",
          "source": "Creating a DataFrame by passing a dict of objects that can be converted to series-like."
        },
        {
          "cell_type": "code",
          "input": "df2 = pd.DataFrame({ 'A' : 1.,\n    'B' : pd.Timestamp('20130102'),\n    'C' : pd.Series(1,index=list(range(4)),dtype='float32'),\n    'D' : np.array([3] * 4,dtype='int32'),\n    'E' : pd.Categorical([\"test\",\"train\",\"test\",\"train\"]),\n    'F' : 'foo' })\ndf2",
          "outputs": [],
          "language": "python",
          "metadata": {
            "cellView": null,
            "executionInfo": null
          }
        },
        {
          "cell_type": "markdown",
          "source": "Having specific dtypes"
        },
        {
          "cell_type": "code",
          "input": "df2.dtypes",
          "outputs": [],
          "language": "python",
          "metadata": {
            "cellView": null,
            "executionInfo": null
          }
        },
        {
          "level": 3,
          "cell_type": "heading",
          "source": "2. Viewing data"
        },
        {
          "cell_type": "markdown",
          "source": "Let's create a toy dataset"
        },
        {
          "cell_type": "code",
          "input": "index = pd.date_range('1/1/2000', periods=8)\ns = pd.Series(np.random.randn(5), index=['a', 'b', 'c', 'd', 'e'])\ndf = pd.DataFrame(np.random.randn(6,4), index=dates, columns=list('ABCD'))",
          "outputs": [],
          "language": "python",
          "metadata": {
            "cellView": null,
            "executionInfo": null
          }
        },
        {
          "cell_type": "markdown",
          "source": "To view a small sample of a Series or DataFrame object, use the head() and tail() methods. The default number of elements to display is five, but you may pass a custom number."
        },
        {
          "cell_type": "code",
          "input": "long_series = pd.Series(np.random.randn(1000))\nlong_series.head()",
          "outputs": [],
          "language": "python",
          "metadata": {
            "cellView": null,
            "executionInfo": null
          }
        },
        {
          "cell_type": "code",
          "input": "long_series.tail(3)",
          "outputs": [],
          "language": "python",
          "metadata": {
            "cellView": null,
            "executionInfo": null
          }
        },
        {
          "cell_type": "markdown",
          "source": "Display the index, columns, and the underlying numpy data"
        },
        {
          "cell_type": "code",
          "input": "df.index",
          "outputs": [],
          "language": "python",
          "metadata": {
            "cellView": null,
            "executionInfo": null
          }
        },
        {
          "cell_type": "code",
          "input": "df.columns",
          "outputs": [],
          "language": "python",
          "metadata": {
            "cellView": null,
            "executionInfo": null
          }
        },
        {
          "cell_type": "code",
          "input": "df.values",
          "outputs": [],
          "language": "python",
          "metadata": {
            "cellView": null,
            "executionInfo": null
          }
        },
        {
          "cell_type": "markdown",
          "source": "Describe shows a quick statistic summary of your data"
        },
        {
          "cell_type": "code",
          "input": "df.describe()",
          "outputs": [],
          "language": "python",
          "metadata": {
            "cellView": null,
            "executionInfo": null
          }
        },
        {
          "cell_type": "markdown",
          "source": "Transposing your data"
        },
        {
          "cell_type": "code",
          "input": "df.T",
          "outputs": [],
          "language": "python",
          "metadata": {
            "cellView": null,
            "executionInfo": null
          }
        },
        {
          "cell_type": "markdown",
          "source": "Sorting by an axis"
        },
        {
          "cell_type": "code",
          "input": "df.sort_index(axis=1, ascending=False)",
          "outputs": [],
          "language": "python",
          "metadata": {
            "cellView": null,
            "executionInfo": null
          }
        },
        {
          "cell_type": "markdown",
          "source": "Sorting by values"
        },
        {
          "cell_type": "code",
          "input": "df.sort(columns='B')",
          "outputs": [],
          "language": "python",
          "metadata": {
            "cellView": null,
            "executionInfo": null
          }
        },
        {
          "level": 3,
          "cell_type": "heading",
          "source": "3. Selection"
        },
        {
          "cell_type": "markdown",
          "source": "While standard Python / Numpy expressions for selecting and setting are intuitive and come in handy for interactive work, for production code, we recommend the optimized pandas data access methods, .at, .iat, .loc, .iloc and .ix."
        },
        {
          "level": 4,
          "cell_type": "heading",
          "source": "Selecting a single column, which yields a Series, equivalent to df.A"
        },
        {
          "cell_type": "code",
          "input": "df['A']",
          "outputs": [],
          "language": "python",
          "metadata": {
            "cellView": null,
            "executionInfo": null
          }
        },
        {
          "cell_type": "markdown",
          "source": "Selecting via [  ], which slices the rows."
        },
        {
          "cell_type": "code",
          "input": "df[0:3]",
          "outputs": [],
          "language": "python",
          "metadata": {
            "cellView": null,
            "executionInfo": null
          }
        },
        {
          "cell_type": "code",
          "input": "df['20130102':'20130104']",
          "outputs": [],
          "language": "python",
          "metadata": {
            "cellView": null,
            "executionInfo": null
          }
        },
        {
          "level": 4,
          "cell_type": "heading",
          "source": "Selection by Label\u00b6"
        },
        {
          "cell_type": "markdown",
          "source": "For getting a cross section using a label"
        },
        {
          "cell_type": "code",
          "input": "df.loc[dates[0]]",
          "outputs": [],
          "language": "python",
          "metadata": {
            "cellView": null,
            "executionInfo": null
          }
        },
        {
          "cell_type": "markdown",
          "source": "Selecting on a multi-axis by label"
        },
        {
          "cell_type": "code",
          "input": "df.loc[:,['A','B']]",
          "outputs": [],
          "language": "python",
          "metadata": {
            "cellView": null,
            "executionInfo": null
          }
        },
        {
          "cell_type": "markdown",
          "source": "Showing label slicing, both endpoints are included"
        },
        {
          "cell_type": "code",
          "input": "df.loc['20130102':'20130104',['A','B']]",
          "outputs": [],
          "language": "python",
          "metadata": {
            "cellView": null,
            "executionInfo": null
          }
        },
        {
          "cell_type": "markdown",
          "source": "Reduction in the dimensions of the returned object"
        },
        {
          "cell_type": "code",
          "input": "df.loc['20130102',['A','B']]",
          "outputs": [],
          "language": "python",
          "metadata": {
            "cellView": null,
            "executionInfo": null
          }
        },
        {
          "cell_type": "markdown",
          "source": "For getting a scalar value"
        },
        {
          "cell_type": "code",
          "input": "df.loc[dates[0],'A']",
          "outputs": [],
          "language": "python",
          "metadata": {
            "cellView": null,
            "executionInfo": null
          }
        },
        {
          "cell_type": "markdown",
          "source": "For getting fast access to a scalar (equiv to the prior method)"
        },
        {
          "cell_type": "code",
          "input": "df.at[dates[0],'A']",
          "outputs": [],
          "language": "python",
          "metadata": {
            "cellView": null,
            "executionInfo": null
          }
        },
        {
          "level": 4,
          "cell_type": "heading",
          "source": "Selection by Position"
        },
        {
          "cell_type": "markdown",
          "source": "Select via the position of the passed integers"
        },
        {
          "cell_type": "code",
          "input": "df.iloc[2]",
          "outputs": [],
          "language": "python",
          "metadata": {
            "cellView": null,
            "executionInfo": null
          }
        },
        {
          "cell_type": "markdown",
          "source": "By integer slices, acting similar to numpy/python"
        },
        {
          "cell_type": "code",
          "input": "df.iloc[3:5,0:2]",
          "outputs": [],
          "language": "python",
          "metadata": {
            "cellView": null,
            "executionInfo": null
          }
        },
        {
          "cell_type": "markdown",
          "source": "By lists of integer position locations, similar to the numpy/python style"
        },
        {
          "cell_type": "code",
          "input": "df.iloc[[1,2,4],[0,2]]",
          "outputs": [],
          "language": "python",
          "metadata": {
            "cellView": null,
            "executionInfo": null
          }
        },
        {
          "cell_type": "markdown",
          "source": "For slicing rows explicitly"
        },
        {
          "cell_type": "code",
          "input": "df.iloc[1:3,:]",
          "outputs": [],
          "language": "python",
          "metadata": {
            "cellView": null,
            "executionInfo": null
          }
        },
        {
          "cell_type": "markdown",
          "source": "For slicing columns explicitly"
        },
        {
          "cell_type": "code",
          "input": "df.iloc[:,1:3]",
          "outputs": [],
          "language": "python",
          "metadata": {
            "cellView": null,
            "executionInfo": null
          }
        },
        {
          "cell_type": "markdown",
          "source": "For getting a value explicitly"
        },
        {
          "cell_type": "code",
          "input": "df.iloc[1,1]",
          "outputs": [],
          "language": "python",
          "metadata": {
            "cellView": null,
            "executionInfo": null
          }
        },
        {
          "cell_type": "markdown",
          "source": "For getting fast access to a scalar (equiv to the prior method)"
        },
        {
          "cell_type": "code",
          "input": "df.iat[1,1]",
          "outputs": [],
          "language": "python",
          "metadata": {
            "cellView": null,
            "executionInfo": null
          }
        },
        {
          "level": 4,
          "cell_type": "heading",
          "source": "Boolean Indexing"
        },
        {
          "cell_type": "markdown",
          "source": "Using a single column\u2019s values to select data."
        },
        {
          "cell_type": "code",
          "input": "df[df.A > 0]",
          "outputs": [],
          "language": "python",
          "metadata": {
            "cellView": null,
            "executionInfo": null
          }
        },
        {
          "cell_type": "markdown",
          "source": "A where operation for getting."
        },
        {
          "cell_type": "code",
          "input": "df[df > 0]",
          "outputs": [],
          "language": "python",
          "metadata": {
            "cellView": null,
            "executionInfo": null
          }
        },
        {
          "cell_type": "markdown",
          "source": "Using the isin( ) method for filtering:"
        },
        {
          "cell_type": "code",
          "input": "df2 = df.copy()\ndf2['E'] = ['one', 'one','two','three','four','three']\ndf2",
          "outputs": [],
          "language": "python",
          "metadata": {
            "cellView": null,
            "executionInfo": null
          }
        },
        {
          "cell_type": "code",
          "input": "df2[df2['E'].isin(['two','four'])]",
          "outputs": [],
          "language": "python",
          "metadata": {
            "cellView": null,
            "executionInfo": null
          }
        },
        {
          "level": 4,
          "cell_type": "heading",
          "source": "Setting"
        },
        {
          "cell_type": "markdown",
          "source": "Setting a new column automatically aligns the data by the indexes"
        },
        {
          "cell_type": "code",
          "input": "s1 = pd.Series([1,2,3,4,5,6], index=pd.date_range('20130102', periods=6))\ns1",
          "outputs": [],
          "language": "python",
          "metadata": {
            "cellView": null,
            "executionInfo": null
          }
        },
        {
          "cell_type": "code",
          "input": "df['F'] = s1\ndf",
          "outputs": [],
          "language": "python",
          "metadata": {
            "cellView": null,
            "executionInfo": null
          }
        },
        {
          "cell_type": "markdown",
          "source": "Setting values by label"
        },
        {
          "cell_type": "code",
          "input": "df.at[dates[0],'A'] = 0\ndf",
          "outputs": [],
          "language": "python",
          "metadata": {
            "cellView": null,
            "executionInfo": null
          }
        },
        {
          "cell_type": "markdown",
          "source": "Setting values by position"
        },
        {
          "cell_type": "code",
          "input": "df.iat[0,1] = 0\ndf",
          "outputs": [],
          "language": "python",
          "metadata": {
            "cellView": null,
            "executionInfo": null
          }
        },
        {
          "cell_type": "markdown",
          "source": "Setting by assigning with a numpy array"
        },
        {
          "cell_type": "code",
          "input": "df.loc[:,'D'] = np.array([5] * len(df))\ndf",
          "outputs": [],
          "language": "python",
          "metadata": {
            "cellView": null,
            "executionInfo": null
          }
        },
        {
          "cell_type": "markdown",
          "source": "A where operation with setting."
        },
        {
          "cell_type": "code",
          "input": "df2 = df.copy()\ndf2[df2 > 0] = -df2\ndf2",
          "outputs": [],
          "language": "python",
          "metadata": {
            "cellView": null,
            "executionInfo": null
          }
        },
        {
          "level": 4,
          "cell_type": "heading",
          "source": "Now you are familiar with the basics of pandas in IPython Notebook, finish the rest of the tutorial at: http://pandas.pydata.org/pandas-docs/stable/10min.html. "
        },
        {
          "level": 4,
          "cell_type": "heading",
          "source": "Make sure to read the following sections:"
        },
        {
          "cell_type": "markdown",
          "source": "- Missing data: drop rows/columns containing missing data; fill missing data; find missing data"
        },
        {
          "cell_type": "markdown",
          "source": "- Operations: descriptive statistic, apply row/column/cell wise functions, string manipulation"
        },
        {
          "cell_type": "markdown",
          "source": "- Merge: concat, join, append"
        },
        {
          "cell_type": "markdown",
          "source": "- Grouping: split-apply-combine, very powerful!"
        },
        {
          "cell_type": "markdown",
          "source": "- Reshaping: stack, unstack, pivot tables"
        },
        {
          "cell_type": "markdown",
          "source": "- Getting data in/out: pd.read_csv( ), df.to_csv( )"
        },
        {
          "level": 4,
          "cell_type": "heading",
          "source": "More complex recipes here: http://pandas.pydata.org/pandas-docs/stable/cookbook.html#cookbook"
        },
        {
          "cell_type": "code",
          "input": "",
          "outputs": [],
          "language": "python",
          "metadata": {
            "cellView": null,
            "executionInfo": null
          }
        }
      ]
    }
  ],
  "metadata": {
    "name": "10 Minutes to pandas.ipynb",
    "colabVersion": "0.1"
  },
  "nbformat": 3,
  "nbformat_minor": 0
}