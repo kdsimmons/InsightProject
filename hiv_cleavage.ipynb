{
 "cells": [
  {
   "cell_type": "code",
   "execution_count": 97,
   "metadata": {
    "collapsed": false
   },
   "outputs": [],
   "source": [
    "import pandas as pd\n",
    "import numpy as np\n",
    "from sklearn.cross_validation import train_test_split\n",
    "from sklearn.linear_model import LogisticRegression\n",
    "from sklearn.preprocessing import LabelEncoder\n",
    "import matplotlib.pyplot as plt\n",
    "\n",
    "% matplotlib inline"
   ]
  },
  {
   "cell_type": "code",
   "execution_count": 2,
   "metadata": {
    "collapsed": false
   },
   "outputs": [],
   "source": [
    "hiv1625 = pd.read_csv('/home/kristy/Downloads/newHIV/1625Data.txt', index_col=None, header=None, names=['octomer', 'flag'])"
   ]
  },
  {
   "cell_type": "code",
   "execution_count": 3,
   "metadata": {
    "collapsed": false
   },
   "outputs": [
    {
     "data": {
      "text/html": [
       "<div style=\"max-height:1000px;max-width:1500px;overflow:auto;\">\n",
       "<table border=\"1\" class=\"dataframe\">\n",
       "  <thead>\n",
       "    <tr style=\"text-align: right;\">\n",
       "      <th></th>\n",
       "      <th>octomer</th>\n",
       "      <th>flag</th>\n",
       "    </tr>\n",
       "  </thead>\n",
       "  <tbody>\n",
       "    <tr>\n",
       "      <th>0</th>\n",
       "      <td> SLNLRETN</td>\n",
       "      <td> 1</td>\n",
       "    </tr>\n",
       "    <tr>\n",
       "      <th>1</th>\n",
       "      <td> AECFRIFD</td>\n",
       "      <td> 1</td>\n",
       "    </tr>\n",
       "    <tr>\n",
       "      <th>2</th>\n",
       "      <td> HLVEALYL</td>\n",
       "      <td> 1</td>\n",
       "    </tr>\n",
       "    <tr>\n",
       "      <th>3</th>\n",
       "      <td> TQIMFETF</td>\n",
       "      <td> 1</td>\n",
       "    </tr>\n",
       "    <tr>\n",
       "      <th>4</th>\n",
       "      <td> AEELAEIF</td>\n",
       "      <td> 1</td>\n",
       "    </tr>\n",
       "  </tbody>\n",
       "</table>\n",
       "<p>5 rows × 2 columns</p>\n",
       "</div>"
      ],
      "text/plain": [
       "    octomer  flag\n",
       "0  SLNLRETN     1\n",
       "1  AECFRIFD     1\n",
       "2  HLVEALYL     1\n",
       "3  TQIMFETF     1\n",
       "4  AEELAEIF     1\n",
       "\n",
       "[5 rows x 2 columns]"
      ]
     },
     "execution_count": 3,
     "metadata": {},
     "output_type": "execute_result"
    }
   ],
   "source": [
    "hiv1625.head()"
   ]
  },
  {
   "cell_type": "code",
   "execution_count": 4,
   "metadata": {
    "collapsed": false
   },
   "outputs": [
    {
     "data": {
      "text/plain": [
       "octomer    object\n",
       "flag        int64\n",
       "dtype: object"
      ]
     },
     "execution_count": 4,
     "metadata": {},
     "output_type": "execute_result"
    }
   ],
   "source": [
    "hiv1625.dtypes"
   ]
  },
  {
   "cell_type": "markdown",
   "metadata": {},
   "source": [
    "# Define features "
   ]
  },
  {
   "cell_type": "code",
   "execution_count": 7,
   "metadata": {
    "collapsed": false
   },
   "outputs": [
    {
     "name": "stdout",
     "output_type": "stream",
     "text": [
      "(1625,)\n",
      "<class 'pandas.core.series.Series'>\n"
     ]
    }
   ],
   "source": [
    "labels = hiv1625.flag\n",
    "print labels.shape\n",
    "print type(labels)"
   ]
  },
  {
   "cell_type": "code",
   "execution_count": 8,
   "metadata": {
    "collapsed": false
   },
   "outputs": [
    {
     "name": "stdout",
     "output_type": "stream",
     "text": [
      "(1625,)\n",
      "<class 'pandas.core.series.Series'>\n"
     ]
    }
   ],
   "source": [
    "octomers = hiv1625.octomer\n",
    "print octomers.shape\n",
    "print type(octomers)"
   ]
  },
  {
   "cell_type": "code",
   "execution_count": 80,
   "metadata": {
    "collapsed": false
   },
   "outputs": [],
   "source": [
    "residues = pd.DataFrame(dtype=str, index=octomers.index, columns=['aa0','aa1','aa2','aa3','aa4','aa5','aa6','aa7'])\n",
    "\n",
    "for idx, col in enumerate(residues.columns):\n",
    "    residues[col] = octomers.apply(lambda x: x[idx])"
   ]
  },
  {
   "cell_type": "code",
   "execution_count": 81,
   "metadata": {
    "collapsed": false
   },
   "outputs": [
    {
     "data": {
      "text/html": [
       "<div style=\"max-height:1000px;max-width:1500px;overflow:auto;\">\n",
       "<table border=\"1\" class=\"dataframe\">\n",
       "  <thead>\n",
       "    <tr style=\"text-align: right;\">\n",
       "      <th></th>\n",
       "      <th>aa0</th>\n",
       "      <th>aa1</th>\n",
       "      <th>aa2</th>\n",
       "      <th>aa3</th>\n",
       "      <th>aa4</th>\n",
       "      <th>aa5</th>\n",
       "      <th>aa6</th>\n",
       "      <th>aa7</th>\n",
       "    </tr>\n",
       "  </thead>\n",
       "  <tbody>\n",
       "    <tr>\n",
       "      <th>0</th>\n",
       "      <td> S</td>\n",
       "      <td> L</td>\n",
       "      <td> N</td>\n",
       "      <td> L</td>\n",
       "      <td> R</td>\n",
       "      <td> E</td>\n",
       "      <td> T</td>\n",
       "      <td> N</td>\n",
       "    </tr>\n",
       "    <tr>\n",
       "      <th>1</th>\n",
       "      <td> A</td>\n",
       "      <td> E</td>\n",
       "      <td> C</td>\n",
       "      <td> F</td>\n",
       "      <td> R</td>\n",
       "      <td> I</td>\n",
       "      <td> F</td>\n",
       "      <td> D</td>\n",
       "    </tr>\n",
       "    <tr>\n",
       "      <th>2</th>\n",
       "      <td> H</td>\n",
       "      <td> L</td>\n",
       "      <td> V</td>\n",
       "      <td> E</td>\n",
       "      <td> A</td>\n",
       "      <td> L</td>\n",
       "      <td> Y</td>\n",
       "      <td> L</td>\n",
       "    </tr>\n",
       "    <tr>\n",
       "      <th>3</th>\n",
       "      <td> T</td>\n",
       "      <td> Q</td>\n",
       "      <td> I</td>\n",
       "      <td> M</td>\n",
       "      <td> F</td>\n",
       "      <td> E</td>\n",
       "      <td> T</td>\n",
       "      <td> F</td>\n",
       "    </tr>\n",
       "    <tr>\n",
       "      <th>4</th>\n",
       "      <td> A</td>\n",
       "      <td> E</td>\n",
       "      <td> E</td>\n",
       "      <td> L</td>\n",
       "      <td> A</td>\n",
       "      <td> E</td>\n",
       "      <td> I</td>\n",
       "      <td> F</td>\n",
       "    </tr>\n",
       "  </tbody>\n",
       "</table>\n",
       "<p>5 rows × 8 columns</p>\n",
       "</div>"
      ],
      "text/plain": [
       "  aa0 aa1 aa2 aa3 aa4 aa5 aa6 aa7\n",
       "0   S   L   N   L   R   E   T   N\n",
       "1   A   E   C   F   R   I   F   D\n",
       "2   H   L   V   E   A   L   Y   L\n",
       "3   T   Q   I   M   F   E   T   F\n",
       "4   A   E   E   L   A   E   I   F\n",
       "\n",
       "[5 rows x 8 columns]"
      ]
     },
     "execution_count": 81,
     "metadata": {},
     "output_type": "execute_result"
    }
   ],
   "source": [
    "residues.head()"
   ]
  },
  {
   "cell_type": "code",
   "execution_count": 110,
   "metadata": {
    "collapsed": false
   },
   "outputs": [
    {
     "name": "stdout",
     "output_type": "stream",
     "text": [
      "['A', 'C', 'D', 'E', 'F', 'G', 'H', 'I', 'K', 'L', 'M', 'N', 'P', 'Q', 'R', 'S', 'T', 'V', 'W', 'Y']\n"
     ]
    }
   ],
   "source": [
    "print sorted(residues.aa0.unique())"
   ]
  },
  {
   "cell_type": "code",
   "execution_count": 111,
   "metadata": {
    "collapsed": false
   },
   "outputs": [
    {
     "name": "stdout",
     "output_type": "stream",
     "text": [
      "['A', 'C', 'D', 'E', 'F', 'G', 'H', 'I', 'K', 'L', 'M', 'N', 'P', 'Q', 'R', 'S', 'T', 'V', 'W', 'Y']\n"
     ]
    }
   ],
   "source": [
    "print sorted(residues.aa1.unique())"
   ]
  },
  {
   "cell_type": "code",
   "execution_count": 112,
   "metadata": {
    "collapsed": true
   },
   "outputs": [],
   "source": [
    "le = LabelEncoder()\n",
    "le.fit(sorted(residues.aa0.unique()))\n",
    "\n",
    "for col in residues.columns:\n",
    "    residues[col] = le.fit_transform(residues[col])"
   ]
  },
  {
   "cell_type": "code",
   "execution_count": 113,
   "metadata": {
    "collapsed": false
   },
   "outputs": [
    {
     "data": {
      "text/html": [
       "<div style=\"max-height:1000px;max-width:1500px;overflow:auto;\">\n",
       "<table border=\"1\" class=\"dataframe\">\n",
       "  <thead>\n",
       "    <tr style=\"text-align: right;\">\n",
       "      <th></th>\n",
       "      <th>aa0</th>\n",
       "      <th>aa1</th>\n",
       "      <th>aa2</th>\n",
       "      <th>aa3</th>\n",
       "      <th>aa4</th>\n",
       "      <th>aa5</th>\n",
       "      <th>aa6</th>\n",
       "      <th>aa7</th>\n",
       "    </tr>\n",
       "  </thead>\n",
       "  <tbody>\n",
       "    <tr>\n",
       "      <th>0</th>\n",
       "      <td> 15</td>\n",
       "      <td>  9</td>\n",
       "      <td> 11</td>\n",
       "      <td>  9</td>\n",
       "      <td> 14</td>\n",
       "      <td> 3</td>\n",
       "      <td> 16</td>\n",
       "      <td> 11</td>\n",
       "    </tr>\n",
       "    <tr>\n",
       "      <th>1</th>\n",
       "      <td>  0</td>\n",
       "      <td>  3</td>\n",
       "      <td>  1</td>\n",
       "      <td>  4</td>\n",
       "      <td> 14</td>\n",
       "      <td> 7</td>\n",
       "      <td>  4</td>\n",
       "      <td>  2</td>\n",
       "    </tr>\n",
       "    <tr>\n",
       "      <th>2</th>\n",
       "      <td>  6</td>\n",
       "      <td>  9</td>\n",
       "      <td> 17</td>\n",
       "      <td>  3</td>\n",
       "      <td>  0</td>\n",
       "      <td> 9</td>\n",
       "      <td> 19</td>\n",
       "      <td>  9</td>\n",
       "    </tr>\n",
       "    <tr>\n",
       "      <th>3</th>\n",
       "      <td> 16</td>\n",
       "      <td> 13</td>\n",
       "      <td>  7</td>\n",
       "      <td> 10</td>\n",
       "      <td>  4</td>\n",
       "      <td> 3</td>\n",
       "      <td> 16</td>\n",
       "      <td>  4</td>\n",
       "    </tr>\n",
       "    <tr>\n",
       "      <th>4</th>\n",
       "      <td>  0</td>\n",
       "      <td>  3</td>\n",
       "      <td>  3</td>\n",
       "      <td>  9</td>\n",
       "      <td>  0</td>\n",
       "      <td> 3</td>\n",
       "      <td>  7</td>\n",
       "      <td>  4</td>\n",
       "    </tr>\n",
       "  </tbody>\n",
       "</table>\n",
       "<p>5 rows × 8 columns</p>\n",
       "</div>"
      ],
      "text/plain": [
       "   aa0  aa1  aa2  aa3  aa4  aa5  aa6  aa7\n",
       "0   15    9   11    9   14    3   16   11\n",
       "1    0    3    1    4   14    7    4    2\n",
       "2    6    9   17    3    0    9   19    9\n",
       "3   16   13    7   10    4    3   16    4\n",
       "4    0    3    3    9    0    3    7    4\n",
       "\n",
       "[5 rows x 8 columns]"
      ]
     },
     "execution_count": 113,
     "metadata": {},
     "output_type": "execute_result"
    }
   ],
   "source": [
    "residues.head()"
   ]
  },
  {
   "cell_type": "code",
   "execution_count": 114,
   "metadata": {
    "collapsed": false
   },
   "outputs": [],
   "source": [
    "aa1_split = pd.get_dummies(residues.aa1)"
   ]
  },
  {
   "cell_type": "code",
   "execution_count": 115,
   "metadata": {
    "collapsed": false
   },
   "outputs": [
    {
     "data": {
      "text/plain": [
       "(1625, 20)"
      ]
     },
     "execution_count": 115,
     "metadata": {},
     "output_type": "execute_result"
    }
   ],
   "source": [
    "aa1_split.shape"
   ]
  },
  {
   "cell_type": "code",
   "execution_count": 116,
   "metadata": {
    "collapsed": false
   },
   "outputs": [
    {
     "data": {
      "text/plain": [
       "Int64Index([0, 1, 2, 3, 4, 5, 6, 7, 8, 9, 10, 11, 12, 13, 14, 15, 16, 17, 18, 19], dtype='int64')"
      ]
     },
     "execution_count": 116,
     "metadata": {},
     "output_type": "execute_result"
    }
   ],
   "source": [
    "aa1_split.columns"
   ]
  },
  {
   "cell_type": "markdown",
   "metadata": {},
   "source": [
    "# Split into training and validation sets "
   ]
  },
  {
   "cell_type": "code",
   "execution_count": 64,
   "metadata": {
    "collapsed": false
   },
   "outputs": [],
   "source": [
    "train_features, valid_features, train_labels, valid_labels = train_test_split(residues, labels)"
   ]
  },
  {
   "cell_type": "markdown",
   "metadata": {},
   "source": [
    "# Create model"
   ]
  },
  {
   "cell_type": "markdown",
   "metadata": {},
   "source": [
    "## Logistic regression "
   ]
  },
  {
   "cell_type": "code",
   "execution_count": 66,
   "metadata": {
    "collapsed": false
   },
   "outputs": [
    {
     "data": {
      "text/plain": [
       "LogisticRegression(C=1.0, class_weight=None, dual=False, fit_intercept=True,\n",
       "          intercept_scaling=1, penalty='l2', random_state=None, tol=0.0001)"
      ]
     },
     "execution_count": 66,
     "metadata": {},
     "output_type": "execute_result"
    }
   ],
   "source": [
    "reg = LogisticRegression()\n",
    "reg.fit(X=train_features, y=train_labels)"
   ]
  },
  {
   "cell_type": "code",
   "execution_count": 70,
   "metadata": {
    "collapsed": false
   },
   "outputs": [
    {
     "data": {
      "text/plain": [
       "array([-1.95388909])"
      ]
     },
     "execution_count": 70,
     "metadata": {},
     "output_type": "execute_result"
    }
   ],
   "source": [
    "reg.intercept_"
   ]
  },
  {
   "cell_type": "code",
   "execution_count": 74,
   "metadata": {
    "collapsed": false
   },
   "outputs": [
    {
     "data": {
      "text/plain": [
       "array([[-0.00308556, -0.06212557,  0.08028553,  0.05072906,  0.01548123,\n",
       "        -0.06025561, -0.01305022,  0.0453279 ]])"
      ]
     },
     "execution_count": 74,
     "metadata": {},
     "output_type": "execute_result"
    }
   ],
   "source": [
    "reg.coef_"
   ]
  },
  {
   "cell_type": "code",
   "execution_count": null,
   "metadata": {
    "collapsed": true
   },
   "outputs": [],
   "source": []
  },
  {
   "cell_type": "markdown",
   "metadata": {},
   "source": [
    "# Exploratory data analysis"
   ]
  },
  {
   "cell_type": "code",
   "execution_count": 98,
   "metadata": {
    "collapsed": false
   },
   "outputs": [
    {
     "data": {
      "image/png": "[encoded data removed]",
      "text/plain": [
       "<matplotlib.figure.Figure at 0x7f79fecffd10>"
      ]
     },
     "metadata": {},
     "output_type": "display_data"
    }
   ],
   "source": [
    "labels.hist();"
   ]
  },
  {
   "cell_type": "code",
   "execution_count": 99,
   "metadata": {
    "collapsed": false
   },
   "outputs": [
    {
     "data": {
      "text/plain": [
       "-1    1250\n",
       " 1     375\n",
       "dtype: int64"
      ]
     },
     "execution_count": 99,
     "metadata": {},
     "output_type": "execute_result"
    }
   ],
   "source": [
    "labels.value_counts()"
   ]
  },
  {
   "cell_type": "code",
   "execution_count": 120,
   "metadata": {
    "collapsed": false
   },
   "outputs": [
    {
     "data": {
      "image/png": "[encoded data removed]",
      "text/plain": [
       "<matplotlib.figure.Figure at 0x7f79fdea5a10>"
      ]
     },
     "metadata": {},
     "output_type": "display_data"
    },
    {
     "data": {
      "image/png": "[encoded data removed]",
      "text/plain": [
       "<matplotlib.figure.Figure at 0x7f79fcb46f10>"
      ]
     },
     "metadata": {},
     "output_type": "display_data"
    },
    {
     "data": {
      "image/png": "[encoded data removed]",
      "text/plain": [
       "<matplotlib.figure.Figure at 0x7f79fc945b10>"
      ]
     },
     "metadata": {},
     "output_type": "display_data"
    },
    {
     "data": {
      "image/png": "[encoded data removed]",
      "text/plain": [
       "<matplotlib.figure.Figure at 0x7f79fc7f2850>"
      ]
     },
     "metadata": {},
     "output_type": "display_data"
    },
    {
     "data": {
      "image/png": "[encoded data removed]",
      "text/plain": [
       "<matplotlib.figure.Figure at 0x7f79fdf91d90>"
      ]
     },
     "metadata": {},
     "output_type": "display_data"
    },
    {
     "data": {
      "image/png": "[encoded data removed]",
      "text/plain": [
       "<matplotlib.figure.Figure at 0x7f79fd089890>"
      ]
     },
     "metadata": {},
     "output_type": "display_data"
    },
    {
     "data": {
      "image/png": "[encoded data removed]",
      "text/plain": [
       "<matplotlib.figure.Figure at 0x7f79fd83b290>"
      ]
     },
     "metadata": {},
     "output_type": "display_data"
    },
    {
     "data": {
      "image/png": "[encoded data removed]",
      "text/plain": [
       "<matplotlib.figure.Figure at 0x7f79fd01d8d0>"
      ]
     },
     "metadata": {},
     "output_type": "display_data"
    }
   ],
   "source": [
    "for i, col in enumerate(residues.columns):\n",
    "    plt.figure(i)\n",
    "    residues[col].hist();\n",
    "    plt.title(col);"
   ]
  },
  {
   "cell_type": "code",
   "execution_count": 135,
   "metadata": {
    "collapsed": false
   },
   "outputs": [],
   "source": [
    "labeled = residues.append(hiv1625.flag)"
   ]
  },
  {
   "cell_type": "code",
   "execution_count": 137,
   "metadata": {
    "collapsed": false
   },
   "outputs": [
    {
     "data": {
      "text/plain": [
       "0    1\n",
       "1    1\n",
       "2    1\n",
       "3    1\n",
       "4    1\n",
       "Name: flag, dtype: int64"
      ]
     },
     "execution_count": 137,
     "metadata": {},
     "output_type": "execute_result"
    }
   ],
   "source": [
    "hiv1625.flag.head()"
   ]
  },
  {
   "cell_type": "code",
   "execution_count": 142,
   "metadata": {
    "collapsed": false
   },
   "outputs": [
    {
     "data": {
      "image/png": "[encoded data removed]",
      "text/plain": [
       "<matplotlib.figure.Figure at 0x7f79fd718690>"
      ]
     },
     "metadata": {},
     "output_type": "display_data"
    }
   ],
   "source": [
    "labeled.hist(column='aa0', by=hiv1625.flag, sharey=True, normed=True);"
   ]
  },
  {
   "cell_type": "code",
   "execution_count": 150,
   "metadata": {
    "collapsed": false
   },
   "outputs": [],
   "source": [
    "residues['label'] = hiv1625['flag']"
   ]
  },
  {
   "cell_type": "code",
   "execution_count": 151,
   "metadata": {
    "collapsed": false
   },
   "outputs": [
    {
     "data": {
      "text/html": [
       "<div style=\"max-height:1000px;max-width:1500px;overflow:auto;\">\n",
       "<table border=\"1\" class=\"dataframe\">\n",
       "  <thead>\n",
       "    <tr style=\"text-align: right;\">\n",
       "      <th></th>\n",
       "      <th>aa0</th>\n",
       "      <th>aa1</th>\n",
       "      <th>aa2</th>\n",
       "      <th>aa3</th>\n",
       "      <th>aa4</th>\n",
       "      <th>aa5</th>\n",
       "      <th>aa6</th>\n",
       "      <th>aa7</th>\n",
       "      <th>label</th>\n",
       "    </tr>\n",
       "  </thead>\n",
       "  <tbody>\n",
       "    <tr>\n",
       "      <th>0</th>\n",
       "      <td> 15</td>\n",
       "      <td>  9</td>\n",
       "      <td> 11</td>\n",
       "      <td>  9</td>\n",
       "      <td> 14</td>\n",
       "      <td> 3</td>\n",
       "      <td> 16</td>\n",
       "      <td> 11</td>\n",
       "      <td> 1</td>\n",
       "    </tr>\n",
       "    <tr>\n",
       "      <th>1</th>\n",
       "      <td>  0</td>\n",
       "      <td>  3</td>\n",
       "      <td>  1</td>\n",
       "      <td>  4</td>\n",
       "      <td> 14</td>\n",
       "      <td> 7</td>\n",
       "      <td>  4</td>\n",
       "      <td>  2</td>\n",
       "      <td> 1</td>\n",
       "    </tr>\n",
       "    <tr>\n",
       "      <th>2</th>\n",
       "      <td>  6</td>\n",
       "      <td>  9</td>\n",
       "      <td> 17</td>\n",
       "      <td>  3</td>\n",
       "      <td>  0</td>\n",
       "      <td> 9</td>\n",
       "      <td> 19</td>\n",
       "      <td>  9</td>\n",
       "      <td> 1</td>\n",
       "    </tr>\n",
       "    <tr>\n",
       "      <th>3</th>\n",
       "      <td> 16</td>\n",
       "      <td> 13</td>\n",
       "      <td>  7</td>\n",
       "      <td> 10</td>\n",
       "      <td>  4</td>\n",
       "      <td> 3</td>\n",
       "      <td> 16</td>\n",
       "      <td>  4</td>\n",
       "      <td> 1</td>\n",
       "    </tr>\n",
       "    <tr>\n",
       "      <th>4</th>\n",
       "      <td>  0</td>\n",
       "      <td>  3</td>\n",
       "      <td>  3</td>\n",
       "      <td>  9</td>\n",
       "      <td>  0</td>\n",
       "      <td> 3</td>\n",
       "      <td>  7</td>\n",
       "      <td>  4</td>\n",
       "      <td> 1</td>\n",
       "    </tr>\n",
       "  </tbody>\n",
       "</table>\n",
       "<p>5 rows × 9 columns</p>\n",
       "</div>"
      ],
      "text/plain": [
       "   aa0  aa1  aa2  aa3  aa4  aa5  aa6  aa7  label\n",
       "0   15    9   11    9   14    3   16   11      1\n",
       "1    0    3    1    4   14    7    4    2      1\n",
       "2    6    9   17    3    0    9   19    9      1\n",
       "3   16   13    7   10    4    3   16    4      1\n",
       "4    0    3    3    9    0    3    7    4      1\n",
       "\n",
       "[5 rows x 9 columns]"
      ]
     },
     "execution_count": 151,
     "metadata": {},
     "output_type": "execute_result"
    }
   ],
   "source": [
    "residues.head()"
   ]
  },
  {
   "cell_type": "code",
   "execution_count": 156,
   "metadata": {
    "collapsed": false
   },
   "outputs": [
    {
     "data": {
      "text/html": [
       "<div style=\"max-height:1000px;max-width:1500px;overflow:auto;\">\n",
       "<table border=\"1\" class=\"dataframe\">\n",
       "  <thead>\n",
       "    <tr>\n",
       "      <th></th>\n",
       "      <th colspan=\"2\" halign=\"left\">aa0</th>\n",
       "      <th colspan=\"2\" halign=\"left\">aa1</th>\n",
       "      <th colspan=\"2\" halign=\"left\">aa2</th>\n",
       "      <th colspan=\"2\" halign=\"left\">aa3</th>\n",
       "      <th colspan=\"2\" halign=\"left\">aa4</th>\n",
       "      <th colspan=\"2\" halign=\"left\">aa5</th>\n",
       "      <th colspan=\"2\" halign=\"left\">aa6</th>\n",
       "      <th colspan=\"2\" halign=\"left\">aa7</th>\n",
       "      <th colspan=\"2\" halign=\"left\">label</th>\n",
       "    </tr>\n",
       "    <tr>\n",
       "      <th>label</th>\n",
       "      <th>-1</th>\n",
       "      <th> 1</th>\n",
       "      <th>-1</th>\n",
       "      <th> 1</th>\n",
       "      <th>-1</th>\n",
       "      <th> 1</th>\n",
       "      <th>-1</th>\n",
       "      <th> 1</th>\n",
       "      <th>-1</th>\n",
       "      <th> 1</th>\n",
       "      <th>-1</th>\n",
       "      <th> 1</th>\n",
       "      <th>-1</th>\n",
       "      <th> 1</th>\n",
       "      <th>-1</th>\n",
       "      <th> 1</th>\n",
       "      <th>-1</th>\n",
       "      <th> 1</th>\n",
       "    </tr>\n",
       "    <tr>\n",
       "      <th>aa0</th>\n",
       "      <th></th>\n",
       "      <th></th>\n",
       "      <th></th>\n",
       "      <th></th>\n",
       "      <th></th>\n",
       "      <th></th>\n",
       "      <th></th>\n",
       "      <th></th>\n",
       "      <th></th>\n",
       "      <th></th>\n",
       "      <th></th>\n",
       "      <th></th>\n",
       "      <th></th>\n",
       "      <th></th>\n",
       "      <th></th>\n",
       "      <th></th>\n",
       "      <th></th>\n",
       "      <th></th>\n",
       "    </tr>\n",
       "  </thead>\n",
       "  <tbody>\n",
       "    <tr>\n",
       "      <th>0 </th>\n",
       "      <td>  78</td>\n",
       "      <td>  57</td>\n",
       "      <td>  78</td>\n",
       "      <td>  57</td>\n",
       "      <td>  78</td>\n",
       "      <td>  57</td>\n",
       "      <td>  78</td>\n",
       "      <td>  57</td>\n",
       "      <td>  78</td>\n",
       "      <td>  57</td>\n",
       "      <td>  78</td>\n",
       "      <td>  57</td>\n",
       "      <td>  78</td>\n",
       "      <td>  57</td>\n",
       "      <td>  78</td>\n",
       "      <td>  57</td>\n",
       "      <td>  78</td>\n",
       "      <td>  57</td>\n",
       "    </tr>\n",
       "    <tr>\n",
       "      <th>1 </th>\n",
       "      <td>  17</td>\n",
       "      <td> NaN</td>\n",
       "      <td>  17</td>\n",
       "      <td> NaN</td>\n",
       "      <td>  17</td>\n",
       "      <td> NaN</td>\n",
       "      <td>  17</td>\n",
       "      <td> NaN</td>\n",
       "      <td>  17</td>\n",
       "      <td> NaN</td>\n",
       "      <td>  17</td>\n",
       "      <td> NaN</td>\n",
       "      <td>  17</td>\n",
       "      <td> NaN</td>\n",
       "      <td>  17</td>\n",
       "      <td> NaN</td>\n",
       "      <td>  17</td>\n",
       "      <td> NaN</td>\n",
       "    </tr>\n",
       "    <tr>\n",
       "      <th>2 </th>\n",
       "      <td>  57</td>\n",
       "      <td>   8</td>\n",
       "      <td>  57</td>\n",
       "      <td>   8</td>\n",
       "      <td>  57</td>\n",
       "      <td>   8</td>\n",
       "      <td>  57</td>\n",
       "      <td>   8</td>\n",
       "      <td>  57</td>\n",
       "      <td>   8</td>\n",
       "      <td>  57</td>\n",
       "      <td>   8</td>\n",
       "      <td>  57</td>\n",
       "      <td>   8</td>\n",
       "      <td>  57</td>\n",
       "      <td>   8</td>\n",
       "      <td>  57</td>\n",
       "      <td>   8</td>\n",
       "    </tr>\n",
       "    <tr>\n",
       "      <th>3 </th>\n",
       "      <td>  97</td>\n",
       "      <td>   7</td>\n",
       "      <td>  97</td>\n",
       "      <td>   7</td>\n",
       "      <td>  97</td>\n",
       "      <td>   7</td>\n",
       "      <td>  97</td>\n",
       "      <td>   7</td>\n",
       "      <td>  97</td>\n",
       "      <td>   7</td>\n",
       "      <td>  97</td>\n",
       "      <td>   7</td>\n",
       "      <td>  97</td>\n",
       "      <td>   7</td>\n",
       "      <td>  97</td>\n",
       "      <td>   7</td>\n",
       "      <td>  97</td>\n",
       "      <td>   7</td>\n",
       "    </tr>\n",
       "    <tr>\n",
       "      <th>4 </th>\n",
       "      <td>  28</td>\n",
       "      <td>   2</td>\n",
       "      <td>  28</td>\n",
       "      <td>   2</td>\n",
       "      <td>  28</td>\n",
       "      <td>   2</td>\n",
       "      <td>  28</td>\n",
       "      <td>   2</td>\n",
       "      <td>  28</td>\n",
       "      <td>   2</td>\n",
       "      <td>  28</td>\n",
       "      <td>   2</td>\n",
       "      <td>  28</td>\n",
       "      <td>   2</td>\n",
       "      <td>  28</td>\n",
       "      <td>   2</td>\n",
       "      <td>  28</td>\n",
       "      <td>   2</td>\n",
       "    </tr>\n",
       "    <tr>\n",
       "      <th>5 </th>\n",
       "      <td>  68</td>\n",
       "      <td>  25</td>\n",
       "      <td>  68</td>\n",
       "      <td>  25</td>\n",
       "      <td>  68</td>\n",
       "      <td>  25</td>\n",
       "      <td>  68</td>\n",
       "      <td>  25</td>\n",
       "      <td>  68</td>\n",
       "      <td>  25</td>\n",
       "      <td>  68</td>\n",
       "      <td>  25</td>\n",
       "      <td>  68</td>\n",
       "      <td>  25</td>\n",
       "      <td>  68</td>\n",
       "      <td>  25</td>\n",
       "      <td>  68</td>\n",
       "      <td>  25</td>\n",
       "    </tr>\n",
       "    <tr>\n",
       "      <th>6 </th>\n",
       "      <td>  28</td>\n",
       "      <td>   3</td>\n",
       "      <td>  28</td>\n",
       "      <td>   3</td>\n",
       "      <td>  28</td>\n",
       "      <td>   3</td>\n",
       "      <td>  28</td>\n",
       "      <td>   3</td>\n",
       "      <td>  28</td>\n",
       "      <td>   3</td>\n",
       "      <td>  28</td>\n",
       "      <td>   3</td>\n",
       "      <td>  28</td>\n",
       "      <td>   3</td>\n",
       "      <td>  28</td>\n",
       "      <td>   3</td>\n",
       "      <td>  28</td>\n",
       "      <td>   3</td>\n",
       "    </tr>\n",
       "    <tr>\n",
       "      <th>7 </th>\n",
       "      <td>  61</td>\n",
       "      <td> NaN</td>\n",
       "      <td>  61</td>\n",
       "      <td> NaN</td>\n",
       "      <td>  61</td>\n",
       "      <td> NaN</td>\n",
       "      <td>  61</td>\n",
       "      <td> NaN</td>\n",
       "      <td>  61</td>\n",
       "      <td> NaN</td>\n",
       "      <td>  61</td>\n",
       "      <td> NaN</td>\n",
       "      <td>  61</td>\n",
       "      <td> NaN</td>\n",
       "      <td>  61</td>\n",
       "      <td> NaN</td>\n",
       "      <td>  61</td>\n",
       "      <td> NaN</td>\n",
       "    </tr>\n",
       "    <tr>\n",
       "      <th>8 </th>\n",
       "      <td> 101</td>\n",
       "      <td>   5</td>\n",
       "      <td> 101</td>\n",
       "      <td>   5</td>\n",
       "      <td> 101</td>\n",
       "      <td>   5</td>\n",
       "      <td> 101</td>\n",
       "      <td>   5</td>\n",
       "      <td> 101</td>\n",
       "      <td>   5</td>\n",
       "      <td> 101</td>\n",
       "      <td>   5</td>\n",
       "      <td> 101</td>\n",
       "      <td>   5</td>\n",
       "      <td> 101</td>\n",
       "      <td>   5</td>\n",
       "      <td> 101</td>\n",
       "      <td>   5</td>\n",
       "    </tr>\n",
       "    <tr>\n",
       "      <th>9 </th>\n",
       "      <td> 103</td>\n",
       "      <td>   7</td>\n",
       "      <td> 103</td>\n",
       "      <td>   7</td>\n",
       "      <td> 103</td>\n",
       "      <td>   7</td>\n",
       "      <td> 103</td>\n",
       "      <td>   7</td>\n",
       "      <td> 103</td>\n",
       "      <td>   7</td>\n",
       "      <td> 103</td>\n",
       "      <td>   7</td>\n",
       "      <td> 103</td>\n",
       "      <td>   7</td>\n",
       "      <td> 103</td>\n",
       "      <td>   7</td>\n",
       "      <td> 103</td>\n",
       "      <td>   7</td>\n",
       "    </tr>\n",
       "    <tr>\n",
       "      <th>10</th>\n",
       "      <td>  24</td>\n",
       "      <td>   2</td>\n",
       "      <td>  24</td>\n",
       "      <td>   2</td>\n",
       "      <td>  24</td>\n",
       "      <td>   2</td>\n",
       "      <td>  24</td>\n",
       "      <td>   2</td>\n",
       "      <td>  24</td>\n",
       "      <td>   2</td>\n",
       "      <td>  24</td>\n",
       "      <td>   2</td>\n",
       "      <td>  24</td>\n",
       "      <td>   2</td>\n",
       "      <td>  24</td>\n",
       "      <td>   2</td>\n",
       "      <td>  24</td>\n",
       "      <td>   2</td>\n",
       "    </tr>\n",
       "    <tr>\n",
       "      <th>11</th>\n",
       "      <td>  62</td>\n",
       "      <td>   3</td>\n",
       "      <td>  62</td>\n",
       "      <td>   3</td>\n",
       "      <td>  62</td>\n",
       "      <td>   3</td>\n",
       "      <td>  62</td>\n",
       "      <td>   3</td>\n",
       "      <td>  62</td>\n",
       "      <td>   3</td>\n",
       "      <td>  62</td>\n",
       "      <td>   3</td>\n",
       "      <td>  62</td>\n",
       "      <td>   3</td>\n",
       "      <td>  62</td>\n",
       "      <td>   3</td>\n",
       "      <td>  62</td>\n",
       "      <td>   3</td>\n",
       "    </tr>\n",
       "    <tr>\n",
       "      <th>12</th>\n",
       "      <td>  53</td>\n",
       "      <td>  91</td>\n",
       "      <td>  53</td>\n",
       "      <td>  91</td>\n",
       "      <td>  53</td>\n",
       "      <td>  91</td>\n",
       "      <td>  53</td>\n",
       "      <td>  91</td>\n",
       "      <td>  53</td>\n",
       "      <td>  91</td>\n",
       "      <td>  53</td>\n",
       "      <td>  91</td>\n",
       "      <td>  53</td>\n",
       "      <td>  91</td>\n",
       "      <td>  53</td>\n",
       "      <td>  91</td>\n",
       "      <td>  53</td>\n",
       "      <td>  91</td>\n",
       "    </tr>\n",
       "    <tr>\n",
       "      <th>13</th>\n",
       "      <td>  77</td>\n",
       "      <td>   4</td>\n",
       "      <td>  77</td>\n",
       "      <td>   4</td>\n",
       "      <td>  77</td>\n",
       "      <td>   4</td>\n",
       "      <td>  77</td>\n",
       "      <td>   4</td>\n",
       "      <td>  77</td>\n",
       "      <td>   4</td>\n",
       "      <td>  77</td>\n",
       "      <td>   4</td>\n",
       "      <td>  77</td>\n",
       "      <td>   4</td>\n",
       "      <td>  77</td>\n",
       "      <td>   4</td>\n",
       "      <td>  77</td>\n",
       "      <td>   4</td>\n",
       "    </tr>\n",
       "    <tr>\n",
       "      <th>14</th>\n",
       "      <td>  72</td>\n",
       "      <td>   9</td>\n",
       "      <td>  72</td>\n",
       "      <td>   9</td>\n",
       "      <td>  72</td>\n",
       "      <td>   9</td>\n",
       "      <td>  72</td>\n",
       "      <td>   9</td>\n",
       "      <td>  72</td>\n",
       "      <td>   9</td>\n",
       "      <td>  72</td>\n",
       "      <td>   9</td>\n",
       "      <td>  72</td>\n",
       "      <td>   9</td>\n",
       "      <td>  72</td>\n",
       "      <td>   9</td>\n",
       "      <td>  72</td>\n",
       "      <td>   9</td>\n",
       "    </tr>\n",
       "    <tr>\n",
       "      <th>15</th>\n",
       "      <td> 100</td>\n",
       "      <td> 118</td>\n",
       "      <td> 100</td>\n",
       "      <td> 118</td>\n",
       "      <td> 100</td>\n",
       "      <td> 118</td>\n",
       "      <td> 100</td>\n",
       "      <td> 118</td>\n",
       "      <td> 100</td>\n",
       "      <td> 118</td>\n",
       "      <td> 100</td>\n",
       "      <td> 118</td>\n",
       "      <td> 100</td>\n",
       "      <td> 118</td>\n",
       "      <td> 100</td>\n",
       "      <td> 118</td>\n",
       "      <td> 100</td>\n",
       "      <td> 118</td>\n",
       "    </tr>\n",
       "    <tr>\n",
       "      <th>16</th>\n",
       "      <td>  84</td>\n",
       "      <td>  30</td>\n",
       "      <td>  84</td>\n",
       "      <td>  30</td>\n",
       "      <td>  84</td>\n",
       "      <td>  30</td>\n",
       "      <td>  84</td>\n",
       "      <td>  30</td>\n",
       "      <td>  84</td>\n",
       "      <td>  30</td>\n",
       "      <td>  84</td>\n",
       "      <td>  30</td>\n",
       "      <td>  84</td>\n",
       "      <td>  30</td>\n",
       "      <td>  84</td>\n",
       "      <td>  30</td>\n",
       "      <td>  84</td>\n",
       "      <td>  30</td>\n",
       "    </tr>\n",
       "    <tr>\n",
       "      <th>17</th>\n",
       "      <td>  76</td>\n",
       "      <td>   3</td>\n",
       "      <td>  76</td>\n",
       "      <td>   3</td>\n",
       "      <td>  76</td>\n",
       "      <td>   3</td>\n",
       "      <td>  76</td>\n",
       "      <td>   3</td>\n",
       "      <td>  76</td>\n",
       "      <td>   3</td>\n",
       "      <td>  76</td>\n",
       "      <td>   3</td>\n",
       "      <td>  76</td>\n",
       "      <td>   3</td>\n",
       "      <td>  76</td>\n",
       "      <td>   3</td>\n",
       "      <td>  76</td>\n",
       "      <td>   3</td>\n",
       "    </tr>\n",
       "    <tr>\n",
       "      <th>18</th>\n",
       "      <td>  25</td>\n",
       "      <td> NaN</td>\n",
       "      <td>  25</td>\n",
       "      <td> NaN</td>\n",
       "      <td>  25</td>\n",
       "      <td> NaN</td>\n",
       "      <td>  25</td>\n",
       "      <td> NaN</td>\n",
       "      <td>  25</td>\n",
       "      <td> NaN</td>\n",
       "      <td>  25</td>\n",
       "      <td> NaN</td>\n",
       "      <td>  25</td>\n",
       "      <td> NaN</td>\n",
       "      <td>  25</td>\n",
       "      <td> NaN</td>\n",
       "      <td>  25</td>\n",
       "      <td> NaN</td>\n",
       "    </tr>\n",
       "    <tr>\n",
       "      <th>19</th>\n",
       "      <td>  39</td>\n",
       "      <td>   1</td>\n",
       "      <td>  39</td>\n",
       "      <td>   1</td>\n",
       "      <td>  39</td>\n",
       "      <td>   1</td>\n",
       "      <td>  39</td>\n",
       "      <td>   1</td>\n",
       "      <td>  39</td>\n",
       "      <td>   1</td>\n",
       "      <td>  39</td>\n",
       "      <td>   1</td>\n",
       "      <td>  39</td>\n",
       "      <td>   1</td>\n",
       "      <td>  39</td>\n",
       "      <td>   1</td>\n",
       "      <td>  39</td>\n",
       "      <td>   1</td>\n",
       "    </tr>\n",
       "  </tbody>\n",
       "</table>\n",
       "<p>20 rows × 18 columns</p>\n",
       "</div>"
      ],
      "text/plain": [
       "       aa0       aa1       aa2       aa3       aa4       aa5       aa6       \\\n",
       "label   -1    1   -1    1   -1    1   -1    1   -1    1   -1    1   -1    1   \n",
       "aa0                                                                           \n",
       "0       78   57   78   57   78   57   78   57   78   57   78   57   78   57   \n",
       "1       17  NaN   17  NaN   17  NaN   17  NaN   17  NaN   17  NaN   17  NaN   \n",
       "2       57    8   57    8   57    8   57    8   57    8   57    8   57    8   \n",
       "3       97    7   97    7   97    7   97    7   97    7   97    7   97    7   \n",
       "4       28    2   28    2   28    2   28    2   28    2   28    2   28    2   \n",
       "5       68   25   68   25   68   25   68   25   68   25   68   25   68   25   \n",
       "6       28    3   28    3   28    3   28    3   28    3   28    3   28    3   \n",
       "7       61  NaN   61  NaN   61  NaN   61  NaN   61  NaN   61  NaN   61  NaN   \n",
       "8      101    5  101    5  101    5  101    5  101    5  101    5  101    5   \n",
       "9      103    7  103    7  103    7  103    7  103    7  103    7  103    7   \n",
       "10      24    2   24    2   24    2   24    2   24    2   24    2   24    2   \n",
       "11      62    3   62    3   62    3   62    3   62    3   62    3   62    3   \n",
       "12      53   91   53   91   53   91   53   91   53   91   53   91   53   91   \n",
       "13      77    4   77    4   77    4   77    4   77    4   77    4   77    4   \n",
       "14      72    9   72    9   72    9   72    9   72    9   72    9   72    9   \n",
       "15     100  118  100  118  100  118  100  118  100  118  100  118  100  118   \n",
       "16      84   30   84   30   84   30   84   30   84   30   84   30   84   30   \n",
       "17      76    3   76    3   76    3   76    3   76    3   76    3   76    3   \n",
       "18      25  NaN   25  NaN   25  NaN   25  NaN   25  NaN   25  NaN   25  NaN   \n",
       "19      39    1   39    1   39    1   39    1   39    1   39    1   39    1   \n",
       "\n",
       "       aa7       label       \n",
       "label   -1    1     -1    1  \n",
       "aa0                          \n",
       "0       78   57     78   57  \n",
       "1       17  NaN     17  NaN  \n",
       "2       57    8     57    8  \n",
       "3       97    7     97    7  \n",
       "4       28    2     28    2  \n",
       "5       68   25     68   25  \n",
       "6       28    3     28    3  \n",
       "7       61  NaN     61  NaN  \n",
       "8      101    5    101    5  \n",
       "9      103    7    103    7  \n",
       "10      24    2     24    2  \n",
       "11      62    3     62    3  \n",
       "12      53   91     53   91  \n",
       "13      77    4     77    4  \n",
       "14      72    9     72    9  \n",
       "15     100  118    100  118  \n",
       "16      84   30     84   30  \n",
       "17      76    3     76    3  \n",
       "18      25  NaN     25  NaN  \n",
       "19      39    1     39    1  \n",
       "\n",
       "[20 rows x 18 columns]"
      ]
     },
     "execution_count": 156,
     "metadata": {},
     "output_type": "execute_result"
    }
   ],
   "source": [
    "residues.pivot_table(rows='aa0', cols='label', aggfunc='count')"
   ]
  }
 ],
 "metadata": {
  "kernelspec": {
   "display_name": "Python 2",
   "language": "python",
   "name": "python2"
  },
  "language_info": {
   "codemirror_mode": {
    "name": "ipython",
    "version": 2
   },
   "file_extension": ".py",
   "mimetype": "text/x-python",
   "name": "python",
   "nbconvert_exporter": "python",
   "pygments_lexer": "ipython2",
   "version": "2.7.6"
  }
 },
 "nbformat": 4,
 "nbformat_minor": 0
}
